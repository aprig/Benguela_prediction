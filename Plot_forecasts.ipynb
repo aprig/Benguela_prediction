{
 "cells": [
  {
   "cell_type": "code",
   "execution_count": 1,
   "id": "4c967ea4",
   "metadata": {},
   "outputs": [
    {
     "name": "stdout",
     "output_type": "stream",
     "text": [
      "bn_1month_1_TEMPBNi_beng\n"
     ]
    },
    {
     "name": "stderr",
     "output_type": "stream",
     "text": [
      "/scratch/BENGUP/ML/DL_BN/Predictions/Web_V1.0/output/bn_1month_1_TEMPBNi_beng/src/bn.predictions_new.py:48: RuntimeWarning: Mean of empty slice\n",
      "  inpv1[i,0:3,:,:] = (inp1.SST_T_.sel(time=slice(ld_mn1,ld_mn2))-np.nanmean(inp1.SST_T_,0))/np.nanstd(inp1.SST_T_,0)\n",
      "/home/nay021/Software/anaconda3/lib/python3.8/site-packages/numpy/lib/nanfunctions.py:1664: RuntimeWarning: Degrees of freedom <= 0 for slice.\n",
      "  var = nanvar(a, axis=axis, dtype=dtype, out=out, ddof=ddof,\n",
      "/scratch/BENGUP/ML/DL_BN/Predictions/Web_V1.0/output/bn_1month_1_TEMPBNi_beng/src/bn.predictions_new.py:49: RuntimeWarning: Mean of empty slice\n",
      "  inpv1[i,3:6,:,:] = (inp1.TEMP100M_T_.sel(time=slice(ld_mn1,ld_mn2))-np.nanmean(inp1.TEMP100M_T_,0))/np.nanstd(inp1.TEMP100M_T_,0)\n"
     ]
    },
    {
     "name": "stdout",
     "output_type": "stream",
     "text": [
      "Using cpu device\n",
      "tensor([[ 1.0393],\n",
      "        [-0.4089],\n",
      "        [-1.0333],\n",
      "        [ 0.2006]])\n",
      "/scratch/BENGUP/ML/DL_BN/Predictions/Web_V1.0/output/bn_1month_1_TEMPBNi_beng/C30H30/EN1/result.gdat\n",
      "Validation Done\n",
      "Using cpu device\n",
      "tensor([[ 1.0680],\n",
      "        [-0.3985],\n",
      "        [-1.0574],\n",
      "        [ 0.2703]])\n",
      "/scratch/BENGUP/ML/DL_BN/Predictions/Web_V1.0/output/bn_1month_1_TEMPBNi_beng/C30H30/EN2/result.gdat\n",
      "Validation Done\n"
     ]
    },
    {
     "name": "stderr",
     "output_type": "stream",
     "text": [
      "/scratch/BENGUP/ML/DL_BN/Predictions/Web_V1.0/output/bn_1month_1_TEMPBNi_beng/src/bn.predictions_new.py:48: RuntimeWarning: Mean of empty slice\n",
      "  inpv1[i,0:3,:,:] = (inp1.SST_T_.sel(time=slice(ld_mn1,ld_mn2))-np.nanmean(inp1.SST_T_,0))/np.nanstd(inp1.SST_T_,0)\n",
      "/home/nay021/Software/anaconda3/lib/python3.8/site-packages/numpy/lib/nanfunctions.py:1664: RuntimeWarning: Degrees of freedom <= 0 for slice.\n",
      "  var = nanvar(a, axis=axis, dtype=dtype, out=out, ddof=ddof,\n",
      "/scratch/BENGUP/ML/DL_BN/Predictions/Web_V1.0/output/bn_1month_1_TEMPBNi_beng/src/bn.predictions_new.py:49: RuntimeWarning: Mean of empty slice\n",
      "  inpv1[i,3:6,:,:] = (inp1.TEMP100M_T_.sel(time=slice(ld_mn1,ld_mn2))-np.nanmean(inp1.TEMP100M_T_,0))/np.nanstd(inp1.TEMP100M_T_,0)\n",
      "/scratch/BENGUP/ML/DL_BN/Predictions/Web_V1.0/output/bn_1month_1_TEMPBNi_beng/src/bn.predictions_new.py:48: RuntimeWarning: Mean of empty slice\n",
      "  inpv1[i,0:3,:,:] = (inp1.SST_T_.sel(time=slice(ld_mn1,ld_mn2))-np.nanmean(inp1.SST_T_,0))/np.nanstd(inp1.SST_T_,0)\n",
      "/home/nay021/Software/anaconda3/lib/python3.8/site-packages/numpy/lib/nanfunctions.py:1664: RuntimeWarning: Degrees of freedom <= 0 for slice.\n",
      "  var = nanvar(a, axis=axis, dtype=dtype, out=out, ddof=ddof,\n",
      "/scratch/BENGUP/ML/DL_BN/Predictions/Web_V1.0/output/bn_1month_1_TEMPBNi_beng/src/bn.predictions_new.py:49: RuntimeWarning: Mean of empty slice\n",
      "  inpv1[i,3:6,:,:] = (inp1.TEMP100M_T_.sel(time=slice(ld_mn1,ld_mn2))-np.nanmean(inp1.TEMP100M_T_,0))/np.nanstd(inp1.TEMP100M_T_,0)\n"
     ]
    },
    {
     "name": "stdout",
     "output_type": "stream",
     "text": [
      "Using cpu device\n",
      "tensor([[ 0.9934],\n",
      "        [-0.2871],\n",
      "        [-1.1102],\n",
      "        [-0.1099]])\n",
      "/scratch/BENGUP/ML/DL_BN/Predictions/Web_V1.0/output/bn_1month_1_TEMPBNi_beng/C30H30/EN3/result.gdat\n",
      "Validation Done\n",
      "Using cpu device\n",
      "tensor([[ 0.9047],\n",
      "        [-0.6504],\n",
      "        [-1.0264],\n",
      "        [-0.0842]])\n",
      "/scratch/BENGUP/ML/DL_BN/Predictions/Web_V1.0/output/bn_1month_1_TEMPBNi_beng/C30H30/EN4/result.gdat\n",
      "Validation Done\n"
     ]
    },
    {
     "name": "stderr",
     "output_type": "stream",
     "text": [
      "/scratch/BENGUP/ML/DL_BN/Predictions/Web_V1.0/output/bn_1month_1_TEMPBNi_beng/src/bn.predictions_new.py:48: RuntimeWarning: Mean of empty slice\n",
      "  inpv1[i,0:3,:,:] = (inp1.SST_T_.sel(time=slice(ld_mn1,ld_mn2))-np.nanmean(inp1.SST_T_,0))/np.nanstd(inp1.SST_T_,0)\n",
      "/home/nay021/Software/anaconda3/lib/python3.8/site-packages/numpy/lib/nanfunctions.py:1664: RuntimeWarning: Degrees of freedom <= 0 for slice.\n",
      "  var = nanvar(a, axis=axis, dtype=dtype, out=out, ddof=ddof,\n",
      "/scratch/BENGUP/ML/DL_BN/Predictions/Web_V1.0/output/bn_1month_1_TEMPBNi_beng/src/bn.predictions_new.py:49: RuntimeWarning: Mean of empty slice\n",
      "  inpv1[i,3:6,:,:] = (inp1.TEMP100M_T_.sel(time=slice(ld_mn1,ld_mn2))-np.nanmean(inp1.TEMP100M_T_,0))/np.nanstd(inp1.TEMP100M_T_,0)\n"
     ]
    },
    {
     "name": "stdout",
     "output_type": "stream",
     "text": [
      "Using cpu device\n",
      "tensor([[ 1.1029],\n",
      "        [-0.8124],\n",
      "        [-1.2659],\n",
      "        [-0.0401]])\n",
      "/scratch/BENGUP/ML/DL_BN/Predictions/Web_V1.0/output/bn_1month_1_TEMPBNi_beng/C30H30/EN5/result.gdat\n",
      "Validation Done\n"
     ]
    },
    {
     "name": "stderr",
     "output_type": "stream",
     "text": [
      "/scratch/BENGUP/ML/DL_BN/Predictions/Web_V1.0/output/bn_1month_1_TEMPBNi_beng/src/bn.predictions_new.py:48: RuntimeWarning: Mean of empty slice\n",
      "  inpv1[i,0:3,:,:] = (inp1.SST_T_.sel(time=slice(ld_mn1,ld_mn2))-np.nanmean(inp1.SST_T_,0))/np.nanstd(inp1.SST_T_,0)\n",
      "/home/nay021/Software/anaconda3/lib/python3.8/site-packages/numpy/lib/nanfunctions.py:1664: RuntimeWarning: Degrees of freedom <= 0 for slice.\n",
      "  var = nanvar(a, axis=axis, dtype=dtype, out=out, ddof=ddof,\n",
      "/scratch/BENGUP/ML/DL_BN/Predictions/Web_V1.0/output/bn_1month_1_TEMPBNi_beng/src/bn.predictions_new.py:49: RuntimeWarning: Mean of empty slice\n",
      "  inpv1[i,3:6,:,:] = (inp1.TEMP100M_T_.sel(time=slice(ld_mn1,ld_mn2))-np.nanmean(inp1.TEMP100M_T_,0))/np.nanstd(inp1.TEMP100M_T_,0)\n"
     ]
    },
    {
     "name": "stdout",
     "output_type": "stream",
     "text": [
      "bn_1month_2_TEMPBNi_beng\n"
     ]
    },
    {
     "name": "stderr",
     "output_type": "stream",
     "text": [
      "/scratch/BENGUP/ML/DL_BN/Predictions/Web_V1.0/output/bn_1month_2_TEMPBNi_beng/src/bn.predictions_new.py:48: RuntimeWarning: Mean of empty slice\n",
      "  inpv1[i,0:3,:,:] = (inp1.SST_T_.sel(time=slice(ld_mn1,ld_mn2))-np.nanmean(inp1.SST_T_,0))/np.nanstd(inp1.SST_T_,0)\n",
      "/home/nay021/Software/anaconda3/lib/python3.8/site-packages/numpy/lib/nanfunctions.py:1664: RuntimeWarning: Degrees of freedom <= 0 for slice.\n",
      "  var = nanvar(a, axis=axis, dtype=dtype, out=out, ddof=ddof,\n",
      "/scratch/BENGUP/ML/DL_BN/Predictions/Web_V1.0/output/bn_1month_2_TEMPBNi_beng/src/bn.predictions_new.py:49: RuntimeWarning: Mean of empty slice\n",
      "  inpv1[i,3:6,:,:] = (inp1.TEMP100M_T_.sel(time=slice(ld_mn1,ld_mn2))-np.nanmean(inp1.TEMP100M_T_,0))/np.nanstd(inp1.TEMP100M_T_,0)\n"
     ]
    },
    {
     "name": "stdout",
     "output_type": "stream",
     "text": [
      "Using cpu device\n",
      "tensor([[ 0.0852],\n",
      "        [-0.1976],\n",
      "        [-1.2195],\n",
      "        [ 0.0866]])\n",
      "/scratch/BENGUP/ML/DL_BN/Predictions/Web_V1.0/output/bn_1month_2_TEMPBNi_beng/C30H30/EN1/result.gdat\n",
      "Validation Done\n",
      "Using cpu device\n",
      "tensor([[ 0.2265],\n",
      "        [-0.3824],\n",
      "        [-0.8408],\n",
      "        [ 0.2233]])\n",
      "/scratch/BENGUP/ML/DL_BN/Predictions/Web_V1.0/output/bn_1month_2_TEMPBNi_beng/C30H30/EN2/result.gdat\n",
      "Validation Done\n"
     ]
    },
    {
     "name": "stderr",
     "output_type": "stream",
     "text": [
      "/scratch/BENGUP/ML/DL_BN/Predictions/Web_V1.0/output/bn_1month_2_TEMPBNi_beng/src/bn.predictions_new.py:48: RuntimeWarning: Mean of empty slice\n",
      "  inpv1[i,0:3,:,:] = (inp1.SST_T_.sel(time=slice(ld_mn1,ld_mn2))-np.nanmean(inp1.SST_T_,0))/np.nanstd(inp1.SST_T_,0)\n",
      "/home/nay021/Software/anaconda3/lib/python3.8/site-packages/numpy/lib/nanfunctions.py:1664: RuntimeWarning: Degrees of freedom <= 0 for slice.\n",
      "  var = nanvar(a, axis=axis, dtype=dtype, out=out, ddof=ddof,\n",
      "/scratch/BENGUP/ML/DL_BN/Predictions/Web_V1.0/output/bn_1month_2_TEMPBNi_beng/src/bn.predictions_new.py:49: RuntimeWarning: Mean of empty slice\n",
      "  inpv1[i,3:6,:,:] = (inp1.TEMP100M_T_.sel(time=slice(ld_mn1,ld_mn2))-np.nanmean(inp1.TEMP100M_T_,0))/np.nanstd(inp1.TEMP100M_T_,0)\n"
     ]
    },
    {
     "name": "stdout",
     "output_type": "stream",
     "text": [
      "Using cpu device\n",
      "tensor([[-0.2491],\n",
      "        [-0.1653],\n",
      "        [-0.8378],\n",
      "        [-0.4618]])\n",
      "/scratch/BENGUP/ML/DL_BN/Predictions/Web_V1.0/output/bn_1month_2_TEMPBNi_beng/C30H30/EN3/result.gdat\n",
      "Validation Done\n"
     ]
    },
    {
     "name": "stderr",
     "output_type": "stream",
     "text": [
      "/scratch/BENGUP/ML/DL_BN/Predictions/Web_V1.0/output/bn_1month_2_TEMPBNi_beng/src/bn.predictions_new.py:48: RuntimeWarning: Mean of empty slice\n",
      "  inpv1[i,0:3,:,:] = (inp1.SST_T_.sel(time=slice(ld_mn1,ld_mn2))-np.nanmean(inp1.SST_T_,0))/np.nanstd(inp1.SST_T_,0)\n",
      "/home/nay021/Software/anaconda3/lib/python3.8/site-packages/numpy/lib/nanfunctions.py:1664: RuntimeWarning: Degrees of freedom <= 0 for slice.\n",
      "  var = nanvar(a, axis=axis, dtype=dtype, out=out, ddof=ddof,\n",
      "/scratch/BENGUP/ML/DL_BN/Predictions/Web_V1.0/output/bn_1month_2_TEMPBNi_beng/src/bn.predictions_new.py:49: RuntimeWarning: Mean of empty slice\n",
      "  inpv1[i,3:6,:,:] = (inp1.TEMP100M_T_.sel(time=slice(ld_mn1,ld_mn2))-np.nanmean(inp1.TEMP100M_T_,0))/np.nanstd(inp1.TEMP100M_T_,0)\n",
      "/scratch/BENGUP/ML/DL_BN/Predictions/Web_V1.0/output/bn_1month_2_TEMPBNi_beng/src/bn.predictions_new.py:48: RuntimeWarning: Mean of empty slice\n",
      "  inpv1[i,0:3,:,:] = (inp1.SST_T_.sel(time=slice(ld_mn1,ld_mn2))-np.nanmean(inp1.SST_T_,0))/np.nanstd(inp1.SST_T_,0)\n",
      "/home/nay021/Software/anaconda3/lib/python3.8/site-packages/numpy/lib/nanfunctions.py:1664: RuntimeWarning: Degrees of freedom <= 0 for slice.\n",
      "  var = nanvar(a, axis=axis, dtype=dtype, out=out, ddof=ddof,\n",
      "/scratch/BENGUP/ML/DL_BN/Predictions/Web_V1.0/output/bn_1month_2_TEMPBNi_beng/src/bn.predictions_new.py:49: RuntimeWarning: Mean of empty slice\n",
      "  inpv1[i,3:6,:,:] = (inp1.TEMP100M_T_.sel(time=slice(ld_mn1,ld_mn2))-np.nanmean(inp1.TEMP100M_T_,0))/np.nanstd(inp1.TEMP100M_T_,0)\n"
     ]
    },
    {
     "name": "stdout",
     "output_type": "stream",
     "text": [
      "Using cpu device\n",
      "tensor([[ 0.2051],\n",
      "        [-0.1801],\n",
      "        [-0.8332],\n",
      "        [ 0.1412]])\n",
      "/scratch/BENGUP/ML/DL_BN/Predictions/Web_V1.0/output/bn_1month_2_TEMPBNi_beng/C30H30/EN4/result.gdat\n",
      "Validation Done\n"
     ]
    },
    {
     "name": "stderr",
     "output_type": "stream",
     "text": [
      "/scratch/BENGUP/ML/DL_BN/Predictions/Web_V1.0/output/bn_1month_2_TEMPBNi_beng/src/bn.predictions_new.py:48: RuntimeWarning: Mean of empty slice\n",
      "  inpv1[i,0:3,:,:] = (inp1.SST_T_.sel(time=slice(ld_mn1,ld_mn2))-np.nanmean(inp1.SST_T_,0))/np.nanstd(inp1.SST_T_,0)\n",
      "/home/nay021/Software/anaconda3/lib/python3.8/site-packages/numpy/lib/nanfunctions.py:1664: RuntimeWarning: Degrees of freedom <= 0 for slice.\n",
      "  var = nanvar(a, axis=axis, dtype=dtype, out=out, ddof=ddof,\n",
      "/scratch/BENGUP/ML/DL_BN/Predictions/Web_V1.0/output/bn_1month_2_TEMPBNi_beng/src/bn.predictions_new.py:49: RuntimeWarning: Mean of empty slice\n",
      "  inpv1[i,3:6,:,:] = (inp1.TEMP100M_T_.sel(time=slice(ld_mn1,ld_mn2))-np.nanmean(inp1.TEMP100M_T_,0))/np.nanstd(inp1.TEMP100M_T_,0)\n"
     ]
    },
    {
     "name": "stdout",
     "output_type": "stream",
     "text": [
      "Using cpu device\n",
      "tensor([[ 0.4056],\n",
      "        [-0.0934],\n",
      "        [-1.0598],\n",
      "        [-0.1605]])\n",
      "/scratch/BENGUP/ML/DL_BN/Predictions/Web_V1.0/output/bn_1month_2_TEMPBNi_beng/C30H30/EN5/result.gdat\n",
      "Validation Done\n",
      "bn_1month_3_TEMPBNi_beng\n",
      "Using cpu device\n",
      "tensor([[-0.0657],\n",
      "        [-0.8922],\n",
      "        [-0.8769],\n",
      "        [-0.4515]])\n",
      "/scratch/BENGUP/ML/DL_BN/Predictions/Web_V1.0/output/bn_1month_3_TEMPBNi_beng/C30H30/EN1/result.gdat\n",
      "Validation Done\n"
     ]
    },
    {
     "name": "stderr",
     "output_type": "stream",
     "text": [
      "/scratch/BENGUP/ML/DL_BN/Predictions/Web_V1.0/output/bn_1month_3_TEMPBNi_beng/src/bn.predictions_new.py:48: RuntimeWarning: Mean of empty slice\n",
      "  inpv1[i,0:3,:,:] = (inp1.SST_T_.sel(time=slice(ld_mn1,ld_mn2))-np.nanmean(inp1.SST_T_,0))/np.nanstd(inp1.SST_T_,0)\n",
      "/home/nay021/Software/anaconda3/lib/python3.8/site-packages/numpy/lib/nanfunctions.py:1664: RuntimeWarning: Degrees of freedom <= 0 for slice.\n",
      "  var = nanvar(a, axis=axis, dtype=dtype, out=out, ddof=ddof,\n",
      "/scratch/BENGUP/ML/DL_BN/Predictions/Web_V1.0/output/bn_1month_3_TEMPBNi_beng/src/bn.predictions_new.py:49: RuntimeWarning: Mean of empty slice\n",
      "  inpv1[i,3:6,:,:] = (inp1.TEMP100M_T_.sel(time=slice(ld_mn1,ld_mn2))-np.nanmean(inp1.TEMP100M_T_,0))/np.nanstd(inp1.TEMP100M_T_,0)\n"
     ]
    },
    {
     "name": "stdout",
     "output_type": "stream",
     "text": [
      "Using cpu device\n",
      "tensor([[-0.4968],\n",
      "        [-0.6181],\n",
      "        [-0.7598],\n",
      "        [-0.6312]])\n",
      "/scratch/BENGUP/ML/DL_BN/Predictions/Web_V1.0/output/bn_1month_3_TEMPBNi_beng/C30H30/EN2/result.gdat\n",
      "Validation Done\n"
     ]
    },
    {
     "name": "stderr",
     "output_type": "stream",
     "text": [
      "/scratch/BENGUP/ML/DL_BN/Predictions/Web_V1.0/output/bn_1month_3_TEMPBNi_beng/src/bn.predictions_new.py:48: RuntimeWarning: Mean of empty slice\n",
      "  inpv1[i,0:3,:,:] = (inp1.SST_T_.sel(time=slice(ld_mn1,ld_mn2))-np.nanmean(inp1.SST_T_,0))/np.nanstd(inp1.SST_T_,0)\n",
      "/home/nay021/Software/anaconda3/lib/python3.8/site-packages/numpy/lib/nanfunctions.py:1664: RuntimeWarning: Degrees of freedom <= 0 for slice.\n",
      "  var = nanvar(a, axis=axis, dtype=dtype, out=out, ddof=ddof,\n",
      "/scratch/BENGUP/ML/DL_BN/Predictions/Web_V1.0/output/bn_1month_3_TEMPBNi_beng/src/bn.predictions_new.py:49: RuntimeWarning: Mean of empty slice\n",
      "  inpv1[i,3:6,:,:] = (inp1.TEMP100M_T_.sel(time=slice(ld_mn1,ld_mn2))-np.nanmean(inp1.TEMP100M_T_,0))/np.nanstd(inp1.TEMP100M_T_,0)\n"
     ]
    },
    {
     "name": "stdout",
     "output_type": "stream",
     "text": [
      "Using cpu device\n",
      "tensor([[-0.5410],\n",
      "        [-0.9950],\n",
      "        [-1.2037],\n",
      "        [-0.6127]])\n",
      "/scratch/BENGUP/ML/DL_BN/Predictions/Web_V1.0/output/bn_1month_3_TEMPBNi_beng/C30H30/EN3/result.gdat\n",
      "Validation Done\n"
     ]
    },
    {
     "name": "stderr",
     "output_type": "stream",
     "text": [
      "/scratch/BENGUP/ML/DL_BN/Predictions/Web_V1.0/output/bn_1month_3_TEMPBNi_beng/src/bn.predictions_new.py:48: RuntimeWarning: Mean of empty slice\n",
      "  inpv1[i,0:3,:,:] = (inp1.SST_T_.sel(time=slice(ld_mn1,ld_mn2))-np.nanmean(inp1.SST_T_,0))/np.nanstd(inp1.SST_T_,0)\n",
      "/home/nay021/Software/anaconda3/lib/python3.8/site-packages/numpy/lib/nanfunctions.py:1664: RuntimeWarning: Degrees of freedom <= 0 for slice.\n",
      "  var = nanvar(a, axis=axis, dtype=dtype, out=out, ddof=ddof,\n",
      "/scratch/BENGUP/ML/DL_BN/Predictions/Web_V1.0/output/bn_1month_3_TEMPBNi_beng/src/bn.predictions_new.py:49: RuntimeWarning: Mean of empty slice\n",
      "  inpv1[i,3:6,:,:] = (inp1.TEMP100M_T_.sel(time=slice(ld_mn1,ld_mn2))-np.nanmean(inp1.TEMP100M_T_,0))/np.nanstd(inp1.TEMP100M_T_,0)\n"
     ]
    },
    {
     "name": "stdout",
     "output_type": "stream",
     "text": [
      "Using cpu device\n",
      "tensor([[-0.1975],\n",
      "        [-0.6832],\n",
      "        [-0.8754],\n",
      "        [-0.4794]])\n",
      "/scratch/BENGUP/ML/DL_BN/Predictions/Web_V1.0/output/bn_1month_3_TEMPBNi_beng/C30H30/EN4/result.gdat\n",
      "Validation Done\n"
     ]
    },
    {
     "name": "stderr",
     "output_type": "stream",
     "text": [
      "/scratch/BENGUP/ML/DL_BN/Predictions/Web_V1.0/output/bn_1month_3_TEMPBNi_beng/src/bn.predictions_new.py:48: RuntimeWarning: Mean of empty slice\n",
      "  inpv1[i,0:3,:,:] = (inp1.SST_T_.sel(time=slice(ld_mn1,ld_mn2))-np.nanmean(inp1.SST_T_,0))/np.nanstd(inp1.SST_T_,0)\n",
      "/home/nay021/Software/anaconda3/lib/python3.8/site-packages/numpy/lib/nanfunctions.py:1664: RuntimeWarning: Degrees of freedom <= 0 for slice.\n",
      "  var = nanvar(a, axis=axis, dtype=dtype, out=out, ddof=ddof,\n",
      "/scratch/BENGUP/ML/DL_BN/Predictions/Web_V1.0/output/bn_1month_3_TEMPBNi_beng/src/bn.predictions_new.py:49: RuntimeWarning: Mean of empty slice\n",
      "  inpv1[i,3:6,:,:] = (inp1.TEMP100M_T_.sel(time=slice(ld_mn1,ld_mn2))-np.nanmean(inp1.TEMP100M_T_,0))/np.nanstd(inp1.TEMP100M_T_,0)\n"
     ]
    },
    {
     "name": "stdout",
     "output_type": "stream",
     "text": [
      "Using cpu device\n",
      "tensor([[-0.4042],\n",
      "        [-0.7194],\n",
      "        [-0.7363],\n",
      "        [-0.5596]])\n",
      "/scratch/BENGUP/ML/DL_BN/Predictions/Web_V1.0/output/bn_1month_3_TEMPBNi_beng/C30H30/EN5/result.gdat\n",
      "Validation Done\n"
     ]
    },
    {
     "name": "stderr",
     "output_type": "stream",
     "text": [
      "/scratch/BENGUP/ML/DL_BN/Predictions/Web_V1.0/output/bn_1month_3_TEMPBNi_beng/src/bn.predictions_new.py:48: RuntimeWarning: Mean of empty slice\n",
      "  inpv1[i,0:3,:,:] = (inp1.SST_T_.sel(time=slice(ld_mn1,ld_mn2))-np.nanmean(inp1.SST_T_,0))/np.nanstd(inp1.SST_T_,0)\n",
      "/home/nay021/Software/anaconda3/lib/python3.8/site-packages/numpy/lib/nanfunctions.py:1664: RuntimeWarning: Degrees of freedom <= 0 for slice.\n",
      "  var = nanvar(a, axis=axis, dtype=dtype, out=out, ddof=ddof,\n",
      "/scratch/BENGUP/ML/DL_BN/Predictions/Web_V1.0/output/bn_1month_3_TEMPBNi_beng/src/bn.predictions_new.py:49: RuntimeWarning: Mean of empty slice\n",
      "  inpv1[i,3:6,:,:] = (inp1.TEMP100M_T_.sel(time=slice(ld_mn1,ld_mn2))-np.nanmean(inp1.TEMP100M_T_,0))/np.nanstd(inp1.TEMP100M_T_,0)\n"
     ]
    },
    {
     "name": "stdout",
     "output_type": "stream",
     "text": [
      "bn_1month_4_TEMPBNi_beng\n",
      "Using cpu device\n",
      "tensor([[-0.4637],\n",
      "        [-0.2135],\n",
      "        [-1.2842],\n",
      "        [ 0.6061]])\n",
      "/scratch/BENGUP/ML/DL_BN/Predictions/Web_V1.0/output/bn_1month_4_TEMPBNi_beng/C30H30/EN1/result.gdat\n",
      "Validation Done\n"
     ]
    },
    {
     "name": "stderr",
     "output_type": "stream",
     "text": [
      "/scratch/BENGUP/ML/DL_BN/Predictions/Web_V1.0/output/bn_1month_4_TEMPBNi_beng/src/bn.predictions_new.py:48: RuntimeWarning: Mean of empty slice\n",
      "  inpv1[i,0:3,:,:] = (inp1.SST_T_.sel(time=slice(ld_mn1,ld_mn2))-np.nanmean(inp1.SST_T_,0))/np.nanstd(inp1.SST_T_,0)\n",
      "/home/nay021/Software/anaconda3/lib/python3.8/site-packages/numpy/lib/nanfunctions.py:1664: RuntimeWarning: Degrees of freedom <= 0 for slice.\n",
      "  var = nanvar(a, axis=axis, dtype=dtype, out=out, ddof=ddof,\n",
      "/scratch/BENGUP/ML/DL_BN/Predictions/Web_V1.0/output/bn_1month_4_TEMPBNi_beng/src/bn.predictions_new.py:49: RuntimeWarning: Mean of empty slice\n",
      "  inpv1[i,3:6,:,:] = (inp1.TEMP100M_T_.sel(time=slice(ld_mn1,ld_mn2))-np.nanmean(inp1.TEMP100M_T_,0))/np.nanstd(inp1.TEMP100M_T_,0)\n"
     ]
    },
    {
     "name": "stdout",
     "output_type": "stream",
     "text": [
      "Using cpu device\n",
      "tensor([[-1.2678],\n",
      "        [-0.5557],\n",
      "        [-1.6920],\n",
      "        [-0.0874]])\n",
      "/scratch/BENGUP/ML/DL_BN/Predictions/Web_V1.0/output/bn_1month_4_TEMPBNi_beng/C30H30/EN2/result.gdat\n",
      "Validation Done\n"
     ]
    },
    {
     "name": "stderr",
     "output_type": "stream",
     "text": [
      "/scratch/BENGUP/ML/DL_BN/Predictions/Web_V1.0/output/bn_1month_4_TEMPBNi_beng/src/bn.predictions_new.py:48: RuntimeWarning: Mean of empty slice\n",
      "  inpv1[i,0:3,:,:] = (inp1.SST_T_.sel(time=slice(ld_mn1,ld_mn2))-np.nanmean(inp1.SST_T_,0))/np.nanstd(inp1.SST_T_,0)\n",
      "/home/nay021/Software/anaconda3/lib/python3.8/site-packages/numpy/lib/nanfunctions.py:1664: RuntimeWarning: Degrees of freedom <= 0 for slice.\n",
      "  var = nanvar(a, axis=axis, dtype=dtype, out=out, ddof=ddof,\n",
      "/scratch/BENGUP/ML/DL_BN/Predictions/Web_V1.0/output/bn_1month_4_TEMPBNi_beng/src/bn.predictions_new.py:49: RuntimeWarning: Mean of empty slice\n",
      "  inpv1[i,3:6,:,:] = (inp1.TEMP100M_T_.sel(time=slice(ld_mn1,ld_mn2))-np.nanmean(inp1.TEMP100M_T_,0))/np.nanstd(inp1.TEMP100M_T_,0)\n"
     ]
    },
    {
     "name": "stdout",
     "output_type": "stream",
     "text": [
      "Using cpu device\n",
      "tensor([[-0.6175],\n",
      "        [-0.5204],\n",
      "        [-1.5490],\n",
      "        [ 0.0651]])\n",
      "/scratch/BENGUP/ML/DL_BN/Predictions/Web_V1.0/output/bn_1month_4_TEMPBNi_beng/C30H30/EN3/result.gdat\n",
      "Validation Done\n"
     ]
    },
    {
     "name": "stderr",
     "output_type": "stream",
     "text": [
      "/scratch/BENGUP/ML/DL_BN/Predictions/Web_V1.0/output/bn_1month_4_TEMPBNi_beng/src/bn.predictions_new.py:48: RuntimeWarning: Mean of empty slice\n",
      "  inpv1[i,0:3,:,:] = (inp1.SST_T_.sel(time=slice(ld_mn1,ld_mn2))-np.nanmean(inp1.SST_T_,0))/np.nanstd(inp1.SST_T_,0)\n",
      "/home/nay021/Software/anaconda3/lib/python3.8/site-packages/numpy/lib/nanfunctions.py:1664: RuntimeWarning: Degrees of freedom <= 0 for slice.\n",
      "  var = nanvar(a, axis=axis, dtype=dtype, out=out, ddof=ddof,\n",
      "/scratch/BENGUP/ML/DL_BN/Predictions/Web_V1.0/output/bn_1month_4_TEMPBNi_beng/src/bn.predictions_new.py:49: RuntimeWarning: Mean of empty slice\n",
      "  inpv1[i,3:6,:,:] = (inp1.TEMP100M_T_.sel(time=slice(ld_mn1,ld_mn2))-np.nanmean(inp1.TEMP100M_T_,0))/np.nanstd(inp1.TEMP100M_T_,0)\n",
      "/scratch/BENGUP/ML/DL_BN/Predictions/Web_V1.0/output/bn_1month_4_TEMPBNi_beng/src/bn.predictions_new.py:48: RuntimeWarning: Mean of empty slice\n",
      "  inpv1[i,0:3,:,:] = (inp1.SST_T_.sel(time=slice(ld_mn1,ld_mn2))-np.nanmean(inp1.SST_T_,0))/np.nanstd(inp1.SST_T_,0)\n",
      "/home/nay021/Software/anaconda3/lib/python3.8/site-packages/numpy/lib/nanfunctions.py:1664: RuntimeWarning: Degrees of freedom <= 0 for slice.\n",
      "  var = nanvar(a, axis=axis, dtype=dtype, out=out, ddof=ddof,\n",
      "/scratch/BENGUP/ML/DL_BN/Predictions/Web_V1.0/output/bn_1month_4_TEMPBNi_beng/src/bn.predictions_new.py:49: RuntimeWarning: Mean of empty slice\n",
      "  inpv1[i,3:6,:,:] = (inp1.TEMP100M_T_.sel(time=slice(ld_mn1,ld_mn2))-np.nanmean(inp1.TEMP100M_T_,0))/np.nanstd(inp1.TEMP100M_T_,0)\n"
     ]
    },
    {
     "name": "stdout",
     "output_type": "stream",
     "text": [
      "Using cpu device\n",
      "tensor([[-1.2026],\n",
      "        [-0.4925],\n",
      "        [-1.3962],\n",
      "        [ 0.0653]])\n",
      "/scratch/BENGUP/ML/DL_BN/Predictions/Web_V1.0/output/bn_1month_4_TEMPBNi_beng/C30H30/EN4/result.gdat\n",
      "Validation Done\n",
      "Using cpu device\n",
      "tensor([[-0.6092],\n",
      "        [-0.0549],\n",
      "        [-1.3081],\n",
      "        [ 0.4385]])\n",
      "/scratch/BENGUP/ML/DL_BN/Predictions/Web_V1.0/output/bn_1month_4_TEMPBNi_beng/C30H30/EN5/result.gdat\n",
      "Validation Done\n"
     ]
    },
    {
     "name": "stderr",
     "output_type": "stream",
     "text": [
      "/scratch/BENGUP/ML/DL_BN/Predictions/Web_V1.0/output/bn_1month_4_TEMPBNi_beng/src/bn.predictions_new.py:48: RuntimeWarning: Mean of empty slice\n",
      "  inpv1[i,0:3,:,:] = (inp1.SST_T_.sel(time=slice(ld_mn1,ld_mn2))-np.nanmean(inp1.SST_T_,0))/np.nanstd(inp1.SST_T_,0)\n",
      "/home/nay021/Software/anaconda3/lib/python3.8/site-packages/numpy/lib/nanfunctions.py:1664: RuntimeWarning: Degrees of freedom <= 0 for slice.\n",
      "  var = nanvar(a, axis=axis, dtype=dtype, out=out, ddof=ddof,\n",
      "/scratch/BENGUP/ML/DL_BN/Predictions/Web_V1.0/output/bn_1month_4_TEMPBNi_beng/src/bn.predictions_new.py:49: RuntimeWarning: Mean of empty slice\n",
      "  inpv1[i,3:6,:,:] = (inp1.TEMP100M_T_.sel(time=slice(ld_mn1,ld_mn2))-np.nanmean(inp1.TEMP100M_T_,0))/np.nanstd(inp1.TEMP100M_T_,0)\n"
     ]
    },
    {
     "name": "stdout",
     "output_type": "stream",
     "text": [
      "bn_1month_5_TEMPBNi_beng\n",
      "Using cpu device\n",
      "tensor([[-0.5919],\n",
      "        [ 1.7198],\n",
      "        [-1.4157],\n",
      "        [ 1.5658]])\n",
      "/scratch/BENGUP/ML/DL_BN/Predictions/Web_V1.0/output/bn_1month_5_TEMPBNi_beng/C30H30/EN1/result.gdat\n",
      "Validation Done\n"
     ]
    },
    {
     "name": "stderr",
     "output_type": "stream",
     "text": [
      "/scratch/BENGUP/ML/DL_BN/Predictions/Web_V1.0/output/bn_1month_5_TEMPBNi_beng/src/bn.predictions_new.py:48: RuntimeWarning: Mean of empty slice\n",
      "  inpv1[i,0:3,:,:] = (inp1.SST_T_.sel(time=slice(ld_mn1,ld_mn2))-np.nanmean(inp1.SST_T_,0))/np.nanstd(inp1.SST_T_,0)\n",
      "/home/nay021/Software/anaconda3/lib/python3.8/site-packages/numpy/lib/nanfunctions.py:1664: RuntimeWarning: Degrees of freedom <= 0 for slice.\n",
      "  var = nanvar(a, axis=axis, dtype=dtype, out=out, ddof=ddof,\n",
      "/scratch/BENGUP/ML/DL_BN/Predictions/Web_V1.0/output/bn_1month_5_TEMPBNi_beng/src/bn.predictions_new.py:49: RuntimeWarning: Mean of empty slice\n",
      "  inpv1[i,3:6,:,:] = (inp1.TEMP100M_T_.sel(time=slice(ld_mn1,ld_mn2))-np.nanmean(inp1.TEMP100M_T_,0))/np.nanstd(inp1.TEMP100M_T_,0)\n",
      "/scratch/BENGUP/ML/DL_BN/Predictions/Web_V1.0/output/bn_1month_5_TEMPBNi_beng/src/bn.predictions_new.py:48: RuntimeWarning: Mean of empty slice\n",
      "  inpv1[i,0:3,:,:] = (inp1.SST_T_.sel(time=slice(ld_mn1,ld_mn2))-np.nanmean(inp1.SST_T_,0))/np.nanstd(inp1.SST_T_,0)\n",
      "/home/nay021/Software/anaconda3/lib/python3.8/site-packages/numpy/lib/nanfunctions.py:1664: RuntimeWarning: Degrees of freedom <= 0 for slice.\n",
      "  var = nanvar(a, axis=axis, dtype=dtype, out=out, ddof=ddof,\n",
      "/scratch/BENGUP/ML/DL_BN/Predictions/Web_V1.0/output/bn_1month_5_TEMPBNi_beng/src/bn.predictions_new.py:49: RuntimeWarning: Mean of empty slice\n",
      "  inpv1[i,3:6,:,:] = (inp1.TEMP100M_T_.sel(time=slice(ld_mn1,ld_mn2))-np.nanmean(inp1.TEMP100M_T_,0))/np.nanstd(inp1.TEMP100M_T_,0)\n"
     ]
    },
    {
     "name": "stdout",
     "output_type": "stream",
     "text": [
      "Using cpu device\n",
      "tensor([[-0.6079],\n",
      "        [ 1.5431],\n",
      "        [-1.5500],\n",
      "        [ 1.4835]])\n",
      "/scratch/BENGUP/ML/DL_BN/Predictions/Web_V1.0/output/bn_1month_5_TEMPBNi_beng/C30H30/EN2/result.gdat\n",
      "Validation Done\n"
     ]
    },
    {
     "name": "stderr",
     "output_type": "stream",
     "text": [
      "/scratch/BENGUP/ML/DL_BN/Predictions/Web_V1.0/output/bn_1month_5_TEMPBNi_beng/src/bn.predictions_new.py:48: RuntimeWarning: Mean of empty slice\n",
      "  inpv1[i,0:3,:,:] = (inp1.SST_T_.sel(time=slice(ld_mn1,ld_mn2))-np.nanmean(inp1.SST_T_,0))/np.nanstd(inp1.SST_T_,0)\n",
      "/home/nay021/Software/anaconda3/lib/python3.8/site-packages/numpy/lib/nanfunctions.py:1664: RuntimeWarning: Degrees of freedom <= 0 for slice.\n",
      "  var = nanvar(a, axis=axis, dtype=dtype, out=out, ddof=ddof,\n",
      "/scratch/BENGUP/ML/DL_BN/Predictions/Web_V1.0/output/bn_1month_5_TEMPBNi_beng/src/bn.predictions_new.py:49: RuntimeWarning: Mean of empty slice\n",
      "  inpv1[i,3:6,:,:] = (inp1.TEMP100M_T_.sel(time=slice(ld_mn1,ld_mn2))-np.nanmean(inp1.TEMP100M_T_,0))/np.nanstd(inp1.TEMP100M_T_,0)\n"
     ]
    },
    {
     "name": "stdout",
     "output_type": "stream",
     "text": [
      "Using cpu device\n",
      "tensor([[-0.7962],\n",
      "        [ 1.6765],\n",
      "        [-1.5669],\n",
      "        [ 1.6431]])\n",
      "/scratch/BENGUP/ML/DL_BN/Predictions/Web_V1.0/output/bn_1month_5_TEMPBNi_beng/C30H30/EN3/result.gdat\n",
      "Validation Done\n",
      "Using cpu device\n",
      "tensor([[-0.7732],\n",
      "        [ 1.7516],\n",
      "        [-1.6970],\n",
      "        [ 1.7386]])\n",
      "/scratch/BENGUP/ML/DL_BN/Predictions/Web_V1.0/output/bn_1month_5_TEMPBNi_beng/C30H30/EN4/result.gdat\n",
      "Validation Done\n"
     ]
    },
    {
     "name": "stderr",
     "output_type": "stream",
     "text": [
      "/scratch/BENGUP/ML/DL_BN/Predictions/Web_V1.0/output/bn_1month_5_TEMPBNi_beng/src/bn.predictions_new.py:48: RuntimeWarning: Mean of empty slice\n",
      "  inpv1[i,0:3,:,:] = (inp1.SST_T_.sel(time=slice(ld_mn1,ld_mn2))-np.nanmean(inp1.SST_T_,0))/np.nanstd(inp1.SST_T_,0)\n",
      "/home/nay021/Software/anaconda3/lib/python3.8/site-packages/numpy/lib/nanfunctions.py:1664: RuntimeWarning: Degrees of freedom <= 0 for slice.\n",
      "  var = nanvar(a, axis=axis, dtype=dtype, out=out, ddof=ddof,\n",
      "/scratch/BENGUP/ML/DL_BN/Predictions/Web_V1.0/output/bn_1month_5_TEMPBNi_beng/src/bn.predictions_new.py:49: RuntimeWarning: Mean of empty slice\n",
      "  inpv1[i,3:6,:,:] = (inp1.TEMP100M_T_.sel(time=slice(ld_mn1,ld_mn2))-np.nanmean(inp1.TEMP100M_T_,0))/np.nanstd(inp1.TEMP100M_T_,0)\n",
      "/scratch/BENGUP/ML/DL_BN/Predictions/Web_V1.0/output/bn_1month_5_TEMPBNi_beng/src/bn.predictions_new.py:48: RuntimeWarning: Mean of empty slice\n",
      "  inpv1[i,0:3,:,:] = (inp1.SST_T_.sel(time=slice(ld_mn1,ld_mn2))-np.nanmean(inp1.SST_T_,0))/np.nanstd(inp1.SST_T_,0)\n",
      "/home/nay021/Software/anaconda3/lib/python3.8/site-packages/numpy/lib/nanfunctions.py:1664: RuntimeWarning: Degrees of freedom <= 0 for slice.\n",
      "  var = nanvar(a, axis=axis, dtype=dtype, out=out, ddof=ddof,\n",
      "/scratch/BENGUP/ML/DL_BN/Predictions/Web_V1.0/output/bn_1month_5_TEMPBNi_beng/src/bn.predictions_new.py:49: RuntimeWarning: Mean of empty slice\n",
      "  inpv1[i,3:6,:,:] = (inp1.TEMP100M_T_.sel(time=slice(ld_mn1,ld_mn2))-np.nanmean(inp1.TEMP100M_T_,0))/np.nanstd(inp1.TEMP100M_T_,0)\n"
     ]
    },
    {
     "name": "stdout",
     "output_type": "stream",
     "text": [
      "Using cpu device\n",
      "tensor([[-0.7177],\n",
      "        [ 1.5888],\n",
      "        [-1.5824],\n",
      "        [ 1.5920]])\n",
      "/scratch/BENGUP/ML/DL_BN/Predictions/Web_V1.0/output/bn_1month_5_TEMPBNi_beng/C30H30/EN5/result.gdat\n",
      "Validation Done\n",
      "bn_1month_6_TEMPBNi_beng\n"
     ]
    },
    {
     "name": "stderr",
     "output_type": "stream",
     "text": [
      "/scratch/BENGUP/ML/DL_BN/Predictions/Web_V1.0/output/bn_1month_6_TEMPBNi_beng/src/bn.predictions_new.py:48: RuntimeWarning: Mean of empty slice\n",
      "  inpv1[i,0:3,:,:] = (inp1.SST_T_.sel(time=slice(ld_mn1,ld_mn2))-np.nanmean(inp1.SST_T_,0))/np.nanstd(inp1.SST_T_,0)\n",
      "/home/nay021/Software/anaconda3/lib/python3.8/site-packages/numpy/lib/nanfunctions.py:1664: RuntimeWarning: Degrees of freedom <= 0 for slice.\n",
      "  var = nanvar(a, axis=axis, dtype=dtype, out=out, ddof=ddof,\n",
      "/scratch/BENGUP/ML/DL_BN/Predictions/Web_V1.0/output/bn_1month_6_TEMPBNi_beng/src/bn.predictions_new.py:49: RuntimeWarning: Mean of empty slice\n",
      "  inpv1[i,3:6,:,:] = (inp1.TEMP100M_T_.sel(time=slice(ld_mn1,ld_mn2))-np.nanmean(inp1.TEMP100M_T_,0))/np.nanstd(inp1.TEMP100M_T_,0)\n"
     ]
    },
    {
     "name": "stdout",
     "output_type": "stream",
     "text": [
      "Using cpu device\n",
      "tensor([[ 0.2425],\n",
      "        [ 1.4019],\n",
      "        [-0.8871],\n",
      "        [ 0.6754]])\n",
      "/scratch/BENGUP/ML/DL_BN/Predictions/Web_V1.0/output/bn_1month_6_TEMPBNi_beng/C30H30/EN1/result.gdat\n",
      "Validation Done\n",
      "Using cpu device\n",
      "tensor([[ 0.5481],\n",
      "        [ 1.7004],\n",
      "        [-0.4236],\n",
      "        [ 0.9772]])\n",
      "/scratch/BENGUP/ML/DL_BN/Predictions/Web_V1.0/output/bn_1month_6_TEMPBNi_beng/C30H30/EN2/result.gdat\n",
      "Validation Done\n"
     ]
    },
    {
     "name": "stderr",
     "output_type": "stream",
     "text": [
      "/scratch/BENGUP/ML/DL_BN/Predictions/Web_V1.0/output/bn_1month_6_TEMPBNi_beng/src/bn.predictions_new.py:48: RuntimeWarning: Mean of empty slice\n",
      "  inpv1[i,0:3,:,:] = (inp1.SST_T_.sel(time=slice(ld_mn1,ld_mn2))-np.nanmean(inp1.SST_T_,0))/np.nanstd(inp1.SST_T_,0)\n",
      "/home/nay021/Software/anaconda3/lib/python3.8/site-packages/numpy/lib/nanfunctions.py:1664: RuntimeWarning: Degrees of freedom <= 0 for slice.\n",
      "  var = nanvar(a, axis=axis, dtype=dtype, out=out, ddof=ddof,\n",
      "/scratch/BENGUP/ML/DL_BN/Predictions/Web_V1.0/output/bn_1month_6_TEMPBNi_beng/src/bn.predictions_new.py:49: RuntimeWarning: Mean of empty slice\n",
      "  inpv1[i,3:6,:,:] = (inp1.TEMP100M_T_.sel(time=slice(ld_mn1,ld_mn2))-np.nanmean(inp1.TEMP100M_T_,0))/np.nanstd(inp1.TEMP100M_T_,0)\n",
      "/scratch/BENGUP/ML/DL_BN/Predictions/Web_V1.0/output/bn_1month_6_TEMPBNi_beng/src/bn.predictions_new.py:48: RuntimeWarning: Mean of empty slice\n",
      "  inpv1[i,0:3,:,:] = (inp1.SST_T_.sel(time=slice(ld_mn1,ld_mn2))-np.nanmean(inp1.SST_T_,0))/np.nanstd(inp1.SST_T_,0)\n",
      "/home/nay021/Software/anaconda3/lib/python3.8/site-packages/numpy/lib/nanfunctions.py:1664: RuntimeWarning: Degrees of freedom <= 0 for slice.\n",
      "  var = nanvar(a, axis=axis, dtype=dtype, out=out, ddof=ddof,\n",
      "/scratch/BENGUP/ML/DL_BN/Predictions/Web_V1.0/output/bn_1month_6_TEMPBNi_beng/src/bn.predictions_new.py:49: RuntimeWarning: Mean of empty slice\n",
      "  inpv1[i,3:6,:,:] = (inp1.TEMP100M_T_.sel(time=slice(ld_mn1,ld_mn2))-np.nanmean(inp1.TEMP100M_T_,0))/np.nanstd(inp1.TEMP100M_T_,0)\n"
     ]
    },
    {
     "name": "stdout",
     "output_type": "stream",
     "text": [
      "Using cpu device\n",
      "tensor([[ 0.2267],\n",
      "        [ 1.7169],\n",
      "        [-0.2720],\n",
      "        [ 0.9146]])\n",
      "/scratch/BENGUP/ML/DL_BN/Predictions/Web_V1.0/output/bn_1month_6_TEMPBNi_beng/C30H30/EN3/result.gdat\n",
      "Validation Done\n",
      "Using cpu device\n",
      "tensor([[ 0.2910],\n",
      "        [ 1.7201],\n",
      "        [-0.6186],\n",
      "        [ 0.9693]])\n",
      "/scratch/BENGUP/ML/DL_BN/Predictions/Web_V1.0/output/bn_1month_6_TEMPBNi_beng/C30H30/EN4/result.gdat\n",
      "Validation Done\n"
     ]
    },
    {
     "name": "stderr",
     "output_type": "stream",
     "text": [
      "/scratch/BENGUP/ML/DL_BN/Predictions/Web_V1.0/output/bn_1month_6_TEMPBNi_beng/src/bn.predictions_new.py:48: RuntimeWarning: Mean of empty slice\n",
      "  inpv1[i,0:3,:,:] = (inp1.SST_T_.sel(time=slice(ld_mn1,ld_mn2))-np.nanmean(inp1.SST_T_,0))/np.nanstd(inp1.SST_T_,0)\n",
      "/home/nay021/Software/anaconda3/lib/python3.8/site-packages/numpy/lib/nanfunctions.py:1664: RuntimeWarning: Degrees of freedom <= 0 for slice.\n",
      "  var = nanvar(a, axis=axis, dtype=dtype, out=out, ddof=ddof,\n",
      "/scratch/BENGUP/ML/DL_BN/Predictions/Web_V1.0/output/bn_1month_6_TEMPBNi_beng/src/bn.predictions_new.py:49: RuntimeWarning: Mean of empty slice\n",
      "  inpv1[i,3:6,:,:] = (inp1.TEMP100M_T_.sel(time=slice(ld_mn1,ld_mn2))-np.nanmean(inp1.TEMP100M_T_,0))/np.nanstd(inp1.TEMP100M_T_,0)\n"
     ]
    },
    {
     "name": "stdout",
     "output_type": "stream",
     "text": [
      "Using cpu device\n",
      "tensor([[ 0.5307],\n",
      "        [ 1.3535],\n",
      "        [-0.8475],\n",
      "        [ 0.9676]])\n",
      "/scratch/BENGUP/ML/DL_BN/Predictions/Web_V1.0/output/bn_1month_6_TEMPBNi_beng/C30H30/EN5/result.gdat\n",
      "Validation Done\n"
     ]
    },
    {
     "name": "stderr",
     "output_type": "stream",
     "text": [
      "/scratch/BENGUP/ML/DL_BN/Predictions/Web_V1.0/output/bn_1month_6_TEMPBNi_beng/src/bn.predictions_new.py:48: RuntimeWarning: Mean of empty slice\n",
      "  inpv1[i,0:3,:,:] = (inp1.SST_T_.sel(time=slice(ld_mn1,ld_mn2))-np.nanmean(inp1.SST_T_,0))/np.nanstd(inp1.SST_T_,0)\n",
      "/home/nay021/Software/anaconda3/lib/python3.8/site-packages/numpy/lib/nanfunctions.py:1664: RuntimeWarning: Degrees of freedom <= 0 for slice.\n",
      "  var = nanvar(a, axis=axis, dtype=dtype, out=out, ddof=ddof,\n",
      "/scratch/BENGUP/ML/DL_BN/Predictions/Web_V1.0/output/bn_1month_6_TEMPBNi_beng/src/bn.predictions_new.py:49: RuntimeWarning: Mean of empty slice\n",
      "  inpv1[i,3:6,:,:] = (inp1.TEMP100M_T_.sel(time=slice(ld_mn1,ld_mn2))-np.nanmean(inp1.TEMP100M_T_,0))/np.nanstd(inp1.TEMP100M_T_,0)\n"
     ]
    },
    {
     "name": "stdout",
     "output_type": "stream",
     "text": [
      "bn_1month_7_TEMPBNi_beng\n",
      "Using cpu device\n",
      "tensor([[ 0.6248],\n",
      "        [ 1.3715],\n",
      "        [-0.1800],\n",
      "        [ 0.7083]])\n",
      "/scratch/BENGUP/ML/DL_BN/Predictions/Web_V1.0/output/bn_1month_7_TEMPBNi_beng/C30H30/EN1/result.gdat\n",
      "Validation Done\n"
     ]
    },
    {
     "name": "stderr",
     "output_type": "stream",
     "text": [
      "/scratch/BENGUP/ML/DL_BN/Predictions/Web_V1.0/output/bn_1month_7_TEMPBNi_beng/src/bn.predictions_new.py:48: RuntimeWarning: Mean of empty slice\n",
      "  inpv1[i,0:3,:,:] = (inp1.SST_T_.sel(time=slice(ld_mn1,ld_mn2))-np.nanmean(inp1.SST_T_,0))/np.nanstd(inp1.SST_T_,0)\n",
      "/home/nay021/Software/anaconda3/lib/python3.8/site-packages/numpy/lib/nanfunctions.py:1664: RuntimeWarning: Degrees of freedom <= 0 for slice.\n",
      "  var = nanvar(a, axis=axis, dtype=dtype, out=out, ddof=ddof,\n",
      "/scratch/BENGUP/ML/DL_BN/Predictions/Web_V1.0/output/bn_1month_7_TEMPBNi_beng/src/bn.predictions_new.py:49: RuntimeWarning: Mean of empty slice\n",
      "  inpv1[i,3:6,:,:] = (inp1.TEMP100M_T_.sel(time=slice(ld_mn1,ld_mn2))-np.nanmean(inp1.TEMP100M_T_,0))/np.nanstd(inp1.TEMP100M_T_,0)\n",
      "/scratch/BENGUP/ML/DL_BN/Predictions/Web_V1.0/output/bn_1month_7_TEMPBNi_beng/src/bn.predictions_new.py:48: RuntimeWarning: Mean of empty slice\n",
      "  inpv1[i,0:3,:,:] = (inp1.SST_T_.sel(time=slice(ld_mn1,ld_mn2))-np.nanmean(inp1.SST_T_,0))/np.nanstd(inp1.SST_T_,0)\n",
      "/home/nay021/Software/anaconda3/lib/python3.8/site-packages/numpy/lib/nanfunctions.py:1664: RuntimeWarning: Degrees of freedom <= 0 for slice.\n",
      "  var = nanvar(a, axis=axis, dtype=dtype, out=out, ddof=ddof,\n",
      "/scratch/BENGUP/ML/DL_BN/Predictions/Web_V1.0/output/bn_1month_7_TEMPBNi_beng/src/bn.predictions_new.py:49: RuntimeWarning: Mean of empty slice\n",
      "  inpv1[i,3:6,:,:] = (inp1.TEMP100M_T_.sel(time=slice(ld_mn1,ld_mn2))-np.nanmean(inp1.TEMP100M_T_,0))/np.nanstd(inp1.TEMP100M_T_,0)\n"
     ]
    },
    {
     "name": "stdout",
     "output_type": "stream",
     "text": [
      "Using cpu device\n",
      "tensor([[ 0.1855],\n",
      "        [ 1.2841],\n",
      "        [-0.3312],\n",
      "        [ 0.2921]])\n",
      "/scratch/BENGUP/ML/DL_BN/Predictions/Web_V1.0/output/bn_1month_7_TEMPBNi_beng/C30H30/EN2/result.gdat\n",
      "Validation Done\n",
      "Using cpu device\n",
      "tensor([[ 0.3385],\n",
      "        [ 1.0397],\n",
      "        [-0.2895],\n",
      "        [ 0.3057]])\n",
      "/scratch/BENGUP/ML/DL_BN/Predictions/Web_V1.0/output/bn_1month_7_TEMPBNi_beng/C30H30/EN3/result.gdat\n",
      "Validation Done\n"
     ]
    },
    {
     "name": "stderr",
     "output_type": "stream",
     "text": [
      "/scratch/BENGUP/ML/DL_BN/Predictions/Web_V1.0/output/bn_1month_7_TEMPBNi_beng/src/bn.predictions_new.py:48: RuntimeWarning: Mean of empty slice\n",
      "  inpv1[i,0:3,:,:] = (inp1.SST_T_.sel(time=slice(ld_mn1,ld_mn2))-np.nanmean(inp1.SST_T_,0))/np.nanstd(inp1.SST_T_,0)\n",
      "/home/nay021/Software/anaconda3/lib/python3.8/site-packages/numpy/lib/nanfunctions.py:1664: RuntimeWarning: Degrees of freedom <= 0 for slice.\n",
      "  var = nanvar(a, axis=axis, dtype=dtype, out=out, ddof=ddof,\n",
      "/scratch/BENGUP/ML/DL_BN/Predictions/Web_V1.0/output/bn_1month_7_TEMPBNi_beng/src/bn.predictions_new.py:49: RuntimeWarning: Mean of empty slice\n",
      "  inpv1[i,3:6,:,:] = (inp1.TEMP100M_T_.sel(time=slice(ld_mn1,ld_mn2))-np.nanmean(inp1.TEMP100M_T_,0))/np.nanstd(inp1.TEMP100M_T_,0)\n"
     ]
    },
    {
     "name": "stdout",
     "output_type": "stream",
     "text": [
      "Using cpu device\n",
      "tensor([[ 0.2429],\n",
      "        [ 1.0265],\n",
      "        [-0.2198],\n",
      "        [ 0.4749]])\n",
      "/scratch/BENGUP/ML/DL_BN/Predictions/Web_V1.0/output/bn_1month_7_TEMPBNi_beng/C30H30/EN4/result.gdat\n",
      "Validation Done\n"
     ]
    },
    {
     "name": "stderr",
     "output_type": "stream",
     "text": [
      "/scratch/BENGUP/ML/DL_BN/Predictions/Web_V1.0/output/bn_1month_7_TEMPBNi_beng/src/bn.predictions_new.py:48: RuntimeWarning: Mean of empty slice\n",
      "  inpv1[i,0:3,:,:] = (inp1.SST_T_.sel(time=slice(ld_mn1,ld_mn2))-np.nanmean(inp1.SST_T_,0))/np.nanstd(inp1.SST_T_,0)\n",
      "/home/nay021/Software/anaconda3/lib/python3.8/site-packages/numpy/lib/nanfunctions.py:1664: RuntimeWarning: Degrees of freedom <= 0 for slice.\n",
      "  var = nanvar(a, axis=axis, dtype=dtype, out=out, ddof=ddof,\n",
      "/scratch/BENGUP/ML/DL_BN/Predictions/Web_V1.0/output/bn_1month_7_TEMPBNi_beng/src/bn.predictions_new.py:49: RuntimeWarning: Mean of empty slice\n",
      "  inpv1[i,3:6,:,:] = (inp1.TEMP100M_T_.sel(time=slice(ld_mn1,ld_mn2))-np.nanmean(inp1.TEMP100M_T_,0))/np.nanstd(inp1.TEMP100M_T_,0)\n"
     ]
    },
    {
     "name": "stdout",
     "output_type": "stream",
     "text": [
      "Using cpu device\n",
      "tensor([[ 0.7138],\n",
      "        [ 1.2003],\n",
      "        [-0.3227],\n",
      "        [ 0.6793]])\n",
      "/scratch/BENGUP/ML/DL_BN/Predictions/Web_V1.0/output/bn_1month_7_TEMPBNi_beng/C30H30/EN5/result.gdat\n",
      "Validation Done\n"
     ]
    },
    {
     "name": "stderr",
     "output_type": "stream",
     "text": [
      "/scratch/BENGUP/ML/DL_BN/Predictions/Web_V1.0/output/bn_1month_7_TEMPBNi_beng/src/bn.predictions_new.py:48: RuntimeWarning: Mean of empty slice\n",
      "  inpv1[i,0:3,:,:] = (inp1.SST_T_.sel(time=slice(ld_mn1,ld_mn2))-np.nanmean(inp1.SST_T_,0))/np.nanstd(inp1.SST_T_,0)\n",
      "/home/nay021/Software/anaconda3/lib/python3.8/site-packages/numpy/lib/nanfunctions.py:1664: RuntimeWarning: Degrees of freedom <= 0 for slice.\n",
      "  var = nanvar(a, axis=axis, dtype=dtype, out=out, ddof=ddof,\n",
      "/scratch/BENGUP/ML/DL_BN/Predictions/Web_V1.0/output/bn_1month_7_TEMPBNi_beng/src/bn.predictions_new.py:49: RuntimeWarning: Mean of empty slice\n",
      "  inpv1[i,3:6,:,:] = (inp1.TEMP100M_T_.sel(time=slice(ld_mn1,ld_mn2))-np.nanmean(inp1.TEMP100M_T_,0))/np.nanstd(inp1.TEMP100M_T_,0)\n"
     ]
    },
    {
     "name": "stdout",
     "output_type": "stream",
     "text": [
      "bn_1month_8_TEMPBNi_beng\n",
      "Using cpu device\n",
      "tensor([[ 0.1867],\n",
      "        [ 0.8286],\n",
      "        [-0.6185]])\n",
      "/scratch/BENGUP/ML/DL_BN/Predictions/Web_V1.0/output/bn_1month_8_TEMPBNi_beng/C30H30/EN1/result.gdat\n",
      "Validation Done\n"
     ]
    },
    {
     "name": "stderr",
     "output_type": "stream",
     "text": [
      "/scratch/BENGUP/ML/DL_BN/Predictions/Web_V1.0/output/bn_1month_8_TEMPBNi_beng/src/bn.predictions_new.py:48: RuntimeWarning: Mean of empty slice\n",
      "  inpv1[i,0:3,:,:] = (inp1.SST_T_.sel(time=slice(ld_mn1,ld_mn2))-np.nanmean(inp1.SST_T_,0))/np.nanstd(inp1.SST_T_,0)\n",
      "/home/nay021/Software/anaconda3/lib/python3.8/site-packages/numpy/lib/nanfunctions.py:1664: RuntimeWarning: Degrees of freedom <= 0 for slice.\n",
      "  var = nanvar(a, axis=axis, dtype=dtype, out=out, ddof=ddof,\n",
      "/scratch/BENGUP/ML/DL_BN/Predictions/Web_V1.0/output/bn_1month_8_TEMPBNi_beng/src/bn.predictions_new.py:49: RuntimeWarning: Mean of empty slice\n",
      "  inpv1[i,3:6,:,:] = (inp1.TEMP100M_T_.sel(time=slice(ld_mn1,ld_mn2))-np.nanmean(inp1.TEMP100M_T_,0))/np.nanstd(inp1.TEMP100M_T_,0)\n",
      "/scratch/BENGUP/ML/DL_BN/Predictions/Web_V1.0/output/bn_1month_8_TEMPBNi_beng/src/bn.predictions_new.py:48: RuntimeWarning: Mean of empty slice\n",
      "  inpv1[i,0:3,:,:] = (inp1.SST_T_.sel(time=slice(ld_mn1,ld_mn2))-np.nanmean(inp1.SST_T_,0))/np.nanstd(inp1.SST_T_,0)\n",
      "/home/nay021/Software/anaconda3/lib/python3.8/site-packages/numpy/lib/nanfunctions.py:1664: RuntimeWarning: Degrees of freedom <= 0 for slice.\n",
      "  var = nanvar(a, axis=axis, dtype=dtype, out=out, ddof=ddof,\n",
      "/scratch/BENGUP/ML/DL_BN/Predictions/Web_V1.0/output/bn_1month_8_TEMPBNi_beng/src/bn.predictions_new.py:49: RuntimeWarning: Mean of empty slice\n",
      "  inpv1[i,3:6,:,:] = (inp1.TEMP100M_T_.sel(time=slice(ld_mn1,ld_mn2))-np.nanmean(inp1.TEMP100M_T_,0))/np.nanstd(inp1.TEMP100M_T_,0)\n"
     ]
    },
    {
     "name": "stdout",
     "output_type": "stream",
     "text": [
      "Using cpu device\n",
      "tensor([[ 0.4220],\n",
      "        [ 0.7061],\n",
      "        [-0.5907]])\n",
      "/scratch/BENGUP/ML/DL_BN/Predictions/Web_V1.0/output/bn_1month_8_TEMPBNi_beng/C30H30/EN2/result.gdat\n",
      "Validation Done\n",
      "Using cpu device\n",
      "tensor([[ 0.3666],\n",
      "        [ 0.7738],\n",
      "        [-0.5585]])\n",
      "/scratch/BENGUP/ML/DL_BN/Predictions/Web_V1.0/output/bn_1month_8_TEMPBNi_beng/C30H30/EN3/result.gdat\n",
      "Validation Done\n"
     ]
    },
    {
     "name": "stderr",
     "output_type": "stream",
     "text": [
      "/scratch/BENGUP/ML/DL_BN/Predictions/Web_V1.0/output/bn_1month_8_TEMPBNi_beng/src/bn.predictions_new.py:48: RuntimeWarning: Mean of empty slice\n",
      "  inpv1[i,0:3,:,:] = (inp1.SST_T_.sel(time=slice(ld_mn1,ld_mn2))-np.nanmean(inp1.SST_T_,0))/np.nanstd(inp1.SST_T_,0)\n",
      "/home/nay021/Software/anaconda3/lib/python3.8/site-packages/numpy/lib/nanfunctions.py:1664: RuntimeWarning: Degrees of freedom <= 0 for slice.\n",
      "  var = nanvar(a, axis=axis, dtype=dtype, out=out, ddof=ddof,\n",
      "/scratch/BENGUP/ML/DL_BN/Predictions/Web_V1.0/output/bn_1month_8_TEMPBNi_beng/src/bn.predictions_new.py:49: RuntimeWarning: Mean of empty slice\n",
      "  inpv1[i,3:6,:,:] = (inp1.TEMP100M_T_.sel(time=slice(ld_mn1,ld_mn2))-np.nanmean(inp1.TEMP100M_T_,0))/np.nanstd(inp1.TEMP100M_T_,0)\n",
      "/scratch/BENGUP/ML/DL_BN/Predictions/Web_V1.0/output/bn_1month_8_TEMPBNi_beng/src/bn.predictions_new.py:48: RuntimeWarning: Mean of empty slice\n",
      "  inpv1[i,0:3,:,:] = (inp1.SST_T_.sel(time=slice(ld_mn1,ld_mn2))-np.nanmean(inp1.SST_T_,0))/np.nanstd(inp1.SST_T_,0)\n",
      "/home/nay021/Software/anaconda3/lib/python3.8/site-packages/numpy/lib/nanfunctions.py:1664: RuntimeWarning: Degrees of freedom <= 0 for slice.\n",
      "  var = nanvar(a, axis=axis, dtype=dtype, out=out, ddof=ddof,\n",
      "/scratch/BENGUP/ML/DL_BN/Predictions/Web_V1.0/output/bn_1month_8_TEMPBNi_beng/src/bn.predictions_new.py:49: RuntimeWarning: Mean of empty slice\n",
      "  inpv1[i,3:6,:,:] = (inp1.TEMP100M_T_.sel(time=slice(ld_mn1,ld_mn2))-np.nanmean(inp1.TEMP100M_T_,0))/np.nanstd(inp1.TEMP100M_T_,0)\n"
     ]
    },
    {
     "name": "stdout",
     "output_type": "stream",
     "text": [
      "Using cpu device\n",
      "tensor([[ 0.2623],\n",
      "        [ 0.5923],\n",
      "        [-0.7490]])\n",
      "/scratch/BENGUP/ML/DL_BN/Predictions/Web_V1.0/output/bn_1month_8_TEMPBNi_beng/C30H30/EN4/result.gdat\n",
      "Validation Done\n",
      "Using cpu device\n",
      "tensor([[ 0.5114],\n",
      "        [ 0.7650],\n",
      "        [-0.5182]])\n",
      "/scratch/BENGUP/ML/DL_BN/Predictions/Web_V1.0/output/bn_1month_8_TEMPBNi_beng/C30H30/EN5/result.gdat\n",
      "Validation Done\n"
     ]
    },
    {
     "name": "stderr",
     "output_type": "stream",
     "text": [
      "/scratch/BENGUP/ML/DL_BN/Predictions/Web_V1.0/output/bn_1month_8_TEMPBNi_beng/src/bn.predictions_new.py:48: RuntimeWarning: Mean of empty slice\n",
      "  inpv1[i,0:3,:,:] = (inp1.SST_T_.sel(time=slice(ld_mn1,ld_mn2))-np.nanmean(inp1.SST_T_,0))/np.nanstd(inp1.SST_T_,0)\n",
      "/home/nay021/Software/anaconda3/lib/python3.8/site-packages/numpy/lib/nanfunctions.py:1664: RuntimeWarning: Degrees of freedom <= 0 for slice.\n",
      "  var = nanvar(a, axis=axis, dtype=dtype, out=out, ddof=ddof,\n",
      "/scratch/BENGUP/ML/DL_BN/Predictions/Web_V1.0/output/bn_1month_8_TEMPBNi_beng/src/bn.predictions_new.py:49: RuntimeWarning: Mean of empty slice\n",
      "  inpv1[i,3:6,:,:] = (inp1.TEMP100M_T_.sel(time=slice(ld_mn1,ld_mn2))-np.nanmean(inp1.TEMP100M_T_,0))/np.nanstd(inp1.TEMP100M_T_,0)\n"
     ]
    },
    {
     "name": "stdout",
     "output_type": "stream",
     "text": [
      "bn_1month_9_TEMPBNi_beng\n",
      "Using cpu device\n",
      "tensor([[-0.0763],\n",
      "        [ 0.1987],\n",
      "        [-0.6361]])\n",
      "/scratch/BENGUP/ML/DL_BN/Predictions/Web_V1.0/output/bn_1month_9_TEMPBNi_beng/C30H30/EN1/result.gdat\n",
      "Validation Done\n"
     ]
    },
    {
     "name": "stderr",
     "output_type": "stream",
     "text": [
      "/scratch/BENGUP/ML/DL_BN/Predictions/Web_V1.0/output/bn_1month_9_TEMPBNi_beng/src/bn.predictions_new.py:48: RuntimeWarning: Mean of empty slice\n",
      "  inpv1[i,0:3,:,:] = (inp1.SST_T_.sel(time=slice(ld_mn1,ld_mn2))-np.nanmean(inp1.SST_T_,0))/np.nanstd(inp1.SST_T_,0)\n",
      "/home/nay021/Software/anaconda3/lib/python3.8/site-packages/numpy/lib/nanfunctions.py:1664: RuntimeWarning: Degrees of freedom <= 0 for slice.\n",
      "  var = nanvar(a, axis=axis, dtype=dtype, out=out, ddof=ddof,\n",
      "/scratch/BENGUP/ML/DL_BN/Predictions/Web_V1.0/output/bn_1month_9_TEMPBNi_beng/src/bn.predictions_new.py:49: RuntimeWarning: Mean of empty slice\n",
      "  inpv1[i,3:6,:,:] = (inp1.TEMP100M_T_.sel(time=slice(ld_mn1,ld_mn2))-np.nanmean(inp1.TEMP100M_T_,0))/np.nanstd(inp1.TEMP100M_T_,0)\n"
     ]
    },
    {
     "name": "stdout",
     "output_type": "stream",
     "text": [
      "Using cpu device\n",
      "tensor([[-0.1643],\n",
      "        [ 0.4145],\n",
      "        [-0.5358]])\n",
      "/scratch/BENGUP/ML/DL_BN/Predictions/Web_V1.0/output/bn_1month_9_TEMPBNi_beng/C30H30/EN2/result.gdat\n",
      "Validation Done\n"
     ]
    },
    {
     "name": "stderr",
     "output_type": "stream",
     "text": [
      "/scratch/BENGUP/ML/DL_BN/Predictions/Web_V1.0/output/bn_1month_9_TEMPBNi_beng/src/bn.predictions_new.py:48: RuntimeWarning: Mean of empty slice\n",
      "  inpv1[i,0:3,:,:] = (inp1.SST_T_.sel(time=slice(ld_mn1,ld_mn2))-np.nanmean(inp1.SST_T_,0))/np.nanstd(inp1.SST_T_,0)\n",
      "/home/nay021/Software/anaconda3/lib/python3.8/site-packages/numpy/lib/nanfunctions.py:1664: RuntimeWarning: Degrees of freedom <= 0 for slice.\n",
      "  var = nanvar(a, axis=axis, dtype=dtype, out=out, ddof=ddof,\n",
      "/scratch/BENGUP/ML/DL_BN/Predictions/Web_V1.0/output/bn_1month_9_TEMPBNi_beng/src/bn.predictions_new.py:49: RuntimeWarning: Mean of empty slice\n",
      "  inpv1[i,3:6,:,:] = (inp1.TEMP100M_T_.sel(time=slice(ld_mn1,ld_mn2))-np.nanmean(inp1.TEMP100M_T_,0))/np.nanstd(inp1.TEMP100M_T_,0)\n"
     ]
    },
    {
     "name": "stdout",
     "output_type": "stream",
     "text": [
      "Using cpu device\n",
      "tensor([[-0.0377],\n",
      "        [ 0.3468],\n",
      "        [-0.3591]])\n",
      "/scratch/BENGUP/ML/DL_BN/Predictions/Web_V1.0/output/bn_1month_9_TEMPBNi_beng/C30H30/EN3/result.gdat\n",
      "Validation Done\n"
     ]
    },
    {
     "name": "stderr",
     "output_type": "stream",
     "text": [
      "/scratch/BENGUP/ML/DL_BN/Predictions/Web_V1.0/output/bn_1month_9_TEMPBNi_beng/src/bn.predictions_new.py:48: RuntimeWarning: Mean of empty slice\n",
      "  inpv1[i,0:3,:,:] = (inp1.SST_T_.sel(time=slice(ld_mn1,ld_mn2))-np.nanmean(inp1.SST_T_,0))/np.nanstd(inp1.SST_T_,0)\n",
      "/home/nay021/Software/anaconda3/lib/python3.8/site-packages/numpy/lib/nanfunctions.py:1664: RuntimeWarning: Degrees of freedom <= 0 for slice.\n",
      "  var = nanvar(a, axis=axis, dtype=dtype, out=out, ddof=ddof,\n",
      "/scratch/BENGUP/ML/DL_BN/Predictions/Web_V1.0/output/bn_1month_9_TEMPBNi_beng/src/bn.predictions_new.py:49: RuntimeWarning: Mean of empty slice\n",
      "  inpv1[i,3:6,:,:] = (inp1.TEMP100M_T_.sel(time=slice(ld_mn1,ld_mn2))-np.nanmean(inp1.TEMP100M_T_,0))/np.nanstd(inp1.TEMP100M_T_,0)\n",
      "/scratch/BENGUP/ML/DL_BN/Predictions/Web_V1.0/output/bn_1month_9_TEMPBNi_beng/src/bn.predictions_new.py:48: RuntimeWarning: Mean of empty slice\n",
      "  inpv1[i,0:3,:,:] = (inp1.SST_T_.sel(time=slice(ld_mn1,ld_mn2))-np.nanmean(inp1.SST_T_,0))/np.nanstd(inp1.SST_T_,0)\n",
      "/home/nay021/Software/anaconda3/lib/python3.8/site-packages/numpy/lib/nanfunctions.py:1664: RuntimeWarning: Degrees of freedom <= 0 for slice.\n",
      "  var = nanvar(a, axis=axis, dtype=dtype, out=out, ddof=ddof,\n",
      "/scratch/BENGUP/ML/DL_BN/Predictions/Web_V1.0/output/bn_1month_9_TEMPBNi_beng/src/bn.predictions_new.py:49: RuntimeWarning: Mean of empty slice\n",
      "  inpv1[i,3:6,:,:] = (inp1.TEMP100M_T_.sel(time=slice(ld_mn1,ld_mn2))-np.nanmean(inp1.TEMP100M_T_,0))/np.nanstd(inp1.TEMP100M_T_,0)\n"
     ]
    },
    {
     "name": "stdout",
     "output_type": "stream",
     "text": [
      "Using cpu device\n",
      "tensor([[ 0.0878],\n",
      "        [ 0.5173],\n",
      "        [-0.4125]])\n",
      "/scratch/BENGUP/ML/DL_BN/Predictions/Web_V1.0/output/bn_1month_9_TEMPBNi_beng/C30H30/EN4/result.gdat\n",
      "Validation Done\n",
      "Using cpu device\n",
      "tensor([[-0.0038],\n",
      "        [ 0.3618],\n",
      "        [-0.6710]])\n",
      "/scratch/BENGUP/ML/DL_BN/Predictions/Web_V1.0/output/bn_1month_9_TEMPBNi_beng/C30H30/EN5/result.gdat\n",
      "Validation Done\n"
     ]
    },
    {
     "name": "stderr",
     "output_type": "stream",
     "text": [
      "/scratch/BENGUP/ML/DL_BN/Predictions/Web_V1.0/output/bn_1month_9_TEMPBNi_beng/src/bn.predictions_new.py:48: RuntimeWarning: Mean of empty slice\n",
      "  inpv1[i,0:3,:,:] = (inp1.SST_T_.sel(time=slice(ld_mn1,ld_mn2))-np.nanmean(inp1.SST_T_,0))/np.nanstd(inp1.SST_T_,0)\n",
      "/home/nay021/Software/anaconda3/lib/python3.8/site-packages/numpy/lib/nanfunctions.py:1664: RuntimeWarning: Degrees of freedom <= 0 for slice.\n",
      "  var = nanvar(a, axis=axis, dtype=dtype, out=out, ddof=ddof,\n",
      "/scratch/BENGUP/ML/DL_BN/Predictions/Web_V1.0/output/bn_1month_9_TEMPBNi_beng/src/bn.predictions_new.py:49: RuntimeWarning: Mean of empty slice\n",
      "  inpv1[i,3:6,:,:] = (inp1.TEMP100M_T_.sel(time=slice(ld_mn1,ld_mn2))-np.nanmean(inp1.TEMP100M_T_,0))/np.nanstd(inp1.TEMP100M_T_,0)\n"
     ]
    },
    {
     "name": "stdout",
     "output_type": "stream",
     "text": [
      "bn_1month_10_TEMPBNi_beng\n"
     ]
    },
    {
     "name": "stderr",
     "output_type": "stream",
     "text": [
      "/scratch/BENGUP/ML/DL_BN/Predictions/Web_V1.0/output/bn_1month_10_TEMPBNi_beng/src/bn.predictions_new.py:48: RuntimeWarning: Mean of empty slice\n",
      "  inpv1[i,0:3,:,:] = (inp1.SST_T_.sel(time=slice(ld_mn1,ld_mn2))-np.nanmean(inp1.SST_T_,0))/np.nanstd(inp1.SST_T_,0)\n",
      "/home/nay021/Software/anaconda3/lib/python3.8/site-packages/numpy/lib/nanfunctions.py:1664: RuntimeWarning: Degrees of freedom <= 0 for slice.\n",
      "  var = nanvar(a, axis=axis, dtype=dtype, out=out, ddof=ddof,\n",
      "/scratch/BENGUP/ML/DL_BN/Predictions/Web_V1.0/output/bn_1month_10_TEMPBNi_beng/src/bn.predictions_new.py:49: RuntimeWarning: Mean of empty slice\n",
      "  inpv1[i,3:6,:,:] = (inp1.TEMP100M_T_.sel(time=slice(ld_mn1,ld_mn2))-np.nanmean(inp1.TEMP100M_T_,0))/np.nanstd(inp1.TEMP100M_T_,0)\n"
     ]
    },
    {
     "name": "stdout",
     "output_type": "stream",
     "text": [
      "Using cpu device\n",
      "tensor([[-0.7706],\n",
      "        [-0.1714],\n",
      "        [ 0.4631]])\n",
      "/scratch/BENGUP/ML/DL_BN/Predictions/Web_V1.0/output/bn_1month_10_TEMPBNi_beng/C30H30/EN1/result.gdat\n",
      "Validation Done\n"
     ]
    },
    {
     "name": "stderr",
     "output_type": "stream",
     "text": [
      "/scratch/BENGUP/ML/DL_BN/Predictions/Web_V1.0/output/bn_1month_10_TEMPBNi_beng/src/bn.predictions_new.py:48: RuntimeWarning: Mean of empty slice\n",
      "  inpv1[i,0:3,:,:] = (inp1.SST_T_.sel(time=slice(ld_mn1,ld_mn2))-np.nanmean(inp1.SST_T_,0))/np.nanstd(inp1.SST_T_,0)\n",
      "/home/nay021/Software/anaconda3/lib/python3.8/site-packages/numpy/lib/nanfunctions.py:1664: RuntimeWarning: Degrees of freedom <= 0 for slice.\n",
      "  var = nanvar(a, axis=axis, dtype=dtype, out=out, ddof=ddof,\n",
      "/scratch/BENGUP/ML/DL_BN/Predictions/Web_V1.0/output/bn_1month_10_TEMPBNi_beng/src/bn.predictions_new.py:49: RuntimeWarning: Mean of empty slice\n",
      "  inpv1[i,3:6,:,:] = (inp1.TEMP100M_T_.sel(time=slice(ld_mn1,ld_mn2))-np.nanmean(inp1.TEMP100M_T_,0))/np.nanstd(inp1.TEMP100M_T_,0)\n"
     ]
    },
    {
     "name": "stdout",
     "output_type": "stream",
     "text": [
      "Using cpu device\n",
      "tensor([[-0.4196],\n",
      "        [-0.2162],\n",
      "        [ 0.5655]])\n",
      "/scratch/BENGUP/ML/DL_BN/Predictions/Web_V1.0/output/bn_1month_10_TEMPBNi_beng/C30H30/EN2/result.gdat\n",
      "Validation Done\n",
      "Using cpu device\n",
      "tensor([[-0.8477],\n",
      "        [ 0.0158],\n",
      "        [ 0.2992]])\n",
      "/scratch/BENGUP/ML/DL_BN/Predictions/Web_V1.0/output/bn_1month_10_TEMPBNi_beng/C30H30/EN3/result.gdat\n",
      "Validation Done\n"
     ]
    },
    {
     "name": "stderr",
     "output_type": "stream",
     "text": [
      "/scratch/BENGUP/ML/DL_BN/Predictions/Web_V1.0/output/bn_1month_10_TEMPBNi_beng/src/bn.predictions_new.py:48: RuntimeWarning: Mean of empty slice\n",
      "  inpv1[i,0:3,:,:] = (inp1.SST_T_.sel(time=slice(ld_mn1,ld_mn2))-np.nanmean(inp1.SST_T_,0))/np.nanstd(inp1.SST_T_,0)\n",
      "/home/nay021/Software/anaconda3/lib/python3.8/site-packages/numpy/lib/nanfunctions.py:1664: RuntimeWarning: Degrees of freedom <= 0 for slice.\n",
      "  var = nanvar(a, axis=axis, dtype=dtype, out=out, ddof=ddof,\n",
      "/scratch/BENGUP/ML/DL_BN/Predictions/Web_V1.0/output/bn_1month_10_TEMPBNi_beng/src/bn.predictions_new.py:49: RuntimeWarning: Mean of empty slice\n",
      "  inpv1[i,3:6,:,:] = (inp1.TEMP100M_T_.sel(time=slice(ld_mn1,ld_mn2))-np.nanmean(inp1.TEMP100M_T_,0))/np.nanstd(inp1.TEMP100M_T_,0)\n"
     ]
    },
    {
     "name": "stdout",
     "output_type": "stream",
     "text": [
      "Using cpu device\n",
      "tensor([[-0.7577],\n",
      "        [-0.6546],\n",
      "        [ 0.1982]])\n",
      "/scratch/BENGUP/ML/DL_BN/Predictions/Web_V1.0/output/bn_1month_10_TEMPBNi_beng/C30H30/EN4/result.gdat\n",
      "Validation Done\n"
     ]
    },
    {
     "name": "stderr",
     "output_type": "stream",
     "text": [
      "/scratch/BENGUP/ML/DL_BN/Predictions/Web_V1.0/output/bn_1month_10_TEMPBNi_beng/src/bn.predictions_new.py:48: RuntimeWarning: Mean of empty slice\n",
      "  inpv1[i,0:3,:,:] = (inp1.SST_T_.sel(time=slice(ld_mn1,ld_mn2))-np.nanmean(inp1.SST_T_,0))/np.nanstd(inp1.SST_T_,0)\n",
      "/home/nay021/Software/anaconda3/lib/python3.8/site-packages/numpy/lib/nanfunctions.py:1664: RuntimeWarning: Degrees of freedom <= 0 for slice.\n",
      "  var = nanvar(a, axis=axis, dtype=dtype, out=out, ddof=ddof,\n",
      "/scratch/BENGUP/ML/DL_BN/Predictions/Web_V1.0/output/bn_1month_10_TEMPBNi_beng/src/bn.predictions_new.py:49: RuntimeWarning: Mean of empty slice\n",
      "  inpv1[i,3:6,:,:] = (inp1.TEMP100M_T_.sel(time=slice(ld_mn1,ld_mn2))-np.nanmean(inp1.TEMP100M_T_,0))/np.nanstd(inp1.TEMP100M_T_,0)\n",
      "/scratch/BENGUP/ML/DL_BN/Predictions/Web_V1.0/output/bn_1month_10_TEMPBNi_beng/src/bn.predictions_new.py:48: RuntimeWarning: Mean of empty slice\n",
      "  inpv1[i,0:3,:,:] = (inp1.SST_T_.sel(time=slice(ld_mn1,ld_mn2))-np.nanmean(inp1.SST_T_,0))/np.nanstd(inp1.SST_T_,0)\n",
      "/home/nay021/Software/anaconda3/lib/python3.8/site-packages/numpy/lib/nanfunctions.py:1664: RuntimeWarning: Degrees of freedom <= 0 for slice.\n",
      "  var = nanvar(a, axis=axis, dtype=dtype, out=out, ddof=ddof,\n",
      "/scratch/BENGUP/ML/DL_BN/Predictions/Web_V1.0/output/bn_1month_10_TEMPBNi_beng/src/bn.predictions_new.py:49: RuntimeWarning: Mean of empty slice\n",
      "  inpv1[i,3:6,:,:] = (inp1.TEMP100M_T_.sel(time=slice(ld_mn1,ld_mn2))-np.nanmean(inp1.TEMP100M_T_,0))/np.nanstd(inp1.TEMP100M_T_,0)\n"
     ]
    },
    {
     "name": "stdout",
     "output_type": "stream",
     "text": [
      "Using cpu device\n",
      "tensor([[-0.7119],\n",
      "        [-0.1313],\n",
      "        [ 0.4600]])\n",
      "/scratch/BENGUP/ML/DL_BN/Predictions/Web_V1.0/output/bn_1month_10_TEMPBNi_beng/C30H30/EN5/result.gdat\n",
      "Validation Done\n",
      "bn_1month_11_TEMPBNi_beng\n",
      "Using cpu device\n",
      "tensor([[-0.2103],\n",
      "        [-0.6054],\n",
      "        [ 0.3759]])\n",
      "/scratch/BENGUP/ML/DL_BN/Predictions/Web_V1.0/output/bn_1month_11_TEMPBNi_beng/C30H30/EN1/result.gdat\n",
      "Validation Done\n"
     ]
    },
    {
     "name": "stderr",
     "output_type": "stream",
     "text": [
      "/scratch/BENGUP/ML/DL_BN/Predictions/Web_V1.0/output/bn_1month_11_TEMPBNi_beng/src/bn.predictions_new.py:48: RuntimeWarning: Mean of empty slice\n",
      "  inpv1[i,0:3,:,:] = (inp1.SST_T_.sel(time=slice(ld_mn1,ld_mn2))-np.nanmean(inp1.SST_T_,0))/np.nanstd(inp1.SST_T_,0)\n",
      "/home/nay021/Software/anaconda3/lib/python3.8/site-packages/numpy/lib/nanfunctions.py:1664: RuntimeWarning: Degrees of freedom <= 0 for slice.\n",
      "  var = nanvar(a, axis=axis, dtype=dtype, out=out, ddof=ddof,\n",
      "/scratch/BENGUP/ML/DL_BN/Predictions/Web_V1.0/output/bn_1month_11_TEMPBNi_beng/src/bn.predictions_new.py:49: RuntimeWarning: Mean of empty slice\n",
      "  inpv1[i,3:6,:,:] = (inp1.TEMP100M_T_.sel(time=slice(ld_mn1,ld_mn2))-np.nanmean(inp1.TEMP100M_T_,0))/np.nanstd(inp1.TEMP100M_T_,0)\n",
      "/scratch/BENGUP/ML/DL_BN/Predictions/Web_V1.0/output/bn_1month_11_TEMPBNi_beng/src/bn.predictions_new.py:48: RuntimeWarning: Mean of empty slice\n",
      "  inpv1[i,0:3,:,:] = (inp1.SST_T_.sel(time=slice(ld_mn1,ld_mn2))-np.nanmean(inp1.SST_T_,0))/np.nanstd(inp1.SST_T_,0)\n",
      "/home/nay021/Software/anaconda3/lib/python3.8/site-packages/numpy/lib/nanfunctions.py:1664: RuntimeWarning: Degrees of freedom <= 0 for slice.\n",
      "  var = nanvar(a, axis=axis, dtype=dtype, out=out, ddof=ddof,\n",
      "/scratch/BENGUP/ML/DL_BN/Predictions/Web_V1.0/output/bn_1month_11_TEMPBNi_beng/src/bn.predictions_new.py:49: RuntimeWarning: Mean of empty slice\n",
      "  inpv1[i,3:6,:,:] = (inp1.TEMP100M_T_.sel(time=slice(ld_mn1,ld_mn2))-np.nanmean(inp1.TEMP100M_T_,0))/np.nanstd(inp1.TEMP100M_T_,0)\n"
     ]
    },
    {
     "name": "stdout",
     "output_type": "stream",
     "text": [
      "Using cpu device\n",
      "tensor([[-0.2869],\n",
      "        [-0.3184],\n",
      "        [ 0.6583]])\n",
      "/scratch/BENGUP/ML/DL_BN/Predictions/Web_V1.0/output/bn_1month_11_TEMPBNi_beng/C30H30/EN2/result.gdat\n",
      "Validation Done\n"
     ]
    },
    {
     "name": "stderr",
     "output_type": "stream",
     "text": [
      "/scratch/BENGUP/ML/DL_BN/Predictions/Web_V1.0/output/bn_1month_11_TEMPBNi_beng/src/bn.predictions_new.py:48: RuntimeWarning: Mean of empty slice\n",
      "  inpv1[i,0:3,:,:] = (inp1.SST_T_.sel(time=slice(ld_mn1,ld_mn2))-np.nanmean(inp1.SST_T_,0))/np.nanstd(inp1.SST_T_,0)\n",
      "/home/nay021/Software/anaconda3/lib/python3.8/site-packages/numpy/lib/nanfunctions.py:1664: RuntimeWarning: Degrees of freedom <= 0 for slice.\n",
      "  var = nanvar(a, axis=axis, dtype=dtype, out=out, ddof=ddof,\n",
      "/scratch/BENGUP/ML/DL_BN/Predictions/Web_V1.0/output/bn_1month_11_TEMPBNi_beng/src/bn.predictions_new.py:49: RuntimeWarning: Mean of empty slice\n",
      "  inpv1[i,3:6,:,:] = (inp1.TEMP100M_T_.sel(time=slice(ld_mn1,ld_mn2))-np.nanmean(inp1.TEMP100M_T_,0))/np.nanstd(inp1.TEMP100M_T_,0)\n"
     ]
    },
    {
     "name": "stdout",
     "output_type": "stream",
     "text": [
      "Using cpu device\n",
      "tensor([[-0.3246],\n",
      "        [-0.7747],\n",
      "        [ 0.2987]])\n",
      "/scratch/BENGUP/ML/DL_BN/Predictions/Web_V1.0/output/bn_1month_11_TEMPBNi_beng/C30H30/EN3/result.gdat\n",
      "Validation Done\n",
      "Using cpu device\n",
      "tensor([[-0.2154],\n",
      "        [-0.6389],\n",
      "        [ 0.4392]])\n",
      "/scratch/BENGUP/ML/DL_BN/Predictions/Web_V1.0/output/bn_1month_11_TEMPBNi_beng/C30H30/EN4/result.gdat\n",
      "Validation Done\n"
     ]
    },
    {
     "name": "stderr",
     "output_type": "stream",
     "text": [
      "/scratch/BENGUP/ML/DL_BN/Predictions/Web_V1.0/output/bn_1month_11_TEMPBNi_beng/src/bn.predictions_new.py:48: RuntimeWarning: Mean of empty slice\n",
      "  inpv1[i,0:3,:,:] = (inp1.SST_T_.sel(time=slice(ld_mn1,ld_mn2))-np.nanmean(inp1.SST_T_,0))/np.nanstd(inp1.SST_T_,0)\n",
      "/home/nay021/Software/anaconda3/lib/python3.8/site-packages/numpy/lib/nanfunctions.py:1664: RuntimeWarning: Degrees of freedom <= 0 for slice.\n",
      "  var = nanvar(a, axis=axis, dtype=dtype, out=out, ddof=ddof,\n",
      "/scratch/BENGUP/ML/DL_BN/Predictions/Web_V1.0/output/bn_1month_11_TEMPBNi_beng/src/bn.predictions_new.py:49: RuntimeWarning: Mean of empty slice\n",
      "  inpv1[i,3:6,:,:] = (inp1.TEMP100M_T_.sel(time=slice(ld_mn1,ld_mn2))-np.nanmean(inp1.TEMP100M_T_,0))/np.nanstd(inp1.TEMP100M_T_,0)\n"
     ]
    },
    {
     "name": "stdout",
     "output_type": "stream",
     "text": [
      "Using cpu device\n",
      "tensor([[-0.4798],\n",
      "        [-0.8170],\n",
      "        [ 0.3960]])\n",
      "/scratch/BENGUP/ML/DL_BN/Predictions/Web_V1.0/output/bn_1month_11_TEMPBNi_beng/C30H30/EN5/result.gdat\n",
      "Validation Done\n"
     ]
    },
    {
     "name": "stderr",
     "output_type": "stream",
     "text": [
      "/scratch/BENGUP/ML/DL_BN/Predictions/Web_V1.0/output/bn_1month_11_TEMPBNi_beng/src/bn.predictions_new.py:48: RuntimeWarning: Mean of empty slice\n",
      "  inpv1[i,0:3,:,:] = (inp1.SST_T_.sel(time=slice(ld_mn1,ld_mn2))-np.nanmean(inp1.SST_T_,0))/np.nanstd(inp1.SST_T_,0)\n",
      "/home/nay021/Software/anaconda3/lib/python3.8/site-packages/numpy/lib/nanfunctions.py:1664: RuntimeWarning: Degrees of freedom <= 0 for slice.\n",
      "  var = nanvar(a, axis=axis, dtype=dtype, out=out, ddof=ddof,\n",
      "/scratch/BENGUP/ML/DL_BN/Predictions/Web_V1.0/output/bn_1month_11_TEMPBNi_beng/src/bn.predictions_new.py:49: RuntimeWarning: Mean of empty slice\n",
      "  inpv1[i,3:6,:,:] = (inp1.TEMP100M_T_.sel(time=slice(ld_mn1,ld_mn2))-np.nanmean(inp1.TEMP100M_T_,0))/np.nanstd(inp1.TEMP100M_T_,0)\n"
     ]
    },
    {
     "name": "stdout",
     "output_type": "stream",
     "text": [
      "bn_1month_12_TEMPBNi_beng\n",
      "Using cpu device\n",
      "tensor([[-0.6360],\n",
      "        [-0.4661],\n",
      "        [ 0.2147]])\n",
      "/scratch/BENGUP/ML/DL_BN/Predictions/Web_V1.0/output/bn_1month_12_TEMPBNi_beng/C30H30/EN1/result.gdat\n",
      "Validation Done\n"
     ]
    },
    {
     "name": "stderr",
     "output_type": "stream",
     "text": [
      "/scratch/BENGUP/ML/DL_BN/Predictions/Web_V1.0/output/bn_1month_12_TEMPBNi_beng/src/bn.predictions_new.py:48: RuntimeWarning: Mean of empty slice\n",
      "  inpv1[i,0:3,:,:] = (inp1.SST_T_.sel(time=slice(ld_mn1,ld_mn2))-np.nanmean(inp1.SST_T_,0))/np.nanstd(inp1.SST_T_,0)\n",
      "/home/nay021/Software/anaconda3/lib/python3.8/site-packages/numpy/lib/nanfunctions.py:1664: RuntimeWarning: Degrees of freedom <= 0 for slice.\n",
      "  var = nanvar(a, axis=axis, dtype=dtype, out=out, ddof=ddof,\n",
      "/scratch/BENGUP/ML/DL_BN/Predictions/Web_V1.0/output/bn_1month_12_TEMPBNi_beng/src/bn.predictions_new.py:49: RuntimeWarning: Mean of empty slice\n",
      "  inpv1[i,3:6,:,:] = (inp1.TEMP100M_T_.sel(time=slice(ld_mn1,ld_mn2))-np.nanmean(inp1.TEMP100M_T_,0))/np.nanstd(inp1.TEMP100M_T_,0)\n",
      "/scratch/BENGUP/ML/DL_BN/Predictions/Web_V1.0/output/bn_1month_12_TEMPBNi_beng/src/bn.predictions_new.py:48: RuntimeWarning: Mean of empty slice\n",
      "  inpv1[i,0:3,:,:] = (inp1.SST_T_.sel(time=slice(ld_mn1,ld_mn2))-np.nanmean(inp1.SST_T_,0))/np.nanstd(inp1.SST_T_,0)\n",
      "/home/nay021/Software/anaconda3/lib/python3.8/site-packages/numpy/lib/nanfunctions.py:1664: RuntimeWarning: Degrees of freedom <= 0 for slice.\n",
      "  var = nanvar(a, axis=axis, dtype=dtype, out=out, ddof=ddof,\n",
      "/scratch/BENGUP/ML/DL_BN/Predictions/Web_V1.0/output/bn_1month_12_TEMPBNi_beng/src/bn.predictions_new.py:49: RuntimeWarning: Mean of empty slice\n",
      "  inpv1[i,3:6,:,:] = (inp1.TEMP100M_T_.sel(time=slice(ld_mn1,ld_mn2))-np.nanmean(inp1.TEMP100M_T_,0))/np.nanstd(inp1.TEMP100M_T_,0)\n"
     ]
    },
    {
     "name": "stdout",
     "output_type": "stream",
     "text": [
      "Using cpu device\n",
      "tensor([[-0.6365],\n",
      "        [-0.6401],\n",
      "        [ 0.2043]])\n",
      "/scratch/BENGUP/ML/DL_BN/Predictions/Web_V1.0/output/bn_1month_12_TEMPBNi_beng/C30H30/EN2/result.gdat\n",
      "Validation Done\n"
     ]
    },
    {
     "name": "stderr",
     "output_type": "stream",
     "text": [
      "/scratch/BENGUP/ML/DL_BN/Predictions/Web_V1.0/output/bn_1month_12_TEMPBNi_beng/src/bn.predictions_new.py:48: RuntimeWarning: Mean of empty slice\n",
      "  inpv1[i,0:3,:,:] = (inp1.SST_T_.sel(time=slice(ld_mn1,ld_mn2))-np.nanmean(inp1.SST_T_,0))/np.nanstd(inp1.SST_T_,0)\n",
      "/home/nay021/Software/anaconda3/lib/python3.8/site-packages/numpy/lib/nanfunctions.py:1664: RuntimeWarning: Degrees of freedom <= 0 for slice.\n",
      "  var = nanvar(a, axis=axis, dtype=dtype, out=out, ddof=ddof,\n",
      "/scratch/BENGUP/ML/DL_BN/Predictions/Web_V1.0/output/bn_1month_12_TEMPBNi_beng/src/bn.predictions_new.py:49: RuntimeWarning: Mean of empty slice\n",
      "  inpv1[i,3:6,:,:] = (inp1.TEMP100M_T_.sel(time=slice(ld_mn1,ld_mn2))-np.nanmean(inp1.TEMP100M_T_,0))/np.nanstd(inp1.TEMP100M_T_,0)\n"
     ]
    },
    {
     "name": "stdout",
     "output_type": "stream",
     "text": [
      "Using cpu device\n",
      "tensor([[-0.5904],\n",
      "        [-0.7605],\n",
      "        [-0.1239]])\n",
      "/scratch/BENGUP/ML/DL_BN/Predictions/Web_V1.0/output/bn_1month_12_TEMPBNi_beng/C30H30/EN3/result.gdat\n",
      "Validation Done\n"
     ]
    },
    {
     "name": "stderr",
     "output_type": "stream",
     "text": [
      "/scratch/BENGUP/ML/DL_BN/Predictions/Web_V1.0/output/bn_1month_12_TEMPBNi_beng/src/bn.predictions_new.py:48: RuntimeWarning: Mean of empty slice\n",
      "  inpv1[i,0:3,:,:] = (inp1.SST_T_.sel(time=slice(ld_mn1,ld_mn2))-np.nanmean(inp1.SST_T_,0))/np.nanstd(inp1.SST_T_,0)\n",
      "/home/nay021/Software/anaconda3/lib/python3.8/site-packages/numpy/lib/nanfunctions.py:1664: RuntimeWarning: Degrees of freedom <= 0 for slice.\n",
      "  var = nanvar(a, axis=axis, dtype=dtype, out=out, ddof=ddof,\n",
      "/scratch/BENGUP/ML/DL_BN/Predictions/Web_V1.0/output/bn_1month_12_TEMPBNi_beng/src/bn.predictions_new.py:49: RuntimeWarning: Mean of empty slice\n",
      "  inpv1[i,3:6,:,:] = (inp1.TEMP100M_T_.sel(time=slice(ld_mn1,ld_mn2))-np.nanmean(inp1.TEMP100M_T_,0))/np.nanstd(inp1.TEMP100M_T_,0)\n"
     ]
    },
    {
     "name": "stdout",
     "output_type": "stream",
     "text": [
      "Using cpu device\n",
      "tensor([[-0.4847],\n",
      "        [-0.5375],\n",
      "        [ 0.2124]])\n",
      "/scratch/BENGUP/ML/DL_BN/Predictions/Web_V1.0/output/bn_1month_12_TEMPBNi_beng/C30H30/EN4/result.gdat\n",
      "Validation Done\n"
     ]
    },
    {
     "name": "stderr",
     "output_type": "stream",
     "text": [
      "/scratch/BENGUP/ML/DL_BN/Predictions/Web_V1.0/output/bn_1month_12_TEMPBNi_beng/src/bn.predictions_new.py:48: RuntimeWarning: Mean of empty slice\n",
      "  inpv1[i,0:3,:,:] = (inp1.SST_T_.sel(time=slice(ld_mn1,ld_mn2))-np.nanmean(inp1.SST_T_,0))/np.nanstd(inp1.SST_T_,0)\n",
      "/home/nay021/Software/anaconda3/lib/python3.8/site-packages/numpy/lib/nanfunctions.py:1664: RuntimeWarning: Degrees of freedom <= 0 for slice.\n",
      "  var = nanvar(a, axis=axis, dtype=dtype, out=out, ddof=ddof,\n",
      "/scratch/BENGUP/ML/DL_BN/Predictions/Web_V1.0/output/bn_1month_12_TEMPBNi_beng/src/bn.predictions_new.py:49: RuntimeWarning: Mean of empty slice\n",
      "  inpv1[i,3:6,:,:] = (inp1.TEMP100M_T_.sel(time=slice(ld_mn1,ld_mn2))-np.nanmean(inp1.TEMP100M_T_,0))/np.nanstd(inp1.TEMP100M_T_,0)\n"
     ]
    },
    {
     "name": "stdout",
     "output_type": "stream",
     "text": [
      "Using cpu device\n",
      "tensor([[-0.6640],\n",
      "        [-0.7115],\n",
      "        [ 0.1159]])\n",
      "/scratch/BENGUP/ML/DL_BN/Predictions/Web_V1.0/output/bn_1month_12_TEMPBNi_beng/C30H30/EN5/result.gdat\n",
      "Validation Done\n",
      "bn_2month_1_TEMPBNi_beng\n",
      "Using cpu device\n",
      "tensor([[ 0.6842],\n",
      "        [-0.7913],\n",
      "        [-0.1020],\n",
      "        [-0.0309]])\n",
      "/scratch/BENGUP/ML/DL_BN/Predictions/Web_V1.0/output/bn_2month_1_TEMPBNi_beng/C30H30/EN1/result.gdat\n",
      "Validation Done\n"
     ]
    },
    {
     "name": "stderr",
     "output_type": "stream",
     "text": [
      "/scratch/BENGUP/ML/DL_BN/Predictions/Web_V1.0/output/bn_2month_1_TEMPBNi_beng/src/bn.predictions_new.py:48: RuntimeWarning: Mean of empty slice\n",
      "  inpv1[i,0:3,:,:] = (inp1.SST_T_.sel(time=slice(ld_mn1,ld_mn2))-np.nanmean(inp1.SST_T_,0))/np.nanstd(inp1.SST_T_,0)\n",
      "/home/nay021/Software/anaconda3/lib/python3.8/site-packages/numpy/lib/nanfunctions.py:1664: RuntimeWarning: Degrees of freedom <= 0 for slice.\n",
      "  var = nanvar(a, axis=axis, dtype=dtype, out=out, ddof=ddof,\n",
      "/scratch/BENGUP/ML/DL_BN/Predictions/Web_V1.0/output/bn_2month_1_TEMPBNi_beng/src/bn.predictions_new.py:49: RuntimeWarning: Mean of empty slice\n",
      "  inpv1[i,3:6,:,:] = (inp1.TEMP100M_T_.sel(time=slice(ld_mn1,ld_mn2))-np.nanmean(inp1.TEMP100M_T_,0))/np.nanstd(inp1.TEMP100M_T_,0)\n",
      "/scratch/BENGUP/ML/DL_BN/Predictions/Web_V1.0/output/bn_2month_1_TEMPBNi_beng/src/bn.predictions_new.py:48: RuntimeWarning: Mean of empty slice\n",
      "  inpv1[i,0:3,:,:] = (inp1.SST_T_.sel(time=slice(ld_mn1,ld_mn2))-np.nanmean(inp1.SST_T_,0))/np.nanstd(inp1.SST_T_,0)\n",
      "/home/nay021/Software/anaconda3/lib/python3.8/site-packages/numpy/lib/nanfunctions.py:1664: RuntimeWarning: Degrees of freedom <= 0 for slice.\n",
      "  var = nanvar(a, axis=axis, dtype=dtype, out=out, ddof=ddof,\n",
      "/scratch/BENGUP/ML/DL_BN/Predictions/Web_V1.0/output/bn_2month_1_TEMPBNi_beng/src/bn.predictions_new.py:49: RuntimeWarning: Mean of empty slice\n",
      "  inpv1[i,3:6,:,:] = (inp1.TEMP100M_T_.sel(time=slice(ld_mn1,ld_mn2))-np.nanmean(inp1.TEMP100M_T_,0))/np.nanstd(inp1.TEMP100M_T_,0)\n"
     ]
    },
    {
     "name": "stdout",
     "output_type": "stream",
     "text": [
      "Using cpu device\n",
      "tensor([[ 0.9470],\n",
      "        [-0.7867],\n",
      "        [-0.7407],\n",
      "        [-0.0128]])\n",
      "/scratch/BENGUP/ML/DL_BN/Predictions/Web_V1.0/output/bn_2month_1_TEMPBNi_beng/C30H30/EN2/result.gdat\n",
      "Validation Done\n",
      "Using cpu device\n",
      "tensor([[ 0.9026],\n",
      "        [-0.6500],\n",
      "        [-0.5050],\n",
      "        [-0.1011]])\n",
      "/scratch/BENGUP/ML/DL_BN/Predictions/Web_V1.0/output/bn_2month_1_TEMPBNi_beng/C30H30/EN3/result.gdat\n",
      "Validation Done\n"
     ]
    },
    {
     "name": "stderr",
     "output_type": "stream",
     "text": [
      "/scratch/BENGUP/ML/DL_BN/Predictions/Web_V1.0/output/bn_2month_1_TEMPBNi_beng/src/bn.predictions_new.py:48: RuntimeWarning: Mean of empty slice\n",
      "  inpv1[i,0:3,:,:] = (inp1.SST_T_.sel(time=slice(ld_mn1,ld_mn2))-np.nanmean(inp1.SST_T_,0))/np.nanstd(inp1.SST_T_,0)\n",
      "/home/nay021/Software/anaconda3/lib/python3.8/site-packages/numpy/lib/nanfunctions.py:1664: RuntimeWarning: Degrees of freedom <= 0 for slice.\n",
      "  var = nanvar(a, axis=axis, dtype=dtype, out=out, ddof=ddof,\n",
      "/scratch/BENGUP/ML/DL_BN/Predictions/Web_V1.0/output/bn_2month_1_TEMPBNi_beng/src/bn.predictions_new.py:49: RuntimeWarning: Mean of empty slice\n",
      "  inpv1[i,3:6,:,:] = (inp1.TEMP100M_T_.sel(time=slice(ld_mn1,ld_mn2))-np.nanmean(inp1.TEMP100M_T_,0))/np.nanstd(inp1.TEMP100M_T_,0)\n"
     ]
    },
    {
     "name": "stdout",
     "output_type": "stream",
     "text": [
      "Using cpu device\n",
      "tensor([[ 1.0691],\n",
      "        [-0.3394],\n",
      "        [-0.7572],\n",
      "        [ 0.0686]])\n",
      "/scratch/BENGUP/ML/DL_BN/Predictions/Web_V1.0/output/bn_2month_1_TEMPBNi_beng/C30H30/EN4/result.gdat\n",
      "Validation Done\n"
     ]
    },
    {
     "name": "stderr",
     "output_type": "stream",
     "text": [
      "/scratch/BENGUP/ML/DL_BN/Predictions/Web_V1.0/output/bn_2month_1_TEMPBNi_beng/src/bn.predictions_new.py:48: RuntimeWarning: Mean of empty slice\n",
      "  inpv1[i,0:3,:,:] = (inp1.SST_T_.sel(time=slice(ld_mn1,ld_mn2))-np.nanmean(inp1.SST_T_,0))/np.nanstd(inp1.SST_T_,0)\n",
      "/home/nay021/Software/anaconda3/lib/python3.8/site-packages/numpy/lib/nanfunctions.py:1664: RuntimeWarning: Degrees of freedom <= 0 for slice.\n",
      "  var = nanvar(a, axis=axis, dtype=dtype, out=out, ddof=ddof,\n",
      "/scratch/BENGUP/ML/DL_BN/Predictions/Web_V1.0/output/bn_2month_1_TEMPBNi_beng/src/bn.predictions_new.py:49: RuntimeWarning: Mean of empty slice\n",
      "  inpv1[i,3:6,:,:] = (inp1.TEMP100M_T_.sel(time=slice(ld_mn1,ld_mn2))-np.nanmean(inp1.TEMP100M_T_,0))/np.nanstd(inp1.TEMP100M_T_,0)\n",
      "/scratch/BENGUP/ML/DL_BN/Predictions/Web_V1.0/output/bn_2month_1_TEMPBNi_beng/src/bn.predictions_new.py:48: RuntimeWarning: Mean of empty slice\n",
      "  inpv1[i,0:3,:,:] = (inp1.SST_T_.sel(time=slice(ld_mn1,ld_mn2))-np.nanmean(inp1.SST_T_,0))/np.nanstd(inp1.SST_T_,0)\n",
      "/home/nay021/Software/anaconda3/lib/python3.8/site-packages/numpy/lib/nanfunctions.py:1664: RuntimeWarning: Degrees of freedom <= 0 for slice.\n",
      "  var = nanvar(a, axis=axis, dtype=dtype, out=out, ddof=ddof,\n",
      "/scratch/BENGUP/ML/DL_BN/Predictions/Web_V1.0/output/bn_2month_1_TEMPBNi_beng/src/bn.predictions_new.py:49: RuntimeWarning: Mean of empty slice\n",
      "  inpv1[i,3:6,:,:] = (inp1.TEMP100M_T_.sel(time=slice(ld_mn1,ld_mn2))-np.nanmean(inp1.TEMP100M_T_,0))/np.nanstd(inp1.TEMP100M_T_,0)\n"
     ]
    },
    {
     "name": "stdout",
     "output_type": "stream",
     "text": [
      "Using cpu device\n",
      "tensor([[ 1.0481],\n",
      "        [-0.6851],\n",
      "        [-0.9586],\n",
      "        [-0.3263]])\n",
      "/scratch/BENGUP/ML/DL_BN/Predictions/Web_V1.0/output/bn_2month_1_TEMPBNi_beng/C30H30/EN5/result.gdat\n",
      "Validation Done\n",
      "bn_2month_2_TEMPBNi_beng\n"
     ]
    },
    {
     "name": "stderr",
     "output_type": "stream",
     "text": [
      "/scratch/BENGUP/ML/DL_BN/Predictions/Web_V1.0/output/bn_2month_2_TEMPBNi_beng/src/bn.predictions_new.py:48: RuntimeWarning: Mean of empty slice\n",
      "  inpv1[i,0:3,:,:] = (inp1.SST_T_.sel(time=slice(ld_mn1,ld_mn2))-np.nanmean(inp1.SST_T_,0))/np.nanstd(inp1.SST_T_,0)\n",
      "/home/nay021/Software/anaconda3/lib/python3.8/site-packages/numpy/lib/nanfunctions.py:1664: RuntimeWarning: Degrees of freedom <= 0 for slice.\n",
      "  var = nanvar(a, axis=axis, dtype=dtype, out=out, ddof=ddof,\n",
      "/scratch/BENGUP/ML/DL_BN/Predictions/Web_V1.0/output/bn_2month_2_TEMPBNi_beng/src/bn.predictions_new.py:49: RuntimeWarning: Mean of empty slice\n",
      "  inpv1[i,3:6,:,:] = (inp1.TEMP100M_T_.sel(time=slice(ld_mn1,ld_mn2))-np.nanmean(inp1.TEMP100M_T_,0))/np.nanstd(inp1.TEMP100M_T_,0)\n"
     ]
    },
    {
     "name": "stdout",
     "output_type": "stream",
     "text": [
      "Using cpu device\n",
      "tensor([[ 0.7365],\n",
      "        [-0.7798],\n",
      "        [-1.0281],\n",
      "        [ 0.5590]])\n",
      "/scratch/BENGUP/ML/DL_BN/Predictions/Web_V1.0/output/bn_2month_2_TEMPBNi_beng/C30H30/EN1/result.gdat\n",
      "Validation Done\n",
      "Using cpu device\n",
      "tensor([[ 0.5982],\n",
      "        [ 0.0761],\n",
      "        [-0.7052],\n",
      "        [ 0.5061]])\n",
      "/scratch/BENGUP/ML/DL_BN/Predictions/Web_V1.0/output/bn_2month_2_TEMPBNi_beng/C30H30/EN2/result.gdat\n",
      "Validation Done\n"
     ]
    },
    {
     "name": "stderr",
     "output_type": "stream",
     "text": [
      "/scratch/BENGUP/ML/DL_BN/Predictions/Web_V1.0/output/bn_2month_2_TEMPBNi_beng/src/bn.predictions_new.py:48: RuntimeWarning: Mean of empty slice\n",
      "  inpv1[i,0:3,:,:] = (inp1.SST_T_.sel(time=slice(ld_mn1,ld_mn2))-np.nanmean(inp1.SST_T_,0))/np.nanstd(inp1.SST_T_,0)\n",
      "/home/nay021/Software/anaconda3/lib/python3.8/site-packages/numpy/lib/nanfunctions.py:1664: RuntimeWarning: Degrees of freedom <= 0 for slice.\n",
      "  var = nanvar(a, axis=axis, dtype=dtype, out=out, ddof=ddof,\n",
      "/scratch/BENGUP/ML/DL_BN/Predictions/Web_V1.0/output/bn_2month_2_TEMPBNi_beng/src/bn.predictions_new.py:49: RuntimeWarning: Mean of empty slice\n",
      "  inpv1[i,3:6,:,:] = (inp1.TEMP100M_T_.sel(time=slice(ld_mn1,ld_mn2))-np.nanmean(inp1.TEMP100M_T_,0))/np.nanstd(inp1.TEMP100M_T_,0)\n",
      "/scratch/BENGUP/ML/DL_BN/Predictions/Web_V1.0/output/bn_2month_2_TEMPBNi_beng/src/bn.predictions_new.py:48: RuntimeWarning: Mean of empty slice\n",
      "  inpv1[i,0:3,:,:] = (inp1.SST_T_.sel(time=slice(ld_mn1,ld_mn2))-np.nanmean(inp1.SST_T_,0))/np.nanstd(inp1.SST_T_,0)\n",
      "/home/nay021/Software/anaconda3/lib/python3.8/site-packages/numpy/lib/nanfunctions.py:1664: RuntimeWarning: Degrees of freedom <= 0 for slice.\n",
      "  var = nanvar(a, axis=axis, dtype=dtype, out=out, ddof=ddof,\n",
      "/scratch/BENGUP/ML/DL_BN/Predictions/Web_V1.0/output/bn_2month_2_TEMPBNi_beng/src/bn.predictions_new.py:49: RuntimeWarning: Mean of empty slice\n",
      "  inpv1[i,3:6,:,:] = (inp1.TEMP100M_T_.sel(time=slice(ld_mn1,ld_mn2))-np.nanmean(inp1.TEMP100M_T_,0))/np.nanstd(inp1.TEMP100M_T_,0)\n"
     ]
    },
    {
     "name": "stdout",
     "output_type": "stream",
     "text": [
      "Using cpu device\n",
      "tensor([[ 0.3826],\n",
      "        [-0.2845],\n",
      "        [-1.3923],\n",
      "        [ 0.4496]])\n",
      "/scratch/BENGUP/ML/DL_BN/Predictions/Web_V1.0/output/bn_2month_2_TEMPBNi_beng/C30H30/EN3/result.gdat\n",
      "Validation Done\n",
      "Using cpu device\n",
      "tensor([[ 0.8444],\n",
      "        [-0.3849],\n",
      "        [-0.7946],\n",
      "        [ 0.2627]])\n",
      "/scratch/BENGUP/ML/DL_BN/Predictions/Web_V1.0/output/bn_2month_2_TEMPBNi_beng/C30H30/EN4/result.gdat\n",
      "Validation Done\n"
     ]
    },
    {
     "name": "stderr",
     "output_type": "stream",
     "text": [
      "/scratch/BENGUP/ML/DL_BN/Predictions/Web_V1.0/output/bn_2month_2_TEMPBNi_beng/src/bn.predictions_new.py:48: RuntimeWarning: Mean of empty slice\n",
      "  inpv1[i,0:3,:,:] = (inp1.SST_T_.sel(time=slice(ld_mn1,ld_mn2))-np.nanmean(inp1.SST_T_,0))/np.nanstd(inp1.SST_T_,0)\n",
      "/home/nay021/Software/anaconda3/lib/python3.8/site-packages/numpy/lib/nanfunctions.py:1664: RuntimeWarning: Degrees of freedom <= 0 for slice.\n",
      "  var = nanvar(a, axis=axis, dtype=dtype, out=out, ddof=ddof,\n",
      "/scratch/BENGUP/ML/DL_BN/Predictions/Web_V1.0/output/bn_2month_2_TEMPBNi_beng/src/bn.predictions_new.py:49: RuntimeWarning: Mean of empty slice\n",
      "  inpv1[i,3:6,:,:] = (inp1.TEMP100M_T_.sel(time=slice(ld_mn1,ld_mn2))-np.nanmean(inp1.TEMP100M_T_,0))/np.nanstd(inp1.TEMP100M_T_,0)\n",
      "/scratch/BENGUP/ML/DL_BN/Predictions/Web_V1.0/output/bn_2month_2_TEMPBNi_beng/src/bn.predictions_new.py:48: RuntimeWarning: Mean of empty slice\n",
      "  inpv1[i,0:3,:,:] = (inp1.SST_T_.sel(time=slice(ld_mn1,ld_mn2))-np.nanmean(inp1.SST_T_,0))/np.nanstd(inp1.SST_T_,0)\n",
      "/home/nay021/Software/anaconda3/lib/python3.8/site-packages/numpy/lib/nanfunctions.py:1664: RuntimeWarning: Degrees of freedom <= 0 for slice.\n",
      "  var = nanvar(a, axis=axis, dtype=dtype, out=out, ddof=ddof,\n",
      "/scratch/BENGUP/ML/DL_BN/Predictions/Web_V1.0/output/bn_2month_2_TEMPBNi_beng/src/bn.predictions_new.py:49: RuntimeWarning: Mean of empty slice\n",
      "  inpv1[i,3:6,:,:] = (inp1.TEMP100M_T_.sel(time=slice(ld_mn1,ld_mn2))-np.nanmean(inp1.TEMP100M_T_,0))/np.nanstd(inp1.TEMP100M_T_,0)\n"
     ]
    },
    {
     "name": "stdout",
     "output_type": "stream",
     "text": [
      "Using cpu device\n",
      "tensor([[ 0.5292],\n",
      "        [-0.2809],\n",
      "        [-1.2211],\n",
      "        [ 0.1883]])\n",
      "/scratch/BENGUP/ML/DL_BN/Predictions/Web_V1.0/output/bn_2month_2_TEMPBNi_beng/C30H30/EN5/result.gdat\n",
      "Validation Done\n",
      "bn_2month_3_TEMPBNi_beng\n"
     ]
    },
    {
     "name": "stderr",
     "output_type": "stream",
     "text": [
      "/scratch/BENGUP/ML/DL_BN/Predictions/Web_V1.0/output/bn_2month_3_TEMPBNi_beng/src/bn.predictions_new.py:48: RuntimeWarning: Mean of empty slice\n",
      "  inpv1[i,0:3,:,:] = (inp1.SST_T_.sel(time=slice(ld_mn1,ld_mn2))-np.nanmean(inp1.SST_T_,0))/np.nanstd(inp1.SST_T_,0)\n",
      "/home/nay021/Software/anaconda3/lib/python3.8/site-packages/numpy/lib/nanfunctions.py:1664: RuntimeWarning: Degrees of freedom <= 0 for slice.\n",
      "  var = nanvar(a, axis=axis, dtype=dtype, out=out, ddof=ddof,\n",
      "/scratch/BENGUP/ML/DL_BN/Predictions/Web_V1.0/output/bn_2month_3_TEMPBNi_beng/src/bn.predictions_new.py:49: RuntimeWarning: Mean of empty slice\n",
      "  inpv1[i,3:6,:,:] = (inp1.TEMP100M_T_.sel(time=slice(ld_mn1,ld_mn2))-np.nanmean(inp1.TEMP100M_T_,0))/np.nanstd(inp1.TEMP100M_T_,0)\n"
     ]
    },
    {
     "name": "stdout",
     "output_type": "stream",
     "text": [
      "Using cpu device\n",
      "tensor([[-0.5959],\n",
      "        [ 0.7711],\n",
      "        [-0.2665],\n",
      "        [ 0.0494]])\n",
      "/scratch/BENGUP/ML/DL_BN/Predictions/Web_V1.0/output/bn_2month_3_TEMPBNi_beng/C30H30/EN1/result.gdat\n",
      "Validation Done\n",
      "Using cpu device\n",
      "tensor([[-0.8272],\n",
      "        [-0.0826],\n",
      "        [-0.5338],\n",
      "        [-0.0743]])\n",
      "/scratch/BENGUP/ML/DL_BN/Predictions/Web_V1.0/output/bn_2month_3_TEMPBNi_beng/C30H30/EN2/result.gdat\n",
      "Validation Done\n"
     ]
    },
    {
     "name": "stderr",
     "output_type": "stream",
     "text": [
      "/scratch/BENGUP/ML/DL_BN/Predictions/Web_V1.0/output/bn_2month_3_TEMPBNi_beng/src/bn.predictions_new.py:48: RuntimeWarning: Mean of empty slice\n",
      "  inpv1[i,0:3,:,:] = (inp1.SST_T_.sel(time=slice(ld_mn1,ld_mn2))-np.nanmean(inp1.SST_T_,0))/np.nanstd(inp1.SST_T_,0)\n",
      "/home/nay021/Software/anaconda3/lib/python3.8/site-packages/numpy/lib/nanfunctions.py:1664: RuntimeWarning: Degrees of freedom <= 0 for slice.\n",
      "  var = nanvar(a, axis=axis, dtype=dtype, out=out, ddof=ddof,\n",
      "/scratch/BENGUP/ML/DL_BN/Predictions/Web_V1.0/output/bn_2month_3_TEMPBNi_beng/src/bn.predictions_new.py:49: RuntimeWarning: Mean of empty slice\n",
      "  inpv1[i,3:6,:,:] = (inp1.TEMP100M_T_.sel(time=slice(ld_mn1,ld_mn2))-np.nanmean(inp1.TEMP100M_T_,0))/np.nanstd(inp1.TEMP100M_T_,0)\n"
     ]
    },
    {
     "name": "stdout",
     "output_type": "stream",
     "text": [
      "Using cpu device\n",
      "tensor([[-0.3692],\n",
      "        [ 0.6516],\n",
      "        [-0.9044],\n",
      "        [ 0.0555]])\n",
      "/scratch/BENGUP/ML/DL_BN/Predictions/Web_V1.0/output/bn_2month_3_TEMPBNi_beng/C30H30/EN3/result.gdat\n",
      "Validation Done\n"
     ]
    },
    {
     "name": "stderr",
     "output_type": "stream",
     "text": [
      "/scratch/BENGUP/ML/DL_BN/Predictions/Web_V1.0/output/bn_2month_3_TEMPBNi_beng/src/bn.predictions_new.py:48: RuntimeWarning: Mean of empty slice\n",
      "  inpv1[i,0:3,:,:] = (inp1.SST_T_.sel(time=slice(ld_mn1,ld_mn2))-np.nanmean(inp1.SST_T_,0))/np.nanstd(inp1.SST_T_,0)\n",
      "/home/nay021/Software/anaconda3/lib/python3.8/site-packages/numpy/lib/nanfunctions.py:1664: RuntimeWarning: Degrees of freedom <= 0 for slice.\n",
      "  var = nanvar(a, axis=axis, dtype=dtype, out=out, ddof=ddof,\n",
      "/scratch/BENGUP/ML/DL_BN/Predictions/Web_V1.0/output/bn_2month_3_TEMPBNi_beng/src/bn.predictions_new.py:49: RuntimeWarning: Mean of empty slice\n",
      "  inpv1[i,3:6,:,:] = (inp1.TEMP100M_T_.sel(time=slice(ld_mn1,ld_mn2))-np.nanmean(inp1.TEMP100M_T_,0))/np.nanstd(inp1.TEMP100M_T_,0)\n",
      "/scratch/BENGUP/ML/DL_BN/Predictions/Web_V1.0/output/bn_2month_3_TEMPBNi_beng/src/bn.predictions_new.py:48: RuntimeWarning: Mean of empty slice\n",
      "  inpv1[i,0:3,:,:] = (inp1.SST_T_.sel(time=slice(ld_mn1,ld_mn2))-np.nanmean(inp1.SST_T_,0))/np.nanstd(inp1.SST_T_,0)\n",
      "/home/nay021/Software/anaconda3/lib/python3.8/site-packages/numpy/lib/nanfunctions.py:1664: RuntimeWarning: Degrees of freedom <= 0 for slice.\n",
      "  var = nanvar(a, axis=axis, dtype=dtype, out=out, ddof=ddof,\n",
      "/scratch/BENGUP/ML/DL_BN/Predictions/Web_V1.0/output/bn_2month_3_TEMPBNi_beng/src/bn.predictions_new.py:49: RuntimeWarning: Mean of empty slice\n",
      "  inpv1[i,3:6,:,:] = (inp1.TEMP100M_T_.sel(time=slice(ld_mn1,ld_mn2))-np.nanmean(inp1.TEMP100M_T_,0))/np.nanstd(inp1.TEMP100M_T_,0)\n"
     ]
    },
    {
     "name": "stdout",
     "output_type": "stream",
     "text": [
      "Using cpu device\n",
      "tensor([[-0.5144],\n",
      "        [ 0.3825],\n",
      "        [-0.2685],\n",
      "        [ 0.4251]])\n",
      "/scratch/BENGUP/ML/DL_BN/Predictions/Web_V1.0/output/bn_2month_3_TEMPBNi_beng/C30H30/EN4/result.gdat\n",
      "Validation Done\n",
      "Using cpu device\n",
      "tensor([[-0.6118],\n",
      "        [ 0.2202],\n",
      "        [-0.3059],\n",
      "        [-0.0817]])\n",
      "/scratch/BENGUP/ML/DL_BN/Predictions/Web_V1.0/output/bn_2month_3_TEMPBNi_beng/C30H30/EN5/result.gdat\n",
      "Validation Done\n"
     ]
    },
    {
     "name": "stderr",
     "output_type": "stream",
     "text": [
      "/scratch/BENGUP/ML/DL_BN/Predictions/Web_V1.0/output/bn_2month_3_TEMPBNi_beng/src/bn.predictions_new.py:48: RuntimeWarning: Mean of empty slice\n",
      "  inpv1[i,0:3,:,:] = (inp1.SST_T_.sel(time=slice(ld_mn1,ld_mn2))-np.nanmean(inp1.SST_T_,0))/np.nanstd(inp1.SST_T_,0)\n",
      "/home/nay021/Software/anaconda3/lib/python3.8/site-packages/numpy/lib/nanfunctions.py:1664: RuntimeWarning: Degrees of freedom <= 0 for slice.\n",
      "  var = nanvar(a, axis=axis, dtype=dtype, out=out, ddof=ddof,\n",
      "/scratch/BENGUP/ML/DL_BN/Predictions/Web_V1.0/output/bn_2month_3_TEMPBNi_beng/src/bn.predictions_new.py:49: RuntimeWarning: Mean of empty slice\n",
      "  inpv1[i,3:6,:,:] = (inp1.TEMP100M_T_.sel(time=slice(ld_mn1,ld_mn2))-np.nanmean(inp1.TEMP100M_T_,0))/np.nanstd(inp1.TEMP100M_T_,0)\n"
     ]
    },
    {
     "name": "stdout",
     "output_type": "stream",
     "text": [
      "bn_2month_4_TEMPBNi_beng\n",
      "Using cpu device\n",
      "tensor([[ 0.1726],\n",
      "        [-0.2602],\n",
      "        [-0.6466],\n",
      "        [ 0.4570]])\n",
      "/scratch/BENGUP/ML/DL_BN/Predictions/Web_V1.0/output/bn_2month_4_TEMPBNi_beng/C30H30/EN1/result.gdat\n",
      "Validation Done\n"
     ]
    },
    {
     "name": "stderr",
     "output_type": "stream",
     "text": [
      "/scratch/BENGUP/ML/DL_BN/Predictions/Web_V1.0/output/bn_2month_4_TEMPBNi_beng/src/bn.predictions_new.py:48: RuntimeWarning: Mean of empty slice\n",
      "  inpv1[i,0:3,:,:] = (inp1.SST_T_.sel(time=slice(ld_mn1,ld_mn2))-np.nanmean(inp1.SST_T_,0))/np.nanstd(inp1.SST_T_,0)\n",
      "/home/nay021/Software/anaconda3/lib/python3.8/site-packages/numpy/lib/nanfunctions.py:1664: RuntimeWarning: Degrees of freedom <= 0 for slice.\n",
      "  var = nanvar(a, axis=axis, dtype=dtype, out=out, ddof=ddof,\n",
      "/scratch/BENGUP/ML/DL_BN/Predictions/Web_V1.0/output/bn_2month_4_TEMPBNi_beng/src/bn.predictions_new.py:49: RuntimeWarning: Mean of empty slice\n",
      "  inpv1[i,3:6,:,:] = (inp1.TEMP100M_T_.sel(time=slice(ld_mn1,ld_mn2))-np.nanmean(inp1.TEMP100M_T_,0))/np.nanstd(inp1.TEMP100M_T_,0)\n"
     ]
    },
    {
     "name": "stdout",
     "output_type": "stream",
     "text": [
      "Using cpu device\n",
      "tensor([[-0.4736],\n",
      "        [ 0.2276],\n",
      "        [-0.2507],\n",
      "        [-0.0992]])\n",
      "/scratch/BENGUP/ML/DL_BN/Predictions/Web_V1.0/output/bn_2month_4_TEMPBNi_beng/C30H30/EN2/result.gdat\n",
      "Validation Done\n"
     ]
    },
    {
     "name": "stderr",
     "output_type": "stream",
     "text": [
      "/scratch/BENGUP/ML/DL_BN/Predictions/Web_V1.0/output/bn_2month_4_TEMPBNi_beng/src/bn.predictions_new.py:48: RuntimeWarning: Mean of empty slice\n",
      "  inpv1[i,0:3,:,:] = (inp1.SST_T_.sel(time=slice(ld_mn1,ld_mn2))-np.nanmean(inp1.SST_T_,0))/np.nanstd(inp1.SST_T_,0)\n",
      "/home/nay021/Software/anaconda3/lib/python3.8/site-packages/numpy/lib/nanfunctions.py:1664: RuntimeWarning: Degrees of freedom <= 0 for slice.\n",
      "  var = nanvar(a, axis=axis, dtype=dtype, out=out, ddof=ddof,\n",
      "/scratch/BENGUP/ML/DL_BN/Predictions/Web_V1.0/output/bn_2month_4_TEMPBNi_beng/src/bn.predictions_new.py:49: RuntimeWarning: Mean of empty slice\n",
      "  inpv1[i,3:6,:,:] = (inp1.TEMP100M_T_.sel(time=slice(ld_mn1,ld_mn2))-np.nanmean(inp1.TEMP100M_T_,0))/np.nanstd(inp1.TEMP100M_T_,0)\n"
     ]
    },
    {
     "name": "stdout",
     "output_type": "stream",
     "text": [
      "Using cpu device\n",
      "tensor([[-0.7408],\n",
      "        [-0.3143],\n",
      "        [-0.5698],\n",
      "        [ 0.5094]])\n",
      "/scratch/BENGUP/ML/DL_BN/Predictions/Web_V1.0/output/bn_2month_4_TEMPBNi_beng/C30H30/EN3/result.gdat\n",
      "Validation Done\n"
     ]
    },
    {
     "name": "stderr",
     "output_type": "stream",
     "text": [
      "/scratch/BENGUP/ML/DL_BN/Predictions/Web_V1.0/output/bn_2month_4_TEMPBNi_beng/src/bn.predictions_new.py:48: RuntimeWarning: Mean of empty slice\n",
      "  inpv1[i,0:3,:,:] = (inp1.SST_T_.sel(time=slice(ld_mn1,ld_mn2))-np.nanmean(inp1.SST_T_,0))/np.nanstd(inp1.SST_T_,0)\n",
      "/home/nay021/Software/anaconda3/lib/python3.8/site-packages/numpy/lib/nanfunctions.py:1664: RuntimeWarning: Degrees of freedom <= 0 for slice.\n",
      "  var = nanvar(a, axis=axis, dtype=dtype, out=out, ddof=ddof,\n",
      "/scratch/BENGUP/ML/DL_BN/Predictions/Web_V1.0/output/bn_2month_4_TEMPBNi_beng/src/bn.predictions_new.py:49: RuntimeWarning: Mean of empty slice\n",
      "  inpv1[i,3:6,:,:] = (inp1.TEMP100M_T_.sel(time=slice(ld_mn1,ld_mn2))-np.nanmean(inp1.TEMP100M_T_,0))/np.nanstd(inp1.TEMP100M_T_,0)\n"
     ]
    },
    {
     "name": "stdout",
     "output_type": "stream",
     "text": [
      "Using cpu device\n",
      "tensor([[-1.2979],\n",
      "        [-0.2079],\n",
      "        [-0.8043],\n",
      "        [-0.4121]])\n",
      "/scratch/BENGUP/ML/DL_BN/Predictions/Web_V1.0/output/bn_2month_4_TEMPBNi_beng/C30H30/EN4/result.gdat\n",
      "Validation Done\n"
     ]
    },
    {
     "name": "stderr",
     "output_type": "stream",
     "text": [
      "/scratch/BENGUP/ML/DL_BN/Predictions/Web_V1.0/output/bn_2month_4_TEMPBNi_beng/src/bn.predictions_new.py:48: RuntimeWarning: Mean of empty slice\n",
      "  inpv1[i,0:3,:,:] = (inp1.SST_T_.sel(time=slice(ld_mn1,ld_mn2))-np.nanmean(inp1.SST_T_,0))/np.nanstd(inp1.SST_T_,0)\n",
      "/home/nay021/Software/anaconda3/lib/python3.8/site-packages/numpy/lib/nanfunctions.py:1664: RuntimeWarning: Degrees of freedom <= 0 for slice.\n",
      "  var = nanvar(a, axis=axis, dtype=dtype, out=out, ddof=ddof,\n",
      "/scratch/BENGUP/ML/DL_BN/Predictions/Web_V1.0/output/bn_2month_4_TEMPBNi_beng/src/bn.predictions_new.py:49: RuntimeWarning: Mean of empty slice\n",
      "  inpv1[i,3:6,:,:] = (inp1.TEMP100M_T_.sel(time=slice(ld_mn1,ld_mn2))-np.nanmean(inp1.TEMP100M_T_,0))/np.nanstd(inp1.TEMP100M_T_,0)\n"
     ]
    },
    {
     "name": "stdout",
     "output_type": "stream",
     "text": [
      "Using cpu device\n",
      "tensor([[-0.0597],\n",
      "        [ 0.3738],\n",
      "        [-0.6647],\n",
      "        [ 0.7941]])\n",
      "/scratch/BENGUP/ML/DL_BN/Predictions/Web_V1.0/output/bn_2month_4_TEMPBNi_beng/C30H30/EN5/result.gdat\n",
      "Validation Done\n"
     ]
    },
    {
     "name": "stderr",
     "output_type": "stream",
     "text": [
      "/scratch/BENGUP/ML/DL_BN/Predictions/Web_V1.0/output/bn_2month_4_TEMPBNi_beng/src/bn.predictions_new.py:48: RuntimeWarning: Mean of empty slice\n",
      "  inpv1[i,0:3,:,:] = (inp1.SST_T_.sel(time=slice(ld_mn1,ld_mn2))-np.nanmean(inp1.SST_T_,0))/np.nanstd(inp1.SST_T_,0)\n",
      "/home/nay021/Software/anaconda3/lib/python3.8/site-packages/numpy/lib/nanfunctions.py:1664: RuntimeWarning: Degrees of freedom <= 0 for slice.\n",
      "  var = nanvar(a, axis=axis, dtype=dtype, out=out, ddof=ddof,\n",
      "/scratch/BENGUP/ML/DL_BN/Predictions/Web_V1.0/output/bn_2month_4_TEMPBNi_beng/src/bn.predictions_new.py:49: RuntimeWarning: Mean of empty slice\n",
      "  inpv1[i,3:6,:,:] = (inp1.TEMP100M_T_.sel(time=slice(ld_mn1,ld_mn2))-np.nanmean(inp1.TEMP100M_T_,0))/np.nanstd(inp1.TEMP100M_T_,0)\n"
     ]
    },
    {
     "name": "stdout",
     "output_type": "stream",
     "text": [
      "bn_2month_5_TEMPBNi_beng\n"
     ]
    },
    {
     "name": "stderr",
     "output_type": "stream",
     "text": [
      "/scratch/BENGUP/ML/DL_BN/Predictions/Web_V1.0/output/bn_2month_5_TEMPBNi_beng/src/bn.predictions_new.py:48: RuntimeWarning: Mean of empty slice\n",
      "  inpv1[i,0:3,:,:] = (inp1.SST_T_.sel(time=slice(ld_mn1,ld_mn2))-np.nanmean(inp1.SST_T_,0))/np.nanstd(inp1.SST_T_,0)\n",
      "/home/nay021/Software/anaconda3/lib/python3.8/site-packages/numpy/lib/nanfunctions.py:1664: RuntimeWarning: Degrees of freedom <= 0 for slice.\n",
      "  var = nanvar(a, axis=axis, dtype=dtype, out=out, ddof=ddof,\n",
      "/scratch/BENGUP/ML/DL_BN/Predictions/Web_V1.0/output/bn_2month_5_TEMPBNi_beng/src/bn.predictions_new.py:49: RuntimeWarning: Mean of empty slice\n",
      "  inpv1[i,3:6,:,:] = (inp1.TEMP100M_T_.sel(time=slice(ld_mn1,ld_mn2))-np.nanmean(inp1.TEMP100M_T_,0))/np.nanstd(inp1.TEMP100M_T_,0)\n"
     ]
    },
    {
     "name": "stdout",
     "output_type": "stream",
     "text": [
      "Using cpu device\n",
      "tensor([[-0.6408],\n",
      "        [-0.2269],\n",
      "        [-0.9439],\n",
      "        [ 1.3356]])\n",
      "/scratch/BENGUP/ML/DL_BN/Predictions/Web_V1.0/output/bn_2month_5_TEMPBNi_beng/C30H30/EN1/result.gdat\n",
      "Validation Done\n"
     ]
    },
    {
     "name": "stderr",
     "output_type": "stream",
     "text": [
      "/scratch/BENGUP/ML/DL_BN/Predictions/Web_V1.0/output/bn_2month_5_TEMPBNi_beng/src/bn.predictions_new.py:48: RuntimeWarning: Mean of empty slice\n",
      "  inpv1[i,0:3,:,:] = (inp1.SST_T_.sel(time=slice(ld_mn1,ld_mn2))-np.nanmean(inp1.SST_T_,0))/np.nanstd(inp1.SST_T_,0)\n",
      "/home/nay021/Software/anaconda3/lib/python3.8/site-packages/numpy/lib/nanfunctions.py:1664: RuntimeWarning: Degrees of freedom <= 0 for slice.\n",
      "  var = nanvar(a, axis=axis, dtype=dtype, out=out, ddof=ddof,\n",
      "/scratch/BENGUP/ML/DL_BN/Predictions/Web_V1.0/output/bn_2month_5_TEMPBNi_beng/src/bn.predictions_new.py:49: RuntimeWarning: Mean of empty slice\n",
      "  inpv1[i,3:6,:,:] = (inp1.TEMP100M_T_.sel(time=slice(ld_mn1,ld_mn2))-np.nanmean(inp1.TEMP100M_T_,0))/np.nanstd(inp1.TEMP100M_T_,0)\n"
     ]
    },
    {
     "name": "stdout",
     "output_type": "stream",
     "text": [
      "Using cpu device\n",
      "tensor([[-1.4718],\n",
      "        [-0.7379],\n",
      "        [-1.3405],\n",
      "        [ 1.0093]])\n",
      "/scratch/BENGUP/ML/DL_BN/Predictions/Web_V1.0/output/bn_2month_5_TEMPBNi_beng/C30H30/EN2/result.gdat\n",
      "Validation Done\n",
      "Using cpu device\n",
      "tensor([[-0.5288],\n",
      "        [-0.0955],\n",
      "        [-1.0738],\n",
      "        [ 1.5767]])\n",
      "/scratch/BENGUP/ML/DL_BN/Predictions/Web_V1.0/output/bn_2month_5_TEMPBNi_beng/C30H30/EN3/result.gdat\n",
      "Validation Done\n"
     ]
    },
    {
     "name": "stderr",
     "output_type": "stream",
     "text": [
      "/scratch/BENGUP/ML/DL_BN/Predictions/Web_V1.0/output/bn_2month_5_TEMPBNi_beng/src/bn.predictions_new.py:48: RuntimeWarning: Mean of empty slice\n",
      "  inpv1[i,0:3,:,:] = (inp1.SST_T_.sel(time=slice(ld_mn1,ld_mn2))-np.nanmean(inp1.SST_T_,0))/np.nanstd(inp1.SST_T_,0)\n",
      "/home/nay021/Software/anaconda3/lib/python3.8/site-packages/numpy/lib/nanfunctions.py:1664: RuntimeWarning: Degrees of freedom <= 0 for slice.\n",
      "  var = nanvar(a, axis=axis, dtype=dtype, out=out, ddof=ddof,\n",
      "/scratch/BENGUP/ML/DL_BN/Predictions/Web_V1.0/output/bn_2month_5_TEMPBNi_beng/src/bn.predictions_new.py:49: RuntimeWarning: Mean of empty slice\n",
      "  inpv1[i,3:6,:,:] = (inp1.TEMP100M_T_.sel(time=slice(ld_mn1,ld_mn2))-np.nanmean(inp1.TEMP100M_T_,0))/np.nanstd(inp1.TEMP100M_T_,0)\n",
      "/scratch/BENGUP/ML/DL_BN/Predictions/Web_V1.0/output/bn_2month_5_TEMPBNi_beng/src/bn.predictions_new.py:48: RuntimeWarning: Mean of empty slice\n",
      "  inpv1[i,0:3,:,:] = (inp1.SST_T_.sel(time=slice(ld_mn1,ld_mn2))-np.nanmean(inp1.SST_T_,0))/np.nanstd(inp1.SST_T_,0)\n",
      "/home/nay021/Software/anaconda3/lib/python3.8/site-packages/numpy/lib/nanfunctions.py:1664: RuntimeWarning: Degrees of freedom <= 0 for slice.\n",
      "  var = nanvar(a, axis=axis, dtype=dtype, out=out, ddof=ddof,\n",
      "/scratch/BENGUP/ML/DL_BN/Predictions/Web_V1.0/output/bn_2month_5_TEMPBNi_beng/src/bn.predictions_new.py:49: RuntimeWarning: Mean of empty slice\n",
      "  inpv1[i,3:6,:,:] = (inp1.TEMP100M_T_.sel(time=slice(ld_mn1,ld_mn2))-np.nanmean(inp1.TEMP100M_T_,0))/np.nanstd(inp1.TEMP100M_T_,0)\n"
     ]
    },
    {
     "name": "stdout",
     "output_type": "stream",
     "text": [
      "Using cpu device\n",
      "tensor([[-1.0016],\n",
      "        [-0.4978],\n",
      "        [-1.0033],\n",
      "        [ 0.4747]])\n",
      "/scratch/BENGUP/ML/DL_BN/Predictions/Web_V1.0/output/bn_2month_5_TEMPBNi_beng/C30H30/EN4/result.gdat\n",
      "Validation Done\n",
      "Using cpu device\n",
      "tensor([[-1.4319],\n",
      "        [-0.3972],\n",
      "        [ 0.2716],\n",
      "        [ 0.6600]])\n",
      "/scratch/BENGUP/ML/DL_BN/Predictions/Web_V1.0/output/bn_2month_5_TEMPBNi_beng/C30H30/EN5/result.gdat\n",
      "Validation Done\n"
     ]
    },
    {
     "name": "stderr",
     "output_type": "stream",
     "text": [
      "/scratch/BENGUP/ML/DL_BN/Predictions/Web_V1.0/output/bn_2month_5_TEMPBNi_beng/src/bn.predictions_new.py:48: RuntimeWarning: Mean of empty slice\n",
      "  inpv1[i,0:3,:,:] = (inp1.SST_T_.sel(time=slice(ld_mn1,ld_mn2))-np.nanmean(inp1.SST_T_,0))/np.nanstd(inp1.SST_T_,0)\n",
      "/home/nay021/Software/anaconda3/lib/python3.8/site-packages/numpy/lib/nanfunctions.py:1664: RuntimeWarning: Degrees of freedom <= 0 for slice.\n",
      "  var = nanvar(a, axis=axis, dtype=dtype, out=out, ddof=ddof,\n",
      "/scratch/BENGUP/ML/DL_BN/Predictions/Web_V1.0/output/bn_2month_5_TEMPBNi_beng/src/bn.predictions_new.py:49: RuntimeWarning: Mean of empty slice\n",
      "  inpv1[i,3:6,:,:] = (inp1.TEMP100M_T_.sel(time=slice(ld_mn1,ld_mn2))-np.nanmean(inp1.TEMP100M_T_,0))/np.nanstd(inp1.TEMP100M_T_,0)\n"
     ]
    },
    {
     "name": "stdout",
     "output_type": "stream",
     "text": [
      "bn_2month_6_TEMPBNi_beng\n",
      "Using cpu device\n",
      "tensor([[-0.6699],\n",
      "        [ 1.1805],\n",
      "        [-0.5950],\n",
      "        [ 0.9335]])\n",
      "/scratch/BENGUP/ML/DL_BN/Predictions/Web_V1.0/output/bn_2month_6_TEMPBNi_beng/C30H30/EN1/result.gdat\n",
      "Validation Done\n"
     ]
    },
    {
     "name": "stderr",
     "output_type": "stream",
     "text": [
      "/scratch/BENGUP/ML/DL_BN/Predictions/Web_V1.0/output/bn_2month_6_TEMPBNi_beng/src/bn.predictions_new.py:48: RuntimeWarning: Mean of empty slice\n",
      "  inpv1[i,0:3,:,:] = (inp1.SST_T_.sel(time=slice(ld_mn1,ld_mn2))-np.nanmean(inp1.SST_T_,0))/np.nanstd(inp1.SST_T_,0)\n",
      "/home/nay021/Software/anaconda3/lib/python3.8/site-packages/numpy/lib/nanfunctions.py:1664: RuntimeWarning: Degrees of freedom <= 0 for slice.\n",
      "  var = nanvar(a, axis=axis, dtype=dtype, out=out, ddof=ddof,\n",
      "/scratch/BENGUP/ML/DL_BN/Predictions/Web_V1.0/output/bn_2month_6_TEMPBNi_beng/src/bn.predictions_new.py:49: RuntimeWarning: Mean of empty slice\n",
      "  inpv1[i,3:6,:,:] = (inp1.TEMP100M_T_.sel(time=slice(ld_mn1,ld_mn2))-np.nanmean(inp1.TEMP100M_T_,0))/np.nanstd(inp1.TEMP100M_T_,0)\n"
     ]
    },
    {
     "name": "stdout",
     "output_type": "stream",
     "text": [
      "Using cpu device\n",
      "tensor([[-0.5835],\n",
      "        [ 1.4646],\n",
      "        [-0.4001],\n",
      "        [ 1.0970]])\n",
      "/scratch/BENGUP/ML/DL_BN/Predictions/Web_V1.0/output/bn_2month_6_TEMPBNi_beng/C30H30/EN2/result.gdat\n",
      "Validation Done\n"
     ]
    },
    {
     "name": "stderr",
     "output_type": "stream",
     "text": [
      "/scratch/BENGUP/ML/DL_BN/Predictions/Web_V1.0/output/bn_2month_6_TEMPBNi_beng/src/bn.predictions_new.py:48: RuntimeWarning: Mean of empty slice\n",
      "  inpv1[i,0:3,:,:] = (inp1.SST_T_.sel(time=slice(ld_mn1,ld_mn2))-np.nanmean(inp1.SST_T_,0))/np.nanstd(inp1.SST_T_,0)\n",
      "/home/nay021/Software/anaconda3/lib/python3.8/site-packages/numpy/lib/nanfunctions.py:1664: RuntimeWarning: Degrees of freedom <= 0 for slice.\n",
      "  var = nanvar(a, axis=axis, dtype=dtype, out=out, ddof=ddof,\n",
      "/scratch/BENGUP/ML/DL_BN/Predictions/Web_V1.0/output/bn_2month_6_TEMPBNi_beng/src/bn.predictions_new.py:49: RuntimeWarning: Mean of empty slice\n",
      "  inpv1[i,3:6,:,:] = (inp1.TEMP100M_T_.sel(time=slice(ld_mn1,ld_mn2))-np.nanmean(inp1.TEMP100M_T_,0))/np.nanstd(inp1.TEMP100M_T_,0)\n"
     ]
    },
    {
     "name": "stdout",
     "output_type": "stream",
     "text": [
      "Using cpu device\n",
      "tensor([[-0.4642],\n",
      "        [ 1.5132],\n",
      "        [-0.9457],\n",
      "        [ 0.6245]])\n",
      "/scratch/BENGUP/ML/DL_BN/Predictions/Web_V1.0/output/bn_2month_6_TEMPBNi_beng/C30H30/EN3/result.gdat\n",
      "Validation Done\n"
     ]
    },
    {
     "name": "stderr",
     "output_type": "stream",
     "text": [
      "/scratch/BENGUP/ML/DL_BN/Predictions/Web_V1.0/output/bn_2month_6_TEMPBNi_beng/src/bn.predictions_new.py:48: RuntimeWarning: Mean of empty slice\n",
      "  inpv1[i,0:3,:,:] = (inp1.SST_T_.sel(time=slice(ld_mn1,ld_mn2))-np.nanmean(inp1.SST_T_,0))/np.nanstd(inp1.SST_T_,0)\n",
      "/home/nay021/Software/anaconda3/lib/python3.8/site-packages/numpy/lib/nanfunctions.py:1664: RuntimeWarning: Degrees of freedom <= 0 for slice.\n",
      "  var = nanvar(a, axis=axis, dtype=dtype, out=out, ddof=ddof,\n",
      "/scratch/BENGUP/ML/DL_BN/Predictions/Web_V1.0/output/bn_2month_6_TEMPBNi_beng/src/bn.predictions_new.py:49: RuntimeWarning: Mean of empty slice\n",
      "  inpv1[i,3:6,:,:] = (inp1.TEMP100M_T_.sel(time=slice(ld_mn1,ld_mn2))-np.nanmean(inp1.TEMP100M_T_,0))/np.nanstd(inp1.TEMP100M_T_,0)\n",
      "/scratch/BENGUP/ML/DL_BN/Predictions/Web_V1.0/output/bn_2month_6_TEMPBNi_beng/src/bn.predictions_new.py:48: RuntimeWarning: Mean of empty slice\n",
      "  inpv1[i,0:3,:,:] = (inp1.SST_T_.sel(time=slice(ld_mn1,ld_mn2))-np.nanmean(inp1.SST_T_,0))/np.nanstd(inp1.SST_T_,0)\n",
      "/home/nay021/Software/anaconda3/lib/python3.8/site-packages/numpy/lib/nanfunctions.py:1664: RuntimeWarning: Degrees of freedom <= 0 for slice.\n",
      "  var = nanvar(a, axis=axis, dtype=dtype, out=out, ddof=ddof,\n",
      "/scratch/BENGUP/ML/DL_BN/Predictions/Web_V1.0/output/bn_2month_6_TEMPBNi_beng/src/bn.predictions_new.py:49: RuntimeWarning: Mean of empty slice\n",
      "  inpv1[i,3:6,:,:] = (inp1.TEMP100M_T_.sel(time=slice(ld_mn1,ld_mn2))-np.nanmean(inp1.TEMP100M_T_,0))/np.nanstd(inp1.TEMP100M_T_,0)\n"
     ]
    },
    {
     "name": "stdout",
     "output_type": "stream",
     "text": [
      "Using cpu device\n",
      "tensor([[-1.0121],\n",
      "        [ 1.2947],\n",
      "        [-1.0781],\n",
      "        [ 0.6510]])\n",
      "/scratch/BENGUP/ML/DL_BN/Predictions/Web_V1.0/output/bn_2month_6_TEMPBNi_beng/C30H30/EN4/result.gdat\n",
      "Validation Done\n"
     ]
    },
    {
     "name": "stderr",
     "output_type": "stream",
     "text": [
      "/scratch/BENGUP/ML/DL_BN/Predictions/Web_V1.0/output/bn_2month_6_TEMPBNi_beng/src/bn.predictions_new.py:48: RuntimeWarning: Mean of empty slice\n",
      "  inpv1[i,0:3,:,:] = (inp1.SST_T_.sel(time=slice(ld_mn1,ld_mn2))-np.nanmean(inp1.SST_T_,0))/np.nanstd(inp1.SST_T_,0)\n",
      "/home/nay021/Software/anaconda3/lib/python3.8/site-packages/numpy/lib/nanfunctions.py:1664: RuntimeWarning: Degrees of freedom <= 0 for slice.\n",
      "  var = nanvar(a, axis=axis, dtype=dtype, out=out, ddof=ddof,\n",
      "/scratch/BENGUP/ML/DL_BN/Predictions/Web_V1.0/output/bn_2month_6_TEMPBNi_beng/src/bn.predictions_new.py:49: RuntimeWarning: Mean of empty slice\n",
      "  inpv1[i,3:6,:,:] = (inp1.TEMP100M_T_.sel(time=slice(ld_mn1,ld_mn2))-np.nanmean(inp1.TEMP100M_T_,0))/np.nanstd(inp1.TEMP100M_T_,0)\n"
     ]
    },
    {
     "name": "stdout",
     "output_type": "stream",
     "text": [
      "Using cpu device\n",
      "tensor([[-1.0812],\n",
      "        [ 1.3979],\n",
      "        [-0.3414],\n",
      "        [ 0.6523]])\n",
      "/scratch/BENGUP/ML/DL_BN/Predictions/Web_V1.0/output/bn_2month_6_TEMPBNi_beng/C30H30/EN5/result.gdat\n",
      "Validation Done\n",
      "bn_2month_7_TEMPBNi_beng\n",
      "Using cpu device\n",
      "tensor([[ 0.2809],\n",
      "        [ 1.0121],\n",
      "        [-0.3463],\n",
      "        [ 0.2275]])\n",
      "/scratch/BENGUP/ML/DL_BN/Predictions/Web_V1.0/output/bn_2month_7_TEMPBNi_beng/C30H30/EN1/result.gdat\n",
      "Validation Done\n"
     ]
    },
    {
     "name": "stderr",
     "output_type": "stream",
     "text": [
      "/scratch/BENGUP/ML/DL_BN/Predictions/Web_V1.0/output/bn_2month_7_TEMPBNi_beng/src/bn.predictions_new.py:48: RuntimeWarning: Mean of empty slice\n",
      "  inpv1[i,0:3,:,:] = (inp1.SST_T_.sel(time=slice(ld_mn1,ld_mn2))-np.nanmean(inp1.SST_T_,0))/np.nanstd(inp1.SST_T_,0)\n",
      "/home/nay021/Software/anaconda3/lib/python3.8/site-packages/numpy/lib/nanfunctions.py:1664: RuntimeWarning: Degrees of freedom <= 0 for slice.\n",
      "  var = nanvar(a, axis=axis, dtype=dtype, out=out, ddof=ddof,\n",
      "/scratch/BENGUP/ML/DL_BN/Predictions/Web_V1.0/output/bn_2month_7_TEMPBNi_beng/src/bn.predictions_new.py:49: RuntimeWarning: Mean of empty slice\n",
      "  inpv1[i,3:6,:,:] = (inp1.TEMP100M_T_.sel(time=slice(ld_mn1,ld_mn2))-np.nanmean(inp1.TEMP100M_T_,0))/np.nanstd(inp1.TEMP100M_T_,0)\n",
      "/scratch/BENGUP/ML/DL_BN/Predictions/Web_V1.0/output/bn_2month_7_TEMPBNi_beng/src/bn.predictions_new.py:48: RuntimeWarning: Mean of empty slice\n",
      "  inpv1[i,0:3,:,:] = (inp1.SST_T_.sel(time=slice(ld_mn1,ld_mn2))-np.nanmean(inp1.SST_T_,0))/np.nanstd(inp1.SST_T_,0)\n",
      "/home/nay021/Software/anaconda3/lib/python3.8/site-packages/numpy/lib/nanfunctions.py:1664: RuntimeWarning: Degrees of freedom <= 0 for slice.\n",
      "  var = nanvar(a, axis=axis, dtype=dtype, out=out, ddof=ddof,\n",
      "/scratch/BENGUP/ML/DL_BN/Predictions/Web_V1.0/output/bn_2month_7_TEMPBNi_beng/src/bn.predictions_new.py:49: RuntimeWarning: Mean of empty slice\n",
      "  inpv1[i,3:6,:,:] = (inp1.TEMP100M_T_.sel(time=slice(ld_mn1,ld_mn2))-np.nanmean(inp1.TEMP100M_T_,0))/np.nanstd(inp1.TEMP100M_T_,0)\n"
     ]
    },
    {
     "name": "stdout",
     "output_type": "stream",
     "text": [
      "Using cpu device\n",
      "tensor([[ 0.2192],\n",
      "        [ 0.7949],\n",
      "        [-0.3193],\n",
      "        [ 0.4591]])\n",
      "/scratch/BENGUP/ML/DL_BN/Predictions/Web_V1.0/output/bn_2month_7_TEMPBNi_beng/C30H30/EN2/result.gdat\n",
      "Validation Done\n",
      "Using cpu device\n",
      "tensor([[ 0.0659],\n",
      "        [ 0.9052],\n",
      "        [-0.2746],\n",
      "        [ 0.1651]])\n",
      "/scratch/BENGUP/ML/DL_BN/Predictions/Web_V1.0/output/bn_2month_7_TEMPBNi_beng/C30H30/EN3/result.gdat\n",
      "Validation Done\n"
     ]
    },
    {
     "name": "stderr",
     "output_type": "stream",
     "text": [
      "/scratch/BENGUP/ML/DL_BN/Predictions/Web_V1.0/output/bn_2month_7_TEMPBNi_beng/src/bn.predictions_new.py:48: RuntimeWarning: Mean of empty slice\n",
      "  inpv1[i,0:3,:,:] = (inp1.SST_T_.sel(time=slice(ld_mn1,ld_mn2))-np.nanmean(inp1.SST_T_,0))/np.nanstd(inp1.SST_T_,0)\n",
      "/home/nay021/Software/anaconda3/lib/python3.8/site-packages/numpy/lib/nanfunctions.py:1664: RuntimeWarning: Degrees of freedom <= 0 for slice.\n",
      "  var = nanvar(a, axis=axis, dtype=dtype, out=out, ddof=ddof,\n",
      "/scratch/BENGUP/ML/DL_BN/Predictions/Web_V1.0/output/bn_2month_7_TEMPBNi_beng/src/bn.predictions_new.py:49: RuntimeWarning: Mean of empty slice\n",
      "  inpv1[i,3:6,:,:] = (inp1.TEMP100M_T_.sel(time=slice(ld_mn1,ld_mn2))-np.nanmean(inp1.TEMP100M_T_,0))/np.nanstd(inp1.TEMP100M_T_,0)\n",
      "/scratch/BENGUP/ML/DL_BN/Predictions/Web_V1.0/output/bn_2month_7_TEMPBNi_beng/src/bn.predictions_new.py:48: RuntimeWarning: Mean of empty slice\n",
      "  inpv1[i,0:3,:,:] = (inp1.SST_T_.sel(time=slice(ld_mn1,ld_mn2))-np.nanmean(inp1.SST_T_,0))/np.nanstd(inp1.SST_T_,0)\n",
      "/home/nay021/Software/anaconda3/lib/python3.8/site-packages/numpy/lib/nanfunctions.py:1664: RuntimeWarning: Degrees of freedom <= 0 for slice.\n",
      "  var = nanvar(a, axis=axis, dtype=dtype, out=out, ddof=ddof,\n",
      "/scratch/BENGUP/ML/DL_BN/Predictions/Web_V1.0/output/bn_2month_7_TEMPBNi_beng/src/bn.predictions_new.py:49: RuntimeWarning: Mean of empty slice\n",
      "  inpv1[i,3:6,:,:] = (inp1.TEMP100M_T_.sel(time=slice(ld_mn1,ld_mn2))-np.nanmean(inp1.TEMP100M_T_,0))/np.nanstd(inp1.TEMP100M_T_,0)\n"
     ]
    },
    {
     "name": "stdout",
     "output_type": "stream",
     "text": [
      "Using cpu device\n",
      "tensor([[ 0.1904],\n",
      "        [ 0.5976],\n",
      "        [-0.1741],\n",
      "        [ 0.3237]])\n",
      "/scratch/BENGUP/ML/DL_BN/Predictions/Web_V1.0/output/bn_2month_7_TEMPBNi_beng/C30H30/EN4/result.gdat\n",
      "Validation Done\n"
     ]
    },
    {
     "name": "stderr",
     "output_type": "stream",
     "text": [
      "/scratch/BENGUP/ML/DL_BN/Predictions/Web_V1.0/output/bn_2month_7_TEMPBNi_beng/src/bn.predictions_new.py:48: RuntimeWarning: Mean of empty slice\n",
      "  inpv1[i,0:3,:,:] = (inp1.SST_T_.sel(time=slice(ld_mn1,ld_mn2))-np.nanmean(inp1.SST_T_,0))/np.nanstd(inp1.SST_T_,0)\n",
      "/home/nay021/Software/anaconda3/lib/python3.8/site-packages/numpy/lib/nanfunctions.py:1664: RuntimeWarning: Degrees of freedom <= 0 for slice.\n",
      "  var = nanvar(a, axis=axis, dtype=dtype, out=out, ddof=ddof,\n",
      "/scratch/BENGUP/ML/DL_BN/Predictions/Web_V1.0/output/bn_2month_7_TEMPBNi_beng/src/bn.predictions_new.py:49: RuntimeWarning: Mean of empty slice\n",
      "  inpv1[i,3:6,:,:] = (inp1.TEMP100M_T_.sel(time=slice(ld_mn1,ld_mn2))-np.nanmean(inp1.TEMP100M_T_,0))/np.nanstd(inp1.TEMP100M_T_,0)\n"
     ]
    },
    {
     "name": "stdout",
     "output_type": "stream",
     "text": [
      "Using cpu device\n",
      "tensor([[ 0.1083],\n",
      "        [ 0.9908],\n",
      "        [-0.3029],\n",
      "        [ 0.4167]])\n",
      "/scratch/BENGUP/ML/DL_BN/Predictions/Web_V1.0/output/bn_2month_7_TEMPBNi_beng/C30H30/EN5/result.gdat\n",
      "Validation Done\n",
      "bn_2month_8_TEMPBNi_beng\n",
      "Using cpu device\n",
      "tensor([[ 0.3453],\n",
      "        [ 0.7453],\n",
      "        [ 0.1019],\n",
      "        [-0.0655]])\n",
      "/scratch/BENGUP/ML/DL_BN/Predictions/Web_V1.0/output/bn_2month_8_TEMPBNi_beng/C30H30/EN1/result.gdat\n",
      "Validation Done\n"
     ]
    },
    {
     "name": "stderr",
     "output_type": "stream",
     "text": [
      "/scratch/BENGUP/ML/DL_BN/Predictions/Web_V1.0/output/bn_2month_8_TEMPBNi_beng/src/bn.predictions_new.py:48: RuntimeWarning: Mean of empty slice\n",
      "  inpv1[i,0:3,:,:] = (inp1.SST_T_.sel(time=slice(ld_mn1,ld_mn2))-np.nanmean(inp1.SST_T_,0))/np.nanstd(inp1.SST_T_,0)\n",
      "/home/nay021/Software/anaconda3/lib/python3.8/site-packages/numpy/lib/nanfunctions.py:1664: RuntimeWarning: Degrees of freedom <= 0 for slice.\n",
      "  var = nanvar(a, axis=axis, dtype=dtype, out=out, ddof=ddof,\n",
      "/scratch/BENGUP/ML/DL_BN/Predictions/Web_V1.0/output/bn_2month_8_TEMPBNi_beng/src/bn.predictions_new.py:49: RuntimeWarning: Mean of empty slice\n",
      "  inpv1[i,3:6,:,:] = (inp1.TEMP100M_T_.sel(time=slice(ld_mn1,ld_mn2))-np.nanmean(inp1.TEMP100M_T_,0))/np.nanstd(inp1.TEMP100M_T_,0)\n",
      "/scratch/BENGUP/ML/DL_BN/Predictions/Web_V1.0/output/bn_2month_8_TEMPBNi_beng/src/bn.predictions_new.py:48: RuntimeWarning: Mean of empty slice\n",
      "  inpv1[i,0:3,:,:] = (inp1.SST_T_.sel(time=slice(ld_mn1,ld_mn2))-np.nanmean(inp1.SST_T_,0))/np.nanstd(inp1.SST_T_,0)\n",
      "/home/nay021/Software/anaconda3/lib/python3.8/site-packages/numpy/lib/nanfunctions.py:1664: RuntimeWarning: Degrees of freedom <= 0 for slice.\n",
      "  var = nanvar(a, axis=axis, dtype=dtype, out=out, ddof=ddof,\n",
      "/scratch/BENGUP/ML/DL_BN/Predictions/Web_V1.0/output/bn_2month_8_TEMPBNi_beng/src/bn.predictions_new.py:49: RuntimeWarning: Mean of empty slice\n",
      "  inpv1[i,3:6,:,:] = (inp1.TEMP100M_T_.sel(time=slice(ld_mn1,ld_mn2))-np.nanmean(inp1.TEMP100M_T_,0))/np.nanstd(inp1.TEMP100M_T_,0)\n"
     ]
    },
    {
     "name": "stdout",
     "output_type": "stream",
     "text": [
      "Using cpu device\n",
      "tensor([[-0.0681],\n",
      "        [ 0.3021],\n",
      "        [-0.1362],\n",
      "        [-0.0979]])\n",
      "/scratch/BENGUP/ML/DL_BN/Predictions/Web_V1.0/output/bn_2month_8_TEMPBNi_beng/C30H30/EN2/result.gdat\n",
      "Validation Done\n",
      "Using cpu device\n",
      "tensor([[ 0.1895],\n",
      "        [ 0.7927],\n",
      "        [-0.2404],\n",
      "        [-0.0579]])\n",
      "/scratch/BENGUP/ML/DL_BN/Predictions/Web_V1.0/output/bn_2month_8_TEMPBNi_beng/C30H30/EN3/result.gdat\n",
      "Validation Done\n"
     ]
    },
    {
     "name": "stderr",
     "output_type": "stream",
     "text": [
      "/scratch/BENGUP/ML/DL_BN/Predictions/Web_V1.0/output/bn_2month_8_TEMPBNi_beng/src/bn.predictions_new.py:48: RuntimeWarning: Mean of empty slice\n",
      "  inpv1[i,0:3,:,:] = (inp1.SST_T_.sel(time=slice(ld_mn1,ld_mn2))-np.nanmean(inp1.SST_T_,0))/np.nanstd(inp1.SST_T_,0)\n",
      "/home/nay021/Software/anaconda3/lib/python3.8/site-packages/numpy/lib/nanfunctions.py:1664: RuntimeWarning: Degrees of freedom <= 0 for slice.\n",
      "  var = nanvar(a, axis=axis, dtype=dtype, out=out, ddof=ddof,\n",
      "/scratch/BENGUP/ML/DL_BN/Predictions/Web_V1.0/output/bn_2month_8_TEMPBNi_beng/src/bn.predictions_new.py:49: RuntimeWarning: Mean of empty slice\n",
      "  inpv1[i,3:6,:,:] = (inp1.TEMP100M_T_.sel(time=slice(ld_mn1,ld_mn2))-np.nanmean(inp1.TEMP100M_T_,0))/np.nanstd(inp1.TEMP100M_T_,0)\n"
     ]
    },
    {
     "name": "stdout",
     "output_type": "stream",
     "text": [
      "Using cpu device\n",
      "tensor([[ 0.0768],\n",
      "        [ 0.6120],\n",
      "        [-0.2695],\n",
      "        [-0.1265]])\n",
      "/scratch/BENGUP/ML/DL_BN/Predictions/Web_V1.0/output/bn_2month_8_TEMPBNi_beng/C30H30/EN4/result.gdat\n",
      "Validation Done\n"
     ]
    },
    {
     "name": "stderr",
     "output_type": "stream",
     "text": [
      "/scratch/BENGUP/ML/DL_BN/Predictions/Web_V1.0/output/bn_2month_8_TEMPBNi_beng/src/bn.predictions_new.py:48: RuntimeWarning: Mean of empty slice\n",
      "  inpv1[i,0:3,:,:] = (inp1.SST_T_.sel(time=slice(ld_mn1,ld_mn2))-np.nanmean(inp1.SST_T_,0))/np.nanstd(inp1.SST_T_,0)\n",
      "/home/nay021/Software/anaconda3/lib/python3.8/site-packages/numpy/lib/nanfunctions.py:1664: RuntimeWarning: Degrees of freedom <= 0 for slice.\n",
      "  var = nanvar(a, axis=axis, dtype=dtype, out=out, ddof=ddof,\n",
      "/scratch/BENGUP/ML/DL_BN/Predictions/Web_V1.0/output/bn_2month_8_TEMPBNi_beng/src/bn.predictions_new.py:49: RuntimeWarning: Mean of empty slice\n",
      "  inpv1[i,3:6,:,:] = (inp1.TEMP100M_T_.sel(time=slice(ld_mn1,ld_mn2))-np.nanmean(inp1.TEMP100M_T_,0))/np.nanstd(inp1.TEMP100M_T_,0)\n",
      "/scratch/BENGUP/ML/DL_BN/Predictions/Web_V1.0/output/bn_2month_8_TEMPBNi_beng/src/bn.predictions_new.py:48: RuntimeWarning: Mean of empty slice\n",
      "  inpv1[i,0:3,:,:] = (inp1.SST_T_.sel(time=slice(ld_mn1,ld_mn2))-np.nanmean(inp1.SST_T_,0))/np.nanstd(inp1.SST_T_,0)\n",
      "/home/nay021/Software/anaconda3/lib/python3.8/site-packages/numpy/lib/nanfunctions.py:1664: RuntimeWarning: Degrees of freedom <= 0 for slice.\n",
      "  var = nanvar(a, axis=axis, dtype=dtype, out=out, ddof=ddof,\n",
      "/scratch/BENGUP/ML/DL_BN/Predictions/Web_V1.0/output/bn_2month_8_TEMPBNi_beng/src/bn.predictions_new.py:49: RuntimeWarning: Mean of empty slice\n",
      "  inpv1[i,3:6,:,:] = (inp1.TEMP100M_T_.sel(time=slice(ld_mn1,ld_mn2))-np.nanmean(inp1.TEMP100M_T_,0))/np.nanstd(inp1.TEMP100M_T_,0)\n"
     ]
    },
    {
     "name": "stdout",
     "output_type": "stream",
     "text": [
      "Using cpu device\n",
      "tensor([[-0.0973],\n",
      "        [ 0.5444],\n",
      "        [-0.1685],\n",
      "        [-0.3193]])\n",
      "/scratch/BENGUP/ML/DL_BN/Predictions/Web_V1.0/output/bn_2month_8_TEMPBNi_beng/C30H30/EN5/result.gdat\n",
      "Validation Done\n",
      "bn_2month_9_TEMPBNi_beng\n",
      "Using cpu device\n",
      "tensor([[ 0.0601],\n",
      "        [ 0.5578],\n",
      "        [-0.6693]])\n",
      "/scratch/BENGUP/ML/DL_BN/Predictions/Web_V1.0/output/bn_2month_9_TEMPBNi_beng/C30H30/EN1/result.gdat\n",
      "Validation Done\n"
     ]
    },
    {
     "name": "stderr",
     "output_type": "stream",
     "text": [
      "/scratch/BENGUP/ML/DL_BN/Predictions/Web_V1.0/output/bn_2month_9_TEMPBNi_beng/src/bn.predictions_new.py:48: RuntimeWarning: Mean of empty slice\n",
      "  inpv1[i,0:3,:,:] = (inp1.SST_T_.sel(time=slice(ld_mn1,ld_mn2))-np.nanmean(inp1.SST_T_,0))/np.nanstd(inp1.SST_T_,0)\n",
      "/home/nay021/Software/anaconda3/lib/python3.8/site-packages/numpy/lib/nanfunctions.py:1664: RuntimeWarning: Degrees of freedom <= 0 for slice.\n",
      "  var = nanvar(a, axis=axis, dtype=dtype, out=out, ddof=ddof,\n",
      "/scratch/BENGUP/ML/DL_BN/Predictions/Web_V1.0/output/bn_2month_9_TEMPBNi_beng/src/bn.predictions_new.py:49: RuntimeWarning: Mean of empty slice\n",
      "  inpv1[i,3:6,:,:] = (inp1.TEMP100M_T_.sel(time=slice(ld_mn1,ld_mn2))-np.nanmean(inp1.TEMP100M_T_,0))/np.nanstd(inp1.TEMP100M_T_,0)\n"
     ]
    },
    {
     "name": "stdout",
     "output_type": "stream",
     "text": [
      "Using cpu device\n",
      "tensor([[ 0.1572],\n",
      "        [ 0.2007],\n",
      "        [-0.4279]])\n",
      "/scratch/BENGUP/ML/DL_BN/Predictions/Web_V1.0/output/bn_2month_9_TEMPBNi_beng/C30H30/EN2/result.gdat\n",
      "Validation Done\n"
     ]
    },
    {
     "name": "stderr",
     "output_type": "stream",
     "text": [
      "/scratch/BENGUP/ML/DL_BN/Predictions/Web_V1.0/output/bn_2month_9_TEMPBNi_beng/src/bn.predictions_new.py:48: RuntimeWarning: Mean of empty slice\n",
      "  inpv1[i,0:3,:,:] = (inp1.SST_T_.sel(time=slice(ld_mn1,ld_mn2))-np.nanmean(inp1.SST_T_,0))/np.nanstd(inp1.SST_T_,0)\n",
      "/home/nay021/Software/anaconda3/lib/python3.8/site-packages/numpy/lib/nanfunctions.py:1664: RuntimeWarning: Degrees of freedom <= 0 for slice.\n",
      "  var = nanvar(a, axis=axis, dtype=dtype, out=out, ddof=ddof,\n",
      "/scratch/BENGUP/ML/DL_BN/Predictions/Web_V1.0/output/bn_2month_9_TEMPBNi_beng/src/bn.predictions_new.py:49: RuntimeWarning: Mean of empty slice\n",
      "  inpv1[i,3:6,:,:] = (inp1.TEMP100M_T_.sel(time=slice(ld_mn1,ld_mn2))-np.nanmean(inp1.TEMP100M_T_,0))/np.nanstd(inp1.TEMP100M_T_,0)\n"
     ]
    },
    {
     "name": "stdout",
     "output_type": "stream",
     "text": [
      "Using cpu device\n",
      "tensor([[ 0.5821],\n",
      "        [ 0.2465],\n",
      "        [-0.4643]])\n",
      "/scratch/BENGUP/ML/DL_BN/Predictions/Web_V1.0/output/bn_2month_9_TEMPBNi_beng/C30H30/EN3/result.gdat\n",
      "Validation Done\n"
     ]
    },
    {
     "name": "stderr",
     "output_type": "stream",
     "text": [
      "/scratch/BENGUP/ML/DL_BN/Predictions/Web_V1.0/output/bn_2month_9_TEMPBNi_beng/src/bn.predictions_new.py:48: RuntimeWarning: Mean of empty slice\n",
      "  inpv1[i,0:3,:,:] = (inp1.SST_T_.sel(time=slice(ld_mn1,ld_mn2))-np.nanmean(inp1.SST_T_,0))/np.nanstd(inp1.SST_T_,0)\n",
      "/home/nay021/Software/anaconda3/lib/python3.8/site-packages/numpy/lib/nanfunctions.py:1664: RuntimeWarning: Degrees of freedom <= 0 for slice.\n",
      "  var = nanvar(a, axis=axis, dtype=dtype, out=out, ddof=ddof,\n",
      "/scratch/BENGUP/ML/DL_BN/Predictions/Web_V1.0/output/bn_2month_9_TEMPBNi_beng/src/bn.predictions_new.py:49: RuntimeWarning: Mean of empty slice\n",
      "  inpv1[i,3:6,:,:] = (inp1.TEMP100M_T_.sel(time=slice(ld_mn1,ld_mn2))-np.nanmean(inp1.TEMP100M_T_,0))/np.nanstd(inp1.TEMP100M_T_,0)\n"
     ]
    },
    {
     "name": "stdout",
     "output_type": "stream",
     "text": [
      "Using cpu device\n",
      "tensor([[ 0.0324],\n",
      "        [ 0.2201],\n",
      "        [-0.7866]])\n",
      "/scratch/BENGUP/ML/DL_BN/Predictions/Web_V1.0/output/bn_2month_9_TEMPBNi_beng/C30H30/EN4/result.gdat\n",
      "Validation Done\n"
     ]
    },
    {
     "name": "stderr",
     "output_type": "stream",
     "text": [
      "/scratch/BENGUP/ML/DL_BN/Predictions/Web_V1.0/output/bn_2month_9_TEMPBNi_beng/src/bn.predictions_new.py:48: RuntimeWarning: Mean of empty slice\n",
      "  inpv1[i,0:3,:,:] = (inp1.SST_T_.sel(time=slice(ld_mn1,ld_mn2))-np.nanmean(inp1.SST_T_,0))/np.nanstd(inp1.SST_T_,0)\n",
      "/home/nay021/Software/anaconda3/lib/python3.8/site-packages/numpy/lib/nanfunctions.py:1664: RuntimeWarning: Degrees of freedom <= 0 for slice.\n",
      "  var = nanvar(a, axis=axis, dtype=dtype, out=out, ddof=ddof,\n",
      "/scratch/BENGUP/ML/DL_BN/Predictions/Web_V1.0/output/bn_2month_9_TEMPBNi_beng/src/bn.predictions_new.py:49: RuntimeWarning: Mean of empty slice\n",
      "  inpv1[i,3:6,:,:] = (inp1.TEMP100M_T_.sel(time=slice(ld_mn1,ld_mn2))-np.nanmean(inp1.TEMP100M_T_,0))/np.nanstd(inp1.TEMP100M_T_,0)\n"
     ]
    },
    {
     "name": "stdout",
     "output_type": "stream",
     "text": [
      "Using cpu device\n",
      "tensor([[-0.0851],\n",
      "        [ 0.2760],\n",
      "        [-0.7672]])\n",
      "/scratch/BENGUP/ML/DL_BN/Predictions/Web_V1.0/output/bn_2month_9_TEMPBNi_beng/C30H30/EN5/result.gdat\n",
      "Validation Done\n"
     ]
    },
    {
     "name": "stderr",
     "output_type": "stream",
     "text": [
      "/scratch/BENGUP/ML/DL_BN/Predictions/Web_V1.0/output/bn_2month_9_TEMPBNi_beng/src/bn.predictions_new.py:48: RuntimeWarning: Mean of empty slice\n",
      "  inpv1[i,0:3,:,:] = (inp1.SST_T_.sel(time=slice(ld_mn1,ld_mn2))-np.nanmean(inp1.SST_T_,0))/np.nanstd(inp1.SST_T_,0)\n",
      "/home/nay021/Software/anaconda3/lib/python3.8/site-packages/numpy/lib/nanfunctions.py:1664: RuntimeWarning: Degrees of freedom <= 0 for slice.\n",
      "  var = nanvar(a, axis=axis, dtype=dtype, out=out, ddof=ddof,\n",
      "/scratch/BENGUP/ML/DL_BN/Predictions/Web_V1.0/output/bn_2month_9_TEMPBNi_beng/src/bn.predictions_new.py:49: RuntimeWarning: Mean of empty slice\n",
      "  inpv1[i,3:6,:,:] = (inp1.TEMP100M_T_.sel(time=slice(ld_mn1,ld_mn2))-np.nanmean(inp1.TEMP100M_T_,0))/np.nanstd(inp1.TEMP100M_T_,0)\n"
     ]
    },
    {
     "name": "stdout",
     "output_type": "stream",
     "text": [
      "bn_2month_10_TEMPBNi_beng\n"
     ]
    },
    {
     "name": "stderr",
     "output_type": "stream",
     "text": [
      "/scratch/BENGUP/ML/DL_BN/Predictions/Web_V1.0/output/bn_2month_10_TEMPBNi_beng/src/bn.predictions_new.py:48: RuntimeWarning: Mean of empty slice\n",
      "  inpv1[i,0:3,:,:] = (inp1.SST_T_.sel(time=slice(ld_mn1,ld_mn2))-np.nanmean(inp1.SST_T_,0))/np.nanstd(inp1.SST_T_,0)\n",
      "/home/nay021/Software/anaconda3/lib/python3.8/site-packages/numpy/lib/nanfunctions.py:1664: RuntimeWarning: Degrees of freedom <= 0 for slice.\n",
      "  var = nanvar(a, axis=axis, dtype=dtype, out=out, ddof=ddof,\n",
      "/scratch/BENGUP/ML/DL_BN/Predictions/Web_V1.0/output/bn_2month_10_TEMPBNi_beng/src/bn.predictions_new.py:49: RuntimeWarning: Mean of empty slice\n",
      "  inpv1[i,3:6,:,:] = (inp1.TEMP100M_T_.sel(time=slice(ld_mn1,ld_mn2))-np.nanmean(inp1.TEMP100M_T_,0))/np.nanstd(inp1.TEMP100M_T_,0)\n"
     ]
    },
    {
     "name": "stdout",
     "output_type": "stream",
     "text": [
      "Using cpu device\n",
      "tensor([[-0.6806],\n",
      "        [ 0.1107],\n",
      "        [-0.1879]])\n",
      "/scratch/BENGUP/ML/DL_BN/Predictions/Web_V1.0/output/bn_2month_10_TEMPBNi_beng/C30H30/EN1/result.gdat\n",
      "Validation Done\n",
      "Using cpu device\n",
      "tensor([[-0.6335],\n",
      "        [ 0.0362],\n",
      "        [-0.2381]])\n",
      "/scratch/BENGUP/ML/DL_BN/Predictions/Web_V1.0/output/bn_2month_10_TEMPBNi_beng/C30H30/EN2/result.gdat\n",
      "Validation Done\n"
     ]
    },
    {
     "name": "stderr",
     "output_type": "stream",
     "text": [
      "/scratch/BENGUP/ML/DL_BN/Predictions/Web_V1.0/output/bn_2month_10_TEMPBNi_beng/src/bn.predictions_new.py:48: RuntimeWarning: Mean of empty slice\n",
      "  inpv1[i,0:3,:,:] = (inp1.SST_T_.sel(time=slice(ld_mn1,ld_mn2))-np.nanmean(inp1.SST_T_,0))/np.nanstd(inp1.SST_T_,0)\n",
      "/home/nay021/Software/anaconda3/lib/python3.8/site-packages/numpy/lib/nanfunctions.py:1664: RuntimeWarning: Degrees of freedom <= 0 for slice.\n",
      "  var = nanvar(a, axis=axis, dtype=dtype, out=out, ddof=ddof,\n",
      "/scratch/BENGUP/ML/DL_BN/Predictions/Web_V1.0/output/bn_2month_10_TEMPBNi_beng/src/bn.predictions_new.py:49: RuntimeWarning: Mean of empty slice\n",
      "  inpv1[i,3:6,:,:] = (inp1.TEMP100M_T_.sel(time=slice(ld_mn1,ld_mn2))-np.nanmean(inp1.TEMP100M_T_,0))/np.nanstd(inp1.TEMP100M_T_,0)\n",
      "/scratch/BENGUP/ML/DL_BN/Predictions/Web_V1.0/output/bn_2month_10_TEMPBNi_beng/src/bn.predictions_new.py:48: RuntimeWarning: Mean of empty slice\n",
      "  inpv1[i,0:3,:,:] = (inp1.SST_T_.sel(time=slice(ld_mn1,ld_mn2))-np.nanmean(inp1.SST_T_,0))/np.nanstd(inp1.SST_T_,0)\n",
      "/home/nay021/Software/anaconda3/lib/python3.8/site-packages/numpy/lib/nanfunctions.py:1664: RuntimeWarning: Degrees of freedom <= 0 for slice.\n",
      "  var = nanvar(a, axis=axis, dtype=dtype, out=out, ddof=ddof,\n",
      "/scratch/BENGUP/ML/DL_BN/Predictions/Web_V1.0/output/bn_2month_10_TEMPBNi_beng/src/bn.predictions_new.py:49: RuntimeWarning: Mean of empty slice\n",
      "  inpv1[i,3:6,:,:] = (inp1.TEMP100M_T_.sel(time=slice(ld_mn1,ld_mn2))-np.nanmean(inp1.TEMP100M_T_,0))/np.nanstd(inp1.TEMP100M_T_,0)\n"
     ]
    },
    {
     "name": "stdout",
     "output_type": "stream",
     "text": [
      "Using cpu device\n",
      "tensor([[-0.5741],\n",
      "        [ 0.1554],\n",
      "        [-0.4292]])\n",
      "/scratch/BENGUP/ML/DL_BN/Predictions/Web_V1.0/output/bn_2month_10_TEMPBNi_beng/C30H30/EN3/result.gdat\n",
      "Validation Done\n",
      "Using cpu device\n",
      "tensor([[-0.1911],\n",
      "        [ 0.0497],\n",
      "        [-0.2862]])\n",
      "/scratch/BENGUP/ML/DL_BN/Predictions/Web_V1.0/output/bn_2month_10_TEMPBNi_beng/C30H30/EN4/result.gdat\n",
      "Validation Done\n"
     ]
    },
    {
     "name": "stderr",
     "output_type": "stream",
     "text": [
      "/scratch/BENGUP/ML/DL_BN/Predictions/Web_V1.0/output/bn_2month_10_TEMPBNi_beng/src/bn.predictions_new.py:48: RuntimeWarning: Mean of empty slice\n",
      "  inpv1[i,0:3,:,:] = (inp1.SST_T_.sel(time=slice(ld_mn1,ld_mn2))-np.nanmean(inp1.SST_T_,0))/np.nanstd(inp1.SST_T_,0)\n",
      "/home/nay021/Software/anaconda3/lib/python3.8/site-packages/numpy/lib/nanfunctions.py:1664: RuntimeWarning: Degrees of freedom <= 0 for slice.\n",
      "  var = nanvar(a, axis=axis, dtype=dtype, out=out, ddof=ddof,\n",
      "/scratch/BENGUP/ML/DL_BN/Predictions/Web_V1.0/output/bn_2month_10_TEMPBNi_beng/src/bn.predictions_new.py:49: RuntimeWarning: Mean of empty slice\n",
      "  inpv1[i,3:6,:,:] = (inp1.TEMP100M_T_.sel(time=slice(ld_mn1,ld_mn2))-np.nanmean(inp1.TEMP100M_T_,0))/np.nanstd(inp1.TEMP100M_T_,0)\n"
     ]
    },
    {
     "name": "stdout",
     "output_type": "stream",
     "text": [
      "Using cpu device\n",
      "tensor([[-0.3692],\n",
      "        [ 0.0779],\n",
      "        [-0.5190]])\n",
      "/scratch/BENGUP/ML/DL_BN/Predictions/Web_V1.0/output/bn_2month_10_TEMPBNi_beng/C30H30/EN5/result.gdat\n",
      "Validation Done\n"
     ]
    },
    {
     "name": "stderr",
     "output_type": "stream",
     "text": [
      "/scratch/BENGUP/ML/DL_BN/Predictions/Web_V1.0/output/bn_2month_10_TEMPBNi_beng/src/bn.predictions_new.py:48: RuntimeWarning: Mean of empty slice\n",
      "  inpv1[i,0:3,:,:] = (inp1.SST_T_.sel(time=slice(ld_mn1,ld_mn2))-np.nanmean(inp1.SST_T_,0))/np.nanstd(inp1.SST_T_,0)\n",
      "/home/nay021/Software/anaconda3/lib/python3.8/site-packages/numpy/lib/nanfunctions.py:1664: RuntimeWarning: Degrees of freedom <= 0 for slice.\n",
      "  var = nanvar(a, axis=axis, dtype=dtype, out=out, ddof=ddof,\n",
      "/scratch/BENGUP/ML/DL_BN/Predictions/Web_V1.0/output/bn_2month_10_TEMPBNi_beng/src/bn.predictions_new.py:49: RuntimeWarning: Mean of empty slice\n",
      "  inpv1[i,3:6,:,:] = (inp1.TEMP100M_T_.sel(time=slice(ld_mn1,ld_mn2))-np.nanmean(inp1.TEMP100M_T_,0))/np.nanstd(inp1.TEMP100M_T_,0)\n"
     ]
    },
    {
     "name": "stdout",
     "output_type": "stream",
     "text": [
      "bn_2month_11_TEMPBNi_beng\n"
     ]
    },
    {
     "name": "stderr",
     "output_type": "stream",
     "text": [
      "/scratch/BENGUP/ML/DL_BN/Predictions/Web_V1.0/output/bn_2month_11_TEMPBNi_beng/src/bn.predictions_new.py:48: RuntimeWarning: Mean of empty slice\n",
      "  inpv1[i,0:3,:,:] = (inp1.SST_T_.sel(time=slice(ld_mn1,ld_mn2))-np.nanmean(inp1.SST_T_,0))/np.nanstd(inp1.SST_T_,0)\n",
      "/home/nay021/Software/anaconda3/lib/python3.8/site-packages/numpy/lib/nanfunctions.py:1664: RuntimeWarning: Degrees of freedom <= 0 for slice.\n",
      "  var = nanvar(a, axis=axis, dtype=dtype, out=out, ddof=ddof,\n",
      "/scratch/BENGUP/ML/DL_BN/Predictions/Web_V1.0/output/bn_2month_11_TEMPBNi_beng/src/bn.predictions_new.py:49: RuntimeWarning: Mean of empty slice\n",
      "  inpv1[i,3:6,:,:] = (inp1.TEMP100M_T_.sel(time=slice(ld_mn1,ld_mn2))-np.nanmean(inp1.TEMP100M_T_,0))/np.nanstd(inp1.TEMP100M_T_,0)\n"
     ]
    },
    {
     "name": "stdout",
     "output_type": "stream",
     "text": [
      "Using cpu device\n",
      "tensor([[-1.1044],\n",
      "        [-0.9209],\n",
      "        [ 0.0331]])\n",
      "/scratch/BENGUP/ML/DL_BN/Predictions/Web_V1.0/output/bn_2month_11_TEMPBNi_beng/C30H30/EN1/result.gdat\n",
      "Validation Done\n",
      "Using cpu device\n",
      "tensor([[-1.2215],\n",
      "        [-0.3343],\n",
      "        [ 0.0716]])\n",
      "/scratch/BENGUP/ML/DL_BN/Predictions/Web_V1.0/output/bn_2month_11_TEMPBNi_beng/C30H30/EN2/result.gdat\n",
      "Validation Done\n"
     ]
    },
    {
     "name": "stderr",
     "output_type": "stream",
     "text": [
      "/scratch/BENGUP/ML/DL_BN/Predictions/Web_V1.0/output/bn_2month_11_TEMPBNi_beng/src/bn.predictions_new.py:48: RuntimeWarning: Mean of empty slice\n",
      "  inpv1[i,0:3,:,:] = (inp1.SST_T_.sel(time=slice(ld_mn1,ld_mn2))-np.nanmean(inp1.SST_T_,0))/np.nanstd(inp1.SST_T_,0)\n",
      "/home/nay021/Software/anaconda3/lib/python3.8/site-packages/numpy/lib/nanfunctions.py:1664: RuntimeWarning: Degrees of freedom <= 0 for slice.\n",
      "  var = nanvar(a, axis=axis, dtype=dtype, out=out, ddof=ddof,\n",
      "/scratch/BENGUP/ML/DL_BN/Predictions/Web_V1.0/output/bn_2month_11_TEMPBNi_beng/src/bn.predictions_new.py:49: RuntimeWarning: Mean of empty slice\n",
      "  inpv1[i,3:6,:,:] = (inp1.TEMP100M_T_.sel(time=slice(ld_mn1,ld_mn2))-np.nanmean(inp1.TEMP100M_T_,0))/np.nanstd(inp1.TEMP100M_T_,0)\n",
      "/scratch/BENGUP/ML/DL_BN/Predictions/Web_V1.0/output/bn_2month_11_TEMPBNi_beng/src/bn.predictions_new.py:48: RuntimeWarning: Mean of empty slice\n",
      "  inpv1[i,0:3,:,:] = (inp1.SST_T_.sel(time=slice(ld_mn1,ld_mn2))-np.nanmean(inp1.SST_T_,0))/np.nanstd(inp1.SST_T_,0)\n",
      "/home/nay021/Software/anaconda3/lib/python3.8/site-packages/numpy/lib/nanfunctions.py:1664: RuntimeWarning: Degrees of freedom <= 0 for slice.\n",
      "  var = nanvar(a, axis=axis, dtype=dtype, out=out, ddof=ddof,\n",
      "/scratch/BENGUP/ML/DL_BN/Predictions/Web_V1.0/output/bn_2month_11_TEMPBNi_beng/src/bn.predictions_new.py:49: RuntimeWarning: Mean of empty slice\n",
      "  inpv1[i,3:6,:,:] = (inp1.TEMP100M_T_.sel(time=slice(ld_mn1,ld_mn2))-np.nanmean(inp1.TEMP100M_T_,0))/np.nanstd(inp1.TEMP100M_T_,0)\n"
     ]
    },
    {
     "name": "stdout",
     "output_type": "stream",
     "text": [
      "Using cpu device\n",
      "tensor([[-0.6921],\n",
      "        [-0.6091],\n",
      "        [ 0.0271]])\n",
      "/scratch/BENGUP/ML/DL_BN/Predictions/Web_V1.0/output/bn_2month_11_TEMPBNi_beng/C30H30/EN3/result.gdat\n",
      "Validation Done\n",
      "Using cpu device\n",
      "tensor([[-0.8163],\n",
      "        [-0.8365],\n",
      "        [ 0.1706]])\n",
      "/scratch/BENGUP/ML/DL_BN/Predictions/Web_V1.0/output/bn_2month_11_TEMPBNi_beng/C30H30/EN4/result.gdat\n",
      "Validation Done\n"
     ]
    },
    {
     "name": "stderr",
     "output_type": "stream",
     "text": [
      "/scratch/BENGUP/ML/DL_BN/Predictions/Web_V1.0/output/bn_2month_11_TEMPBNi_beng/src/bn.predictions_new.py:48: RuntimeWarning: Mean of empty slice\n",
      "  inpv1[i,0:3,:,:] = (inp1.SST_T_.sel(time=slice(ld_mn1,ld_mn2))-np.nanmean(inp1.SST_T_,0))/np.nanstd(inp1.SST_T_,0)\n",
      "/home/nay021/Software/anaconda3/lib/python3.8/site-packages/numpy/lib/nanfunctions.py:1664: RuntimeWarning: Degrees of freedom <= 0 for slice.\n",
      "  var = nanvar(a, axis=axis, dtype=dtype, out=out, ddof=ddof,\n",
      "/scratch/BENGUP/ML/DL_BN/Predictions/Web_V1.0/output/bn_2month_11_TEMPBNi_beng/src/bn.predictions_new.py:49: RuntimeWarning: Mean of empty slice\n",
      "  inpv1[i,3:6,:,:] = (inp1.TEMP100M_T_.sel(time=slice(ld_mn1,ld_mn2))-np.nanmean(inp1.TEMP100M_T_,0))/np.nanstd(inp1.TEMP100M_T_,0)\n",
      "/scratch/BENGUP/ML/DL_BN/Predictions/Web_V1.0/output/bn_2month_11_TEMPBNi_beng/src/bn.predictions_new.py:48: RuntimeWarning: Mean of empty slice\n",
      "  inpv1[i,0:3,:,:] = (inp1.SST_T_.sel(time=slice(ld_mn1,ld_mn2))-np.nanmean(inp1.SST_T_,0))/np.nanstd(inp1.SST_T_,0)\n",
      "/home/nay021/Software/anaconda3/lib/python3.8/site-packages/numpy/lib/nanfunctions.py:1664: RuntimeWarning: Degrees of freedom <= 0 for slice.\n",
      "  var = nanvar(a, axis=axis, dtype=dtype, out=out, ddof=ddof,\n",
      "/scratch/BENGUP/ML/DL_BN/Predictions/Web_V1.0/output/bn_2month_11_TEMPBNi_beng/src/bn.predictions_new.py:49: RuntimeWarning: Mean of empty slice\n",
      "  inpv1[i,3:6,:,:] = (inp1.TEMP100M_T_.sel(time=slice(ld_mn1,ld_mn2))-np.nanmean(inp1.TEMP100M_T_,0))/np.nanstd(inp1.TEMP100M_T_,0)\n"
     ]
    },
    {
     "name": "stdout",
     "output_type": "stream",
     "text": [
      "Using cpu device\n",
      "tensor([[-0.1543],\n",
      "        [-0.1873],\n",
      "        [ 0.2210]])\n",
      "/scratch/BENGUP/ML/DL_BN/Predictions/Web_V1.0/output/bn_2month_11_TEMPBNi_beng/C30H30/EN5/result.gdat\n",
      "Validation Done\n",
      "bn_2month_12_TEMPBNi_beng\n"
     ]
    },
    {
     "name": "stderr",
     "output_type": "stream",
     "text": [
      "/scratch/BENGUP/ML/DL_BN/Predictions/Web_V1.0/output/bn_2month_12_TEMPBNi_beng/src/bn.predictions_new.py:48: RuntimeWarning: Mean of empty slice\n",
      "  inpv1[i,0:3,:,:] = (inp1.SST_T_.sel(time=slice(ld_mn1,ld_mn2))-np.nanmean(inp1.SST_T_,0))/np.nanstd(inp1.SST_T_,0)\n",
      "/home/nay021/Software/anaconda3/lib/python3.8/site-packages/numpy/lib/nanfunctions.py:1664: RuntimeWarning: Degrees of freedom <= 0 for slice.\n",
      "  var = nanvar(a, axis=axis, dtype=dtype, out=out, ddof=ddof,\n",
      "/scratch/BENGUP/ML/DL_BN/Predictions/Web_V1.0/output/bn_2month_12_TEMPBNi_beng/src/bn.predictions_new.py:49: RuntimeWarning: Mean of empty slice\n",
      "  inpv1[i,3:6,:,:] = (inp1.TEMP100M_T_.sel(time=slice(ld_mn1,ld_mn2))-np.nanmean(inp1.TEMP100M_T_,0))/np.nanstd(inp1.TEMP100M_T_,0)\n"
     ]
    },
    {
     "name": "stdout",
     "output_type": "stream",
     "text": [
      "Using cpu device\n",
      "tensor([[-0.3517],\n",
      "        [-0.5723],\n",
      "        [ 0.3003]])\n",
      "/scratch/BENGUP/ML/DL_BN/Predictions/Web_V1.0/output/bn_2month_12_TEMPBNi_beng/C30H30/EN1/result.gdat\n",
      "Validation Done\n"
     ]
    },
    {
     "name": "stderr",
     "output_type": "stream",
     "text": [
      "/scratch/BENGUP/ML/DL_BN/Predictions/Web_V1.0/output/bn_2month_12_TEMPBNi_beng/src/bn.predictions_new.py:48: RuntimeWarning: Mean of empty slice\n",
      "  inpv1[i,0:3,:,:] = (inp1.SST_T_.sel(time=slice(ld_mn1,ld_mn2))-np.nanmean(inp1.SST_T_,0))/np.nanstd(inp1.SST_T_,0)\n",
      "/home/nay021/Software/anaconda3/lib/python3.8/site-packages/numpy/lib/nanfunctions.py:1664: RuntimeWarning: Degrees of freedom <= 0 for slice.\n",
      "  var = nanvar(a, axis=axis, dtype=dtype, out=out, ddof=ddof,\n",
      "/scratch/BENGUP/ML/DL_BN/Predictions/Web_V1.0/output/bn_2month_12_TEMPBNi_beng/src/bn.predictions_new.py:49: RuntimeWarning: Mean of empty slice\n",
      "  inpv1[i,3:6,:,:] = (inp1.TEMP100M_T_.sel(time=slice(ld_mn1,ld_mn2))-np.nanmean(inp1.TEMP100M_T_,0))/np.nanstd(inp1.TEMP100M_T_,0)\n"
     ]
    },
    {
     "name": "stdout",
     "output_type": "stream",
     "text": [
      "Using cpu device\n",
      "tensor([[-0.1086],\n",
      "        [-0.4785],\n",
      "        [ 0.3736]])\n",
      "/scratch/BENGUP/ML/DL_BN/Predictions/Web_V1.0/output/bn_2month_12_TEMPBNi_beng/C30H30/EN2/result.gdat\n",
      "Validation Done\n"
     ]
    },
    {
     "name": "stderr",
     "output_type": "stream",
     "text": [
      "/scratch/BENGUP/ML/DL_BN/Predictions/Web_V1.0/output/bn_2month_12_TEMPBNi_beng/src/bn.predictions_new.py:48: RuntimeWarning: Mean of empty slice\n",
      "  inpv1[i,0:3,:,:] = (inp1.SST_T_.sel(time=slice(ld_mn1,ld_mn2))-np.nanmean(inp1.SST_T_,0))/np.nanstd(inp1.SST_T_,0)\n",
      "/home/nay021/Software/anaconda3/lib/python3.8/site-packages/numpy/lib/nanfunctions.py:1664: RuntimeWarning: Degrees of freedom <= 0 for slice.\n",
      "  var = nanvar(a, axis=axis, dtype=dtype, out=out, ddof=ddof,\n",
      "/scratch/BENGUP/ML/DL_BN/Predictions/Web_V1.0/output/bn_2month_12_TEMPBNi_beng/src/bn.predictions_new.py:49: RuntimeWarning: Mean of empty slice\n",
      "  inpv1[i,3:6,:,:] = (inp1.TEMP100M_T_.sel(time=slice(ld_mn1,ld_mn2))-np.nanmean(inp1.TEMP100M_T_,0))/np.nanstd(inp1.TEMP100M_T_,0)\n"
     ]
    },
    {
     "name": "stdout",
     "output_type": "stream",
     "text": [
      "Using cpu device\n",
      "tensor([[-0.2388],\n",
      "        [-0.6044],\n",
      "        [ 0.3706]])\n",
      "/scratch/BENGUP/ML/DL_BN/Predictions/Web_V1.0/output/bn_2month_12_TEMPBNi_beng/C30H30/EN3/result.gdat\n",
      "Validation Done\n",
      "Using cpu device\n",
      "tensor([[-0.2051],\n",
      "        [-0.5257],\n",
      "        [ 0.3590]])\n",
      "/scratch/BENGUP/ML/DL_BN/Predictions/Web_V1.0/output/bn_2month_12_TEMPBNi_beng/C30H30/EN4/result.gdat\n",
      "Validation Done\n"
     ]
    },
    {
     "name": "stderr",
     "output_type": "stream",
     "text": [
      "/scratch/BENGUP/ML/DL_BN/Predictions/Web_V1.0/output/bn_2month_12_TEMPBNi_beng/src/bn.predictions_new.py:48: RuntimeWarning: Mean of empty slice\n",
      "  inpv1[i,0:3,:,:] = (inp1.SST_T_.sel(time=slice(ld_mn1,ld_mn2))-np.nanmean(inp1.SST_T_,0))/np.nanstd(inp1.SST_T_,0)\n",
      "/home/nay021/Software/anaconda3/lib/python3.8/site-packages/numpy/lib/nanfunctions.py:1664: RuntimeWarning: Degrees of freedom <= 0 for slice.\n",
      "  var = nanvar(a, axis=axis, dtype=dtype, out=out, ddof=ddof,\n",
      "/scratch/BENGUP/ML/DL_BN/Predictions/Web_V1.0/output/bn_2month_12_TEMPBNi_beng/src/bn.predictions_new.py:49: RuntimeWarning: Mean of empty slice\n",
      "  inpv1[i,3:6,:,:] = (inp1.TEMP100M_T_.sel(time=slice(ld_mn1,ld_mn2))-np.nanmean(inp1.TEMP100M_T_,0))/np.nanstd(inp1.TEMP100M_T_,0)\n",
      "/scratch/BENGUP/ML/DL_BN/Predictions/Web_V1.0/output/bn_2month_12_TEMPBNi_beng/src/bn.predictions_new.py:48: RuntimeWarning: Mean of empty slice\n",
      "  inpv1[i,0:3,:,:] = (inp1.SST_T_.sel(time=slice(ld_mn1,ld_mn2))-np.nanmean(inp1.SST_T_,0))/np.nanstd(inp1.SST_T_,0)\n",
      "/home/nay021/Software/anaconda3/lib/python3.8/site-packages/numpy/lib/nanfunctions.py:1664: RuntimeWarning: Degrees of freedom <= 0 for slice.\n",
      "  var = nanvar(a, axis=axis, dtype=dtype, out=out, ddof=ddof,\n",
      "/scratch/BENGUP/ML/DL_BN/Predictions/Web_V1.0/output/bn_2month_12_TEMPBNi_beng/src/bn.predictions_new.py:49: RuntimeWarning: Mean of empty slice\n",
      "  inpv1[i,3:6,:,:] = (inp1.TEMP100M_T_.sel(time=slice(ld_mn1,ld_mn2))-np.nanmean(inp1.TEMP100M_T_,0))/np.nanstd(inp1.TEMP100M_T_,0)\n"
     ]
    },
    {
     "name": "stdout",
     "output_type": "stream",
     "text": [
      "Using cpu device\n",
      "tensor([[-0.3129],\n",
      "        [-0.2691],\n",
      "        [ 0.3886]])\n",
      "/scratch/BENGUP/ML/DL_BN/Predictions/Web_V1.0/output/bn_2month_12_TEMPBNi_beng/C30H30/EN5/result.gdat\n",
      "Validation Done\n",
      "bn_3month_1_TEMPBNi_beng\n"
     ]
    },
    {
     "name": "stderr",
     "output_type": "stream",
     "text": [
      "/scratch/BENGUP/ML/DL_BN/Predictions/Web_V1.0/output/bn_3month_1_TEMPBNi_beng/src/bn.predictions_new.py:48: RuntimeWarning: Mean of empty slice\n",
      "  inpv1[i,0:3,:,:] = (inp1.SST_T_.sel(time=slice(ld_mn1,ld_mn2))-np.nanmean(inp1.SST_T_,0))/np.nanstd(inp1.SST_T_,0)\n",
      "/home/nay021/Software/anaconda3/lib/python3.8/site-packages/numpy/lib/nanfunctions.py:1664: RuntimeWarning: Degrees of freedom <= 0 for slice.\n",
      "  var = nanvar(a, axis=axis, dtype=dtype, out=out, ddof=ddof,\n",
      "/scratch/BENGUP/ML/DL_BN/Predictions/Web_V1.0/output/bn_3month_1_TEMPBNi_beng/src/bn.predictions_new.py:49: RuntimeWarning: Mean of empty slice\n",
      "  inpv1[i,3:6,:,:] = (inp1.TEMP100M_T_.sel(time=slice(ld_mn1,ld_mn2))-np.nanmean(inp1.TEMP100M_T_,0))/np.nanstd(inp1.TEMP100M_T_,0)\n"
     ]
    },
    {
     "name": "stdout",
     "output_type": "stream",
     "text": [
      "Using cpu device\n",
      "tensor([[ 1.0124],\n",
      "        [-0.4514],\n",
      "        [-0.5408],\n",
      "        [ 0.4044]])\n",
      "/scratch/BENGUP/ML/DL_BN/Predictions/Web_V1.0/output/bn_3month_1_TEMPBNi_beng/C30H30/EN1/result.gdat\n",
      "Validation Done\n",
      "Using cpu device\n",
      "tensor([[ 0.9744],\n",
      "        [-0.3813],\n",
      "        [-0.4654],\n",
      "        [ 0.3861]])\n",
      "/scratch/BENGUP/ML/DL_BN/Predictions/Web_V1.0/output/bn_3month_1_TEMPBNi_beng/C30H30/EN2/result.gdat\n",
      "Validation Done\n"
     ]
    },
    {
     "name": "stderr",
     "output_type": "stream",
     "text": [
      "/scratch/BENGUP/ML/DL_BN/Predictions/Web_V1.0/output/bn_3month_1_TEMPBNi_beng/src/bn.predictions_new.py:48: RuntimeWarning: Mean of empty slice\n",
      "  inpv1[i,0:3,:,:] = (inp1.SST_T_.sel(time=slice(ld_mn1,ld_mn2))-np.nanmean(inp1.SST_T_,0))/np.nanstd(inp1.SST_T_,0)\n",
      "/home/nay021/Software/anaconda3/lib/python3.8/site-packages/numpy/lib/nanfunctions.py:1664: RuntimeWarning: Degrees of freedom <= 0 for slice.\n",
      "  var = nanvar(a, axis=axis, dtype=dtype, out=out, ddof=ddof,\n",
      "/scratch/BENGUP/ML/DL_BN/Predictions/Web_V1.0/output/bn_3month_1_TEMPBNi_beng/src/bn.predictions_new.py:49: RuntimeWarning: Mean of empty slice\n",
      "  inpv1[i,3:6,:,:] = (inp1.TEMP100M_T_.sel(time=slice(ld_mn1,ld_mn2))-np.nanmean(inp1.TEMP100M_T_,0))/np.nanstd(inp1.TEMP100M_T_,0)\n",
      "/scratch/BENGUP/ML/DL_BN/Predictions/Web_V1.0/output/bn_3month_1_TEMPBNi_beng/src/bn.predictions_new.py:48: RuntimeWarning: Mean of empty slice\n",
      "  inpv1[i,0:3,:,:] = (inp1.SST_T_.sel(time=slice(ld_mn1,ld_mn2))-np.nanmean(inp1.SST_T_,0))/np.nanstd(inp1.SST_T_,0)\n",
      "/home/nay021/Software/anaconda3/lib/python3.8/site-packages/numpy/lib/nanfunctions.py:1664: RuntimeWarning: Degrees of freedom <= 0 for slice.\n",
      "  var = nanvar(a, axis=axis, dtype=dtype, out=out, ddof=ddof,\n",
      "/scratch/BENGUP/ML/DL_BN/Predictions/Web_V1.0/output/bn_3month_1_TEMPBNi_beng/src/bn.predictions_new.py:49: RuntimeWarning: Mean of empty slice\n",
      "  inpv1[i,3:6,:,:] = (inp1.TEMP100M_T_.sel(time=slice(ld_mn1,ld_mn2))-np.nanmean(inp1.TEMP100M_T_,0))/np.nanstd(inp1.TEMP100M_T_,0)\n"
     ]
    },
    {
     "name": "stdout",
     "output_type": "stream",
     "text": [
      "Using cpu device\n",
      "tensor([[ 0.8289],\n",
      "        [-0.2263],\n",
      "        [-0.2882],\n",
      "        [ 0.2316]])\n",
      "/scratch/BENGUP/ML/DL_BN/Predictions/Web_V1.0/output/bn_3month_1_TEMPBNi_beng/C30H30/EN3/result.gdat\n",
      "Validation Done\n"
     ]
    },
    {
     "name": "stderr",
     "output_type": "stream",
     "text": [
      "/scratch/BENGUP/ML/DL_BN/Predictions/Web_V1.0/output/bn_3month_1_TEMPBNi_beng/src/bn.predictions_new.py:48: RuntimeWarning: Mean of empty slice\n",
      "  inpv1[i,0:3,:,:] = (inp1.SST_T_.sel(time=slice(ld_mn1,ld_mn2))-np.nanmean(inp1.SST_T_,0))/np.nanstd(inp1.SST_T_,0)\n",
      "/home/nay021/Software/anaconda3/lib/python3.8/site-packages/numpy/lib/nanfunctions.py:1664: RuntimeWarning: Degrees of freedom <= 0 for slice.\n",
      "  var = nanvar(a, axis=axis, dtype=dtype, out=out, ddof=ddof,\n",
      "/scratch/BENGUP/ML/DL_BN/Predictions/Web_V1.0/output/bn_3month_1_TEMPBNi_beng/src/bn.predictions_new.py:49: RuntimeWarning: Mean of empty slice\n",
      "  inpv1[i,3:6,:,:] = (inp1.TEMP100M_T_.sel(time=slice(ld_mn1,ld_mn2))-np.nanmean(inp1.TEMP100M_T_,0))/np.nanstd(inp1.TEMP100M_T_,0)\n"
     ]
    },
    {
     "name": "stdout",
     "output_type": "stream",
     "text": [
      "Using cpu device\n",
      "tensor([[ 0.9222],\n",
      "        [-0.1924],\n",
      "        [-0.3604],\n",
      "        [ 0.4721]])\n",
      "/scratch/BENGUP/ML/DL_BN/Predictions/Web_V1.0/output/bn_3month_1_TEMPBNi_beng/C30H30/EN4/result.gdat\n",
      "Validation Done\n",
      "Using cpu device\n",
      "tensor([[ 0.6254],\n",
      "        [-0.0670],\n",
      "        [-0.4636],\n",
      "        [ 0.2067]])\n",
      "/scratch/BENGUP/ML/DL_BN/Predictions/Web_V1.0/output/bn_3month_1_TEMPBNi_beng/C30H30/EN5/result.gdat\n",
      "Validation Done\n"
     ]
    },
    {
     "name": "stderr",
     "output_type": "stream",
     "text": [
      "/scratch/BENGUP/ML/DL_BN/Predictions/Web_V1.0/output/bn_3month_1_TEMPBNi_beng/src/bn.predictions_new.py:48: RuntimeWarning: Mean of empty slice\n",
      "  inpv1[i,0:3,:,:] = (inp1.SST_T_.sel(time=slice(ld_mn1,ld_mn2))-np.nanmean(inp1.SST_T_,0))/np.nanstd(inp1.SST_T_,0)\n",
      "/home/nay021/Software/anaconda3/lib/python3.8/site-packages/numpy/lib/nanfunctions.py:1664: RuntimeWarning: Degrees of freedom <= 0 for slice.\n",
      "  var = nanvar(a, axis=axis, dtype=dtype, out=out, ddof=ddof,\n",
      "/scratch/BENGUP/ML/DL_BN/Predictions/Web_V1.0/output/bn_3month_1_TEMPBNi_beng/src/bn.predictions_new.py:49: RuntimeWarning: Mean of empty slice\n",
      "  inpv1[i,3:6,:,:] = (inp1.TEMP100M_T_.sel(time=slice(ld_mn1,ld_mn2))-np.nanmean(inp1.TEMP100M_T_,0))/np.nanstd(inp1.TEMP100M_T_,0)\n"
     ]
    },
    {
     "name": "stdout",
     "output_type": "stream",
     "text": [
      "bn_3month_2_TEMPBNi_beng\n",
      "Using cpu device\n",
      "tensor([[ 0.6983],\n",
      "        [ 0.2579],\n",
      "        [-0.3637],\n",
      "        [ 0.4880]])\n",
      "/scratch/BENGUP/ML/DL_BN/Predictions/Web_V1.0/output/bn_3month_2_TEMPBNi_beng/C30H30/EN1/result.gdat\n",
      "Validation Done\n"
     ]
    },
    {
     "name": "stderr",
     "output_type": "stream",
     "text": [
      "/scratch/BENGUP/ML/DL_BN/Predictions/Web_V1.0/output/bn_3month_2_TEMPBNi_beng/src/bn.predictions_new.py:48: RuntimeWarning: Mean of empty slice\n",
      "  inpv1[i,0:3,:,:] = (inp1.SST_T_.sel(time=slice(ld_mn1,ld_mn2))-np.nanmean(inp1.SST_T_,0))/np.nanstd(inp1.SST_T_,0)\n",
      "/home/nay021/Software/anaconda3/lib/python3.8/site-packages/numpy/lib/nanfunctions.py:1664: RuntimeWarning: Degrees of freedom <= 0 for slice.\n",
      "  var = nanvar(a, axis=axis, dtype=dtype, out=out, ddof=ddof,\n",
      "/scratch/BENGUP/ML/DL_BN/Predictions/Web_V1.0/output/bn_3month_2_TEMPBNi_beng/src/bn.predictions_new.py:49: RuntimeWarning: Mean of empty slice\n",
      "  inpv1[i,3:6,:,:] = (inp1.TEMP100M_T_.sel(time=slice(ld_mn1,ld_mn2))-np.nanmean(inp1.TEMP100M_T_,0))/np.nanstd(inp1.TEMP100M_T_,0)\n",
      "/scratch/BENGUP/ML/DL_BN/Predictions/Web_V1.0/output/bn_3month_2_TEMPBNi_beng/src/bn.predictions_new.py:48: RuntimeWarning: Mean of empty slice\n",
      "  inpv1[i,0:3,:,:] = (inp1.SST_T_.sel(time=slice(ld_mn1,ld_mn2))-np.nanmean(inp1.SST_T_,0))/np.nanstd(inp1.SST_T_,0)\n",
      "/home/nay021/Software/anaconda3/lib/python3.8/site-packages/numpy/lib/nanfunctions.py:1664: RuntimeWarning: Degrees of freedom <= 0 for slice.\n",
      "  var = nanvar(a, axis=axis, dtype=dtype, out=out, ddof=ddof,\n",
      "/scratch/BENGUP/ML/DL_BN/Predictions/Web_V1.0/output/bn_3month_2_TEMPBNi_beng/src/bn.predictions_new.py:49: RuntimeWarning: Mean of empty slice\n",
      "  inpv1[i,3:6,:,:] = (inp1.TEMP100M_T_.sel(time=slice(ld_mn1,ld_mn2))-np.nanmean(inp1.TEMP100M_T_,0))/np.nanstd(inp1.TEMP100M_T_,0)\n"
     ]
    },
    {
     "name": "stdout",
     "output_type": "stream",
     "text": [
      "Using cpu device\n",
      "tensor([[ 0.7164],\n",
      "        [-0.3630],\n",
      "        [-0.6373],\n",
      "        [ 0.0628]])\n",
      "/scratch/BENGUP/ML/DL_BN/Predictions/Web_V1.0/output/bn_3month_2_TEMPBNi_beng/C30H30/EN2/result.gdat\n",
      "Validation Done\n",
      "Using cpu device\n",
      "tensor([[ 0.8281],\n",
      "        [ 0.1254],\n",
      "        [-0.5276],\n",
      "        [ 0.4315]])\n",
      "/scratch/BENGUP/ML/DL_BN/Predictions/Web_V1.0/output/bn_3month_2_TEMPBNi_beng/C30H30/EN3/result.gdat\n",
      "Validation Done\n"
     ]
    },
    {
     "name": "stderr",
     "output_type": "stream",
     "text": [
      "/scratch/BENGUP/ML/DL_BN/Predictions/Web_V1.0/output/bn_3month_2_TEMPBNi_beng/src/bn.predictions_new.py:48: RuntimeWarning: Mean of empty slice\n",
      "  inpv1[i,0:3,:,:] = (inp1.SST_T_.sel(time=slice(ld_mn1,ld_mn2))-np.nanmean(inp1.SST_T_,0))/np.nanstd(inp1.SST_T_,0)\n",
      "/home/nay021/Software/anaconda3/lib/python3.8/site-packages/numpy/lib/nanfunctions.py:1664: RuntimeWarning: Degrees of freedom <= 0 for slice.\n",
      "  var = nanvar(a, axis=axis, dtype=dtype, out=out, ddof=ddof,\n",
      "/scratch/BENGUP/ML/DL_BN/Predictions/Web_V1.0/output/bn_3month_2_TEMPBNi_beng/src/bn.predictions_new.py:49: RuntimeWarning: Mean of empty slice\n",
      "  inpv1[i,3:6,:,:] = (inp1.TEMP100M_T_.sel(time=slice(ld_mn1,ld_mn2))-np.nanmean(inp1.TEMP100M_T_,0))/np.nanstd(inp1.TEMP100M_T_,0)\n",
      "/scratch/BENGUP/ML/DL_BN/Predictions/Web_V1.0/output/bn_3month_2_TEMPBNi_beng/src/bn.predictions_new.py:48: RuntimeWarning: Mean of empty slice\n",
      "  inpv1[i,0:3,:,:] = (inp1.SST_T_.sel(time=slice(ld_mn1,ld_mn2))-np.nanmean(inp1.SST_T_,0))/np.nanstd(inp1.SST_T_,0)\n",
      "/home/nay021/Software/anaconda3/lib/python3.8/site-packages/numpy/lib/nanfunctions.py:1664: RuntimeWarning: Degrees of freedom <= 0 for slice.\n",
      "  var = nanvar(a, axis=axis, dtype=dtype, out=out, ddof=ddof,\n",
      "/scratch/BENGUP/ML/DL_BN/Predictions/Web_V1.0/output/bn_3month_2_TEMPBNi_beng/src/bn.predictions_new.py:49: RuntimeWarning: Mean of empty slice\n",
      "  inpv1[i,3:6,:,:] = (inp1.TEMP100M_T_.sel(time=slice(ld_mn1,ld_mn2))-np.nanmean(inp1.TEMP100M_T_,0))/np.nanstd(inp1.TEMP100M_T_,0)\n"
     ]
    },
    {
     "name": "stdout",
     "output_type": "stream",
     "text": [
      "Using cpu device\n",
      "tensor([[ 0.7270],\n",
      "        [-0.0600],\n",
      "        [-0.3300],\n",
      "        [ 0.1864]])\n",
      "/scratch/BENGUP/ML/DL_BN/Predictions/Web_V1.0/output/bn_3month_2_TEMPBNi_beng/C30H30/EN4/result.gdat\n",
      "Validation Done\n",
      "Using cpu device\n",
      "tensor([[ 1.1304],\n",
      "        [ 0.0732],\n",
      "        [-0.5584],\n",
      "        [ 0.0987]])\n",
      "/scratch/BENGUP/ML/DL_BN/Predictions/Web_V1.0/output/bn_3month_2_TEMPBNi_beng/C30H30/EN5/result.gdat\n",
      "Validation Done\n"
     ]
    },
    {
     "name": "stderr",
     "output_type": "stream",
     "text": [
      "/scratch/BENGUP/ML/DL_BN/Predictions/Web_V1.0/output/bn_3month_2_TEMPBNi_beng/src/bn.predictions_new.py:48: RuntimeWarning: Mean of empty slice\n",
      "  inpv1[i,0:3,:,:] = (inp1.SST_T_.sel(time=slice(ld_mn1,ld_mn2))-np.nanmean(inp1.SST_T_,0))/np.nanstd(inp1.SST_T_,0)\n",
      "/home/nay021/Software/anaconda3/lib/python3.8/site-packages/numpy/lib/nanfunctions.py:1664: RuntimeWarning: Degrees of freedom <= 0 for slice.\n",
      "  var = nanvar(a, axis=axis, dtype=dtype, out=out, ddof=ddof,\n",
      "/scratch/BENGUP/ML/DL_BN/Predictions/Web_V1.0/output/bn_3month_2_TEMPBNi_beng/src/bn.predictions_new.py:49: RuntimeWarning: Mean of empty slice\n",
      "  inpv1[i,3:6,:,:] = (inp1.TEMP100M_T_.sel(time=slice(ld_mn1,ld_mn2))-np.nanmean(inp1.TEMP100M_T_,0))/np.nanstd(inp1.TEMP100M_T_,0)\n"
     ]
    },
    {
     "name": "stdout",
     "output_type": "stream",
     "text": [
      "bn_3month_3_TEMPBNi_beng\n",
      "Using cpu device\n",
      "tensor([[0.7897],\n",
      "        [0.1872],\n",
      "        [0.0409],\n",
      "        [0.7496]])\n",
      "/scratch/BENGUP/ML/DL_BN/Predictions/Web_V1.0/output/bn_3month_3_TEMPBNi_beng/C30H30/EN1/result.gdat\n",
      "Validation Done\n"
     ]
    },
    {
     "name": "stderr",
     "output_type": "stream",
     "text": [
      "/scratch/BENGUP/ML/DL_BN/Predictions/Web_V1.0/output/bn_3month_3_TEMPBNi_beng/src/bn.predictions_new.py:48: RuntimeWarning: Mean of empty slice\n",
      "  inpv1[i,0:3,:,:] = (inp1.SST_T_.sel(time=slice(ld_mn1,ld_mn2))-np.nanmean(inp1.SST_T_,0))/np.nanstd(inp1.SST_T_,0)\n",
      "/home/nay021/Software/anaconda3/lib/python3.8/site-packages/numpy/lib/nanfunctions.py:1664: RuntimeWarning: Degrees of freedom <= 0 for slice.\n",
      "  var = nanvar(a, axis=axis, dtype=dtype, out=out, ddof=ddof,\n",
      "/scratch/BENGUP/ML/DL_BN/Predictions/Web_V1.0/output/bn_3month_3_TEMPBNi_beng/src/bn.predictions_new.py:49: RuntimeWarning: Mean of empty slice\n",
      "  inpv1[i,3:6,:,:] = (inp1.TEMP100M_T_.sel(time=slice(ld_mn1,ld_mn2))-np.nanmean(inp1.TEMP100M_T_,0))/np.nanstd(inp1.TEMP100M_T_,0)\n"
     ]
    },
    {
     "name": "stdout",
     "output_type": "stream",
     "text": [
      "Using cpu device\n",
      "tensor([[ 0.9666],\n",
      "        [ 0.6823],\n",
      "        [-0.2595],\n",
      "        [ 0.4919]])\n",
      "/scratch/BENGUP/ML/DL_BN/Predictions/Web_V1.0/output/bn_3month_3_TEMPBNi_beng/C30H30/EN2/result.gdat\n",
      "Validation Done\n"
     ]
    },
    {
     "name": "stderr",
     "output_type": "stream",
     "text": [
      "/scratch/BENGUP/ML/DL_BN/Predictions/Web_V1.0/output/bn_3month_3_TEMPBNi_beng/src/bn.predictions_new.py:48: RuntimeWarning: Mean of empty slice\n",
      "  inpv1[i,0:3,:,:] = (inp1.SST_T_.sel(time=slice(ld_mn1,ld_mn2))-np.nanmean(inp1.SST_T_,0))/np.nanstd(inp1.SST_T_,0)\n",
      "/home/nay021/Software/anaconda3/lib/python3.8/site-packages/numpy/lib/nanfunctions.py:1664: RuntimeWarning: Degrees of freedom <= 0 for slice.\n",
      "  var = nanvar(a, axis=axis, dtype=dtype, out=out, ddof=ddof,\n",
      "/scratch/BENGUP/ML/DL_BN/Predictions/Web_V1.0/output/bn_3month_3_TEMPBNi_beng/src/bn.predictions_new.py:49: RuntimeWarning: Mean of empty slice\n",
      "  inpv1[i,3:6,:,:] = (inp1.TEMP100M_T_.sel(time=slice(ld_mn1,ld_mn2))-np.nanmean(inp1.TEMP100M_T_,0))/np.nanstd(inp1.TEMP100M_T_,0)\n",
      "/scratch/BENGUP/ML/DL_BN/Predictions/Web_V1.0/output/bn_3month_3_TEMPBNi_beng/src/bn.predictions_new.py:48: RuntimeWarning: Mean of empty slice\n",
      "  inpv1[i,0:3,:,:] = (inp1.SST_T_.sel(time=slice(ld_mn1,ld_mn2))-np.nanmean(inp1.SST_T_,0))/np.nanstd(inp1.SST_T_,0)\n",
      "/home/nay021/Software/anaconda3/lib/python3.8/site-packages/numpy/lib/nanfunctions.py:1664: RuntimeWarning: Degrees of freedom <= 0 for slice.\n",
      "  var = nanvar(a, axis=axis, dtype=dtype, out=out, ddof=ddof,\n",
      "/scratch/BENGUP/ML/DL_BN/Predictions/Web_V1.0/output/bn_3month_3_TEMPBNi_beng/src/bn.predictions_new.py:49: RuntimeWarning: Mean of empty slice\n",
      "  inpv1[i,3:6,:,:] = (inp1.TEMP100M_T_.sel(time=slice(ld_mn1,ld_mn2))-np.nanmean(inp1.TEMP100M_T_,0))/np.nanstd(inp1.TEMP100M_T_,0)\n"
     ]
    },
    {
     "name": "stdout",
     "output_type": "stream",
     "text": [
      "Using cpu device\n",
      "tensor([[ 0.0885],\n",
      "        [ 0.8088],\n",
      "        [-0.6236],\n",
      "        [ 0.5479]])\n",
      "/scratch/BENGUP/ML/DL_BN/Predictions/Web_V1.0/output/bn_3month_3_TEMPBNi_beng/C30H30/EN3/result.gdat\n",
      "Validation Done\n"
     ]
    },
    {
     "name": "stderr",
     "output_type": "stream",
     "text": [
      "/scratch/BENGUP/ML/DL_BN/Predictions/Web_V1.0/output/bn_3month_3_TEMPBNi_beng/src/bn.predictions_new.py:48: RuntimeWarning: Mean of empty slice\n",
      "  inpv1[i,0:3,:,:] = (inp1.SST_T_.sel(time=slice(ld_mn1,ld_mn2))-np.nanmean(inp1.SST_T_,0))/np.nanstd(inp1.SST_T_,0)\n",
      "/home/nay021/Software/anaconda3/lib/python3.8/site-packages/numpy/lib/nanfunctions.py:1664: RuntimeWarning: Degrees of freedom <= 0 for slice.\n",
      "  var = nanvar(a, axis=axis, dtype=dtype, out=out, ddof=ddof,\n",
      "/scratch/BENGUP/ML/DL_BN/Predictions/Web_V1.0/output/bn_3month_3_TEMPBNi_beng/src/bn.predictions_new.py:49: RuntimeWarning: Mean of empty slice\n",
      "  inpv1[i,3:6,:,:] = (inp1.TEMP100M_T_.sel(time=slice(ld_mn1,ld_mn2))-np.nanmean(inp1.TEMP100M_T_,0))/np.nanstd(inp1.TEMP100M_T_,0)\n"
     ]
    },
    {
     "name": "stdout",
     "output_type": "stream",
     "text": [
      "Using cpu device\n",
      "tensor([[ 0.2662],\n",
      "        [ 0.3077],\n",
      "        [ 0.0412],\n",
      "        [-0.0414]])\n",
      "/scratch/BENGUP/ML/DL_BN/Predictions/Web_V1.0/output/bn_3month_3_TEMPBNi_beng/C30H30/EN4/result.gdat\n",
      "Validation Done\n",
      "Using cpu device\n",
      "tensor([[-0.0916],\n",
      "        [ 0.4491],\n",
      "        [-0.4522],\n",
      "        [ 0.3870]])\n",
      "/scratch/BENGUP/ML/DL_BN/Predictions/Web_V1.0/output/bn_3month_3_TEMPBNi_beng/C30H30/EN5/result.gdat\n",
      "Validation Done\n"
     ]
    },
    {
     "name": "stderr",
     "output_type": "stream",
     "text": [
      "/scratch/BENGUP/ML/DL_BN/Predictions/Web_V1.0/output/bn_3month_3_TEMPBNi_beng/src/bn.predictions_new.py:48: RuntimeWarning: Mean of empty slice\n",
      "  inpv1[i,0:3,:,:] = (inp1.SST_T_.sel(time=slice(ld_mn1,ld_mn2))-np.nanmean(inp1.SST_T_,0))/np.nanstd(inp1.SST_T_,0)\n",
      "/home/nay021/Software/anaconda3/lib/python3.8/site-packages/numpy/lib/nanfunctions.py:1664: RuntimeWarning: Degrees of freedom <= 0 for slice.\n",
      "  var = nanvar(a, axis=axis, dtype=dtype, out=out, ddof=ddof,\n",
      "/scratch/BENGUP/ML/DL_BN/Predictions/Web_V1.0/output/bn_3month_3_TEMPBNi_beng/src/bn.predictions_new.py:49: RuntimeWarning: Mean of empty slice\n",
      "  inpv1[i,3:6,:,:] = (inp1.TEMP100M_T_.sel(time=slice(ld_mn1,ld_mn2))-np.nanmean(inp1.TEMP100M_T_,0))/np.nanstd(inp1.TEMP100M_T_,0)\n"
     ]
    },
    {
     "name": "stdout",
     "output_type": "stream",
     "text": [
      "bn_3month_4_TEMPBNi_beng\n",
      "Using cpu device\n",
      "tensor([[-0.2559],\n",
      "        [ 1.3729],\n",
      "        [ 0.4086],\n",
      "        [ 0.4604]])\n",
      "/scratch/BENGUP/ML/DL_BN/Predictions/Web_V1.0/output/bn_3month_4_TEMPBNi_beng/C30H30/EN1/result.gdat\n",
      "Validation Done\n"
     ]
    },
    {
     "name": "stderr",
     "output_type": "stream",
     "text": [
      "/scratch/BENGUP/ML/DL_BN/Predictions/Web_V1.0/output/bn_3month_4_TEMPBNi_beng/src/bn.predictions_new.py:48: RuntimeWarning: Mean of empty slice\n",
      "  inpv1[i,0:3,:,:] = (inp1.SST_T_.sel(time=slice(ld_mn1,ld_mn2))-np.nanmean(inp1.SST_T_,0))/np.nanstd(inp1.SST_T_,0)\n",
      "/home/nay021/Software/anaconda3/lib/python3.8/site-packages/numpy/lib/nanfunctions.py:1664: RuntimeWarning: Degrees of freedom <= 0 for slice.\n",
      "  var = nanvar(a, axis=axis, dtype=dtype, out=out, ddof=ddof,\n",
      "/scratch/BENGUP/ML/DL_BN/Predictions/Web_V1.0/output/bn_3month_4_TEMPBNi_beng/src/bn.predictions_new.py:49: RuntimeWarning: Mean of empty slice\n",
      "  inpv1[i,3:6,:,:] = (inp1.TEMP100M_T_.sel(time=slice(ld_mn1,ld_mn2))-np.nanmean(inp1.TEMP100M_T_,0))/np.nanstd(inp1.TEMP100M_T_,0)\n",
      "/scratch/BENGUP/ML/DL_BN/Predictions/Web_V1.0/output/bn_3month_4_TEMPBNi_beng/src/bn.predictions_new.py:48: RuntimeWarning: Mean of empty slice\n",
      "  inpv1[i,0:3,:,:] = (inp1.SST_T_.sel(time=slice(ld_mn1,ld_mn2))-np.nanmean(inp1.SST_T_,0))/np.nanstd(inp1.SST_T_,0)\n",
      "/home/nay021/Software/anaconda3/lib/python3.8/site-packages/numpy/lib/nanfunctions.py:1664: RuntimeWarning: Degrees of freedom <= 0 for slice.\n",
      "  var = nanvar(a, axis=axis, dtype=dtype, out=out, ddof=ddof,\n",
      "/scratch/BENGUP/ML/DL_BN/Predictions/Web_V1.0/output/bn_3month_4_TEMPBNi_beng/src/bn.predictions_new.py:49: RuntimeWarning: Mean of empty slice\n",
      "  inpv1[i,3:6,:,:] = (inp1.TEMP100M_T_.sel(time=slice(ld_mn1,ld_mn2))-np.nanmean(inp1.TEMP100M_T_,0))/np.nanstd(inp1.TEMP100M_T_,0)\n"
     ]
    },
    {
     "name": "stdout",
     "output_type": "stream",
     "text": [
      "Using cpu device\n",
      "tensor([[-0.9120],\n",
      "        [ 1.2753],\n",
      "        [-0.2345],\n",
      "        [ 0.0780]])\n",
      "/scratch/BENGUP/ML/DL_BN/Predictions/Web_V1.0/output/bn_3month_4_TEMPBNi_beng/C30H30/EN2/result.gdat\n",
      "Validation Done\n",
      "Using cpu device\n",
      "tensor([[-0.4834],\n",
      "        [ 0.5380],\n",
      "        [ 0.2942],\n",
      "        [ 0.3000]])\n",
      "/scratch/BENGUP/ML/DL_BN/Predictions/Web_V1.0/output/bn_3month_4_TEMPBNi_beng/C30H30/EN3/result.gdat\n",
      "Validation Done\n"
     ]
    },
    {
     "name": "stderr",
     "output_type": "stream",
     "text": [
      "/scratch/BENGUP/ML/DL_BN/Predictions/Web_V1.0/output/bn_3month_4_TEMPBNi_beng/src/bn.predictions_new.py:48: RuntimeWarning: Mean of empty slice\n",
      "  inpv1[i,0:3,:,:] = (inp1.SST_T_.sel(time=slice(ld_mn1,ld_mn2))-np.nanmean(inp1.SST_T_,0))/np.nanstd(inp1.SST_T_,0)\n",
      "/home/nay021/Software/anaconda3/lib/python3.8/site-packages/numpy/lib/nanfunctions.py:1664: RuntimeWarning: Degrees of freedom <= 0 for slice.\n",
      "  var = nanvar(a, axis=axis, dtype=dtype, out=out, ddof=ddof,\n",
      "/scratch/BENGUP/ML/DL_BN/Predictions/Web_V1.0/output/bn_3month_4_TEMPBNi_beng/src/bn.predictions_new.py:49: RuntimeWarning: Mean of empty slice\n",
      "  inpv1[i,3:6,:,:] = (inp1.TEMP100M_T_.sel(time=slice(ld_mn1,ld_mn2))-np.nanmean(inp1.TEMP100M_T_,0))/np.nanstd(inp1.TEMP100M_T_,0)\n",
      "/scratch/BENGUP/ML/DL_BN/Predictions/Web_V1.0/output/bn_3month_4_TEMPBNi_beng/src/bn.predictions_new.py:48: RuntimeWarning: Mean of empty slice\n",
      "  inpv1[i,0:3,:,:] = (inp1.SST_T_.sel(time=slice(ld_mn1,ld_mn2))-np.nanmean(inp1.SST_T_,0))/np.nanstd(inp1.SST_T_,0)\n",
      "/home/nay021/Software/anaconda3/lib/python3.8/site-packages/numpy/lib/nanfunctions.py:1664: RuntimeWarning: Degrees of freedom <= 0 for slice.\n",
      "  var = nanvar(a, axis=axis, dtype=dtype, out=out, ddof=ddof,\n",
      "/scratch/BENGUP/ML/DL_BN/Predictions/Web_V1.0/output/bn_3month_4_TEMPBNi_beng/src/bn.predictions_new.py:49: RuntimeWarning: Mean of empty slice\n",
      "  inpv1[i,3:6,:,:] = (inp1.TEMP100M_T_.sel(time=slice(ld_mn1,ld_mn2))-np.nanmean(inp1.TEMP100M_T_,0))/np.nanstd(inp1.TEMP100M_T_,0)\n"
     ]
    },
    {
     "name": "stdout",
     "output_type": "stream",
     "text": [
      "Using cpu device\n",
      "tensor([[-0.4088],\n",
      "        [ 1.5500],\n",
      "        [ 0.8819],\n",
      "        [ 0.1081]])\n",
      "/scratch/BENGUP/ML/DL_BN/Predictions/Web_V1.0/output/bn_3month_4_TEMPBNi_beng/C30H30/EN4/result.gdat\n",
      "Validation Done\n"
     ]
    },
    {
     "name": "stderr",
     "output_type": "stream",
     "text": [
      "/scratch/BENGUP/ML/DL_BN/Predictions/Web_V1.0/output/bn_3month_4_TEMPBNi_beng/src/bn.predictions_new.py:48: RuntimeWarning: Mean of empty slice\n",
      "  inpv1[i,0:3,:,:] = (inp1.SST_T_.sel(time=slice(ld_mn1,ld_mn2))-np.nanmean(inp1.SST_T_,0))/np.nanstd(inp1.SST_T_,0)\n",
      "/home/nay021/Software/anaconda3/lib/python3.8/site-packages/numpy/lib/nanfunctions.py:1664: RuntimeWarning: Degrees of freedom <= 0 for slice.\n",
      "  var = nanvar(a, axis=axis, dtype=dtype, out=out, ddof=ddof,\n",
      "/scratch/BENGUP/ML/DL_BN/Predictions/Web_V1.0/output/bn_3month_4_TEMPBNi_beng/src/bn.predictions_new.py:49: RuntimeWarning: Mean of empty slice\n",
      "  inpv1[i,3:6,:,:] = (inp1.TEMP100M_T_.sel(time=slice(ld_mn1,ld_mn2))-np.nanmean(inp1.TEMP100M_T_,0))/np.nanstd(inp1.TEMP100M_T_,0)\n"
     ]
    },
    {
     "name": "stdout",
     "output_type": "stream",
     "text": [
      "Using cpu device\n",
      "tensor([[-0.8170],\n",
      "        [ 0.6485],\n",
      "        [ 0.2226],\n",
      "        [ 0.4057]])\n",
      "/scratch/BENGUP/ML/DL_BN/Predictions/Web_V1.0/output/bn_3month_4_TEMPBNi_beng/C30H30/EN5/result.gdat\n",
      "Validation Done\n",
      "bn_3month_5_TEMPBNi_beng\n",
      "Using cpu device\n",
      "tensor([[-0.7393],\n",
      "        [ 0.3658],\n",
      "        [ 0.0636],\n",
      "        [ 0.2383]])\n",
      "/scratch/BENGUP/ML/DL_BN/Predictions/Web_V1.0/output/bn_3month_5_TEMPBNi_beng/C30H30/EN1/result.gdat\n",
      "Validation Done\n"
     ]
    },
    {
     "name": "stderr",
     "output_type": "stream",
     "text": [
      "/scratch/BENGUP/ML/DL_BN/Predictions/Web_V1.0/output/bn_3month_5_TEMPBNi_beng/src/bn.predictions_new.py:48: RuntimeWarning: Mean of empty slice\n",
      "  inpv1[i,0:3,:,:] = (inp1.SST_T_.sel(time=slice(ld_mn1,ld_mn2))-np.nanmean(inp1.SST_T_,0))/np.nanstd(inp1.SST_T_,0)\n",
      "/home/nay021/Software/anaconda3/lib/python3.8/site-packages/numpy/lib/nanfunctions.py:1664: RuntimeWarning: Degrees of freedom <= 0 for slice.\n",
      "  var = nanvar(a, axis=axis, dtype=dtype, out=out, ddof=ddof,\n",
      "/scratch/BENGUP/ML/DL_BN/Predictions/Web_V1.0/output/bn_3month_5_TEMPBNi_beng/src/bn.predictions_new.py:49: RuntimeWarning: Mean of empty slice\n",
      "  inpv1[i,3:6,:,:] = (inp1.TEMP100M_T_.sel(time=slice(ld_mn1,ld_mn2))-np.nanmean(inp1.TEMP100M_T_,0))/np.nanstd(inp1.TEMP100M_T_,0)\n",
      "/scratch/BENGUP/ML/DL_BN/Predictions/Web_V1.0/output/bn_3month_5_TEMPBNi_beng/src/bn.predictions_new.py:48: RuntimeWarning: Mean of empty slice\n",
      "  inpv1[i,0:3,:,:] = (inp1.SST_T_.sel(time=slice(ld_mn1,ld_mn2))-np.nanmean(inp1.SST_T_,0))/np.nanstd(inp1.SST_T_,0)\n",
      "/home/nay021/Software/anaconda3/lib/python3.8/site-packages/numpy/lib/nanfunctions.py:1664: RuntimeWarning: Degrees of freedom <= 0 for slice.\n",
      "  var = nanvar(a, axis=axis, dtype=dtype, out=out, ddof=ddof,\n",
      "/scratch/BENGUP/ML/DL_BN/Predictions/Web_V1.0/output/bn_3month_5_TEMPBNi_beng/src/bn.predictions_new.py:49: RuntimeWarning: Mean of empty slice\n",
      "  inpv1[i,3:6,:,:] = (inp1.TEMP100M_T_.sel(time=slice(ld_mn1,ld_mn2))-np.nanmean(inp1.TEMP100M_T_,0))/np.nanstd(inp1.TEMP100M_T_,0)\n"
     ]
    },
    {
     "name": "stdout",
     "output_type": "stream",
     "text": [
      "Using cpu device\n",
      "tensor([[-0.6614],\n",
      "        [ 0.8853],\n",
      "        [ 0.3406],\n",
      "        [ 0.5820]])\n",
      "/scratch/BENGUP/ML/DL_BN/Predictions/Web_V1.0/output/bn_3month_5_TEMPBNi_beng/C30H30/EN2/result.gdat\n",
      "Validation Done\n"
     ]
    },
    {
     "name": "stderr",
     "output_type": "stream",
     "text": [
      "/scratch/BENGUP/ML/DL_BN/Predictions/Web_V1.0/output/bn_3month_5_TEMPBNi_beng/src/bn.predictions_new.py:48: RuntimeWarning: Mean of empty slice\n",
      "  inpv1[i,0:3,:,:] = (inp1.SST_T_.sel(time=slice(ld_mn1,ld_mn2))-np.nanmean(inp1.SST_T_,0))/np.nanstd(inp1.SST_T_,0)\n",
      "/home/nay021/Software/anaconda3/lib/python3.8/site-packages/numpy/lib/nanfunctions.py:1664: RuntimeWarning: Degrees of freedom <= 0 for slice.\n",
      "  var = nanvar(a, axis=axis, dtype=dtype, out=out, ddof=ddof,\n",
      "/scratch/BENGUP/ML/DL_BN/Predictions/Web_V1.0/output/bn_3month_5_TEMPBNi_beng/src/bn.predictions_new.py:49: RuntimeWarning: Mean of empty slice\n",
      "  inpv1[i,3:6,:,:] = (inp1.TEMP100M_T_.sel(time=slice(ld_mn1,ld_mn2))-np.nanmean(inp1.TEMP100M_T_,0))/np.nanstd(inp1.TEMP100M_T_,0)\n"
     ]
    },
    {
     "name": "stdout",
     "output_type": "stream",
     "text": [
      "Using cpu device\n",
      "tensor([[-0.8737],\n",
      "        [ 0.7967],\n",
      "        [-0.1378],\n",
      "        [ 0.2653]])\n",
      "/scratch/BENGUP/ML/DL_BN/Predictions/Web_V1.0/output/bn_3month_5_TEMPBNi_beng/C30H30/EN3/result.gdat\n",
      "Validation Done\n"
     ]
    },
    {
     "name": "stderr",
     "output_type": "stream",
     "text": [
      "/scratch/BENGUP/ML/DL_BN/Predictions/Web_V1.0/output/bn_3month_5_TEMPBNi_beng/src/bn.predictions_new.py:48: RuntimeWarning: Mean of empty slice\n",
      "  inpv1[i,0:3,:,:] = (inp1.SST_T_.sel(time=slice(ld_mn1,ld_mn2))-np.nanmean(inp1.SST_T_,0))/np.nanstd(inp1.SST_T_,0)\n",
      "/home/nay021/Software/anaconda3/lib/python3.8/site-packages/numpy/lib/nanfunctions.py:1664: RuntimeWarning: Degrees of freedom <= 0 for slice.\n",
      "  var = nanvar(a, axis=axis, dtype=dtype, out=out, ddof=ddof,\n",
      "/scratch/BENGUP/ML/DL_BN/Predictions/Web_V1.0/output/bn_3month_5_TEMPBNi_beng/src/bn.predictions_new.py:49: RuntimeWarning: Mean of empty slice\n",
      "  inpv1[i,3:6,:,:] = (inp1.TEMP100M_T_.sel(time=slice(ld_mn1,ld_mn2))-np.nanmean(inp1.TEMP100M_T_,0))/np.nanstd(inp1.TEMP100M_T_,0)\n"
     ]
    },
    {
     "name": "stdout",
     "output_type": "stream",
     "text": [
      "Using cpu device\n",
      "tensor([[-1.2875],\n",
      "        [ 0.4145],\n",
      "        [-0.3948],\n",
      "        [-0.3310]])\n",
      "/scratch/BENGUP/ML/DL_BN/Predictions/Web_V1.0/output/bn_3month_5_TEMPBNi_beng/C30H30/EN4/result.gdat\n",
      "Validation Done\n",
      "Using cpu device\n",
      "tensor([[-1.2482],\n",
      "        [ 0.2794],\n",
      "        [-1.0487],\n",
      "        [-0.3370]])\n",
      "/scratch/BENGUP/ML/DL_BN/Predictions/Web_V1.0/output/bn_3month_5_TEMPBNi_beng/C30H30/EN5/result.gdat\n",
      "Validation Done\n"
     ]
    },
    {
     "name": "stderr",
     "output_type": "stream",
     "text": [
      "/scratch/BENGUP/ML/DL_BN/Predictions/Web_V1.0/output/bn_3month_5_TEMPBNi_beng/src/bn.predictions_new.py:48: RuntimeWarning: Mean of empty slice\n",
      "  inpv1[i,0:3,:,:] = (inp1.SST_T_.sel(time=slice(ld_mn1,ld_mn2))-np.nanmean(inp1.SST_T_,0))/np.nanstd(inp1.SST_T_,0)\n",
      "/home/nay021/Software/anaconda3/lib/python3.8/site-packages/numpy/lib/nanfunctions.py:1664: RuntimeWarning: Degrees of freedom <= 0 for slice.\n",
      "  var = nanvar(a, axis=axis, dtype=dtype, out=out, ddof=ddof,\n",
      "/scratch/BENGUP/ML/DL_BN/Predictions/Web_V1.0/output/bn_3month_5_TEMPBNi_beng/src/bn.predictions_new.py:49: RuntimeWarning: Mean of empty slice\n",
      "  inpv1[i,3:6,:,:] = (inp1.TEMP100M_T_.sel(time=slice(ld_mn1,ld_mn2))-np.nanmean(inp1.TEMP100M_T_,0))/np.nanstd(inp1.TEMP100M_T_,0)\n"
     ]
    },
    {
     "name": "stdout",
     "output_type": "stream",
     "text": [
      "bn_3month_6_TEMPBNi_beng\n"
     ]
    },
    {
     "name": "stderr",
     "output_type": "stream",
     "text": [
      "/scratch/BENGUP/ML/DL_BN/Predictions/Web_V1.0/output/bn_3month_6_TEMPBNi_beng/src/bn.predictions_new.py:48: RuntimeWarning: Mean of empty slice\n",
      "  inpv1[i,0:3,:,:] = (inp1.SST_T_.sel(time=slice(ld_mn1,ld_mn2))-np.nanmean(inp1.SST_T_,0))/np.nanstd(inp1.SST_T_,0)\n",
      "/home/nay021/Software/anaconda3/lib/python3.8/site-packages/numpy/lib/nanfunctions.py:1664: RuntimeWarning: Degrees of freedom <= 0 for slice.\n",
      "  var = nanvar(a, axis=axis, dtype=dtype, out=out, ddof=ddof,\n",
      "/scratch/BENGUP/ML/DL_BN/Predictions/Web_V1.0/output/bn_3month_6_TEMPBNi_beng/src/bn.predictions_new.py:49: RuntimeWarning: Mean of empty slice\n",
      "  inpv1[i,3:6,:,:] = (inp1.TEMP100M_T_.sel(time=slice(ld_mn1,ld_mn2))-np.nanmean(inp1.TEMP100M_T_,0))/np.nanstd(inp1.TEMP100M_T_,0)\n"
     ]
    },
    {
     "name": "stdout",
     "output_type": "stream",
     "text": [
      "Using cpu device\n",
      "tensor([[-0.6012],\n",
      "        [ 0.0545],\n",
      "        [ 1.0976],\n",
      "        [ 1.1238]])\n",
      "/scratch/BENGUP/ML/DL_BN/Predictions/Web_V1.0/output/bn_3month_6_TEMPBNi_beng/C30H30/EN1/result.gdat\n",
      "Validation Done\n",
      "Using cpu device\n",
      "tensor([[-0.9149],\n",
      "        [ 0.1469],\n",
      "        [-0.0044],\n",
      "        [ 0.2680]])\n",
      "/scratch/BENGUP/ML/DL_BN/Predictions/Web_V1.0/output/bn_3month_6_TEMPBNi_beng/C30H30/EN2/result.gdat\n",
      "Validation Done\n"
     ]
    },
    {
     "name": "stderr",
     "output_type": "stream",
     "text": [
      "/scratch/BENGUP/ML/DL_BN/Predictions/Web_V1.0/output/bn_3month_6_TEMPBNi_beng/src/bn.predictions_new.py:48: RuntimeWarning: Mean of empty slice\n",
      "  inpv1[i,0:3,:,:] = (inp1.SST_T_.sel(time=slice(ld_mn1,ld_mn2))-np.nanmean(inp1.SST_T_,0))/np.nanstd(inp1.SST_T_,0)\n",
      "/home/nay021/Software/anaconda3/lib/python3.8/site-packages/numpy/lib/nanfunctions.py:1664: RuntimeWarning: Degrees of freedom <= 0 for slice.\n",
      "  var = nanvar(a, axis=axis, dtype=dtype, out=out, ddof=ddof,\n",
      "/scratch/BENGUP/ML/DL_BN/Predictions/Web_V1.0/output/bn_3month_6_TEMPBNi_beng/src/bn.predictions_new.py:49: RuntimeWarning: Mean of empty slice\n",
      "  inpv1[i,3:6,:,:] = (inp1.TEMP100M_T_.sel(time=slice(ld_mn1,ld_mn2))-np.nanmean(inp1.TEMP100M_T_,0))/np.nanstd(inp1.TEMP100M_T_,0)\n",
      "/scratch/BENGUP/ML/DL_BN/Predictions/Web_V1.0/output/bn_3month_6_TEMPBNi_beng/src/bn.predictions_new.py:48: RuntimeWarning: Mean of empty slice\n",
      "  inpv1[i,0:3,:,:] = (inp1.SST_T_.sel(time=slice(ld_mn1,ld_mn2))-np.nanmean(inp1.SST_T_,0))/np.nanstd(inp1.SST_T_,0)\n",
      "/home/nay021/Software/anaconda3/lib/python3.8/site-packages/numpy/lib/nanfunctions.py:1664: RuntimeWarning: Degrees of freedom <= 0 for slice.\n",
      "  var = nanvar(a, axis=axis, dtype=dtype, out=out, ddof=ddof,\n",
      "/scratch/BENGUP/ML/DL_BN/Predictions/Web_V1.0/output/bn_3month_6_TEMPBNi_beng/src/bn.predictions_new.py:49: RuntimeWarning: Mean of empty slice\n",
      "  inpv1[i,3:6,:,:] = (inp1.TEMP100M_T_.sel(time=slice(ld_mn1,ld_mn2))-np.nanmean(inp1.TEMP100M_T_,0))/np.nanstd(inp1.TEMP100M_T_,0)\n"
     ]
    },
    {
     "name": "stdout",
     "output_type": "stream",
     "text": [
      "Using cpu device\n",
      "tensor([[-0.8230],\n",
      "        [ 0.0270],\n",
      "        [ 0.0304],\n",
      "        [ 0.5653]])\n",
      "/scratch/BENGUP/ML/DL_BN/Predictions/Web_V1.0/output/bn_3month_6_TEMPBNi_beng/C30H30/EN3/result.gdat\n",
      "Validation Done\n"
     ]
    },
    {
     "name": "stderr",
     "output_type": "stream",
     "text": [
      "/scratch/BENGUP/ML/DL_BN/Predictions/Web_V1.0/output/bn_3month_6_TEMPBNi_beng/src/bn.predictions_new.py:48: RuntimeWarning: Mean of empty slice\n",
      "  inpv1[i,0:3,:,:] = (inp1.SST_T_.sel(time=slice(ld_mn1,ld_mn2))-np.nanmean(inp1.SST_T_,0))/np.nanstd(inp1.SST_T_,0)\n",
      "/home/nay021/Software/anaconda3/lib/python3.8/site-packages/numpy/lib/nanfunctions.py:1664: RuntimeWarning: Degrees of freedom <= 0 for slice.\n",
      "  var = nanvar(a, axis=axis, dtype=dtype, out=out, ddof=ddof,\n",
      "/scratch/BENGUP/ML/DL_BN/Predictions/Web_V1.0/output/bn_3month_6_TEMPBNi_beng/src/bn.predictions_new.py:49: RuntimeWarning: Mean of empty slice\n",
      "  inpv1[i,3:6,:,:] = (inp1.TEMP100M_T_.sel(time=slice(ld_mn1,ld_mn2))-np.nanmean(inp1.TEMP100M_T_,0))/np.nanstd(inp1.TEMP100M_T_,0)\n"
     ]
    },
    {
     "name": "stdout",
     "output_type": "stream",
     "text": [
      "Using cpu device\n",
      "tensor([[-0.7305],\n",
      "        [-0.1707],\n",
      "        [ 0.3859],\n",
      "        [ 0.2845]])\n",
      "/scratch/BENGUP/ML/DL_BN/Predictions/Web_V1.0/output/bn_3month_6_TEMPBNi_beng/C30H30/EN4/result.gdat\n",
      "Validation Done\n"
     ]
    },
    {
     "name": "stderr",
     "output_type": "stream",
     "text": [
      "/scratch/BENGUP/ML/DL_BN/Predictions/Web_V1.0/output/bn_3month_6_TEMPBNi_beng/src/bn.predictions_new.py:48: RuntimeWarning: Mean of empty slice\n",
      "  inpv1[i,0:3,:,:] = (inp1.SST_T_.sel(time=slice(ld_mn1,ld_mn2))-np.nanmean(inp1.SST_T_,0))/np.nanstd(inp1.SST_T_,0)\n",
      "/home/nay021/Software/anaconda3/lib/python3.8/site-packages/numpy/lib/nanfunctions.py:1664: RuntimeWarning: Degrees of freedom <= 0 for slice.\n",
      "  var = nanvar(a, axis=axis, dtype=dtype, out=out, ddof=ddof,\n",
      "/scratch/BENGUP/ML/DL_BN/Predictions/Web_V1.0/output/bn_3month_6_TEMPBNi_beng/src/bn.predictions_new.py:49: RuntimeWarning: Mean of empty slice\n",
      "  inpv1[i,3:6,:,:] = (inp1.TEMP100M_T_.sel(time=slice(ld_mn1,ld_mn2))-np.nanmean(inp1.TEMP100M_T_,0))/np.nanstd(inp1.TEMP100M_T_,0)\n"
     ]
    },
    {
     "name": "stdout",
     "output_type": "stream",
     "text": [
      "Using cpu device\n",
      "tensor([[ 0.1850],\n",
      "        [-0.2851],\n",
      "        [ 0.3518],\n",
      "        [ 0.9034]])\n",
      "/scratch/BENGUP/ML/DL_BN/Predictions/Web_V1.0/output/bn_3month_6_TEMPBNi_beng/C30H30/EN5/result.gdat\n",
      "Validation Done\n",
      "bn_3month_7_TEMPBNi_beng\n"
     ]
    },
    {
     "name": "stderr",
     "output_type": "stream",
     "text": [
      "/scratch/BENGUP/ML/DL_BN/Predictions/Web_V1.0/output/bn_3month_7_TEMPBNi_beng/src/bn.predictions_new.py:48: RuntimeWarning: Mean of empty slice\n",
      "  inpv1[i,0:3,:,:] = (inp1.SST_T_.sel(time=slice(ld_mn1,ld_mn2))-np.nanmean(inp1.SST_T_,0))/np.nanstd(inp1.SST_T_,0)\n",
      "/home/nay021/Software/anaconda3/lib/python3.8/site-packages/numpy/lib/nanfunctions.py:1664: RuntimeWarning: Degrees of freedom <= 0 for slice.\n",
      "  var = nanvar(a, axis=axis, dtype=dtype, out=out, ddof=ddof,\n",
      "/scratch/BENGUP/ML/DL_BN/Predictions/Web_V1.0/output/bn_3month_7_TEMPBNi_beng/src/bn.predictions_new.py:49: RuntimeWarning: Mean of empty slice\n",
      "  inpv1[i,3:6,:,:] = (inp1.TEMP100M_T_.sel(time=slice(ld_mn1,ld_mn2))-np.nanmean(inp1.TEMP100M_T_,0))/np.nanstd(inp1.TEMP100M_T_,0)\n"
     ]
    },
    {
     "name": "stdout",
     "output_type": "stream",
     "text": [
      "Using cpu device\n",
      "tensor([[0.0099],\n",
      "        [0.7780],\n",
      "        [0.2412],\n",
      "        [0.4916]])\n",
      "/scratch/BENGUP/ML/DL_BN/Predictions/Web_V1.0/output/bn_3month_7_TEMPBNi_beng/C30H30/EN1/result.gdat\n",
      "Validation Done\n",
      "Using cpu device\n",
      "tensor([[-0.1615],\n",
      "        [ 0.8251],\n",
      "        [ 0.1190],\n",
      "        [ 0.8596]])\n",
      "/scratch/BENGUP/ML/DL_BN/Predictions/Web_V1.0/output/bn_3month_7_TEMPBNi_beng/C30H30/EN2/result.gdat\n",
      "Validation Done\n"
     ]
    },
    {
     "name": "stderr",
     "output_type": "stream",
     "text": [
      "/scratch/BENGUP/ML/DL_BN/Predictions/Web_V1.0/output/bn_3month_7_TEMPBNi_beng/src/bn.predictions_new.py:48: RuntimeWarning: Mean of empty slice\n",
      "  inpv1[i,0:3,:,:] = (inp1.SST_T_.sel(time=slice(ld_mn1,ld_mn2))-np.nanmean(inp1.SST_T_,0))/np.nanstd(inp1.SST_T_,0)\n",
      "/home/nay021/Software/anaconda3/lib/python3.8/site-packages/numpy/lib/nanfunctions.py:1664: RuntimeWarning: Degrees of freedom <= 0 for slice.\n",
      "  var = nanvar(a, axis=axis, dtype=dtype, out=out, ddof=ddof,\n",
      "/scratch/BENGUP/ML/DL_BN/Predictions/Web_V1.0/output/bn_3month_7_TEMPBNi_beng/src/bn.predictions_new.py:49: RuntimeWarning: Mean of empty slice\n",
      "  inpv1[i,3:6,:,:] = (inp1.TEMP100M_T_.sel(time=slice(ld_mn1,ld_mn2))-np.nanmean(inp1.TEMP100M_T_,0))/np.nanstd(inp1.TEMP100M_T_,0)\n",
      "/scratch/BENGUP/ML/DL_BN/Predictions/Web_V1.0/output/bn_3month_7_TEMPBNi_beng/src/bn.predictions_new.py:48: RuntimeWarning: Mean of empty slice\n",
      "  inpv1[i,0:3,:,:] = (inp1.SST_T_.sel(time=slice(ld_mn1,ld_mn2))-np.nanmean(inp1.SST_T_,0))/np.nanstd(inp1.SST_T_,0)\n",
      "/home/nay021/Software/anaconda3/lib/python3.8/site-packages/numpy/lib/nanfunctions.py:1664: RuntimeWarning: Degrees of freedom <= 0 for slice.\n",
      "  var = nanvar(a, axis=axis, dtype=dtype, out=out, ddof=ddof,\n",
      "/scratch/BENGUP/ML/DL_BN/Predictions/Web_V1.0/output/bn_3month_7_TEMPBNi_beng/src/bn.predictions_new.py:49: RuntimeWarning: Mean of empty slice\n",
      "  inpv1[i,3:6,:,:] = (inp1.TEMP100M_T_.sel(time=slice(ld_mn1,ld_mn2))-np.nanmean(inp1.TEMP100M_T_,0))/np.nanstd(inp1.TEMP100M_T_,0)\n"
     ]
    },
    {
     "name": "stdout",
     "output_type": "stream",
     "text": [
      "Using cpu device\n",
      "tensor([[0.3104],\n",
      "        [0.7633],\n",
      "        [0.0599],\n",
      "        [0.7280]])\n",
      "/scratch/BENGUP/ML/DL_BN/Predictions/Web_V1.0/output/bn_3month_7_TEMPBNi_beng/C30H30/EN3/result.gdat\n",
      "Validation Done\n",
      "Using cpu device\n",
      "tensor([[-0.0340],\n",
      "        [ 0.7062],\n",
      "        [ 0.5992],\n",
      "        [ 0.3698]])\n",
      "/scratch/BENGUP/ML/DL_BN/Predictions/Web_V1.0/output/bn_3month_7_TEMPBNi_beng/C30H30/EN4/result.gdat\n",
      "Validation Done\n"
     ]
    },
    {
     "name": "stderr",
     "output_type": "stream",
     "text": [
      "/scratch/BENGUP/ML/DL_BN/Predictions/Web_V1.0/output/bn_3month_7_TEMPBNi_beng/src/bn.predictions_new.py:48: RuntimeWarning: Mean of empty slice\n",
      "  inpv1[i,0:3,:,:] = (inp1.SST_T_.sel(time=slice(ld_mn1,ld_mn2))-np.nanmean(inp1.SST_T_,0))/np.nanstd(inp1.SST_T_,0)\n",
      "/home/nay021/Software/anaconda3/lib/python3.8/site-packages/numpy/lib/nanfunctions.py:1664: RuntimeWarning: Degrees of freedom <= 0 for slice.\n",
      "  var = nanvar(a, axis=axis, dtype=dtype, out=out, ddof=ddof,\n",
      "/scratch/BENGUP/ML/DL_BN/Predictions/Web_V1.0/output/bn_3month_7_TEMPBNi_beng/src/bn.predictions_new.py:49: RuntimeWarning: Mean of empty slice\n",
      "  inpv1[i,3:6,:,:] = (inp1.TEMP100M_T_.sel(time=slice(ld_mn1,ld_mn2))-np.nanmean(inp1.TEMP100M_T_,0))/np.nanstd(inp1.TEMP100M_T_,0)\n",
      "/scratch/BENGUP/ML/DL_BN/Predictions/Web_V1.0/output/bn_3month_7_TEMPBNi_beng/src/bn.predictions_new.py:48: RuntimeWarning: Mean of empty slice\n",
      "  inpv1[i,0:3,:,:] = (inp1.SST_T_.sel(time=slice(ld_mn1,ld_mn2))-np.nanmean(inp1.SST_T_,0))/np.nanstd(inp1.SST_T_,0)\n",
      "/home/nay021/Software/anaconda3/lib/python3.8/site-packages/numpy/lib/nanfunctions.py:1664: RuntimeWarning: Degrees of freedom <= 0 for slice.\n",
      "  var = nanvar(a, axis=axis, dtype=dtype, out=out, ddof=ddof,\n",
      "/scratch/BENGUP/ML/DL_BN/Predictions/Web_V1.0/output/bn_3month_7_TEMPBNi_beng/src/bn.predictions_new.py:49: RuntimeWarning: Mean of empty slice\n",
      "  inpv1[i,3:6,:,:] = (inp1.TEMP100M_T_.sel(time=slice(ld_mn1,ld_mn2))-np.nanmean(inp1.TEMP100M_T_,0))/np.nanstd(inp1.TEMP100M_T_,0)\n"
     ]
    },
    {
     "name": "stdout",
     "output_type": "stream",
     "text": [
      "Using cpu device\n",
      "tensor([[-0.2257],\n",
      "        [ 0.7627],\n",
      "        [ 0.2945],\n",
      "        [ 0.8414]])\n",
      "/scratch/BENGUP/ML/DL_BN/Predictions/Web_V1.0/output/bn_3month_7_TEMPBNi_beng/C30H30/EN5/result.gdat\n",
      "Validation Done\n",
      "bn_3month_8_TEMPBNi_beng\n",
      "Using cpu device\n",
      "tensor([[ 0.1654],\n",
      "        [ 0.4926],\n",
      "        [ 0.1817],\n",
      "        [-0.2246]])\n",
      "/scratch/BENGUP/ML/DL_BN/Predictions/Web_V1.0/output/bn_3month_8_TEMPBNi_beng/C30H30/EN1/result.gdat\n",
      "Validation Done\n"
     ]
    },
    {
     "name": "stderr",
     "output_type": "stream",
     "text": [
      "/scratch/BENGUP/ML/DL_BN/Predictions/Web_V1.0/output/bn_3month_8_TEMPBNi_beng/src/bn.predictions_new.py:48: RuntimeWarning: Mean of empty slice\n",
      "  inpv1[i,0:3,:,:] = (inp1.SST_T_.sel(time=slice(ld_mn1,ld_mn2))-np.nanmean(inp1.SST_T_,0))/np.nanstd(inp1.SST_T_,0)\n",
      "/home/nay021/Software/anaconda3/lib/python3.8/site-packages/numpy/lib/nanfunctions.py:1664: RuntimeWarning: Degrees of freedom <= 0 for slice.\n",
      "  var = nanvar(a, axis=axis, dtype=dtype, out=out, ddof=ddof,\n",
      "/scratch/BENGUP/ML/DL_BN/Predictions/Web_V1.0/output/bn_3month_8_TEMPBNi_beng/src/bn.predictions_new.py:49: RuntimeWarning: Mean of empty slice\n",
      "  inpv1[i,3:6,:,:] = (inp1.TEMP100M_T_.sel(time=slice(ld_mn1,ld_mn2))-np.nanmean(inp1.TEMP100M_T_,0))/np.nanstd(inp1.TEMP100M_T_,0)\n",
      "/scratch/BENGUP/ML/DL_BN/Predictions/Web_V1.0/output/bn_3month_8_TEMPBNi_beng/src/bn.predictions_new.py:48: RuntimeWarning: Mean of empty slice\n",
      "  inpv1[i,0:3,:,:] = (inp1.SST_T_.sel(time=slice(ld_mn1,ld_mn2))-np.nanmean(inp1.SST_T_,0))/np.nanstd(inp1.SST_T_,0)\n",
      "/home/nay021/Software/anaconda3/lib/python3.8/site-packages/numpy/lib/nanfunctions.py:1664: RuntimeWarning: Degrees of freedom <= 0 for slice.\n",
      "  var = nanvar(a, axis=axis, dtype=dtype, out=out, ddof=ddof,\n",
      "/scratch/BENGUP/ML/DL_BN/Predictions/Web_V1.0/output/bn_3month_8_TEMPBNi_beng/src/bn.predictions_new.py:49: RuntimeWarning: Mean of empty slice\n",
      "  inpv1[i,3:6,:,:] = (inp1.TEMP100M_T_.sel(time=slice(ld_mn1,ld_mn2))-np.nanmean(inp1.TEMP100M_T_,0))/np.nanstd(inp1.TEMP100M_T_,0)\n"
     ]
    },
    {
     "name": "stdout",
     "output_type": "stream",
     "text": [
      "Using cpu device\n",
      "tensor([[-0.0626],\n",
      "        [ 0.4580],\n",
      "        [ 0.1078],\n",
      "        [-0.1139]])\n",
      "/scratch/BENGUP/ML/DL_BN/Predictions/Web_V1.0/output/bn_3month_8_TEMPBNi_beng/C30H30/EN2/result.gdat\n",
      "Validation Done\n",
      "Using cpu device\n",
      "tensor([[-0.1798],\n",
      "        [ 0.2140],\n",
      "        [-0.0412],\n",
      "        [-0.3771]])\n",
      "/scratch/BENGUP/ML/DL_BN/Predictions/Web_V1.0/output/bn_3month_8_TEMPBNi_beng/C30H30/EN3/result.gdat\n",
      "Validation Done\n"
     ]
    },
    {
     "name": "stderr",
     "output_type": "stream",
     "text": [
      "/scratch/BENGUP/ML/DL_BN/Predictions/Web_V1.0/output/bn_3month_8_TEMPBNi_beng/src/bn.predictions_new.py:48: RuntimeWarning: Mean of empty slice\n",
      "  inpv1[i,0:3,:,:] = (inp1.SST_T_.sel(time=slice(ld_mn1,ld_mn2))-np.nanmean(inp1.SST_T_,0))/np.nanstd(inp1.SST_T_,0)\n",
      "/home/nay021/Software/anaconda3/lib/python3.8/site-packages/numpy/lib/nanfunctions.py:1664: RuntimeWarning: Degrees of freedom <= 0 for slice.\n",
      "  var = nanvar(a, axis=axis, dtype=dtype, out=out, ddof=ddof,\n",
      "/scratch/BENGUP/ML/DL_BN/Predictions/Web_V1.0/output/bn_3month_8_TEMPBNi_beng/src/bn.predictions_new.py:49: RuntimeWarning: Mean of empty slice\n",
      "  inpv1[i,3:6,:,:] = (inp1.TEMP100M_T_.sel(time=slice(ld_mn1,ld_mn2))-np.nanmean(inp1.TEMP100M_T_,0))/np.nanstd(inp1.TEMP100M_T_,0)\n",
      "/scratch/BENGUP/ML/DL_BN/Predictions/Web_V1.0/output/bn_3month_8_TEMPBNi_beng/src/bn.predictions_new.py:48: RuntimeWarning: Mean of empty slice\n",
      "  inpv1[i,0:3,:,:] = (inp1.SST_T_.sel(time=slice(ld_mn1,ld_mn2))-np.nanmean(inp1.SST_T_,0))/np.nanstd(inp1.SST_T_,0)\n",
      "/home/nay021/Software/anaconda3/lib/python3.8/site-packages/numpy/lib/nanfunctions.py:1664: RuntimeWarning: Degrees of freedom <= 0 for slice.\n",
      "  var = nanvar(a, axis=axis, dtype=dtype, out=out, ddof=ddof,\n",
      "/scratch/BENGUP/ML/DL_BN/Predictions/Web_V1.0/output/bn_3month_8_TEMPBNi_beng/src/bn.predictions_new.py:49: RuntimeWarning: Mean of empty slice\n",
      "  inpv1[i,3:6,:,:] = (inp1.TEMP100M_T_.sel(time=slice(ld_mn1,ld_mn2))-np.nanmean(inp1.TEMP100M_T_,0))/np.nanstd(inp1.TEMP100M_T_,0)\n"
     ]
    },
    {
     "name": "stdout",
     "output_type": "stream",
     "text": [
      "Using cpu device\n",
      "tensor([[ 0.0819],\n",
      "        [ 0.2089],\n",
      "        [-0.2565],\n",
      "        [ 0.0782]])\n",
      "/scratch/BENGUP/ML/DL_BN/Predictions/Web_V1.0/output/bn_3month_8_TEMPBNi_beng/C30H30/EN4/result.gdat\n",
      "Validation Done\n",
      "Using cpu device\n",
      "tensor([[ 0.4850],\n",
      "        [ 0.6036],\n",
      "        [ 0.1008],\n",
      "        [-0.3732]])\n",
      "/scratch/BENGUP/ML/DL_BN/Predictions/Web_V1.0/output/bn_3month_8_TEMPBNi_beng/C30H30/EN5/result.gdat\n",
      "Validation Done\n"
     ]
    },
    {
     "name": "stderr",
     "output_type": "stream",
     "text": [
      "/scratch/BENGUP/ML/DL_BN/Predictions/Web_V1.0/output/bn_3month_8_TEMPBNi_beng/src/bn.predictions_new.py:48: RuntimeWarning: Mean of empty slice\n",
      "  inpv1[i,0:3,:,:] = (inp1.SST_T_.sel(time=slice(ld_mn1,ld_mn2))-np.nanmean(inp1.SST_T_,0))/np.nanstd(inp1.SST_T_,0)\n",
      "/home/nay021/Software/anaconda3/lib/python3.8/site-packages/numpy/lib/nanfunctions.py:1664: RuntimeWarning: Degrees of freedom <= 0 for slice.\n",
      "  var = nanvar(a, axis=axis, dtype=dtype, out=out, ddof=ddof,\n",
      "/scratch/BENGUP/ML/DL_BN/Predictions/Web_V1.0/output/bn_3month_8_TEMPBNi_beng/src/bn.predictions_new.py:49: RuntimeWarning: Mean of empty slice\n",
      "  inpv1[i,3:6,:,:] = (inp1.TEMP100M_T_.sel(time=slice(ld_mn1,ld_mn2))-np.nanmean(inp1.TEMP100M_T_,0))/np.nanstd(inp1.TEMP100M_T_,0)\n"
     ]
    },
    {
     "name": "stdout",
     "output_type": "stream",
     "text": [
      "bn_3month_9_TEMPBNi_beng\n",
      "Using cpu device\n",
      "tensor([[-0.2671],\n",
      "        [ 0.2356],\n",
      "        [-0.6697],\n",
      "        [-0.6521]])\n",
      "/scratch/BENGUP/ML/DL_BN/Predictions/Web_V1.0/output/bn_3month_9_TEMPBNi_beng/C30H30/EN1/result.gdat\n",
      "Validation Done\n"
     ]
    },
    {
     "name": "stderr",
     "output_type": "stream",
     "text": [
      "/scratch/BENGUP/ML/DL_BN/Predictions/Web_V1.0/output/bn_3month_9_TEMPBNi_beng/src/bn.predictions_new.py:48: RuntimeWarning: Mean of empty slice\n",
      "  inpv1[i,0:3,:,:] = (inp1.SST_T_.sel(time=slice(ld_mn1,ld_mn2))-np.nanmean(inp1.SST_T_,0))/np.nanstd(inp1.SST_T_,0)\n",
      "/home/nay021/Software/anaconda3/lib/python3.8/site-packages/numpy/lib/nanfunctions.py:1664: RuntimeWarning: Degrees of freedom <= 0 for slice.\n",
      "  var = nanvar(a, axis=axis, dtype=dtype, out=out, ddof=ddof,\n",
      "/scratch/BENGUP/ML/DL_BN/Predictions/Web_V1.0/output/bn_3month_9_TEMPBNi_beng/src/bn.predictions_new.py:49: RuntimeWarning: Mean of empty slice\n",
      "  inpv1[i,3:6,:,:] = (inp1.TEMP100M_T_.sel(time=slice(ld_mn1,ld_mn2))-np.nanmean(inp1.TEMP100M_T_,0))/np.nanstd(inp1.TEMP100M_T_,0)\n"
     ]
    },
    {
     "name": "stdout",
     "output_type": "stream",
     "text": [
      "Using cpu device\n",
      "tensor([[-0.1038],\n",
      "        [ 0.0918],\n",
      "        [-0.3638],\n",
      "        [-0.4821]])\n",
      "/scratch/BENGUP/ML/DL_BN/Predictions/Web_V1.0/output/bn_3month_9_TEMPBNi_beng/C30H30/EN2/result.gdat\n",
      "Validation Done\n"
     ]
    },
    {
     "name": "stderr",
     "output_type": "stream",
     "text": [
      "/scratch/BENGUP/ML/DL_BN/Predictions/Web_V1.0/output/bn_3month_9_TEMPBNi_beng/src/bn.predictions_new.py:48: RuntimeWarning: Mean of empty slice\n",
      "  inpv1[i,0:3,:,:] = (inp1.SST_T_.sel(time=slice(ld_mn1,ld_mn2))-np.nanmean(inp1.SST_T_,0))/np.nanstd(inp1.SST_T_,0)\n",
      "/home/nay021/Software/anaconda3/lib/python3.8/site-packages/numpy/lib/nanfunctions.py:1664: RuntimeWarning: Degrees of freedom <= 0 for slice.\n",
      "  var = nanvar(a, axis=axis, dtype=dtype, out=out, ddof=ddof,\n",
      "/scratch/BENGUP/ML/DL_BN/Predictions/Web_V1.0/output/bn_3month_9_TEMPBNi_beng/src/bn.predictions_new.py:49: RuntimeWarning: Mean of empty slice\n",
      "  inpv1[i,3:6,:,:] = (inp1.TEMP100M_T_.sel(time=slice(ld_mn1,ld_mn2))-np.nanmean(inp1.TEMP100M_T_,0))/np.nanstd(inp1.TEMP100M_T_,0)\n"
     ]
    },
    {
     "name": "stdout",
     "output_type": "stream",
     "text": [
      "Using cpu device\n",
      "tensor([[ 0.0450],\n",
      "        [ 0.3599],\n",
      "        [-0.1738],\n",
      "        [-0.0912]])\n",
      "/scratch/BENGUP/ML/DL_BN/Predictions/Web_V1.0/output/bn_3month_9_TEMPBNi_beng/C30H30/EN3/result.gdat\n",
      "Validation Done\n"
     ]
    },
    {
     "name": "stderr",
     "output_type": "stream",
     "text": [
      "/scratch/BENGUP/ML/DL_BN/Predictions/Web_V1.0/output/bn_3month_9_TEMPBNi_beng/src/bn.predictions_new.py:48: RuntimeWarning: Mean of empty slice\n",
      "  inpv1[i,0:3,:,:] = (inp1.SST_T_.sel(time=slice(ld_mn1,ld_mn2))-np.nanmean(inp1.SST_T_,0))/np.nanstd(inp1.SST_T_,0)\n",
      "/home/nay021/Software/anaconda3/lib/python3.8/site-packages/numpy/lib/nanfunctions.py:1664: RuntimeWarning: Degrees of freedom <= 0 for slice.\n",
      "  var = nanvar(a, axis=axis, dtype=dtype, out=out, ddof=ddof,\n",
      "/scratch/BENGUP/ML/DL_BN/Predictions/Web_V1.0/output/bn_3month_9_TEMPBNi_beng/src/bn.predictions_new.py:49: RuntimeWarning: Mean of empty slice\n",
      "  inpv1[i,3:6,:,:] = (inp1.TEMP100M_T_.sel(time=slice(ld_mn1,ld_mn2))-np.nanmean(inp1.TEMP100M_T_,0))/np.nanstd(inp1.TEMP100M_T_,0)\n"
     ]
    },
    {
     "name": "stdout",
     "output_type": "stream",
     "text": [
      "Using cpu device\n",
      "tensor([[-0.1021],\n",
      "        [ 0.3254],\n",
      "        [-0.7105],\n",
      "        [-0.2557]])\n",
      "/scratch/BENGUP/ML/DL_BN/Predictions/Web_V1.0/output/bn_3month_9_TEMPBNi_beng/C30H30/EN4/result.gdat\n",
      "Validation Done\n"
     ]
    },
    {
     "name": "stderr",
     "output_type": "stream",
     "text": [
      "/scratch/BENGUP/ML/DL_BN/Predictions/Web_V1.0/output/bn_3month_9_TEMPBNi_beng/src/bn.predictions_new.py:48: RuntimeWarning: Mean of empty slice\n",
      "  inpv1[i,0:3,:,:] = (inp1.SST_T_.sel(time=slice(ld_mn1,ld_mn2))-np.nanmean(inp1.SST_T_,0))/np.nanstd(inp1.SST_T_,0)\n",
      "/home/nay021/Software/anaconda3/lib/python3.8/site-packages/numpy/lib/nanfunctions.py:1664: RuntimeWarning: Degrees of freedom <= 0 for slice.\n",
      "  var = nanvar(a, axis=axis, dtype=dtype, out=out, ddof=ddof,\n",
      "/scratch/BENGUP/ML/DL_BN/Predictions/Web_V1.0/output/bn_3month_9_TEMPBNi_beng/src/bn.predictions_new.py:49: RuntimeWarning: Mean of empty slice\n",
      "  inpv1[i,3:6,:,:] = (inp1.TEMP100M_T_.sel(time=slice(ld_mn1,ld_mn2))-np.nanmean(inp1.TEMP100M_T_,0))/np.nanstd(inp1.TEMP100M_T_,0)\n",
      "/scratch/BENGUP/ML/DL_BN/Predictions/Web_V1.0/output/bn_3month_9_TEMPBNi_beng/src/bn.predictions_new.py:48: RuntimeWarning: Mean of empty slice\n",
      "  inpv1[i,0:3,:,:] = (inp1.SST_T_.sel(time=slice(ld_mn1,ld_mn2))-np.nanmean(inp1.SST_T_,0))/np.nanstd(inp1.SST_T_,0)\n",
      "/home/nay021/Software/anaconda3/lib/python3.8/site-packages/numpy/lib/nanfunctions.py:1664: RuntimeWarning: Degrees of freedom <= 0 for slice.\n",
      "  var = nanvar(a, axis=axis, dtype=dtype, out=out, ddof=ddof,\n",
      "/scratch/BENGUP/ML/DL_BN/Predictions/Web_V1.0/output/bn_3month_9_TEMPBNi_beng/src/bn.predictions_new.py:49: RuntimeWarning: Mean of empty slice\n",
      "  inpv1[i,3:6,:,:] = (inp1.TEMP100M_T_.sel(time=slice(ld_mn1,ld_mn2))-np.nanmean(inp1.TEMP100M_T_,0))/np.nanstd(inp1.TEMP100M_T_,0)\n"
     ]
    },
    {
     "name": "stdout",
     "output_type": "stream",
     "text": [
      "Using cpu device\n",
      "tensor([[-0.0983],\n",
      "        [ 0.2516],\n",
      "        [-0.3188],\n",
      "        [-0.3776]])\n",
      "/scratch/BENGUP/ML/DL_BN/Predictions/Web_V1.0/output/bn_3month_9_TEMPBNi_beng/C30H30/EN5/result.gdat\n",
      "Validation Done\n",
      "bn_3month_10_TEMPBNi_beng\n",
      "Using cpu device\n",
      "tensor([[ 0.2739],\n",
      "        [-0.0283],\n",
      "        [-0.2396]])\n",
      "/scratch/BENGUP/ML/DL_BN/Predictions/Web_V1.0/output/bn_3month_10_TEMPBNi_beng/C30H30/EN1/result.gdat\n",
      "Validation Done\n"
     ]
    },
    {
     "name": "stderr",
     "output_type": "stream",
     "text": [
      "/scratch/BENGUP/ML/DL_BN/Predictions/Web_V1.0/output/bn_3month_10_TEMPBNi_beng/src/bn.predictions_new.py:48: RuntimeWarning: Mean of empty slice\n",
      "  inpv1[i,0:3,:,:] = (inp1.SST_T_.sel(time=slice(ld_mn1,ld_mn2))-np.nanmean(inp1.SST_T_,0))/np.nanstd(inp1.SST_T_,0)\n",
      "/home/nay021/Software/anaconda3/lib/python3.8/site-packages/numpy/lib/nanfunctions.py:1664: RuntimeWarning: Degrees of freedom <= 0 for slice.\n",
      "  var = nanvar(a, axis=axis, dtype=dtype, out=out, ddof=ddof,\n",
      "/scratch/BENGUP/ML/DL_BN/Predictions/Web_V1.0/output/bn_3month_10_TEMPBNi_beng/src/bn.predictions_new.py:49: RuntimeWarning: Mean of empty slice\n",
      "  inpv1[i,3:6,:,:] = (inp1.TEMP100M_T_.sel(time=slice(ld_mn1,ld_mn2))-np.nanmean(inp1.TEMP100M_T_,0))/np.nanstd(inp1.TEMP100M_T_,0)\n"
     ]
    },
    {
     "name": "stdout",
     "output_type": "stream",
     "text": [
      "Using cpu device\n",
      "tensor([[ 0.5680],\n",
      "        [ 0.4262],\n",
      "        [-0.4120]])\n",
      "/scratch/BENGUP/ML/DL_BN/Predictions/Web_V1.0/output/bn_3month_10_TEMPBNi_beng/C30H30/EN2/result.gdat\n",
      "Validation Done\n"
     ]
    },
    {
     "name": "stderr",
     "output_type": "stream",
     "text": [
      "/scratch/BENGUP/ML/DL_BN/Predictions/Web_V1.0/output/bn_3month_10_TEMPBNi_beng/src/bn.predictions_new.py:48: RuntimeWarning: Mean of empty slice\n",
      "  inpv1[i,0:3,:,:] = (inp1.SST_T_.sel(time=slice(ld_mn1,ld_mn2))-np.nanmean(inp1.SST_T_,0))/np.nanstd(inp1.SST_T_,0)\n",
      "/home/nay021/Software/anaconda3/lib/python3.8/site-packages/numpy/lib/nanfunctions.py:1664: RuntimeWarning: Degrees of freedom <= 0 for slice.\n",
      "  var = nanvar(a, axis=axis, dtype=dtype, out=out, ddof=ddof,\n",
      "/scratch/BENGUP/ML/DL_BN/Predictions/Web_V1.0/output/bn_3month_10_TEMPBNi_beng/src/bn.predictions_new.py:49: RuntimeWarning: Mean of empty slice\n",
      "  inpv1[i,3:6,:,:] = (inp1.TEMP100M_T_.sel(time=slice(ld_mn1,ld_mn2))-np.nanmean(inp1.TEMP100M_T_,0))/np.nanstd(inp1.TEMP100M_T_,0)\n",
      "/scratch/BENGUP/ML/DL_BN/Predictions/Web_V1.0/output/bn_3month_10_TEMPBNi_beng/src/bn.predictions_new.py:48: RuntimeWarning: Mean of empty slice\n",
      "  inpv1[i,0:3,:,:] = (inp1.SST_T_.sel(time=slice(ld_mn1,ld_mn2))-np.nanmean(inp1.SST_T_,0))/np.nanstd(inp1.SST_T_,0)\n",
      "/home/nay021/Software/anaconda3/lib/python3.8/site-packages/numpy/lib/nanfunctions.py:1664: RuntimeWarning: Degrees of freedom <= 0 for slice.\n",
      "  var = nanvar(a, axis=axis, dtype=dtype, out=out, ddof=ddof,\n",
      "/scratch/BENGUP/ML/DL_BN/Predictions/Web_V1.0/output/bn_3month_10_TEMPBNi_beng/src/bn.predictions_new.py:49: RuntimeWarning: Mean of empty slice\n",
      "  inpv1[i,3:6,:,:] = (inp1.TEMP100M_T_.sel(time=slice(ld_mn1,ld_mn2))-np.nanmean(inp1.TEMP100M_T_,0))/np.nanstd(inp1.TEMP100M_T_,0)\n"
     ]
    },
    {
     "name": "stdout",
     "output_type": "stream",
     "text": [
      "Using cpu device\n",
      "tensor([[-0.0181],\n",
      "        [ 0.2539],\n",
      "        [-0.4545]])\n",
      "/scratch/BENGUP/ML/DL_BN/Predictions/Web_V1.0/output/bn_3month_10_TEMPBNi_beng/C30H30/EN3/result.gdat\n",
      "Validation Done\n",
      "Using cpu device\n",
      "tensor([[ 0.1228],\n",
      "        [-0.1996],\n",
      "        [-0.3847]])\n",
      "/scratch/BENGUP/ML/DL_BN/Predictions/Web_V1.0/output/bn_3month_10_TEMPBNi_beng/C30H30/EN4/result.gdat\n",
      "Validation Done\n"
     ]
    },
    {
     "name": "stderr",
     "output_type": "stream",
     "text": [
      "/scratch/BENGUP/ML/DL_BN/Predictions/Web_V1.0/output/bn_3month_10_TEMPBNi_beng/src/bn.predictions_new.py:48: RuntimeWarning: Mean of empty slice\n",
      "  inpv1[i,0:3,:,:] = (inp1.SST_T_.sel(time=slice(ld_mn1,ld_mn2))-np.nanmean(inp1.SST_T_,0))/np.nanstd(inp1.SST_T_,0)\n",
      "/home/nay021/Software/anaconda3/lib/python3.8/site-packages/numpy/lib/nanfunctions.py:1664: RuntimeWarning: Degrees of freedom <= 0 for slice.\n",
      "  var = nanvar(a, axis=axis, dtype=dtype, out=out, ddof=ddof,\n",
      "/scratch/BENGUP/ML/DL_BN/Predictions/Web_V1.0/output/bn_3month_10_TEMPBNi_beng/src/bn.predictions_new.py:49: RuntimeWarning: Mean of empty slice\n",
      "  inpv1[i,3:6,:,:] = (inp1.TEMP100M_T_.sel(time=slice(ld_mn1,ld_mn2))-np.nanmean(inp1.TEMP100M_T_,0))/np.nanstd(inp1.TEMP100M_T_,0)\n",
      "/scratch/BENGUP/ML/DL_BN/Predictions/Web_V1.0/output/bn_3month_10_TEMPBNi_beng/src/bn.predictions_new.py:48: RuntimeWarning: Mean of empty slice\n",
      "  inpv1[i,0:3,:,:] = (inp1.SST_T_.sel(time=slice(ld_mn1,ld_mn2))-np.nanmean(inp1.SST_T_,0))/np.nanstd(inp1.SST_T_,0)\n",
      "/home/nay021/Software/anaconda3/lib/python3.8/site-packages/numpy/lib/nanfunctions.py:1664: RuntimeWarning: Degrees of freedom <= 0 for slice.\n",
      "  var = nanvar(a, axis=axis, dtype=dtype, out=out, ddof=ddof,\n",
      "/scratch/BENGUP/ML/DL_BN/Predictions/Web_V1.0/output/bn_3month_10_TEMPBNi_beng/src/bn.predictions_new.py:49: RuntimeWarning: Mean of empty slice\n",
      "  inpv1[i,3:6,:,:] = (inp1.TEMP100M_T_.sel(time=slice(ld_mn1,ld_mn2))-np.nanmean(inp1.TEMP100M_T_,0))/np.nanstd(inp1.TEMP100M_T_,0)\n"
     ]
    },
    {
     "name": "stdout",
     "output_type": "stream",
     "text": [
      "Using cpu device\n",
      "tensor([[ 0.0058],\n",
      "        [ 0.1862],\n",
      "        [-0.5014]])\n",
      "/scratch/BENGUP/ML/DL_BN/Predictions/Web_V1.0/output/bn_3month_10_TEMPBNi_beng/C30H30/EN5/result.gdat\n",
      "Validation Done\n",
      "bn_3month_11_TEMPBNi_beng\n"
     ]
    },
    {
     "name": "stderr",
     "output_type": "stream",
     "text": [
      "/scratch/BENGUP/ML/DL_BN/Predictions/Web_V1.0/output/bn_3month_11_TEMPBNi_beng/src/bn.predictions_new.py:48: RuntimeWarning: Mean of empty slice\n",
      "  inpv1[i,0:3,:,:] = (inp1.SST_T_.sel(time=slice(ld_mn1,ld_mn2))-np.nanmean(inp1.SST_T_,0))/np.nanstd(inp1.SST_T_,0)\n",
      "/home/nay021/Software/anaconda3/lib/python3.8/site-packages/numpy/lib/nanfunctions.py:1664: RuntimeWarning: Degrees of freedom <= 0 for slice.\n",
      "  var = nanvar(a, axis=axis, dtype=dtype, out=out, ddof=ddof,\n",
      "/scratch/BENGUP/ML/DL_BN/Predictions/Web_V1.0/output/bn_3month_11_TEMPBNi_beng/src/bn.predictions_new.py:49: RuntimeWarning: Mean of empty slice\n",
      "  inpv1[i,3:6,:,:] = (inp1.TEMP100M_T_.sel(time=slice(ld_mn1,ld_mn2))-np.nanmean(inp1.TEMP100M_T_,0))/np.nanstd(inp1.TEMP100M_T_,0)\n"
     ]
    },
    {
     "name": "stdout",
     "output_type": "stream",
     "text": [
      "Using cpu device\n",
      "tensor([[-0.8107],\n",
      "        [-0.1698],\n",
      "        [-0.1727]])\n",
      "/scratch/BENGUP/ML/DL_BN/Predictions/Web_V1.0/output/bn_3month_11_TEMPBNi_beng/C30H30/EN1/result.gdat\n",
      "Validation Done\n"
     ]
    },
    {
     "name": "stderr",
     "output_type": "stream",
     "text": [
      "/scratch/BENGUP/ML/DL_BN/Predictions/Web_V1.0/output/bn_3month_11_TEMPBNi_beng/src/bn.predictions_new.py:48: RuntimeWarning: Mean of empty slice\n",
      "  inpv1[i,0:3,:,:] = (inp1.SST_T_.sel(time=slice(ld_mn1,ld_mn2))-np.nanmean(inp1.SST_T_,0))/np.nanstd(inp1.SST_T_,0)\n",
      "/home/nay021/Software/anaconda3/lib/python3.8/site-packages/numpy/lib/nanfunctions.py:1664: RuntimeWarning: Degrees of freedom <= 0 for slice.\n",
      "  var = nanvar(a, axis=axis, dtype=dtype, out=out, ddof=ddof,\n",
      "/scratch/BENGUP/ML/DL_BN/Predictions/Web_V1.0/output/bn_3month_11_TEMPBNi_beng/src/bn.predictions_new.py:49: RuntimeWarning: Mean of empty slice\n",
      "  inpv1[i,3:6,:,:] = (inp1.TEMP100M_T_.sel(time=slice(ld_mn1,ld_mn2))-np.nanmean(inp1.TEMP100M_T_,0))/np.nanstd(inp1.TEMP100M_T_,0)\n"
     ]
    },
    {
     "name": "stdout",
     "output_type": "stream",
     "text": [
      "Using cpu device\n",
      "tensor([[-0.6384],\n",
      "        [ 0.1538],\n",
      "        [-0.5126]])\n",
      "/scratch/BENGUP/ML/DL_BN/Predictions/Web_V1.0/output/bn_3month_11_TEMPBNi_beng/C30H30/EN2/result.gdat\n",
      "Validation Done\n",
      "Using cpu device\n",
      "tensor([[-0.7049],\n",
      "        [-0.3719],\n",
      "        [-0.1456]])\n",
      "/scratch/BENGUP/ML/DL_BN/Predictions/Web_V1.0/output/bn_3month_11_TEMPBNi_beng/C30H30/EN3/result.gdat\n",
      "Validation Done\n"
     ]
    },
    {
     "name": "stderr",
     "output_type": "stream",
     "text": [
      "/scratch/BENGUP/ML/DL_BN/Predictions/Web_V1.0/output/bn_3month_11_TEMPBNi_beng/src/bn.predictions_new.py:48: RuntimeWarning: Mean of empty slice\n",
      "  inpv1[i,0:3,:,:] = (inp1.SST_T_.sel(time=slice(ld_mn1,ld_mn2))-np.nanmean(inp1.SST_T_,0))/np.nanstd(inp1.SST_T_,0)\n",
      "/home/nay021/Software/anaconda3/lib/python3.8/site-packages/numpy/lib/nanfunctions.py:1664: RuntimeWarning: Degrees of freedom <= 0 for slice.\n",
      "  var = nanvar(a, axis=axis, dtype=dtype, out=out, ddof=ddof,\n",
      "/scratch/BENGUP/ML/DL_BN/Predictions/Web_V1.0/output/bn_3month_11_TEMPBNi_beng/src/bn.predictions_new.py:49: RuntimeWarning: Mean of empty slice\n",
      "  inpv1[i,3:6,:,:] = (inp1.TEMP100M_T_.sel(time=slice(ld_mn1,ld_mn2))-np.nanmean(inp1.TEMP100M_T_,0))/np.nanstd(inp1.TEMP100M_T_,0)\n"
     ]
    },
    {
     "name": "stdout",
     "output_type": "stream",
     "text": [
      "Using cpu device\n",
      "tensor([[-0.3947],\n",
      "        [-0.3240],\n",
      "        [-0.4159]])\n",
      "/scratch/BENGUP/ML/DL_BN/Predictions/Web_V1.0/output/bn_3month_11_TEMPBNi_beng/C30H30/EN4/result.gdat\n",
      "Validation Done\n"
     ]
    },
    {
     "name": "stderr",
     "output_type": "stream",
     "text": [
      "/scratch/BENGUP/ML/DL_BN/Predictions/Web_V1.0/output/bn_3month_11_TEMPBNi_beng/src/bn.predictions_new.py:48: RuntimeWarning: Mean of empty slice\n",
      "  inpv1[i,0:3,:,:] = (inp1.SST_T_.sel(time=slice(ld_mn1,ld_mn2))-np.nanmean(inp1.SST_T_,0))/np.nanstd(inp1.SST_T_,0)\n",
      "/home/nay021/Software/anaconda3/lib/python3.8/site-packages/numpy/lib/nanfunctions.py:1664: RuntimeWarning: Degrees of freedom <= 0 for slice.\n",
      "  var = nanvar(a, axis=axis, dtype=dtype, out=out, ddof=ddof,\n",
      "/scratch/BENGUP/ML/DL_BN/Predictions/Web_V1.0/output/bn_3month_11_TEMPBNi_beng/src/bn.predictions_new.py:49: RuntimeWarning: Mean of empty slice\n",
      "  inpv1[i,3:6,:,:] = (inp1.TEMP100M_T_.sel(time=slice(ld_mn1,ld_mn2))-np.nanmean(inp1.TEMP100M_T_,0))/np.nanstd(inp1.TEMP100M_T_,0)\n",
      "/scratch/BENGUP/ML/DL_BN/Predictions/Web_V1.0/output/bn_3month_11_TEMPBNi_beng/src/bn.predictions_new.py:48: RuntimeWarning: Mean of empty slice\n",
      "  inpv1[i,0:3,:,:] = (inp1.SST_T_.sel(time=slice(ld_mn1,ld_mn2))-np.nanmean(inp1.SST_T_,0))/np.nanstd(inp1.SST_T_,0)\n",
      "/home/nay021/Software/anaconda3/lib/python3.8/site-packages/numpy/lib/nanfunctions.py:1664: RuntimeWarning: Degrees of freedom <= 0 for slice.\n",
      "  var = nanvar(a, axis=axis, dtype=dtype, out=out, ddof=ddof,\n",
      "/scratch/BENGUP/ML/DL_BN/Predictions/Web_V1.0/output/bn_3month_11_TEMPBNi_beng/src/bn.predictions_new.py:49: RuntimeWarning: Mean of empty slice\n",
      "  inpv1[i,3:6,:,:] = (inp1.TEMP100M_T_.sel(time=slice(ld_mn1,ld_mn2))-np.nanmean(inp1.TEMP100M_T_,0))/np.nanstd(inp1.TEMP100M_T_,0)\n"
     ]
    },
    {
     "name": "stdout",
     "output_type": "stream",
     "text": [
      "Using cpu device\n",
      "tensor([[-0.5722],\n",
      "        [ 0.0932],\n",
      "        [ 0.0262]])\n",
      "/scratch/BENGUP/ML/DL_BN/Predictions/Web_V1.0/output/bn_3month_11_TEMPBNi_beng/C30H30/EN5/result.gdat\n",
      "Validation Done\n",
      "bn_3month_12_TEMPBNi_beng\n",
      "Using cpu device\n",
      "tensor([[-0.5266],\n",
      "        [-0.3122],\n",
      "        [ 0.2849]])\n",
      "/scratch/BENGUP/ML/DL_BN/Predictions/Web_V1.0/output/bn_3month_12_TEMPBNi_beng/C30H30/EN1/result.gdat\n",
      "Validation Done\n"
     ]
    },
    {
     "name": "stderr",
     "output_type": "stream",
     "text": [
      "/scratch/BENGUP/ML/DL_BN/Predictions/Web_V1.0/output/bn_3month_12_TEMPBNi_beng/src/bn.predictions_new.py:48: RuntimeWarning: Mean of empty slice\n",
      "  inpv1[i,0:3,:,:] = (inp1.SST_T_.sel(time=slice(ld_mn1,ld_mn2))-np.nanmean(inp1.SST_T_,0))/np.nanstd(inp1.SST_T_,0)\n",
      "/home/nay021/Software/anaconda3/lib/python3.8/site-packages/numpy/lib/nanfunctions.py:1664: RuntimeWarning: Degrees of freedom <= 0 for slice.\n",
      "  var = nanvar(a, axis=axis, dtype=dtype, out=out, ddof=ddof,\n",
      "/scratch/BENGUP/ML/DL_BN/Predictions/Web_V1.0/output/bn_3month_12_TEMPBNi_beng/src/bn.predictions_new.py:49: RuntimeWarning: Mean of empty slice\n",
      "  inpv1[i,3:6,:,:] = (inp1.TEMP100M_T_.sel(time=slice(ld_mn1,ld_mn2))-np.nanmean(inp1.TEMP100M_T_,0))/np.nanstd(inp1.TEMP100M_T_,0)\n"
     ]
    },
    {
     "name": "stdout",
     "output_type": "stream",
     "text": [
      "Using cpu device\n",
      "tensor([[-0.6640],\n",
      "        [-0.4671],\n",
      "        [-0.1908]])\n",
      "/scratch/BENGUP/ML/DL_BN/Predictions/Web_V1.0/output/bn_3month_12_TEMPBNi_beng/C30H30/EN2/result.gdat\n",
      "Validation Done\n"
     ]
    },
    {
     "name": "stderr",
     "output_type": "stream",
     "text": [
      "/scratch/BENGUP/ML/DL_BN/Predictions/Web_V1.0/output/bn_3month_12_TEMPBNi_beng/src/bn.predictions_new.py:48: RuntimeWarning: Mean of empty slice\n",
      "  inpv1[i,0:3,:,:] = (inp1.SST_T_.sel(time=slice(ld_mn1,ld_mn2))-np.nanmean(inp1.SST_T_,0))/np.nanstd(inp1.SST_T_,0)\n",
      "/home/nay021/Software/anaconda3/lib/python3.8/site-packages/numpy/lib/nanfunctions.py:1664: RuntimeWarning: Degrees of freedom <= 0 for slice.\n",
      "  var = nanvar(a, axis=axis, dtype=dtype, out=out, ddof=ddof,\n",
      "/scratch/BENGUP/ML/DL_BN/Predictions/Web_V1.0/output/bn_3month_12_TEMPBNi_beng/src/bn.predictions_new.py:49: RuntimeWarning: Mean of empty slice\n",
      "  inpv1[i,3:6,:,:] = (inp1.TEMP100M_T_.sel(time=slice(ld_mn1,ld_mn2))-np.nanmean(inp1.TEMP100M_T_,0))/np.nanstd(inp1.TEMP100M_T_,0)\n",
      "/scratch/BENGUP/ML/DL_BN/Predictions/Web_V1.0/output/bn_3month_12_TEMPBNi_beng/src/bn.predictions_new.py:48: RuntimeWarning: Mean of empty slice\n",
      "  inpv1[i,0:3,:,:] = (inp1.SST_T_.sel(time=slice(ld_mn1,ld_mn2))-np.nanmean(inp1.SST_T_,0))/np.nanstd(inp1.SST_T_,0)\n",
      "/home/nay021/Software/anaconda3/lib/python3.8/site-packages/numpy/lib/nanfunctions.py:1664: RuntimeWarning: Degrees of freedom <= 0 for slice.\n",
      "  var = nanvar(a, axis=axis, dtype=dtype, out=out, ddof=ddof,\n",
      "/scratch/BENGUP/ML/DL_BN/Predictions/Web_V1.0/output/bn_3month_12_TEMPBNi_beng/src/bn.predictions_new.py:49: RuntimeWarning: Mean of empty slice\n",
      "  inpv1[i,3:6,:,:] = (inp1.TEMP100M_T_.sel(time=slice(ld_mn1,ld_mn2))-np.nanmean(inp1.TEMP100M_T_,0))/np.nanstd(inp1.TEMP100M_T_,0)\n"
     ]
    },
    {
     "name": "stdout",
     "output_type": "stream",
     "text": [
      "Using cpu device\n",
      "tensor([[-0.5603],\n",
      "        [-0.4433],\n",
      "        [ 0.2968]])\n",
      "/scratch/BENGUP/ML/DL_BN/Predictions/Web_V1.0/output/bn_3month_12_TEMPBNi_beng/C30H30/EN3/result.gdat\n",
      "Validation Done\n",
      "Using cpu device\n",
      "tensor([[-0.6907],\n",
      "        [-0.8190],\n",
      "        [-0.5219]])\n",
      "/scratch/BENGUP/ML/DL_BN/Predictions/Web_V1.0/output/bn_3month_12_TEMPBNi_beng/C30H30/EN4/result.gdat\n",
      "Validation Done\n"
     ]
    },
    {
     "name": "stderr",
     "output_type": "stream",
     "text": [
      "/scratch/BENGUP/ML/DL_BN/Predictions/Web_V1.0/output/bn_3month_12_TEMPBNi_beng/src/bn.predictions_new.py:48: RuntimeWarning: Mean of empty slice\n",
      "  inpv1[i,0:3,:,:] = (inp1.SST_T_.sel(time=slice(ld_mn1,ld_mn2))-np.nanmean(inp1.SST_T_,0))/np.nanstd(inp1.SST_T_,0)\n",
      "/home/nay021/Software/anaconda3/lib/python3.8/site-packages/numpy/lib/nanfunctions.py:1664: RuntimeWarning: Degrees of freedom <= 0 for slice.\n",
      "  var = nanvar(a, axis=axis, dtype=dtype, out=out, ddof=ddof,\n",
      "/scratch/BENGUP/ML/DL_BN/Predictions/Web_V1.0/output/bn_3month_12_TEMPBNi_beng/src/bn.predictions_new.py:49: RuntimeWarning: Mean of empty slice\n",
      "  inpv1[i,3:6,:,:] = (inp1.TEMP100M_T_.sel(time=slice(ld_mn1,ld_mn2))-np.nanmean(inp1.TEMP100M_T_,0))/np.nanstd(inp1.TEMP100M_T_,0)\n"
     ]
    },
    {
     "name": "stdout",
     "output_type": "stream",
     "text": [
      "Using cpu device\n",
      "tensor([[-0.7515],\n",
      "        [-0.8315],\n",
      "        [-0.0263]])\n",
      "/scratch/BENGUP/ML/DL_BN/Predictions/Web_V1.0/output/bn_3month_12_TEMPBNi_beng/C30H30/EN5/result.gdat\n",
      "Validation Done\n"
     ]
    },
    {
     "name": "stderr",
     "output_type": "stream",
     "text": [
      "/scratch/BENGUP/ML/DL_BN/Predictions/Web_V1.0/output/bn_3month_12_TEMPBNi_beng/src/bn.predictions_new.py:48: RuntimeWarning: Mean of empty slice\n",
      "  inpv1[i,0:3,:,:] = (inp1.SST_T_.sel(time=slice(ld_mn1,ld_mn2))-np.nanmean(inp1.SST_T_,0))/np.nanstd(inp1.SST_T_,0)\n",
      "/home/nay021/Software/anaconda3/lib/python3.8/site-packages/numpy/lib/nanfunctions.py:1664: RuntimeWarning: Degrees of freedom <= 0 for slice.\n",
      "  var = nanvar(a, axis=axis, dtype=dtype, out=out, ddof=ddof,\n",
      "/scratch/BENGUP/ML/DL_BN/Predictions/Web_V1.0/output/bn_3month_12_TEMPBNi_beng/src/bn.predictions_new.py:49: RuntimeWarning: Mean of empty slice\n",
      "  inpv1[i,3:6,:,:] = (inp1.TEMP100M_T_.sel(time=slice(ld_mn1,ld_mn2))-np.nanmean(inp1.TEMP100M_T_,0))/np.nanstd(inp1.TEMP100M_T_,0)\n"
     ]
    },
    {
     "name": "stdout",
     "output_type": "stream",
     "text": [
      "bn_4month_1_TEMPBNi_beng\n",
      "Using cpu device\n",
      "tensor([[ 0.5457],\n",
      "        [-0.3242],\n",
      "        [-0.4276],\n",
      "        [ 0.0713]])\n",
      "/scratch/BENGUP/ML/DL_BN/Predictions/Web_V1.0/output/bn_4month_1_TEMPBNi_beng/C30H30/EN1/result.gdat\n",
      "Validation Done\n"
     ]
    },
    {
     "name": "stderr",
     "output_type": "stream",
     "text": [
      "/scratch/BENGUP/ML/DL_BN/Predictions/Web_V1.0/output/bn_4month_1_TEMPBNi_beng/src/bn.predictions_new.py:48: RuntimeWarning: Mean of empty slice\n",
      "  inpv1[i,0:3,:,:] = (inp1.SST_T_.sel(time=slice(ld_mn1,ld_mn2))-np.nanmean(inp1.SST_T_,0))/np.nanstd(inp1.SST_T_,0)\n",
      "/home/nay021/Software/anaconda3/lib/python3.8/site-packages/numpy/lib/nanfunctions.py:1664: RuntimeWarning: Degrees of freedom <= 0 for slice.\n",
      "  var = nanvar(a, axis=axis, dtype=dtype, out=out, ddof=ddof,\n",
      "/scratch/BENGUP/ML/DL_BN/Predictions/Web_V1.0/output/bn_4month_1_TEMPBNi_beng/src/bn.predictions_new.py:49: RuntimeWarning: Mean of empty slice\n",
      "  inpv1[i,3:6,:,:] = (inp1.TEMP100M_T_.sel(time=slice(ld_mn1,ld_mn2))-np.nanmean(inp1.TEMP100M_T_,0))/np.nanstd(inp1.TEMP100M_T_,0)\n"
     ]
    },
    {
     "name": "stdout",
     "output_type": "stream",
     "text": [
      "Using cpu device\n",
      "tensor([[ 0.3304],\n",
      "        [-0.3127],\n",
      "        [ 0.0574],\n",
      "        [ 0.0662]])\n",
      "/scratch/BENGUP/ML/DL_BN/Predictions/Web_V1.0/output/bn_4month_1_TEMPBNi_beng/C30H30/EN2/result.gdat\n",
      "Validation Done\n"
     ]
    },
    {
     "name": "stderr",
     "output_type": "stream",
     "text": [
      "/scratch/BENGUP/ML/DL_BN/Predictions/Web_V1.0/output/bn_4month_1_TEMPBNi_beng/src/bn.predictions_new.py:48: RuntimeWarning: Mean of empty slice\n",
      "  inpv1[i,0:3,:,:] = (inp1.SST_T_.sel(time=slice(ld_mn1,ld_mn2))-np.nanmean(inp1.SST_T_,0))/np.nanstd(inp1.SST_T_,0)\n",
      "/home/nay021/Software/anaconda3/lib/python3.8/site-packages/numpy/lib/nanfunctions.py:1664: RuntimeWarning: Degrees of freedom <= 0 for slice.\n",
      "  var = nanvar(a, axis=axis, dtype=dtype, out=out, ddof=ddof,\n",
      "/scratch/BENGUP/ML/DL_BN/Predictions/Web_V1.0/output/bn_4month_1_TEMPBNi_beng/src/bn.predictions_new.py:49: RuntimeWarning: Mean of empty slice\n",
      "  inpv1[i,3:6,:,:] = (inp1.TEMP100M_T_.sel(time=slice(ld_mn1,ld_mn2))-np.nanmean(inp1.TEMP100M_T_,0))/np.nanstd(inp1.TEMP100M_T_,0)\n"
     ]
    },
    {
     "name": "stdout",
     "output_type": "stream",
     "text": [
      "Using cpu device\n",
      "tensor([[ 0.3027],\n",
      "        [-0.3551],\n",
      "        [-0.2903],\n",
      "        [ 0.0767]])\n",
      "/scratch/BENGUP/ML/DL_BN/Predictions/Web_V1.0/output/bn_4month_1_TEMPBNi_beng/C30H30/EN3/result.gdat\n",
      "Validation Done\n"
     ]
    },
    {
     "name": "stderr",
     "output_type": "stream",
     "text": [
      "/scratch/BENGUP/ML/DL_BN/Predictions/Web_V1.0/output/bn_4month_1_TEMPBNi_beng/src/bn.predictions_new.py:48: RuntimeWarning: Mean of empty slice\n",
      "  inpv1[i,0:3,:,:] = (inp1.SST_T_.sel(time=slice(ld_mn1,ld_mn2))-np.nanmean(inp1.SST_T_,0))/np.nanstd(inp1.SST_T_,0)\n",
      "/home/nay021/Software/anaconda3/lib/python3.8/site-packages/numpy/lib/nanfunctions.py:1664: RuntimeWarning: Degrees of freedom <= 0 for slice.\n",
      "  var = nanvar(a, axis=axis, dtype=dtype, out=out, ddof=ddof,\n",
      "/scratch/BENGUP/ML/DL_BN/Predictions/Web_V1.0/output/bn_4month_1_TEMPBNi_beng/src/bn.predictions_new.py:49: RuntimeWarning: Mean of empty slice\n",
      "  inpv1[i,3:6,:,:] = (inp1.TEMP100M_T_.sel(time=slice(ld_mn1,ld_mn2))-np.nanmean(inp1.TEMP100M_T_,0))/np.nanstd(inp1.TEMP100M_T_,0)\n",
      "/scratch/BENGUP/ML/DL_BN/Predictions/Web_V1.0/output/bn_4month_1_TEMPBNi_beng/src/bn.predictions_new.py:48: RuntimeWarning: Mean of empty slice\n",
      "  inpv1[i,0:3,:,:] = (inp1.SST_T_.sel(time=slice(ld_mn1,ld_mn2))-np.nanmean(inp1.SST_T_,0))/np.nanstd(inp1.SST_T_,0)\n",
      "/home/nay021/Software/anaconda3/lib/python3.8/site-packages/numpy/lib/nanfunctions.py:1664: RuntimeWarning: Degrees of freedom <= 0 for slice.\n",
      "  var = nanvar(a, axis=axis, dtype=dtype, out=out, ddof=ddof,\n",
      "/scratch/BENGUP/ML/DL_BN/Predictions/Web_V1.0/output/bn_4month_1_TEMPBNi_beng/src/bn.predictions_new.py:49: RuntimeWarning: Mean of empty slice\n",
      "  inpv1[i,3:6,:,:] = (inp1.TEMP100M_T_.sel(time=slice(ld_mn1,ld_mn2))-np.nanmean(inp1.TEMP100M_T_,0))/np.nanstd(inp1.TEMP100M_T_,0)\n"
     ]
    },
    {
     "name": "stdout",
     "output_type": "stream",
     "text": [
      "Using cpu device\n",
      "tensor([[ 0.6580],\n",
      "        [-0.6804],\n",
      "        [-0.7856],\n",
      "        [ 0.3086]])\n",
      "/scratch/BENGUP/ML/DL_BN/Predictions/Web_V1.0/output/bn_4month_1_TEMPBNi_beng/C30H30/EN4/result.gdat\n",
      "Validation Done\n",
      "Using cpu device\n",
      "tensor([[ 0.1288],\n",
      "        [-0.3452],\n",
      "        [-0.2106],\n",
      "        [-0.0561]])\n",
      "/scratch/BENGUP/ML/DL_BN/Predictions/Web_V1.0/output/bn_4month_1_TEMPBNi_beng/C30H30/EN5/result.gdat\n",
      "Validation Done\n"
     ]
    },
    {
     "name": "stderr",
     "output_type": "stream",
     "text": [
      "/scratch/BENGUP/ML/DL_BN/Predictions/Web_V1.0/output/bn_4month_1_TEMPBNi_beng/src/bn.predictions_new.py:48: RuntimeWarning: Mean of empty slice\n",
      "  inpv1[i,0:3,:,:] = (inp1.SST_T_.sel(time=slice(ld_mn1,ld_mn2))-np.nanmean(inp1.SST_T_,0))/np.nanstd(inp1.SST_T_,0)\n",
      "/home/nay021/Software/anaconda3/lib/python3.8/site-packages/numpy/lib/nanfunctions.py:1664: RuntimeWarning: Degrees of freedom <= 0 for slice.\n",
      "  var = nanvar(a, axis=axis, dtype=dtype, out=out, ddof=ddof,\n",
      "/scratch/BENGUP/ML/DL_BN/Predictions/Web_V1.0/output/bn_4month_1_TEMPBNi_beng/src/bn.predictions_new.py:49: RuntimeWarning: Mean of empty slice\n",
      "  inpv1[i,3:6,:,:] = (inp1.TEMP100M_T_.sel(time=slice(ld_mn1,ld_mn2))-np.nanmean(inp1.TEMP100M_T_,0))/np.nanstd(inp1.TEMP100M_T_,0)\n"
     ]
    },
    {
     "name": "stdout",
     "output_type": "stream",
     "text": [
      "bn_4month_2_TEMPBNi_beng\n"
     ]
    },
    {
     "name": "stderr",
     "output_type": "stream",
     "text": [
      "/scratch/BENGUP/ML/DL_BN/Predictions/Web_V1.0/output/bn_4month_2_TEMPBNi_beng/src/bn.predictions_new.py:48: RuntimeWarning: Mean of empty slice\n",
      "  inpv1[i,0:3,:,:] = (inp1.SST_T_.sel(time=slice(ld_mn1,ld_mn2))-np.nanmean(inp1.SST_T_,0))/np.nanstd(inp1.SST_T_,0)\n",
      "/home/nay021/Software/anaconda3/lib/python3.8/site-packages/numpy/lib/nanfunctions.py:1664: RuntimeWarning: Degrees of freedom <= 0 for slice.\n",
      "  var = nanvar(a, axis=axis, dtype=dtype, out=out, ddof=ddof,\n",
      "/scratch/BENGUP/ML/DL_BN/Predictions/Web_V1.0/output/bn_4month_2_TEMPBNi_beng/src/bn.predictions_new.py:49: RuntimeWarning: Mean of empty slice\n",
      "  inpv1[i,3:6,:,:] = (inp1.TEMP100M_T_.sel(time=slice(ld_mn1,ld_mn2))-np.nanmean(inp1.TEMP100M_T_,0))/np.nanstd(inp1.TEMP100M_T_,0)\n"
     ]
    },
    {
     "name": "stdout",
     "output_type": "stream",
     "text": [
      "Using cpu device\n",
      "tensor([[ 1.0564],\n",
      "        [ 0.1124],\n",
      "        [-0.7091],\n",
      "        [ 0.7759]])\n",
      "/scratch/BENGUP/ML/DL_BN/Predictions/Web_V1.0/output/bn_4month_2_TEMPBNi_beng/C30H30/EN1/result.gdat\n",
      "Validation Done\n"
     ]
    },
    {
     "name": "stderr",
     "output_type": "stream",
     "text": [
      "/scratch/BENGUP/ML/DL_BN/Predictions/Web_V1.0/output/bn_4month_2_TEMPBNi_beng/src/bn.predictions_new.py:48: RuntimeWarning: Mean of empty slice\n",
      "  inpv1[i,0:3,:,:] = (inp1.SST_T_.sel(time=slice(ld_mn1,ld_mn2))-np.nanmean(inp1.SST_T_,0))/np.nanstd(inp1.SST_T_,0)\n",
      "/home/nay021/Software/anaconda3/lib/python3.8/site-packages/numpy/lib/nanfunctions.py:1664: RuntimeWarning: Degrees of freedom <= 0 for slice.\n",
      "  var = nanvar(a, axis=axis, dtype=dtype, out=out, ddof=ddof,\n",
      "/scratch/BENGUP/ML/DL_BN/Predictions/Web_V1.0/output/bn_4month_2_TEMPBNi_beng/src/bn.predictions_new.py:49: RuntimeWarning: Mean of empty slice\n",
      "  inpv1[i,3:6,:,:] = (inp1.TEMP100M_T_.sel(time=slice(ld_mn1,ld_mn2))-np.nanmean(inp1.TEMP100M_T_,0))/np.nanstd(inp1.TEMP100M_T_,0)\n"
     ]
    },
    {
     "name": "stdout",
     "output_type": "stream",
     "text": [
      "Using cpu device\n",
      "tensor([[ 0.9424],\n",
      "        [ 0.0661],\n",
      "        [-0.5665],\n",
      "        [ 0.2919]])\n",
      "/scratch/BENGUP/ML/DL_BN/Predictions/Web_V1.0/output/bn_4month_2_TEMPBNi_beng/C30H30/EN2/result.gdat\n",
      "Validation Done\n"
     ]
    },
    {
     "name": "stderr",
     "output_type": "stream",
     "text": [
      "/scratch/BENGUP/ML/DL_BN/Predictions/Web_V1.0/output/bn_4month_2_TEMPBNi_beng/src/bn.predictions_new.py:48: RuntimeWarning: Mean of empty slice\n",
      "  inpv1[i,0:3,:,:] = (inp1.SST_T_.sel(time=slice(ld_mn1,ld_mn2))-np.nanmean(inp1.SST_T_,0))/np.nanstd(inp1.SST_T_,0)\n",
      "/home/nay021/Software/anaconda3/lib/python3.8/site-packages/numpy/lib/nanfunctions.py:1664: RuntimeWarning: Degrees of freedom <= 0 for slice.\n",
      "  var = nanvar(a, axis=axis, dtype=dtype, out=out, ddof=ddof,\n",
      "/scratch/BENGUP/ML/DL_BN/Predictions/Web_V1.0/output/bn_4month_2_TEMPBNi_beng/src/bn.predictions_new.py:49: RuntimeWarning: Mean of empty slice\n",
      "  inpv1[i,3:6,:,:] = (inp1.TEMP100M_T_.sel(time=slice(ld_mn1,ld_mn2))-np.nanmean(inp1.TEMP100M_T_,0))/np.nanstd(inp1.TEMP100M_T_,0)\n"
     ]
    },
    {
     "name": "stdout",
     "output_type": "stream",
     "text": [
      "Using cpu device\n",
      "tensor([[ 0.5918],\n",
      "        [-0.2593],\n",
      "        [-0.3524],\n",
      "        [ 0.2598]])\n",
      "/scratch/BENGUP/ML/DL_BN/Predictions/Web_V1.0/output/bn_4month_2_TEMPBNi_beng/C30H30/EN3/result.gdat\n",
      "Validation Done\n"
     ]
    },
    {
     "name": "stderr",
     "output_type": "stream",
     "text": [
      "/scratch/BENGUP/ML/DL_BN/Predictions/Web_V1.0/output/bn_4month_2_TEMPBNi_beng/src/bn.predictions_new.py:48: RuntimeWarning: Mean of empty slice\n",
      "  inpv1[i,0:3,:,:] = (inp1.SST_T_.sel(time=slice(ld_mn1,ld_mn2))-np.nanmean(inp1.SST_T_,0))/np.nanstd(inp1.SST_T_,0)\n",
      "/home/nay021/Software/anaconda3/lib/python3.8/site-packages/numpy/lib/nanfunctions.py:1664: RuntimeWarning: Degrees of freedom <= 0 for slice.\n",
      "  var = nanvar(a, axis=axis, dtype=dtype, out=out, ddof=ddof,\n",
      "/scratch/BENGUP/ML/DL_BN/Predictions/Web_V1.0/output/bn_4month_2_TEMPBNi_beng/src/bn.predictions_new.py:49: RuntimeWarning: Mean of empty slice\n",
      "  inpv1[i,3:6,:,:] = (inp1.TEMP100M_T_.sel(time=slice(ld_mn1,ld_mn2))-np.nanmean(inp1.TEMP100M_T_,0))/np.nanstd(inp1.TEMP100M_T_,0)\n"
     ]
    },
    {
     "name": "stdout",
     "output_type": "stream",
     "text": [
      "Using cpu device\n",
      "tensor([[ 0.8744],\n",
      "        [-0.0224],\n",
      "        [-0.7445],\n",
      "        [ 0.5489]])\n",
      "/scratch/BENGUP/ML/DL_BN/Predictions/Web_V1.0/output/bn_4month_2_TEMPBNi_beng/C30H30/EN4/result.gdat\n",
      "Validation Done\n",
      "Using cpu device\n",
      "tensor([[ 0.7869],\n",
      "        [ 0.2898],\n",
      "        [-0.9184],\n",
      "        [ 0.6136]])\n",
      "/scratch/BENGUP/ML/DL_BN/Predictions/Web_V1.0/output/bn_4month_2_TEMPBNi_beng/C30H30/EN5/result.gdat\n",
      "Validation Done\n"
     ]
    },
    {
     "name": "stderr",
     "output_type": "stream",
     "text": [
      "/scratch/BENGUP/ML/DL_BN/Predictions/Web_V1.0/output/bn_4month_2_TEMPBNi_beng/src/bn.predictions_new.py:48: RuntimeWarning: Mean of empty slice\n",
      "  inpv1[i,0:3,:,:] = (inp1.SST_T_.sel(time=slice(ld_mn1,ld_mn2))-np.nanmean(inp1.SST_T_,0))/np.nanstd(inp1.SST_T_,0)\n",
      "/home/nay021/Software/anaconda3/lib/python3.8/site-packages/numpy/lib/nanfunctions.py:1664: RuntimeWarning: Degrees of freedom <= 0 for slice.\n",
      "  var = nanvar(a, axis=axis, dtype=dtype, out=out, ddof=ddof,\n",
      "/scratch/BENGUP/ML/DL_BN/Predictions/Web_V1.0/output/bn_4month_2_TEMPBNi_beng/src/bn.predictions_new.py:49: RuntimeWarning: Mean of empty slice\n",
      "  inpv1[i,3:6,:,:] = (inp1.TEMP100M_T_.sel(time=slice(ld_mn1,ld_mn2))-np.nanmean(inp1.TEMP100M_T_,0))/np.nanstd(inp1.TEMP100M_T_,0)\n"
     ]
    },
    {
     "name": "stdout",
     "output_type": "stream",
     "text": [
      "bn_4month_3_TEMPBNi_beng\n",
      "Using cpu device\n",
      "tensor([[ 0.5543],\n",
      "        [ 0.6888],\n",
      "        [-0.4848],\n",
      "        [ 0.1012]])\n",
      "/scratch/BENGUP/ML/DL_BN/Predictions/Web_V1.0/output/bn_4month_3_TEMPBNi_beng/C30H30/EN1/result.gdat\n",
      "Validation Done\n"
     ]
    },
    {
     "name": "stderr",
     "output_type": "stream",
     "text": [
      "/scratch/BENGUP/ML/DL_BN/Predictions/Web_V1.0/output/bn_4month_3_TEMPBNi_beng/src/bn.predictions_new.py:48: RuntimeWarning: Mean of empty slice\n",
      "  inpv1[i,0:3,:,:] = (inp1.SST_T_.sel(time=slice(ld_mn1,ld_mn2))-np.nanmean(inp1.SST_T_,0))/np.nanstd(inp1.SST_T_,0)\n",
      "/home/nay021/Software/anaconda3/lib/python3.8/site-packages/numpy/lib/nanfunctions.py:1664: RuntimeWarning: Degrees of freedom <= 0 for slice.\n",
      "  var = nanvar(a, axis=axis, dtype=dtype, out=out, ddof=ddof,\n",
      "/scratch/BENGUP/ML/DL_BN/Predictions/Web_V1.0/output/bn_4month_3_TEMPBNi_beng/src/bn.predictions_new.py:49: RuntimeWarning: Mean of empty slice\n",
      "  inpv1[i,3:6,:,:] = (inp1.TEMP100M_T_.sel(time=slice(ld_mn1,ld_mn2))-np.nanmean(inp1.TEMP100M_T_,0))/np.nanstd(inp1.TEMP100M_T_,0)\n"
     ]
    },
    {
     "name": "stdout",
     "output_type": "stream",
     "text": [
      "Using cpu device\n",
      "tensor([[0.6026],\n",
      "        [0.4952],\n",
      "        [0.1422],\n",
      "        [0.1492]])\n",
      "/scratch/BENGUP/ML/DL_BN/Predictions/Web_V1.0/output/bn_4month_3_TEMPBNi_beng/C30H30/EN2/result.gdat\n",
      "Validation Done\n"
     ]
    },
    {
     "name": "stderr",
     "output_type": "stream",
     "text": [
      "/scratch/BENGUP/ML/DL_BN/Predictions/Web_V1.0/output/bn_4month_3_TEMPBNi_beng/src/bn.predictions_new.py:48: RuntimeWarning: Mean of empty slice\n",
      "  inpv1[i,0:3,:,:] = (inp1.SST_T_.sel(time=slice(ld_mn1,ld_mn2))-np.nanmean(inp1.SST_T_,0))/np.nanstd(inp1.SST_T_,0)\n",
      "/home/nay021/Software/anaconda3/lib/python3.8/site-packages/numpy/lib/nanfunctions.py:1664: RuntimeWarning: Degrees of freedom <= 0 for slice.\n",
      "  var = nanvar(a, axis=axis, dtype=dtype, out=out, ddof=ddof,\n",
      "/scratch/BENGUP/ML/DL_BN/Predictions/Web_V1.0/output/bn_4month_3_TEMPBNi_beng/src/bn.predictions_new.py:49: RuntimeWarning: Mean of empty slice\n",
      "  inpv1[i,3:6,:,:] = (inp1.TEMP100M_T_.sel(time=slice(ld_mn1,ld_mn2))-np.nanmean(inp1.TEMP100M_T_,0))/np.nanstd(inp1.TEMP100M_T_,0)\n",
      "/scratch/BENGUP/ML/DL_BN/Predictions/Web_V1.0/output/bn_4month_3_TEMPBNi_beng/src/bn.predictions_new.py:48: RuntimeWarning: Mean of empty slice\n",
      "  inpv1[i,0:3,:,:] = (inp1.SST_T_.sel(time=slice(ld_mn1,ld_mn2))-np.nanmean(inp1.SST_T_,0))/np.nanstd(inp1.SST_T_,0)\n",
      "/home/nay021/Software/anaconda3/lib/python3.8/site-packages/numpy/lib/nanfunctions.py:1664: RuntimeWarning: Degrees of freedom <= 0 for slice.\n",
      "  var = nanvar(a, axis=axis, dtype=dtype, out=out, ddof=ddof,\n",
      "/scratch/BENGUP/ML/DL_BN/Predictions/Web_V1.0/output/bn_4month_3_TEMPBNi_beng/src/bn.predictions_new.py:49: RuntimeWarning: Mean of empty slice\n",
      "  inpv1[i,3:6,:,:] = (inp1.TEMP100M_T_.sel(time=slice(ld_mn1,ld_mn2))-np.nanmean(inp1.TEMP100M_T_,0))/np.nanstd(inp1.TEMP100M_T_,0)\n"
     ]
    },
    {
     "name": "stdout",
     "output_type": "stream",
     "text": [
      "Using cpu device\n",
      "tensor([[ 0.5366],\n",
      "        [ 0.1842],\n",
      "        [-0.0804],\n",
      "        [ 0.4362]])\n",
      "/scratch/BENGUP/ML/DL_BN/Predictions/Web_V1.0/output/bn_4month_3_TEMPBNi_beng/C30H30/EN3/result.gdat\n",
      "Validation Done\n",
      "Using cpu device\n",
      "tensor([[0.6235],\n",
      "        [1.0507],\n",
      "        [0.5340],\n",
      "        [0.5357]])\n",
      "/scratch/BENGUP/ML/DL_BN/Predictions/Web_V1.0/output/bn_4month_3_TEMPBNi_beng/C30H30/EN4/result.gdat\n",
      "Validation Done\n"
     ]
    },
    {
     "name": "stderr",
     "output_type": "stream",
     "text": [
      "/scratch/BENGUP/ML/DL_BN/Predictions/Web_V1.0/output/bn_4month_3_TEMPBNi_beng/src/bn.predictions_new.py:48: RuntimeWarning: Mean of empty slice\n",
      "  inpv1[i,0:3,:,:] = (inp1.SST_T_.sel(time=slice(ld_mn1,ld_mn2))-np.nanmean(inp1.SST_T_,0))/np.nanstd(inp1.SST_T_,0)\n",
      "/home/nay021/Software/anaconda3/lib/python3.8/site-packages/numpy/lib/nanfunctions.py:1664: RuntimeWarning: Degrees of freedom <= 0 for slice.\n",
      "  var = nanvar(a, axis=axis, dtype=dtype, out=out, ddof=ddof,\n",
      "/scratch/BENGUP/ML/DL_BN/Predictions/Web_V1.0/output/bn_4month_3_TEMPBNi_beng/src/bn.predictions_new.py:49: RuntimeWarning: Mean of empty slice\n",
      "  inpv1[i,3:6,:,:] = (inp1.TEMP100M_T_.sel(time=slice(ld_mn1,ld_mn2))-np.nanmean(inp1.TEMP100M_T_,0))/np.nanstd(inp1.TEMP100M_T_,0)\n"
     ]
    },
    {
     "name": "stdout",
     "output_type": "stream",
     "text": [
      "Using cpu device\n",
      "tensor([[0.9653],\n",
      "        [0.9263],\n",
      "        [0.1248],\n",
      "        [0.2717]])\n",
      "/scratch/BENGUP/ML/DL_BN/Predictions/Web_V1.0/output/bn_4month_3_TEMPBNi_beng/C30H30/EN5/result.gdat\n",
      "Validation Done\n"
     ]
    },
    {
     "name": "stderr",
     "output_type": "stream",
     "text": [
      "/scratch/BENGUP/ML/DL_BN/Predictions/Web_V1.0/output/bn_4month_3_TEMPBNi_beng/src/bn.predictions_new.py:48: RuntimeWarning: Mean of empty slice\n",
      "  inpv1[i,0:3,:,:] = (inp1.SST_T_.sel(time=slice(ld_mn1,ld_mn2))-np.nanmean(inp1.SST_T_,0))/np.nanstd(inp1.SST_T_,0)\n",
      "/home/nay021/Software/anaconda3/lib/python3.8/site-packages/numpy/lib/nanfunctions.py:1664: RuntimeWarning: Degrees of freedom <= 0 for slice.\n",
      "  var = nanvar(a, axis=axis, dtype=dtype, out=out, ddof=ddof,\n",
      "/scratch/BENGUP/ML/DL_BN/Predictions/Web_V1.0/output/bn_4month_3_TEMPBNi_beng/src/bn.predictions_new.py:49: RuntimeWarning: Mean of empty slice\n",
      "  inpv1[i,3:6,:,:] = (inp1.TEMP100M_T_.sel(time=slice(ld_mn1,ld_mn2))-np.nanmean(inp1.TEMP100M_T_,0))/np.nanstd(inp1.TEMP100M_T_,0)\n"
     ]
    },
    {
     "name": "stdout",
     "output_type": "stream",
     "text": [
      "bn_4month_4_TEMPBNi_beng\n"
     ]
    },
    {
     "name": "stderr",
     "output_type": "stream",
     "text": [
      "/scratch/BENGUP/ML/DL_BN/Predictions/Web_V1.0/output/bn_4month_4_TEMPBNi_beng/src/bn.predictions_new.py:48: RuntimeWarning: Mean of empty slice\n",
      "  inpv1[i,0:3,:,:] = (inp1.SST_T_.sel(time=slice(ld_mn1,ld_mn2))-np.nanmean(inp1.SST_T_,0))/np.nanstd(inp1.SST_T_,0)\n",
      "/home/nay021/Software/anaconda3/lib/python3.8/site-packages/numpy/lib/nanfunctions.py:1664: RuntimeWarning: Degrees of freedom <= 0 for slice.\n",
      "  var = nanvar(a, axis=axis, dtype=dtype, out=out, ddof=ddof,\n",
      "/scratch/BENGUP/ML/DL_BN/Predictions/Web_V1.0/output/bn_4month_4_TEMPBNi_beng/src/bn.predictions_new.py:49: RuntimeWarning: Mean of empty slice\n",
      "  inpv1[i,3:6,:,:] = (inp1.TEMP100M_T_.sel(time=slice(ld_mn1,ld_mn2))-np.nanmean(inp1.TEMP100M_T_,0))/np.nanstd(inp1.TEMP100M_T_,0)\n"
     ]
    },
    {
     "name": "stdout",
     "output_type": "stream",
     "text": [
      "Using cpu device\n",
      "tensor([[ 0.6943],\n",
      "        [ 1.3504],\n",
      "        [ 1.0816],\n",
      "        [-0.3515]])\n",
      "/scratch/BENGUP/ML/DL_BN/Predictions/Web_V1.0/output/bn_4month_4_TEMPBNi_beng/C30H30/EN1/result.gdat\n",
      "Validation Done\n"
     ]
    },
    {
     "name": "stderr",
     "output_type": "stream",
     "text": [
      "/scratch/BENGUP/ML/DL_BN/Predictions/Web_V1.0/output/bn_4month_4_TEMPBNi_beng/src/bn.predictions_new.py:48: RuntimeWarning: Mean of empty slice\n",
      "  inpv1[i,0:3,:,:] = (inp1.SST_T_.sel(time=slice(ld_mn1,ld_mn2))-np.nanmean(inp1.SST_T_,0))/np.nanstd(inp1.SST_T_,0)\n",
      "/home/nay021/Software/anaconda3/lib/python3.8/site-packages/numpy/lib/nanfunctions.py:1664: RuntimeWarning: Degrees of freedom <= 0 for slice.\n",
      "  var = nanvar(a, axis=axis, dtype=dtype, out=out, ddof=ddof,\n",
      "/scratch/BENGUP/ML/DL_BN/Predictions/Web_V1.0/output/bn_4month_4_TEMPBNi_beng/src/bn.predictions_new.py:49: RuntimeWarning: Mean of empty slice\n",
      "  inpv1[i,3:6,:,:] = (inp1.TEMP100M_T_.sel(time=slice(ld_mn1,ld_mn2))-np.nanmean(inp1.TEMP100M_T_,0))/np.nanstd(inp1.TEMP100M_T_,0)\n"
     ]
    },
    {
     "name": "stdout",
     "output_type": "stream",
     "text": [
      "Using cpu device\n",
      "tensor([[ 0.6583],\n",
      "        [ 1.5996],\n",
      "        [ 1.0264],\n",
      "        [-0.1720]])\n",
      "/scratch/BENGUP/ML/DL_BN/Predictions/Web_V1.0/output/bn_4month_4_TEMPBNi_beng/C30H30/EN2/result.gdat\n",
      "Validation Done\n",
      "Using cpu device\n",
      "tensor([[ 0.2614],\n",
      "        [ 0.9736],\n",
      "        [ 0.7415],\n",
      "        [-0.1467]])\n",
      "/scratch/BENGUP/ML/DL_BN/Predictions/Web_V1.0/output/bn_4month_4_TEMPBNi_beng/C30H30/EN3/result.gdat\n",
      "Validation Done\n"
     ]
    },
    {
     "name": "stderr",
     "output_type": "stream",
     "text": [
      "/scratch/BENGUP/ML/DL_BN/Predictions/Web_V1.0/output/bn_4month_4_TEMPBNi_beng/src/bn.predictions_new.py:48: RuntimeWarning: Mean of empty slice\n",
      "  inpv1[i,0:3,:,:] = (inp1.SST_T_.sel(time=slice(ld_mn1,ld_mn2))-np.nanmean(inp1.SST_T_,0))/np.nanstd(inp1.SST_T_,0)\n",
      "/home/nay021/Software/anaconda3/lib/python3.8/site-packages/numpy/lib/nanfunctions.py:1664: RuntimeWarning: Degrees of freedom <= 0 for slice.\n",
      "  var = nanvar(a, axis=axis, dtype=dtype, out=out, ddof=ddof,\n",
      "/scratch/BENGUP/ML/DL_BN/Predictions/Web_V1.0/output/bn_4month_4_TEMPBNi_beng/src/bn.predictions_new.py:49: RuntimeWarning: Mean of empty slice\n",
      "  inpv1[i,3:6,:,:] = (inp1.TEMP100M_T_.sel(time=slice(ld_mn1,ld_mn2))-np.nanmean(inp1.TEMP100M_T_,0))/np.nanstd(inp1.TEMP100M_T_,0)\n"
     ]
    },
    {
     "name": "stdout",
     "output_type": "stream",
     "text": [
      "Using cpu device\n",
      "tensor([[0.3498],\n",
      "        [1.6295],\n",
      "        [0.7675],\n",
      "        [0.4636]])\n",
      "/scratch/BENGUP/ML/DL_BN/Predictions/Web_V1.0/output/bn_4month_4_TEMPBNi_beng/C30H30/EN4/result.gdat\n",
      "Validation Done\n"
     ]
    },
    {
     "name": "stderr",
     "output_type": "stream",
     "text": [
      "/scratch/BENGUP/ML/DL_BN/Predictions/Web_V1.0/output/bn_4month_4_TEMPBNi_beng/src/bn.predictions_new.py:48: RuntimeWarning: Mean of empty slice\n",
      "  inpv1[i,0:3,:,:] = (inp1.SST_T_.sel(time=slice(ld_mn1,ld_mn2))-np.nanmean(inp1.SST_T_,0))/np.nanstd(inp1.SST_T_,0)\n",
      "/home/nay021/Software/anaconda3/lib/python3.8/site-packages/numpy/lib/nanfunctions.py:1664: RuntimeWarning: Degrees of freedom <= 0 for slice.\n",
      "  var = nanvar(a, axis=axis, dtype=dtype, out=out, ddof=ddof,\n",
      "/scratch/BENGUP/ML/DL_BN/Predictions/Web_V1.0/output/bn_4month_4_TEMPBNi_beng/src/bn.predictions_new.py:49: RuntimeWarning: Mean of empty slice\n",
      "  inpv1[i,3:6,:,:] = (inp1.TEMP100M_T_.sel(time=slice(ld_mn1,ld_mn2))-np.nanmean(inp1.TEMP100M_T_,0))/np.nanstd(inp1.TEMP100M_T_,0)\n",
      "/scratch/BENGUP/ML/DL_BN/Predictions/Web_V1.0/output/bn_4month_4_TEMPBNi_beng/src/bn.predictions_new.py:48: RuntimeWarning: Mean of empty slice\n",
      "  inpv1[i,0:3,:,:] = (inp1.SST_T_.sel(time=slice(ld_mn1,ld_mn2))-np.nanmean(inp1.SST_T_,0))/np.nanstd(inp1.SST_T_,0)\n",
      "/home/nay021/Software/anaconda3/lib/python3.8/site-packages/numpy/lib/nanfunctions.py:1664: RuntimeWarning: Degrees of freedom <= 0 for slice.\n",
      "  var = nanvar(a, axis=axis, dtype=dtype, out=out, ddof=ddof,\n",
      "/scratch/BENGUP/ML/DL_BN/Predictions/Web_V1.0/output/bn_4month_4_TEMPBNi_beng/src/bn.predictions_new.py:49: RuntimeWarning: Mean of empty slice\n",
      "  inpv1[i,3:6,:,:] = (inp1.TEMP100M_T_.sel(time=slice(ld_mn1,ld_mn2))-np.nanmean(inp1.TEMP100M_T_,0))/np.nanstd(inp1.TEMP100M_T_,0)\n"
     ]
    },
    {
     "name": "stdout",
     "output_type": "stream",
     "text": [
      "Using cpu device\n",
      "tensor([[ 0.5215],\n",
      "        [ 0.9083],\n",
      "        [ 0.5002],\n",
      "        [-0.4448]])\n",
      "/scratch/BENGUP/ML/DL_BN/Predictions/Web_V1.0/output/bn_4month_4_TEMPBNi_beng/C30H30/EN5/result.gdat\n",
      "Validation Done\n",
      "bn_4month_5_TEMPBNi_beng\n",
      "Using cpu device\n",
      "tensor([[-0.5561],\n",
      "        [ 1.7948],\n",
      "        [ 0.2039],\n",
      "        [-0.3367]])\n",
      "/scratch/BENGUP/ML/DL_BN/Predictions/Web_V1.0/output/bn_4month_5_TEMPBNi_beng/C30H30/EN1/result.gdat\n",
      "Validation Done\n"
     ]
    },
    {
     "name": "stderr",
     "output_type": "stream",
     "text": [
      "/scratch/BENGUP/ML/DL_BN/Predictions/Web_V1.0/output/bn_4month_5_TEMPBNi_beng/src/bn.predictions_new.py:48: RuntimeWarning: Mean of empty slice\n",
      "  inpv1[i,0:3,:,:] = (inp1.SST_T_.sel(time=slice(ld_mn1,ld_mn2))-np.nanmean(inp1.SST_T_,0))/np.nanstd(inp1.SST_T_,0)\n",
      "/home/nay021/Software/anaconda3/lib/python3.8/site-packages/numpy/lib/nanfunctions.py:1664: RuntimeWarning: Degrees of freedom <= 0 for slice.\n",
      "  var = nanvar(a, axis=axis, dtype=dtype, out=out, ddof=ddof,\n",
      "/scratch/BENGUP/ML/DL_BN/Predictions/Web_V1.0/output/bn_4month_5_TEMPBNi_beng/src/bn.predictions_new.py:49: RuntimeWarning: Mean of empty slice\n",
      "  inpv1[i,3:6,:,:] = (inp1.TEMP100M_T_.sel(time=slice(ld_mn1,ld_mn2))-np.nanmean(inp1.TEMP100M_T_,0))/np.nanstd(inp1.TEMP100M_T_,0)\n",
      "/scratch/BENGUP/ML/DL_BN/Predictions/Web_V1.0/output/bn_4month_5_TEMPBNi_beng/src/bn.predictions_new.py:48: RuntimeWarning: Mean of empty slice\n",
      "  inpv1[i,0:3,:,:] = (inp1.SST_T_.sel(time=slice(ld_mn1,ld_mn2))-np.nanmean(inp1.SST_T_,0))/np.nanstd(inp1.SST_T_,0)\n",
      "/home/nay021/Software/anaconda3/lib/python3.8/site-packages/numpy/lib/nanfunctions.py:1664: RuntimeWarning: Degrees of freedom <= 0 for slice.\n",
      "  var = nanvar(a, axis=axis, dtype=dtype, out=out, ddof=ddof,\n",
      "/scratch/BENGUP/ML/DL_BN/Predictions/Web_V1.0/output/bn_4month_5_TEMPBNi_beng/src/bn.predictions_new.py:49: RuntimeWarning: Mean of empty slice\n",
      "  inpv1[i,3:6,:,:] = (inp1.TEMP100M_T_.sel(time=slice(ld_mn1,ld_mn2))-np.nanmean(inp1.TEMP100M_T_,0))/np.nanstd(inp1.TEMP100M_T_,0)\n"
     ]
    },
    {
     "name": "stdout",
     "output_type": "stream",
     "text": [
      "Using cpu device\n",
      "tensor([[-0.6917],\n",
      "        [ 1.5883],\n",
      "        [ 0.2369],\n",
      "        [-0.7450]])\n",
      "/scratch/BENGUP/ML/DL_BN/Predictions/Web_V1.0/output/bn_4month_5_TEMPBNi_beng/C30H30/EN2/result.gdat\n",
      "Validation Done\n"
     ]
    },
    {
     "name": "stderr",
     "output_type": "stream",
     "text": [
      "/scratch/BENGUP/ML/DL_BN/Predictions/Web_V1.0/output/bn_4month_5_TEMPBNi_beng/src/bn.predictions_new.py:48: RuntimeWarning: Mean of empty slice\n",
      "  inpv1[i,0:3,:,:] = (inp1.SST_T_.sel(time=slice(ld_mn1,ld_mn2))-np.nanmean(inp1.SST_T_,0))/np.nanstd(inp1.SST_T_,0)\n",
      "/home/nay021/Software/anaconda3/lib/python3.8/site-packages/numpy/lib/nanfunctions.py:1664: RuntimeWarning: Degrees of freedom <= 0 for slice.\n",
      "  var = nanvar(a, axis=axis, dtype=dtype, out=out, ddof=ddof,\n",
      "/scratch/BENGUP/ML/DL_BN/Predictions/Web_V1.0/output/bn_4month_5_TEMPBNi_beng/src/bn.predictions_new.py:49: RuntimeWarning: Mean of empty slice\n",
      "  inpv1[i,3:6,:,:] = (inp1.TEMP100M_T_.sel(time=slice(ld_mn1,ld_mn2))-np.nanmean(inp1.TEMP100M_T_,0))/np.nanstd(inp1.TEMP100M_T_,0)\n"
     ]
    },
    {
     "name": "stdout",
     "output_type": "stream",
     "text": [
      "Using cpu device\n",
      "tensor([[-0.6788],\n",
      "        [ 1.8985],\n",
      "        [ 0.9671],\n",
      "        [-0.0920]])\n",
      "/scratch/BENGUP/ML/DL_BN/Predictions/Web_V1.0/output/bn_4month_5_TEMPBNi_beng/C30H30/EN3/result.gdat\n",
      "Validation Done\n"
     ]
    },
    {
     "name": "stderr",
     "output_type": "stream",
     "text": [
      "/scratch/BENGUP/ML/DL_BN/Predictions/Web_V1.0/output/bn_4month_5_TEMPBNi_beng/src/bn.predictions_new.py:48: RuntimeWarning: Mean of empty slice\n",
      "  inpv1[i,0:3,:,:] = (inp1.SST_T_.sel(time=slice(ld_mn1,ld_mn2))-np.nanmean(inp1.SST_T_,0))/np.nanstd(inp1.SST_T_,0)\n",
      "/home/nay021/Software/anaconda3/lib/python3.8/site-packages/numpy/lib/nanfunctions.py:1664: RuntimeWarning: Degrees of freedom <= 0 for slice.\n",
      "  var = nanvar(a, axis=axis, dtype=dtype, out=out, ddof=ddof,\n",
      "/scratch/BENGUP/ML/DL_BN/Predictions/Web_V1.0/output/bn_4month_5_TEMPBNi_beng/src/bn.predictions_new.py:49: RuntimeWarning: Mean of empty slice\n",
      "  inpv1[i,3:6,:,:] = (inp1.TEMP100M_T_.sel(time=slice(ld_mn1,ld_mn2))-np.nanmean(inp1.TEMP100M_T_,0))/np.nanstd(inp1.TEMP100M_T_,0)\n"
     ]
    },
    {
     "name": "stdout",
     "output_type": "stream",
     "text": [
      "Using cpu device\n",
      "tensor([[-0.6987],\n",
      "        [ 1.8994],\n",
      "        [ 0.8925],\n",
      "        [-0.3912]])\n",
      "/scratch/BENGUP/ML/DL_BN/Predictions/Web_V1.0/output/bn_4month_5_TEMPBNi_beng/C30H30/EN4/result.gdat\n",
      "Validation Done\n"
     ]
    },
    {
     "name": "stderr",
     "output_type": "stream",
     "text": [
      "/scratch/BENGUP/ML/DL_BN/Predictions/Web_V1.0/output/bn_4month_5_TEMPBNi_beng/src/bn.predictions_new.py:48: RuntimeWarning: Mean of empty slice\n",
      "  inpv1[i,0:3,:,:] = (inp1.SST_T_.sel(time=slice(ld_mn1,ld_mn2))-np.nanmean(inp1.SST_T_,0))/np.nanstd(inp1.SST_T_,0)\n",
      "/home/nay021/Software/anaconda3/lib/python3.8/site-packages/numpy/lib/nanfunctions.py:1664: RuntimeWarning: Degrees of freedom <= 0 for slice.\n",
      "  var = nanvar(a, axis=axis, dtype=dtype, out=out, ddof=ddof,\n",
      "/scratch/BENGUP/ML/DL_BN/Predictions/Web_V1.0/output/bn_4month_5_TEMPBNi_beng/src/bn.predictions_new.py:49: RuntimeWarning: Mean of empty slice\n",
      "  inpv1[i,3:6,:,:] = (inp1.TEMP100M_T_.sel(time=slice(ld_mn1,ld_mn2))-np.nanmean(inp1.TEMP100M_T_,0))/np.nanstd(inp1.TEMP100M_T_,0)\n"
     ]
    },
    {
     "name": "stdout",
     "output_type": "stream",
     "text": [
      "Using cpu device\n",
      "tensor([[-0.3918],\n",
      "        [ 1.1959],\n",
      "        [ 1.1148],\n",
      "        [-0.1505]])\n",
      "/scratch/BENGUP/ML/DL_BN/Predictions/Web_V1.0/output/bn_4month_5_TEMPBNi_beng/C30H30/EN5/result.gdat\n",
      "Validation Done\n",
      "bn_4month_6_TEMPBNi_beng\n",
      "Using cpu device\n",
      "tensor([[-0.6810],\n",
      "        [ 1.0076],\n",
      "        [ 0.8698],\n",
      "        [-0.5464]])\n",
      "/scratch/BENGUP/ML/DL_BN/Predictions/Web_V1.0/output/bn_4month_6_TEMPBNi_beng/C30H30/EN1/result.gdat\n",
      "Validation Done\n"
     ]
    },
    {
     "name": "stderr",
     "output_type": "stream",
     "text": [
      "/scratch/BENGUP/ML/DL_BN/Predictions/Web_V1.0/output/bn_4month_6_TEMPBNi_beng/src/bn.predictions_new.py:48: RuntimeWarning: Mean of empty slice\n",
      "  inpv1[i,0:3,:,:] = (inp1.SST_T_.sel(time=slice(ld_mn1,ld_mn2))-np.nanmean(inp1.SST_T_,0))/np.nanstd(inp1.SST_T_,0)\n",
      "/home/nay021/Software/anaconda3/lib/python3.8/site-packages/numpy/lib/nanfunctions.py:1664: RuntimeWarning: Degrees of freedom <= 0 for slice.\n",
      "  var = nanvar(a, axis=axis, dtype=dtype, out=out, ddof=ddof,\n",
      "/scratch/BENGUP/ML/DL_BN/Predictions/Web_V1.0/output/bn_4month_6_TEMPBNi_beng/src/bn.predictions_new.py:49: RuntimeWarning: Mean of empty slice\n",
      "  inpv1[i,3:6,:,:] = (inp1.TEMP100M_T_.sel(time=slice(ld_mn1,ld_mn2))-np.nanmean(inp1.TEMP100M_T_,0))/np.nanstd(inp1.TEMP100M_T_,0)\n"
     ]
    },
    {
     "name": "stdout",
     "output_type": "stream",
     "text": [
      "Using cpu device\n",
      "tensor([[-1.3240],\n",
      "        [ 0.9533],\n",
      "        [ 0.0526],\n",
      "        [-0.4409]])\n",
      "/scratch/BENGUP/ML/DL_BN/Predictions/Web_V1.0/output/bn_4month_6_TEMPBNi_beng/C30H30/EN2/result.gdat\n",
      "Validation Done\n"
     ]
    },
    {
     "name": "stderr",
     "output_type": "stream",
     "text": [
      "/scratch/BENGUP/ML/DL_BN/Predictions/Web_V1.0/output/bn_4month_6_TEMPBNi_beng/src/bn.predictions_new.py:48: RuntimeWarning: Mean of empty slice\n",
      "  inpv1[i,0:3,:,:] = (inp1.SST_T_.sel(time=slice(ld_mn1,ld_mn2))-np.nanmean(inp1.SST_T_,0))/np.nanstd(inp1.SST_T_,0)\n",
      "/home/nay021/Software/anaconda3/lib/python3.8/site-packages/numpy/lib/nanfunctions.py:1664: RuntimeWarning: Degrees of freedom <= 0 for slice.\n",
      "  var = nanvar(a, axis=axis, dtype=dtype, out=out, ddof=ddof,\n",
      "/scratch/BENGUP/ML/DL_BN/Predictions/Web_V1.0/output/bn_4month_6_TEMPBNi_beng/src/bn.predictions_new.py:49: RuntimeWarning: Mean of empty slice\n",
      "  inpv1[i,3:6,:,:] = (inp1.TEMP100M_T_.sel(time=slice(ld_mn1,ld_mn2))-np.nanmean(inp1.TEMP100M_T_,0))/np.nanstd(inp1.TEMP100M_T_,0)\n",
      "/scratch/BENGUP/ML/DL_BN/Predictions/Web_V1.0/output/bn_4month_6_TEMPBNi_beng/src/bn.predictions_new.py:48: RuntimeWarning: Mean of empty slice\n",
      "  inpv1[i,0:3,:,:] = (inp1.SST_T_.sel(time=slice(ld_mn1,ld_mn2))-np.nanmean(inp1.SST_T_,0))/np.nanstd(inp1.SST_T_,0)\n",
      "/home/nay021/Software/anaconda3/lib/python3.8/site-packages/numpy/lib/nanfunctions.py:1664: RuntimeWarning: Degrees of freedom <= 0 for slice.\n",
      "  var = nanvar(a, axis=axis, dtype=dtype, out=out, ddof=ddof,\n",
      "/scratch/BENGUP/ML/DL_BN/Predictions/Web_V1.0/output/bn_4month_6_TEMPBNi_beng/src/bn.predictions_new.py:49: RuntimeWarning: Mean of empty slice\n",
      "  inpv1[i,3:6,:,:] = (inp1.TEMP100M_T_.sel(time=slice(ld_mn1,ld_mn2))-np.nanmean(inp1.TEMP100M_T_,0))/np.nanstd(inp1.TEMP100M_T_,0)\n"
     ]
    },
    {
     "name": "stdout",
     "output_type": "stream",
     "text": [
      "Using cpu device\n",
      "tensor([[-1.5554],\n",
      "        [ 0.7608],\n",
      "        [ 0.2377],\n",
      "        [-0.8093]])\n",
      "/scratch/BENGUP/ML/DL_BN/Predictions/Web_V1.0/output/bn_4month_6_TEMPBNi_beng/C30H30/EN3/result.gdat\n",
      "Validation Done\n"
     ]
    },
    {
     "name": "stderr",
     "output_type": "stream",
     "text": [
      "/scratch/BENGUP/ML/DL_BN/Predictions/Web_V1.0/output/bn_4month_6_TEMPBNi_beng/src/bn.predictions_new.py:48: RuntimeWarning: Mean of empty slice\n",
      "  inpv1[i,0:3,:,:] = (inp1.SST_T_.sel(time=slice(ld_mn1,ld_mn2))-np.nanmean(inp1.SST_T_,0))/np.nanstd(inp1.SST_T_,0)\n",
      "/home/nay021/Software/anaconda3/lib/python3.8/site-packages/numpy/lib/nanfunctions.py:1664: RuntimeWarning: Degrees of freedom <= 0 for slice.\n",
      "  var = nanvar(a, axis=axis, dtype=dtype, out=out, ddof=ddof,\n",
      "/scratch/BENGUP/ML/DL_BN/Predictions/Web_V1.0/output/bn_4month_6_TEMPBNi_beng/src/bn.predictions_new.py:49: RuntimeWarning: Mean of empty slice\n",
      "  inpv1[i,3:6,:,:] = (inp1.TEMP100M_T_.sel(time=slice(ld_mn1,ld_mn2))-np.nanmean(inp1.TEMP100M_T_,0))/np.nanstd(inp1.TEMP100M_T_,0)\n"
     ]
    },
    {
     "name": "stdout",
     "output_type": "stream",
     "text": [
      "Using cpu device\n",
      "tensor([[-1.1114],\n",
      "        [ 0.4238],\n",
      "        [ 1.0879],\n",
      "        [-0.6196]])\n",
      "/scratch/BENGUP/ML/DL_BN/Predictions/Web_V1.0/output/bn_4month_6_TEMPBNi_beng/C30H30/EN4/result.gdat\n",
      "Validation Done\n"
     ]
    },
    {
     "name": "stderr",
     "output_type": "stream",
     "text": [
      "/scratch/BENGUP/ML/DL_BN/Predictions/Web_V1.0/output/bn_4month_6_TEMPBNi_beng/src/bn.predictions_new.py:48: RuntimeWarning: Mean of empty slice\n",
      "  inpv1[i,0:3,:,:] = (inp1.SST_T_.sel(time=slice(ld_mn1,ld_mn2))-np.nanmean(inp1.SST_T_,0))/np.nanstd(inp1.SST_T_,0)\n",
      "/home/nay021/Software/anaconda3/lib/python3.8/site-packages/numpy/lib/nanfunctions.py:1664: RuntimeWarning: Degrees of freedom <= 0 for slice.\n",
      "  var = nanvar(a, axis=axis, dtype=dtype, out=out, ddof=ddof,\n",
      "/scratch/BENGUP/ML/DL_BN/Predictions/Web_V1.0/output/bn_4month_6_TEMPBNi_beng/src/bn.predictions_new.py:49: RuntimeWarning: Mean of empty slice\n",
      "  inpv1[i,3:6,:,:] = (inp1.TEMP100M_T_.sel(time=slice(ld_mn1,ld_mn2))-np.nanmean(inp1.TEMP100M_T_,0))/np.nanstd(inp1.TEMP100M_T_,0)\n"
     ]
    },
    {
     "name": "stdout",
     "output_type": "stream",
     "text": [
      "Using cpu device\n",
      "tensor([[-1.1482],\n",
      "        [ 1.0351],\n",
      "        [ 0.7073],\n",
      "        [-0.3733]])\n",
      "/scratch/BENGUP/ML/DL_BN/Predictions/Web_V1.0/output/bn_4month_6_TEMPBNi_beng/C30H30/EN5/result.gdat\n",
      "Validation Done\n",
      "bn_4month_7_TEMPBNi_beng\n"
     ]
    },
    {
     "name": "stderr",
     "output_type": "stream",
     "text": [
      "/scratch/BENGUP/ML/DL_BN/Predictions/Web_V1.0/output/bn_4month_7_TEMPBNi_beng/src/bn.predictions_new.py:48: RuntimeWarning: Mean of empty slice\n",
      "  inpv1[i,0:3,:,:] = (inp1.SST_T_.sel(time=slice(ld_mn1,ld_mn2))-np.nanmean(inp1.SST_T_,0))/np.nanstd(inp1.SST_T_,0)\n",
      "/home/nay021/Software/anaconda3/lib/python3.8/site-packages/numpy/lib/nanfunctions.py:1664: RuntimeWarning: Degrees of freedom <= 0 for slice.\n",
      "  var = nanvar(a, axis=axis, dtype=dtype, out=out, ddof=ddof,\n",
      "/scratch/BENGUP/ML/DL_BN/Predictions/Web_V1.0/output/bn_4month_7_TEMPBNi_beng/src/bn.predictions_new.py:49: RuntimeWarning: Mean of empty slice\n",
      "  inpv1[i,3:6,:,:] = (inp1.TEMP100M_T_.sel(time=slice(ld_mn1,ld_mn2))-np.nanmean(inp1.TEMP100M_T_,0))/np.nanstd(inp1.TEMP100M_T_,0)\n"
     ]
    },
    {
     "name": "stdout",
     "output_type": "stream",
     "text": [
      "Using cpu device\n",
      "tensor([[ 0.0472],\n",
      "        [-0.3239],\n",
      "        [ 0.8374],\n",
      "        [ 0.0207]])\n",
      "/scratch/BENGUP/ML/DL_BN/Predictions/Web_V1.0/output/bn_4month_7_TEMPBNi_beng/C30H30/EN1/result.gdat\n",
      "Validation Done\n"
     ]
    },
    {
     "name": "stderr",
     "output_type": "stream",
     "text": [
      "/scratch/BENGUP/ML/DL_BN/Predictions/Web_V1.0/output/bn_4month_7_TEMPBNi_beng/src/bn.predictions_new.py:48: RuntimeWarning: Mean of empty slice\n",
      "  inpv1[i,0:3,:,:] = (inp1.SST_T_.sel(time=slice(ld_mn1,ld_mn2))-np.nanmean(inp1.SST_T_,0))/np.nanstd(inp1.SST_T_,0)\n",
      "/home/nay021/Software/anaconda3/lib/python3.8/site-packages/numpy/lib/nanfunctions.py:1664: RuntimeWarning: Degrees of freedom <= 0 for slice.\n",
      "  var = nanvar(a, axis=axis, dtype=dtype, out=out, ddof=ddof,\n",
      "/scratch/BENGUP/ML/DL_BN/Predictions/Web_V1.0/output/bn_4month_7_TEMPBNi_beng/src/bn.predictions_new.py:49: RuntimeWarning: Mean of empty slice\n",
      "  inpv1[i,3:6,:,:] = (inp1.TEMP100M_T_.sel(time=slice(ld_mn1,ld_mn2))-np.nanmean(inp1.TEMP100M_T_,0))/np.nanstd(inp1.TEMP100M_T_,0)\n"
     ]
    },
    {
     "name": "stdout",
     "output_type": "stream",
     "text": [
      "Using cpu device\n",
      "tensor([[-0.4702],\n",
      "        [ 0.1507],\n",
      "        [ 0.6165],\n",
      "        [ 0.0055]])\n",
      "/scratch/BENGUP/ML/DL_BN/Predictions/Web_V1.0/output/bn_4month_7_TEMPBNi_beng/C30H30/EN2/result.gdat\n",
      "Validation Done\n",
      "Using cpu device\n",
      "tensor([[ 0.0191],\n",
      "        [-0.0157],\n",
      "        [ 0.9229],\n",
      "        [ 0.2941]])\n",
      "/scratch/BENGUP/ML/DL_BN/Predictions/Web_V1.0/output/bn_4month_7_TEMPBNi_beng/C30H30/EN3/result.gdat\n",
      "Validation Done\n"
     ]
    },
    {
     "name": "stderr",
     "output_type": "stream",
     "text": [
      "/scratch/BENGUP/ML/DL_BN/Predictions/Web_V1.0/output/bn_4month_7_TEMPBNi_beng/src/bn.predictions_new.py:48: RuntimeWarning: Mean of empty slice\n",
      "  inpv1[i,0:3,:,:] = (inp1.SST_T_.sel(time=slice(ld_mn1,ld_mn2))-np.nanmean(inp1.SST_T_,0))/np.nanstd(inp1.SST_T_,0)\n",
      "/home/nay021/Software/anaconda3/lib/python3.8/site-packages/numpy/lib/nanfunctions.py:1664: RuntimeWarning: Degrees of freedom <= 0 for slice.\n",
      "  var = nanvar(a, axis=axis, dtype=dtype, out=out, ddof=ddof,\n",
      "/scratch/BENGUP/ML/DL_BN/Predictions/Web_V1.0/output/bn_4month_7_TEMPBNi_beng/src/bn.predictions_new.py:49: RuntimeWarning: Mean of empty slice\n",
      "  inpv1[i,3:6,:,:] = (inp1.TEMP100M_T_.sel(time=slice(ld_mn1,ld_mn2))-np.nanmean(inp1.TEMP100M_T_,0))/np.nanstd(inp1.TEMP100M_T_,0)\n",
      "/scratch/BENGUP/ML/DL_BN/Predictions/Web_V1.0/output/bn_4month_7_TEMPBNi_beng/src/bn.predictions_new.py:48: RuntimeWarning: Mean of empty slice\n",
      "  inpv1[i,0:3,:,:] = (inp1.SST_T_.sel(time=slice(ld_mn1,ld_mn2))-np.nanmean(inp1.SST_T_,0))/np.nanstd(inp1.SST_T_,0)\n",
      "/home/nay021/Software/anaconda3/lib/python3.8/site-packages/numpy/lib/nanfunctions.py:1664: RuntimeWarning: Degrees of freedom <= 0 for slice.\n",
      "  var = nanvar(a, axis=axis, dtype=dtype, out=out, ddof=ddof,\n",
      "/scratch/BENGUP/ML/DL_BN/Predictions/Web_V1.0/output/bn_4month_7_TEMPBNi_beng/src/bn.predictions_new.py:49: RuntimeWarning: Mean of empty slice\n",
      "  inpv1[i,3:6,:,:] = (inp1.TEMP100M_T_.sel(time=slice(ld_mn1,ld_mn2))-np.nanmean(inp1.TEMP100M_T_,0))/np.nanstd(inp1.TEMP100M_T_,0)\n"
     ]
    },
    {
     "name": "stdout",
     "output_type": "stream",
     "text": [
      "Using cpu device\n",
      "tensor([[-0.5062],\n",
      "        [-0.1265],\n",
      "        [ 0.5367],\n",
      "        [ 0.3992]])\n",
      "/scratch/BENGUP/ML/DL_BN/Predictions/Web_V1.0/output/bn_4month_7_TEMPBNi_beng/C30H30/EN4/result.gdat\n",
      "Validation Done\n",
      "Using cpu device\n",
      "tensor([[-0.6875],\n",
      "        [ 0.3922],\n",
      "        [ 1.2476],\n",
      "        [ 0.0354]])\n",
      "/scratch/BENGUP/ML/DL_BN/Predictions/Web_V1.0/output/bn_4month_7_TEMPBNi_beng/C30H30/EN5/result.gdat\n",
      "Validation Done\n"
     ]
    },
    {
     "name": "stderr",
     "output_type": "stream",
     "text": [
      "/scratch/BENGUP/ML/DL_BN/Predictions/Web_V1.0/output/bn_4month_7_TEMPBNi_beng/src/bn.predictions_new.py:48: RuntimeWarning: Mean of empty slice\n",
      "  inpv1[i,0:3,:,:] = (inp1.SST_T_.sel(time=slice(ld_mn1,ld_mn2))-np.nanmean(inp1.SST_T_,0))/np.nanstd(inp1.SST_T_,0)\n",
      "/home/nay021/Software/anaconda3/lib/python3.8/site-packages/numpy/lib/nanfunctions.py:1664: RuntimeWarning: Degrees of freedom <= 0 for slice.\n",
      "  var = nanvar(a, axis=axis, dtype=dtype, out=out, ddof=ddof,\n",
      "/scratch/BENGUP/ML/DL_BN/Predictions/Web_V1.0/output/bn_4month_7_TEMPBNi_beng/src/bn.predictions_new.py:49: RuntimeWarning: Mean of empty slice\n",
      "  inpv1[i,3:6,:,:] = (inp1.TEMP100M_T_.sel(time=slice(ld_mn1,ld_mn2))-np.nanmean(inp1.TEMP100M_T_,0))/np.nanstd(inp1.TEMP100M_T_,0)\n"
     ]
    },
    {
     "name": "stdout",
     "output_type": "stream",
     "text": [
      "bn_4month_8_TEMPBNi_beng\n",
      "Using cpu device\n",
      "tensor([[-0.3033],\n",
      "        [ 0.5255],\n",
      "        [ 0.6501],\n",
      "        [-0.0367]])\n",
      "/scratch/BENGUP/ML/DL_BN/Predictions/Web_V1.0/output/bn_4month_8_TEMPBNi_beng/C30H30/EN1/result.gdat\n",
      "Validation Done\n"
     ]
    },
    {
     "name": "stderr",
     "output_type": "stream",
     "text": [
      "/scratch/BENGUP/ML/DL_BN/Predictions/Web_V1.0/output/bn_4month_8_TEMPBNi_beng/src/bn.predictions_new.py:48: RuntimeWarning: Mean of empty slice\n",
      "  inpv1[i,0:3,:,:] = (inp1.SST_T_.sel(time=slice(ld_mn1,ld_mn2))-np.nanmean(inp1.SST_T_,0))/np.nanstd(inp1.SST_T_,0)\n",
      "/home/nay021/Software/anaconda3/lib/python3.8/site-packages/numpy/lib/nanfunctions.py:1664: RuntimeWarning: Degrees of freedom <= 0 for slice.\n",
      "  var = nanvar(a, axis=axis, dtype=dtype, out=out, ddof=ddof,\n",
      "/scratch/BENGUP/ML/DL_BN/Predictions/Web_V1.0/output/bn_4month_8_TEMPBNi_beng/src/bn.predictions_new.py:49: RuntimeWarning: Mean of empty slice\n",
      "  inpv1[i,3:6,:,:] = (inp1.TEMP100M_T_.sel(time=slice(ld_mn1,ld_mn2))-np.nanmean(inp1.TEMP100M_T_,0))/np.nanstd(inp1.TEMP100M_T_,0)\n"
     ]
    },
    {
     "name": "stdout",
     "output_type": "stream",
     "text": [
      "Using cpu device\n",
      "tensor([[-0.4613],\n",
      "        [ 0.6596],\n",
      "        [ 1.1053],\n",
      "        [-0.0580]])\n",
      "/scratch/BENGUP/ML/DL_BN/Predictions/Web_V1.0/output/bn_4month_8_TEMPBNi_beng/C30H30/EN2/result.gdat\n",
      "Validation Done\n"
     ]
    },
    {
     "name": "stderr",
     "output_type": "stream",
     "text": [
      "/scratch/BENGUP/ML/DL_BN/Predictions/Web_V1.0/output/bn_4month_8_TEMPBNi_beng/src/bn.predictions_new.py:48: RuntimeWarning: Mean of empty slice\n",
      "  inpv1[i,0:3,:,:] = (inp1.SST_T_.sel(time=slice(ld_mn1,ld_mn2))-np.nanmean(inp1.SST_T_,0))/np.nanstd(inp1.SST_T_,0)\n",
      "/home/nay021/Software/anaconda3/lib/python3.8/site-packages/numpy/lib/nanfunctions.py:1664: RuntimeWarning: Degrees of freedom <= 0 for slice.\n",
      "  var = nanvar(a, axis=axis, dtype=dtype, out=out, ddof=ddof,\n",
      "/scratch/BENGUP/ML/DL_BN/Predictions/Web_V1.0/output/bn_4month_8_TEMPBNi_beng/src/bn.predictions_new.py:49: RuntimeWarning: Mean of empty slice\n",
      "  inpv1[i,3:6,:,:] = (inp1.TEMP100M_T_.sel(time=slice(ld_mn1,ld_mn2))-np.nanmean(inp1.TEMP100M_T_,0))/np.nanstd(inp1.TEMP100M_T_,0)\n"
     ]
    },
    {
     "name": "stdout",
     "output_type": "stream",
     "text": [
      "Using cpu device\n",
      "tensor([[0.3921],\n",
      "        [0.5491],\n",
      "        [0.7832],\n",
      "        [0.0133]])\n",
      "/scratch/BENGUP/ML/DL_BN/Predictions/Web_V1.0/output/bn_4month_8_TEMPBNi_beng/C30H30/EN3/result.gdat\n",
      "Validation Done\n"
     ]
    },
    {
     "name": "stderr",
     "output_type": "stream",
     "text": [
      "/scratch/BENGUP/ML/DL_BN/Predictions/Web_V1.0/output/bn_4month_8_TEMPBNi_beng/src/bn.predictions_new.py:48: RuntimeWarning: Mean of empty slice\n",
      "  inpv1[i,0:3,:,:] = (inp1.SST_T_.sel(time=slice(ld_mn1,ld_mn2))-np.nanmean(inp1.SST_T_,0))/np.nanstd(inp1.SST_T_,0)\n",
      "/home/nay021/Software/anaconda3/lib/python3.8/site-packages/numpy/lib/nanfunctions.py:1664: RuntimeWarning: Degrees of freedom <= 0 for slice.\n",
      "  var = nanvar(a, axis=axis, dtype=dtype, out=out, ddof=ddof,\n",
      "/scratch/BENGUP/ML/DL_BN/Predictions/Web_V1.0/output/bn_4month_8_TEMPBNi_beng/src/bn.predictions_new.py:49: RuntimeWarning: Mean of empty slice\n",
      "  inpv1[i,3:6,:,:] = (inp1.TEMP100M_T_.sel(time=slice(ld_mn1,ld_mn2))-np.nanmean(inp1.TEMP100M_T_,0))/np.nanstd(inp1.TEMP100M_T_,0)\n"
     ]
    },
    {
     "name": "stdout",
     "output_type": "stream",
     "text": [
      "Using cpu device\n",
      "tensor([[-0.2176],\n",
      "        [ 0.3978],\n",
      "        [ 0.4063],\n",
      "        [ 0.1193]])\n",
      "/scratch/BENGUP/ML/DL_BN/Predictions/Web_V1.0/output/bn_4month_8_TEMPBNi_beng/C30H30/EN4/result.gdat\n",
      "Validation Done\n"
     ]
    },
    {
     "name": "stderr",
     "output_type": "stream",
     "text": [
      "/scratch/BENGUP/ML/DL_BN/Predictions/Web_V1.0/output/bn_4month_8_TEMPBNi_beng/src/bn.predictions_new.py:48: RuntimeWarning: Mean of empty slice\n",
      "  inpv1[i,0:3,:,:] = (inp1.SST_T_.sel(time=slice(ld_mn1,ld_mn2))-np.nanmean(inp1.SST_T_,0))/np.nanstd(inp1.SST_T_,0)\n",
      "/home/nay021/Software/anaconda3/lib/python3.8/site-packages/numpy/lib/nanfunctions.py:1664: RuntimeWarning: Degrees of freedom <= 0 for slice.\n",
      "  var = nanvar(a, axis=axis, dtype=dtype, out=out, ddof=ddof,\n",
      "/scratch/BENGUP/ML/DL_BN/Predictions/Web_V1.0/output/bn_4month_8_TEMPBNi_beng/src/bn.predictions_new.py:49: RuntimeWarning: Mean of empty slice\n",
      "  inpv1[i,3:6,:,:] = (inp1.TEMP100M_T_.sel(time=slice(ld_mn1,ld_mn2))-np.nanmean(inp1.TEMP100M_T_,0))/np.nanstd(inp1.TEMP100M_T_,0)\n"
     ]
    },
    {
     "name": "stdout",
     "output_type": "stream",
     "text": [
      "Using cpu device\n",
      "tensor([[-0.4461],\n",
      "        [ 0.5164],\n",
      "        [ 0.6177],\n",
      "        [-0.1905]])\n",
      "/scratch/BENGUP/ML/DL_BN/Predictions/Web_V1.0/output/bn_4month_8_TEMPBNi_beng/C30H30/EN5/result.gdat\n",
      "Validation Done\n"
     ]
    },
    {
     "name": "stderr",
     "output_type": "stream",
     "text": [
      "/scratch/BENGUP/ML/DL_BN/Predictions/Web_V1.0/output/bn_4month_8_TEMPBNi_beng/src/bn.predictions_new.py:48: RuntimeWarning: Mean of empty slice\n",
      "  inpv1[i,0:3,:,:] = (inp1.SST_T_.sel(time=slice(ld_mn1,ld_mn2))-np.nanmean(inp1.SST_T_,0))/np.nanstd(inp1.SST_T_,0)\n",
      "/home/nay021/Software/anaconda3/lib/python3.8/site-packages/numpy/lib/nanfunctions.py:1664: RuntimeWarning: Degrees of freedom <= 0 for slice.\n",
      "  var = nanvar(a, axis=axis, dtype=dtype, out=out, ddof=ddof,\n",
      "/scratch/BENGUP/ML/DL_BN/Predictions/Web_V1.0/output/bn_4month_8_TEMPBNi_beng/src/bn.predictions_new.py:49: RuntimeWarning: Mean of empty slice\n",
      "  inpv1[i,3:6,:,:] = (inp1.TEMP100M_T_.sel(time=slice(ld_mn1,ld_mn2))-np.nanmean(inp1.TEMP100M_T_,0))/np.nanstd(inp1.TEMP100M_T_,0)\n"
     ]
    },
    {
     "name": "stdout",
     "output_type": "stream",
     "text": [
      "bn_4month_9_TEMPBNi_beng\n",
      "Using cpu device\n",
      "tensor([[-0.3004],\n",
      "        [ 0.1277],\n",
      "        [ 0.0472],\n",
      "        [-0.4738]])\n",
      "/scratch/BENGUP/ML/DL_BN/Predictions/Web_V1.0/output/bn_4month_9_TEMPBNi_beng/C30H30/EN1/result.gdat\n",
      "Validation Done\n"
     ]
    },
    {
     "name": "stderr",
     "output_type": "stream",
     "text": [
      "/scratch/BENGUP/ML/DL_BN/Predictions/Web_V1.0/output/bn_4month_9_TEMPBNi_beng/src/bn.predictions_new.py:48: RuntimeWarning: Mean of empty slice\n",
      "  inpv1[i,0:3,:,:] = (inp1.SST_T_.sel(time=slice(ld_mn1,ld_mn2))-np.nanmean(inp1.SST_T_,0))/np.nanstd(inp1.SST_T_,0)\n",
      "/home/nay021/Software/anaconda3/lib/python3.8/site-packages/numpy/lib/nanfunctions.py:1664: RuntimeWarning: Degrees of freedom <= 0 for slice.\n",
      "  var = nanvar(a, axis=axis, dtype=dtype, out=out, ddof=ddof,\n",
      "/scratch/BENGUP/ML/DL_BN/Predictions/Web_V1.0/output/bn_4month_9_TEMPBNi_beng/src/bn.predictions_new.py:49: RuntimeWarning: Mean of empty slice\n",
      "  inpv1[i,3:6,:,:] = (inp1.TEMP100M_T_.sel(time=slice(ld_mn1,ld_mn2))-np.nanmean(inp1.TEMP100M_T_,0))/np.nanstd(inp1.TEMP100M_T_,0)\n"
     ]
    },
    {
     "name": "stdout",
     "output_type": "stream",
     "text": [
      "Using cpu device\n",
      "tensor([[ 0.0666],\n",
      "        [ 0.1212],\n",
      "        [ 0.2485],\n",
      "        [-0.3205]])\n",
      "/scratch/BENGUP/ML/DL_BN/Predictions/Web_V1.0/output/bn_4month_9_TEMPBNi_beng/C30H30/EN2/result.gdat\n",
      "Validation Done\n"
     ]
    },
    {
     "name": "stderr",
     "output_type": "stream",
     "text": [
      "/scratch/BENGUP/ML/DL_BN/Predictions/Web_V1.0/output/bn_4month_9_TEMPBNi_beng/src/bn.predictions_new.py:48: RuntimeWarning: Mean of empty slice\n",
      "  inpv1[i,0:3,:,:] = (inp1.SST_T_.sel(time=slice(ld_mn1,ld_mn2))-np.nanmean(inp1.SST_T_,0))/np.nanstd(inp1.SST_T_,0)\n",
      "/home/nay021/Software/anaconda3/lib/python3.8/site-packages/numpy/lib/nanfunctions.py:1664: RuntimeWarning: Degrees of freedom <= 0 for slice.\n",
      "  var = nanvar(a, axis=axis, dtype=dtype, out=out, ddof=ddof,\n",
      "/scratch/BENGUP/ML/DL_BN/Predictions/Web_V1.0/output/bn_4month_9_TEMPBNi_beng/src/bn.predictions_new.py:49: RuntimeWarning: Mean of empty slice\n",
      "  inpv1[i,3:6,:,:] = (inp1.TEMP100M_T_.sel(time=slice(ld_mn1,ld_mn2))-np.nanmean(inp1.TEMP100M_T_,0))/np.nanstd(inp1.TEMP100M_T_,0)\n"
     ]
    },
    {
     "name": "stdout",
     "output_type": "stream",
     "text": [
      "Using cpu device\n",
      "tensor([[-0.0690],\n",
      "        [ 0.7419],\n",
      "        [ 0.2622],\n",
      "        [-0.4348]])\n",
      "/scratch/BENGUP/ML/DL_BN/Predictions/Web_V1.0/output/bn_4month_9_TEMPBNi_beng/C30H30/EN3/result.gdat\n",
      "Validation Done\n"
     ]
    },
    {
     "name": "stderr",
     "output_type": "stream",
     "text": [
      "/scratch/BENGUP/ML/DL_BN/Predictions/Web_V1.0/output/bn_4month_9_TEMPBNi_beng/src/bn.predictions_new.py:48: RuntimeWarning: Mean of empty slice\n",
      "  inpv1[i,0:3,:,:] = (inp1.SST_T_.sel(time=slice(ld_mn1,ld_mn2))-np.nanmean(inp1.SST_T_,0))/np.nanstd(inp1.SST_T_,0)\n",
      "/home/nay021/Software/anaconda3/lib/python3.8/site-packages/numpy/lib/nanfunctions.py:1664: RuntimeWarning: Degrees of freedom <= 0 for slice.\n",
      "  var = nanvar(a, axis=axis, dtype=dtype, out=out, ddof=ddof,\n",
      "/scratch/BENGUP/ML/DL_BN/Predictions/Web_V1.0/output/bn_4month_9_TEMPBNi_beng/src/bn.predictions_new.py:49: RuntimeWarning: Mean of empty slice\n",
      "  inpv1[i,3:6,:,:] = (inp1.TEMP100M_T_.sel(time=slice(ld_mn1,ld_mn2))-np.nanmean(inp1.TEMP100M_T_,0))/np.nanstd(inp1.TEMP100M_T_,0)\n"
     ]
    },
    {
     "name": "stdout",
     "output_type": "stream",
     "text": [
      "Using cpu device\n",
      "tensor([[-0.2141],\n",
      "        [ 0.5184],\n",
      "        [ 0.1334],\n",
      "        [-0.3075]])\n",
      "/scratch/BENGUP/ML/DL_BN/Predictions/Web_V1.0/output/bn_4month_9_TEMPBNi_beng/C30H30/EN4/result.gdat\n",
      "Validation Done\n"
     ]
    },
    {
     "name": "stderr",
     "output_type": "stream",
     "text": [
      "/scratch/BENGUP/ML/DL_BN/Predictions/Web_V1.0/output/bn_4month_9_TEMPBNi_beng/src/bn.predictions_new.py:48: RuntimeWarning: Mean of empty slice\n",
      "  inpv1[i,0:3,:,:] = (inp1.SST_T_.sel(time=slice(ld_mn1,ld_mn2))-np.nanmean(inp1.SST_T_,0))/np.nanstd(inp1.SST_T_,0)\n",
      "/home/nay021/Software/anaconda3/lib/python3.8/site-packages/numpy/lib/nanfunctions.py:1664: RuntimeWarning: Degrees of freedom <= 0 for slice.\n",
      "  var = nanvar(a, axis=axis, dtype=dtype, out=out, ddof=ddof,\n",
      "/scratch/BENGUP/ML/DL_BN/Predictions/Web_V1.0/output/bn_4month_9_TEMPBNi_beng/src/bn.predictions_new.py:49: RuntimeWarning: Mean of empty slice\n",
      "  inpv1[i,3:6,:,:] = (inp1.TEMP100M_T_.sel(time=slice(ld_mn1,ld_mn2))-np.nanmean(inp1.TEMP100M_T_,0))/np.nanstd(inp1.TEMP100M_T_,0)\n",
      "/scratch/BENGUP/ML/DL_BN/Predictions/Web_V1.0/output/bn_4month_9_TEMPBNi_beng/src/bn.predictions_new.py:48: RuntimeWarning: Mean of empty slice\n",
      "  inpv1[i,0:3,:,:] = (inp1.SST_T_.sel(time=slice(ld_mn1,ld_mn2))-np.nanmean(inp1.SST_T_,0))/np.nanstd(inp1.SST_T_,0)\n",
      "/home/nay021/Software/anaconda3/lib/python3.8/site-packages/numpy/lib/nanfunctions.py:1664: RuntimeWarning: Degrees of freedom <= 0 for slice.\n",
      "  var = nanvar(a, axis=axis, dtype=dtype, out=out, ddof=ddof,\n",
      "/scratch/BENGUP/ML/DL_BN/Predictions/Web_V1.0/output/bn_4month_9_TEMPBNi_beng/src/bn.predictions_new.py:49: RuntimeWarning: Mean of empty slice\n",
      "  inpv1[i,3:6,:,:] = (inp1.TEMP100M_T_.sel(time=slice(ld_mn1,ld_mn2))-np.nanmean(inp1.TEMP100M_T_,0))/np.nanstd(inp1.TEMP100M_T_,0)\n"
     ]
    },
    {
     "name": "stdout",
     "output_type": "stream",
     "text": [
      "Using cpu device\n",
      "tensor([[-0.1194],\n",
      "        [ 0.3975],\n",
      "        [ 0.3667],\n",
      "        [-0.4033]])\n",
      "/scratch/BENGUP/ML/DL_BN/Predictions/Web_V1.0/output/bn_4month_9_TEMPBNi_beng/C30H30/EN5/result.gdat\n",
      "Validation Done\n",
      "bn_4month_10_TEMPBNi_beng\n"
     ]
    },
    {
     "name": "stderr",
     "output_type": "stream",
     "text": [
      "/scratch/BENGUP/ML/DL_BN/Predictions/Web_V1.0/output/bn_4month_10_TEMPBNi_beng/src/bn.predictions_new.py:48: RuntimeWarning: Mean of empty slice\n",
      "  inpv1[i,0:3,:,:] = (inp1.SST_T_.sel(time=slice(ld_mn1,ld_mn2))-np.nanmean(inp1.SST_T_,0))/np.nanstd(inp1.SST_T_,0)\n",
      "/home/nay021/Software/anaconda3/lib/python3.8/site-packages/numpy/lib/nanfunctions.py:1664: RuntimeWarning: Degrees of freedom <= 0 for slice.\n",
      "  var = nanvar(a, axis=axis, dtype=dtype, out=out, ddof=ddof,\n",
      "/scratch/BENGUP/ML/DL_BN/Predictions/Web_V1.0/output/bn_4month_10_TEMPBNi_beng/src/bn.predictions_new.py:49: RuntimeWarning: Mean of empty slice\n",
      "  inpv1[i,3:6,:,:] = (inp1.TEMP100M_T_.sel(time=slice(ld_mn1,ld_mn2))-np.nanmean(inp1.TEMP100M_T_,0))/np.nanstd(inp1.TEMP100M_T_,0)\n"
     ]
    },
    {
     "name": "stdout",
     "output_type": "stream",
     "text": [
      "Using cpu device\n",
      "tensor([[-0.0112],\n",
      "        [ 0.0422],\n",
      "        [-0.6391],\n",
      "        [-0.4070]])\n",
      "/scratch/BENGUP/ML/DL_BN/Predictions/Web_V1.0/output/bn_4month_10_TEMPBNi_beng/C30H30/EN1/result.gdat\n",
      "Validation Done\n"
     ]
    },
    {
     "name": "stderr",
     "output_type": "stream",
     "text": [
      "/scratch/BENGUP/ML/DL_BN/Predictions/Web_V1.0/output/bn_4month_10_TEMPBNi_beng/src/bn.predictions_new.py:48: RuntimeWarning: Mean of empty slice\n",
      "  inpv1[i,0:3,:,:] = (inp1.SST_T_.sel(time=slice(ld_mn1,ld_mn2))-np.nanmean(inp1.SST_T_,0))/np.nanstd(inp1.SST_T_,0)\n",
      "/home/nay021/Software/anaconda3/lib/python3.8/site-packages/numpy/lib/nanfunctions.py:1664: RuntimeWarning: Degrees of freedom <= 0 for slice.\n",
      "  var = nanvar(a, axis=axis, dtype=dtype, out=out, ddof=ddof,\n",
      "/scratch/BENGUP/ML/DL_BN/Predictions/Web_V1.0/output/bn_4month_10_TEMPBNi_beng/src/bn.predictions_new.py:49: RuntimeWarning: Mean of empty slice\n",
      "  inpv1[i,3:6,:,:] = (inp1.TEMP100M_T_.sel(time=slice(ld_mn1,ld_mn2))-np.nanmean(inp1.TEMP100M_T_,0))/np.nanstd(inp1.TEMP100M_T_,0)\n"
     ]
    },
    {
     "name": "stdout",
     "output_type": "stream",
     "text": [
      "Using cpu device\n",
      "tensor([[-0.1993],\n",
      "        [-0.2500],\n",
      "        [-0.6663],\n",
      "        [-0.6087]])\n",
      "/scratch/BENGUP/ML/DL_BN/Predictions/Web_V1.0/output/bn_4month_10_TEMPBNi_beng/C30H30/EN2/result.gdat\n",
      "Validation Done\n"
     ]
    },
    {
     "name": "stderr",
     "output_type": "stream",
     "text": [
      "/scratch/BENGUP/ML/DL_BN/Predictions/Web_V1.0/output/bn_4month_10_TEMPBNi_beng/src/bn.predictions_new.py:48: RuntimeWarning: Mean of empty slice\n",
      "  inpv1[i,0:3,:,:] = (inp1.SST_T_.sel(time=slice(ld_mn1,ld_mn2))-np.nanmean(inp1.SST_T_,0))/np.nanstd(inp1.SST_T_,0)\n",
      "/home/nay021/Software/anaconda3/lib/python3.8/site-packages/numpy/lib/nanfunctions.py:1664: RuntimeWarning: Degrees of freedom <= 0 for slice.\n",
      "  var = nanvar(a, axis=axis, dtype=dtype, out=out, ddof=ddof,\n",
      "/scratch/BENGUP/ML/DL_BN/Predictions/Web_V1.0/output/bn_4month_10_TEMPBNi_beng/src/bn.predictions_new.py:49: RuntimeWarning: Mean of empty slice\n",
      "  inpv1[i,3:6,:,:] = (inp1.TEMP100M_T_.sel(time=slice(ld_mn1,ld_mn2))-np.nanmean(inp1.TEMP100M_T_,0))/np.nanstd(inp1.TEMP100M_T_,0)\n"
     ]
    },
    {
     "name": "stdout",
     "output_type": "stream",
     "text": [
      "Using cpu device\n",
      "tensor([[-0.1923],\n",
      "        [-0.3865],\n",
      "        [-0.7621],\n",
      "        [-0.5731]])\n",
      "/scratch/BENGUP/ML/DL_BN/Predictions/Web_V1.0/output/bn_4month_10_TEMPBNi_beng/C30H30/EN3/result.gdat\n",
      "Validation Done\n",
      "Using cpu device\n",
      "tensor([[-0.4460],\n",
      "        [-0.1180],\n",
      "        [-0.5355],\n",
      "        [-0.5692]])\n",
      "/scratch/BENGUP/ML/DL_BN/Predictions/Web_V1.0/output/bn_4month_10_TEMPBNi_beng/C30H30/EN4/result.gdat\n",
      "Validation Done\n"
     ]
    },
    {
     "name": "stderr",
     "output_type": "stream",
     "text": [
      "/scratch/BENGUP/ML/DL_BN/Predictions/Web_V1.0/output/bn_4month_10_TEMPBNi_beng/src/bn.predictions_new.py:48: RuntimeWarning: Mean of empty slice\n",
      "  inpv1[i,0:3,:,:] = (inp1.SST_T_.sel(time=slice(ld_mn1,ld_mn2))-np.nanmean(inp1.SST_T_,0))/np.nanstd(inp1.SST_T_,0)\n",
      "/home/nay021/Software/anaconda3/lib/python3.8/site-packages/numpy/lib/nanfunctions.py:1664: RuntimeWarning: Degrees of freedom <= 0 for slice.\n",
      "  var = nanvar(a, axis=axis, dtype=dtype, out=out, ddof=ddof,\n",
      "/scratch/BENGUP/ML/DL_BN/Predictions/Web_V1.0/output/bn_4month_10_TEMPBNi_beng/src/bn.predictions_new.py:49: RuntimeWarning: Mean of empty slice\n",
      "  inpv1[i,3:6,:,:] = (inp1.TEMP100M_T_.sel(time=slice(ld_mn1,ld_mn2))-np.nanmean(inp1.TEMP100M_T_,0))/np.nanstd(inp1.TEMP100M_T_,0)\n",
      "/scratch/BENGUP/ML/DL_BN/Predictions/Web_V1.0/output/bn_4month_10_TEMPBNi_beng/src/bn.predictions_new.py:48: RuntimeWarning: Mean of empty slice\n",
      "  inpv1[i,0:3,:,:] = (inp1.SST_T_.sel(time=slice(ld_mn1,ld_mn2))-np.nanmean(inp1.SST_T_,0))/np.nanstd(inp1.SST_T_,0)\n",
      "/home/nay021/Software/anaconda3/lib/python3.8/site-packages/numpy/lib/nanfunctions.py:1664: RuntimeWarning: Degrees of freedom <= 0 for slice.\n",
      "  var = nanvar(a, axis=axis, dtype=dtype, out=out, ddof=ddof,\n",
      "/scratch/BENGUP/ML/DL_BN/Predictions/Web_V1.0/output/bn_4month_10_TEMPBNi_beng/src/bn.predictions_new.py:49: RuntimeWarning: Mean of empty slice\n",
      "  inpv1[i,3:6,:,:] = (inp1.TEMP100M_T_.sel(time=slice(ld_mn1,ld_mn2))-np.nanmean(inp1.TEMP100M_T_,0))/np.nanstd(inp1.TEMP100M_T_,0)\n"
     ]
    },
    {
     "name": "stdout",
     "output_type": "stream",
     "text": [
      "Using cpu device\n",
      "tensor([[-0.0599],\n",
      "        [-0.2484],\n",
      "        [-0.8857],\n",
      "        [-0.5032]])\n",
      "/scratch/BENGUP/ML/DL_BN/Predictions/Web_V1.0/output/bn_4month_10_TEMPBNi_beng/C30H30/EN5/result.gdat\n",
      "Validation Done\n",
      "bn_4month_11_TEMPBNi_beng\n",
      "Using cpu device\n",
      "tensor([[-0.1114],\n",
      "        [-0.3457],\n",
      "        [-0.2679]])\n",
      "/scratch/BENGUP/ML/DL_BN/Predictions/Web_V1.0/output/bn_4month_11_TEMPBNi_beng/C30H30/EN1/result.gdat\n",
      "Validation Done\n"
     ]
    },
    {
     "name": "stderr",
     "output_type": "stream",
     "text": [
      "/scratch/BENGUP/ML/DL_BN/Predictions/Web_V1.0/output/bn_4month_11_TEMPBNi_beng/src/bn.predictions_new.py:48: RuntimeWarning: Mean of empty slice\n",
      "  inpv1[i,0:3,:,:] = (inp1.SST_T_.sel(time=slice(ld_mn1,ld_mn2))-np.nanmean(inp1.SST_T_,0))/np.nanstd(inp1.SST_T_,0)\n",
      "/home/nay021/Software/anaconda3/lib/python3.8/site-packages/numpy/lib/nanfunctions.py:1664: RuntimeWarning: Degrees of freedom <= 0 for slice.\n",
      "  var = nanvar(a, axis=axis, dtype=dtype, out=out, ddof=ddof,\n",
      "/scratch/BENGUP/ML/DL_BN/Predictions/Web_V1.0/output/bn_4month_11_TEMPBNi_beng/src/bn.predictions_new.py:49: RuntimeWarning: Mean of empty slice\n",
      "  inpv1[i,3:6,:,:] = (inp1.TEMP100M_T_.sel(time=slice(ld_mn1,ld_mn2))-np.nanmean(inp1.TEMP100M_T_,0))/np.nanstd(inp1.TEMP100M_T_,0)\n"
     ]
    },
    {
     "name": "stdout",
     "output_type": "stream",
     "text": [
      "Using cpu device\n",
      "tensor([[-0.0210],\n",
      "        [-0.2924],\n",
      "        [-0.5456]])\n",
      "/scratch/BENGUP/ML/DL_BN/Predictions/Web_V1.0/output/bn_4month_11_TEMPBNi_beng/C30H30/EN2/result.gdat\n",
      "Validation Done\n"
     ]
    },
    {
     "name": "stderr",
     "output_type": "stream",
     "text": [
      "/scratch/BENGUP/ML/DL_BN/Predictions/Web_V1.0/output/bn_4month_11_TEMPBNi_beng/src/bn.predictions_new.py:48: RuntimeWarning: Mean of empty slice\n",
      "  inpv1[i,0:3,:,:] = (inp1.SST_T_.sel(time=slice(ld_mn1,ld_mn2))-np.nanmean(inp1.SST_T_,0))/np.nanstd(inp1.SST_T_,0)\n",
      "/home/nay021/Software/anaconda3/lib/python3.8/site-packages/numpy/lib/nanfunctions.py:1664: RuntimeWarning: Degrees of freedom <= 0 for slice.\n",
      "  var = nanvar(a, axis=axis, dtype=dtype, out=out, ddof=ddof,\n",
      "/scratch/BENGUP/ML/DL_BN/Predictions/Web_V1.0/output/bn_4month_11_TEMPBNi_beng/src/bn.predictions_new.py:49: RuntimeWarning: Mean of empty slice\n",
      "  inpv1[i,3:6,:,:] = (inp1.TEMP100M_T_.sel(time=slice(ld_mn1,ld_mn2))-np.nanmean(inp1.TEMP100M_T_,0))/np.nanstd(inp1.TEMP100M_T_,0)\n",
      "/scratch/BENGUP/ML/DL_BN/Predictions/Web_V1.0/output/bn_4month_11_TEMPBNi_beng/src/bn.predictions_new.py:48: RuntimeWarning: Mean of empty slice\n",
      "  inpv1[i,0:3,:,:] = (inp1.SST_T_.sel(time=slice(ld_mn1,ld_mn2))-np.nanmean(inp1.SST_T_,0))/np.nanstd(inp1.SST_T_,0)\n",
      "/home/nay021/Software/anaconda3/lib/python3.8/site-packages/numpy/lib/nanfunctions.py:1664: RuntimeWarning: Degrees of freedom <= 0 for slice.\n",
      "  var = nanvar(a, axis=axis, dtype=dtype, out=out, ddof=ddof,\n",
      "/scratch/BENGUP/ML/DL_BN/Predictions/Web_V1.0/output/bn_4month_11_TEMPBNi_beng/src/bn.predictions_new.py:49: RuntimeWarning: Mean of empty slice\n",
      "  inpv1[i,3:6,:,:] = (inp1.TEMP100M_T_.sel(time=slice(ld_mn1,ld_mn2))-np.nanmean(inp1.TEMP100M_T_,0))/np.nanstd(inp1.TEMP100M_T_,0)\n"
     ]
    },
    {
     "name": "stdout",
     "output_type": "stream",
     "text": [
      "Using cpu device\n",
      "tensor([[-0.0892],\n",
      "        [-0.2464],\n",
      "        [-0.1897]])\n",
      "/scratch/BENGUP/ML/DL_BN/Predictions/Web_V1.0/output/bn_4month_11_TEMPBNi_beng/C30H30/EN3/result.gdat\n",
      "Validation Done\n",
      "Using cpu device\n",
      "tensor([[ 0.0382],\n",
      "        [ 0.0535],\n",
      "        [-0.0493]])\n",
      "/scratch/BENGUP/ML/DL_BN/Predictions/Web_V1.0/output/bn_4month_11_TEMPBNi_beng/C30H30/EN4/result.gdat\n",
      "Validation Done\n"
     ]
    },
    {
     "name": "stderr",
     "output_type": "stream",
     "text": [
      "/scratch/BENGUP/ML/DL_BN/Predictions/Web_V1.0/output/bn_4month_11_TEMPBNi_beng/src/bn.predictions_new.py:48: RuntimeWarning: Mean of empty slice\n",
      "  inpv1[i,0:3,:,:] = (inp1.SST_T_.sel(time=slice(ld_mn1,ld_mn2))-np.nanmean(inp1.SST_T_,0))/np.nanstd(inp1.SST_T_,0)\n",
      "/home/nay021/Software/anaconda3/lib/python3.8/site-packages/numpy/lib/nanfunctions.py:1664: RuntimeWarning: Degrees of freedom <= 0 for slice.\n",
      "  var = nanvar(a, axis=axis, dtype=dtype, out=out, ddof=ddof,\n",
      "/scratch/BENGUP/ML/DL_BN/Predictions/Web_V1.0/output/bn_4month_11_TEMPBNi_beng/src/bn.predictions_new.py:49: RuntimeWarning: Mean of empty slice\n",
      "  inpv1[i,3:6,:,:] = (inp1.TEMP100M_T_.sel(time=slice(ld_mn1,ld_mn2))-np.nanmean(inp1.TEMP100M_T_,0))/np.nanstd(inp1.TEMP100M_T_,0)\n",
      "/scratch/BENGUP/ML/DL_BN/Predictions/Web_V1.0/output/bn_4month_11_TEMPBNi_beng/src/bn.predictions_new.py:48: RuntimeWarning: Mean of empty slice\n",
      "  inpv1[i,0:3,:,:] = (inp1.SST_T_.sel(time=slice(ld_mn1,ld_mn2))-np.nanmean(inp1.SST_T_,0))/np.nanstd(inp1.SST_T_,0)\n",
      "/home/nay021/Software/anaconda3/lib/python3.8/site-packages/numpy/lib/nanfunctions.py:1664: RuntimeWarning: Degrees of freedom <= 0 for slice.\n",
      "  var = nanvar(a, axis=axis, dtype=dtype, out=out, ddof=ddof,\n",
      "/scratch/BENGUP/ML/DL_BN/Predictions/Web_V1.0/output/bn_4month_11_TEMPBNi_beng/src/bn.predictions_new.py:49: RuntimeWarning: Mean of empty slice\n",
      "  inpv1[i,3:6,:,:] = (inp1.TEMP100M_T_.sel(time=slice(ld_mn1,ld_mn2))-np.nanmean(inp1.TEMP100M_T_,0))/np.nanstd(inp1.TEMP100M_T_,0)\n"
     ]
    },
    {
     "name": "stdout",
     "output_type": "stream",
     "text": [
      "Using cpu device\n",
      "tensor([[-0.1260],\n",
      "        [-0.2308],\n",
      "        [ 0.1610]])\n",
      "/scratch/BENGUP/ML/DL_BN/Predictions/Web_V1.0/output/bn_4month_11_TEMPBNi_beng/C30H30/EN5/result.gdat\n",
      "Validation Done\n",
      "bn_4month_12_TEMPBNi_beng\n"
     ]
    },
    {
     "name": "stderr",
     "output_type": "stream",
     "text": [
      "/scratch/BENGUP/ML/DL_BN/Predictions/Web_V1.0/output/bn_4month_12_TEMPBNi_beng/src/bn.predictions_new.py:48: RuntimeWarning: Mean of empty slice\n",
      "  inpv1[i,0:3,:,:] = (inp1.SST_T_.sel(time=slice(ld_mn1,ld_mn2))-np.nanmean(inp1.SST_T_,0))/np.nanstd(inp1.SST_T_,0)\n",
      "/home/nay021/Software/anaconda3/lib/python3.8/site-packages/numpy/lib/nanfunctions.py:1664: RuntimeWarning: Degrees of freedom <= 0 for slice.\n",
      "  var = nanvar(a, axis=axis, dtype=dtype, out=out, ddof=ddof,\n",
      "/scratch/BENGUP/ML/DL_BN/Predictions/Web_V1.0/output/bn_4month_12_TEMPBNi_beng/src/bn.predictions_new.py:49: RuntimeWarning: Mean of empty slice\n",
      "  inpv1[i,3:6,:,:] = (inp1.TEMP100M_T_.sel(time=slice(ld_mn1,ld_mn2))-np.nanmean(inp1.TEMP100M_T_,0))/np.nanstd(inp1.TEMP100M_T_,0)\n"
     ]
    },
    {
     "name": "stdout",
     "output_type": "stream",
     "text": [
      "Using cpu device\n",
      "tensor([[-0.2384],\n",
      "        [-0.4491],\n",
      "        [-0.1527]])\n",
      "/scratch/BENGUP/ML/DL_BN/Predictions/Web_V1.0/output/bn_4month_12_TEMPBNi_beng/C30H30/EN1/result.gdat\n",
      "Validation Done\n"
     ]
    },
    {
     "name": "stderr",
     "output_type": "stream",
     "text": [
      "/scratch/BENGUP/ML/DL_BN/Predictions/Web_V1.0/output/bn_4month_12_TEMPBNi_beng/src/bn.predictions_new.py:48: RuntimeWarning: Mean of empty slice\n",
      "  inpv1[i,0:3,:,:] = (inp1.SST_T_.sel(time=slice(ld_mn1,ld_mn2))-np.nanmean(inp1.SST_T_,0))/np.nanstd(inp1.SST_T_,0)\n",
      "/home/nay021/Software/anaconda3/lib/python3.8/site-packages/numpy/lib/nanfunctions.py:1664: RuntimeWarning: Degrees of freedom <= 0 for slice.\n",
      "  var = nanvar(a, axis=axis, dtype=dtype, out=out, ddof=ddof,\n",
      "/scratch/BENGUP/ML/DL_BN/Predictions/Web_V1.0/output/bn_4month_12_TEMPBNi_beng/src/bn.predictions_new.py:49: RuntimeWarning: Mean of empty slice\n",
      "  inpv1[i,3:6,:,:] = (inp1.TEMP100M_T_.sel(time=slice(ld_mn1,ld_mn2))-np.nanmean(inp1.TEMP100M_T_,0))/np.nanstd(inp1.TEMP100M_T_,0)\n"
     ]
    },
    {
     "name": "stdout",
     "output_type": "stream",
     "text": [
      "Using cpu device\n",
      "tensor([[-4.8104e-01],\n",
      "        [-3.1423e-01],\n",
      "        [ 1.2571e-04]])\n",
      "/scratch/BENGUP/ML/DL_BN/Predictions/Web_V1.0/output/bn_4month_12_TEMPBNi_beng/C30H30/EN2/result.gdat\n",
      "Validation Done\n",
      "Using cpu device\n",
      "tensor([[-0.5214],\n",
      "        [-0.2337],\n",
      "        [-0.3440]])\n",
      "/scratch/BENGUP/ML/DL_BN/Predictions/Web_V1.0/output/bn_4month_12_TEMPBNi_beng/C30H30/EN3/result.gdat\n",
      "Validation Done\n"
     ]
    },
    {
     "name": "stderr",
     "output_type": "stream",
     "text": [
      "/scratch/BENGUP/ML/DL_BN/Predictions/Web_V1.0/output/bn_4month_12_TEMPBNi_beng/src/bn.predictions_new.py:48: RuntimeWarning: Mean of empty slice\n",
      "  inpv1[i,0:3,:,:] = (inp1.SST_T_.sel(time=slice(ld_mn1,ld_mn2))-np.nanmean(inp1.SST_T_,0))/np.nanstd(inp1.SST_T_,0)\n",
      "/home/nay021/Software/anaconda3/lib/python3.8/site-packages/numpy/lib/nanfunctions.py:1664: RuntimeWarning: Degrees of freedom <= 0 for slice.\n",
      "  var = nanvar(a, axis=axis, dtype=dtype, out=out, ddof=ddof,\n",
      "/scratch/BENGUP/ML/DL_BN/Predictions/Web_V1.0/output/bn_4month_12_TEMPBNi_beng/src/bn.predictions_new.py:49: RuntimeWarning: Mean of empty slice\n",
      "  inpv1[i,3:6,:,:] = (inp1.TEMP100M_T_.sel(time=slice(ld_mn1,ld_mn2))-np.nanmean(inp1.TEMP100M_T_,0))/np.nanstd(inp1.TEMP100M_T_,0)\n"
     ]
    },
    {
     "name": "stdout",
     "output_type": "stream",
     "text": [
      "Using cpu device\n",
      "tensor([[-0.4915],\n",
      "        [-0.3842],\n",
      "        [-0.5040]])\n",
      "/scratch/BENGUP/ML/DL_BN/Predictions/Web_V1.0/output/bn_4month_12_TEMPBNi_beng/C30H30/EN4/result.gdat\n",
      "Validation Done\n"
     ]
    },
    {
     "name": "stderr",
     "output_type": "stream",
     "text": [
      "/scratch/BENGUP/ML/DL_BN/Predictions/Web_V1.0/output/bn_4month_12_TEMPBNi_beng/src/bn.predictions_new.py:48: RuntimeWarning: Mean of empty slice\n",
      "  inpv1[i,0:3,:,:] = (inp1.SST_T_.sel(time=slice(ld_mn1,ld_mn2))-np.nanmean(inp1.SST_T_,0))/np.nanstd(inp1.SST_T_,0)\n",
      "/home/nay021/Software/anaconda3/lib/python3.8/site-packages/numpy/lib/nanfunctions.py:1664: RuntimeWarning: Degrees of freedom <= 0 for slice.\n",
      "  var = nanvar(a, axis=axis, dtype=dtype, out=out, ddof=ddof,\n",
      "/scratch/BENGUP/ML/DL_BN/Predictions/Web_V1.0/output/bn_4month_12_TEMPBNi_beng/src/bn.predictions_new.py:49: RuntimeWarning: Mean of empty slice\n",
      "  inpv1[i,3:6,:,:] = (inp1.TEMP100M_T_.sel(time=slice(ld_mn1,ld_mn2))-np.nanmean(inp1.TEMP100M_T_,0))/np.nanstd(inp1.TEMP100M_T_,0)\n",
      "/scratch/BENGUP/ML/DL_BN/Predictions/Web_V1.0/output/bn_4month_12_TEMPBNi_beng/src/bn.predictions_new.py:48: RuntimeWarning: Mean of empty slice\n",
      "  inpv1[i,0:3,:,:] = (inp1.SST_T_.sel(time=slice(ld_mn1,ld_mn2))-np.nanmean(inp1.SST_T_,0))/np.nanstd(inp1.SST_T_,0)\n",
      "/home/nay021/Software/anaconda3/lib/python3.8/site-packages/numpy/lib/nanfunctions.py:1664: RuntimeWarning: Degrees of freedom <= 0 for slice.\n",
      "  var = nanvar(a, axis=axis, dtype=dtype, out=out, ddof=ddof,\n",
      "/scratch/BENGUP/ML/DL_BN/Predictions/Web_V1.0/output/bn_4month_12_TEMPBNi_beng/src/bn.predictions_new.py:49: RuntimeWarning: Mean of empty slice\n",
      "  inpv1[i,3:6,:,:] = (inp1.TEMP100M_T_.sel(time=slice(ld_mn1,ld_mn2))-np.nanmean(inp1.TEMP100M_T_,0))/np.nanstd(inp1.TEMP100M_T_,0)\n"
     ]
    },
    {
     "name": "stdout",
     "output_type": "stream",
     "text": [
      "Using cpu device\n",
      "tensor([[-0.7291],\n",
      "        [-0.4153],\n",
      "        [-0.5847]])\n",
      "/scratch/BENGUP/ML/DL_BN/Predictions/Web_V1.0/output/bn_4month_12_TEMPBNi_beng/C30H30/EN5/result.gdat\n",
      "Validation Done\n"
     ]
    }
   ],
   "source": []
  },
  {
   "cell_type": "code",
   "execution_count": null,
   "id": "2c04bf6a",
   "metadata": {},
   "outputs": [],
   "source": [
    "\n"
   ]
  },
  {
   "cell_type": "code",
   "execution_count": 17,
   "id": "128e6e8b",
   "metadata": {},
   "outputs": [
    {
     "data": {
      "image/png": "[encoded data removed]",
      "text/plain": [
       "<Figure size 432x288 with 2 Axes>"
      ]
     },
     "metadata": {
      "needs_background": "light"
     },
     "output_type": "display_data"
    }
   ],
   "source": [
    "from netCDF4 import Dataset\n",
    "import matplotlib.pyplot as plt\n",
    "import matplotlib.ticker as ticker\n",
    "import matplotlib.axes as ax\n",
    "from matplotlib.ticker import (MultipleLocator, FormatStrFormatter,AutoMinorLocator)\n",
    "import matplotlib as mpl\n",
    "import matplotlib.patches as patches\n",
    "from matplotlib.colors import LogNorm\n",
    "import datetime\n",
    "import pandas as pd \n",
    "import xarray as xr\n",
    "import numpy as np\n",
    "import skill_metrics as sm\n",
    "from sklearn.metrics import mean_squared_error\n",
    "\n",
    "\n",
    "# Location of the outputs\n",
    "ipth = '/scratch/BENGUP/ML/DL_BN/Predictions/Web_V1.0/output/'\n",
    "#Plot Forecast from 1 till ...\n",
    "Lead_max = 4\n",
    "Lead=np.arange(1,Lead_max+1)\n",
    "\n",
    "# Open observations\n",
    "#f = xr.open_dataset('/scratch/BENGUP/ML/DL_BN/Predictions/data/dataset-armor-3d-nrt-monthly_2019-2023_anom3_det_t_ML_ATL3.nc').sel(TIME=slice('2019-01-01','2023-05-16'))\n",
    "f = xr.open_dataset('/scratch/BENGUP/ML/DL_BN/Predictions/Web_V1.0/data/dataset-armor-3d-nrt-monthly_2019_2023_inter_det_ML_ABA_ATL3.nc').sel(time=slice('2020-01-01','2023-06-16'))\n",
    "date = f.time\n",
    "lab_sst_ATL3 = ((f.SST_T_-np.nanmean(f.SST_T_,0))/np.nanstd(f.SST_T_,0))\n",
    "lab_sst_ABA = ((f.sst_1d-np.nanmean(f.sst_1d,0))/np.nanstd(f.sst_1d,0))\n",
    "lab_sst_ATL3 = f.SST_T_\n",
    "lab_sst_ABA = f.sst_1d\n",
    "\n",
    "# Open forcasts\n",
    "da = xr.DataArray(np.arange(len(date)+Lead_max), dims=[\"x\"])\n",
    "date_forcast = np.datetime64(str(date[0].dt.strftime('%Y-%m-%d').values)+'T00:00:00.000000000') + da.astype(\"timedelta64[M]\")\n",
    "NbY = pd.DatetimeIndex(date_forcast).year[-1]-pd.DatetimeIndex(date_forcast).year[0]\n",
    "TS_cnn_ATL3 = np.zeros((NbY+1,len(date_forcast)))*np.nan\n",
    "TS_cnn_ABA = np.zeros((NbY+1,len(date_forcast)))*np.nan\n",
    "\n",
    "for i in range(0,Lead_max,1):    # forecast lead\n",
    "    for j in range(1,13,1):  # season target\n",
    "        f_ATL3 = open(ipth+'bn_'+str(i+1)+'month_'+str(j)+'_ATL3temp/C30H30/ensmean/result.gdat','r')\n",
    "        f_ABA = open(ipth+'bn_'+str(i+1)+'month_'+str(j)+'_TEMPBNi_beng/C30H30/ensmean/result.gdat','r')\n",
    "        cnn_ATL3 = np.fromfile(f_ATL3, dtype=np.float32)[:]\n",
    "        cnn_ABA = np.fromfile(f_ABA, dtype=np.float32)[:]\n",
    "        for l in range(len(cnn_ATL3)):\n",
    "            TS_cnn_ATL3[i,l*12+j-1] = (cnn_ATL3[l]*np.nanstd(f.SST_T_,0))+np.nanmean(f.SST_T_,0)\n",
    "            TS_cnn_ABA[i,l*12+j-1] = (cnn_ABA[l]*np.nanstd(f.sst_1d,0))+np.nanmean(f.sst_1d,0)\n",
    "\n",
    "\n",
    "# Plot results\n",
    "plt.subplot2grid((2,3),(1,0),rowspan=1,colspan=3)\n",
    "model_list = ['ARMOR3D','Pred Lead1','Pred Lead2','Pred Lead3','Pred Lead4']\n",
    "c=np.linspace(start=1, stop=0.2, num=Lead_max)\n",
    "plt.plot(date.sel(time=slice('2020-01-01','2023-06-16')),lab_sst_ATL3.sel(time=slice('2020-01-01','2023-06-16')),'k')\n",
    "for j in range(0,Lead_max): \n",
    "    plt.plot(date_forcast,TS_cnn_ATL3[j,:],'orangered', alpha=c[j])\n",
    "plt.plot(date_forcast,TS_cnn_ATL3[Lead_max-1,:]*0,color='grey',linewidth=0.7,alpha=0.6,linestyle = 'dashed')\n",
    "plt.plot(date_forcast,TS_cnn_ATL3[Lead_max-1,:]/TS_cnn_ATL3[Lead_max-1,:]*np.nanstd(f.SST_T_,0),color='grey',linewidth=0.7,alpha=0.6,linestyle = ':')\n",
    "plt.plot(date_forcast,-1*TS_cnn_ATL3[Lead_max-1,:]/TS_cnn_ATL3[Lead_max-1,:]*np.nanstd(f.SST_T_,0),color='grey',linewidth=0.7,alpha=0.6,linestyle = ':')\n",
    "plt.xlabel('Time', fontsize=7.5)\n",
    "plt.xlim([datetime.date(2020, 1, 1), datetime.date(2023, 10, 31)])\n",
    "plt.ylim([-1.2,1.8])\n",
    "plt.ylabel('SST anomalies', fontsize=7.5)\n",
    "plt.title('(b) Atlantic Nino 2021: CNN ATi Forecasts from ARMOR3D', fontsize=9)\n",
    "plt.legend(model_list,loc='best', prop={'size':7.5}, ncol=5)\n",
    "plt.tick_params(labelsize=7.5,direction='in',length=3,width=0.4,color='black')\n",
    "plt.tight_layout()\n",
    "plt.savefig('/scratch/BENGUP/ML/DL_BN/Predictions/Web_V1.0/analysis/Figure_ATL3', dpi=1000)\n",
    "\n",
    "plt.subplot2grid((2,3),(0,0),rowspan=1,colspan=3)\n",
    "model_list = ['ARMOR3D','Pred Lead1','Pred Lead2','Pred Lead3','Pred Lead4']\n",
    "c=np.linspace(start=1, stop=0.2, num=Lead_max)\n",
    "plt.plot(date.sel(time=slice('2020-01-01','2023-06-16')),lab_sst_ABA.sel(time=slice('2020-01-01','2023-06-16')),'k')\n",
    "for j in range(0,Lead_max): \n",
    "    plt.plot(date_forcast,TS_cnn_ABA[j,:],'orangered', alpha=c[j])\n",
    "plt.plot(date_forcast,TS_cnn[Lead_max-1,:]*0,color='grey',linewidth=0.7,alpha=0.6,linestyle = 'dashed')\n",
    "plt.plot(date_forcast,TS_cnn_ABA[Lead_max-1,:]/TS_cnn_ABA[Lead_max-1,:]*np.nanstd(f.sst_1d,0),color='grey',linewidth=0.7,alpha=0.6,linestyle = ':')\n",
    "plt.plot(date_forcast,-1*TS_cnn_ABA[Lead_max-1,:]/TS_cnn_ABA[Lead_max-1,:]*np.nanstd(f.sst_1d,0),color='grey',linewidth=0.7,alpha=0.6,linestyle = ':')\n",
    "plt.xlabel('Time', fontsize=7.5)\n",
    "plt.xlim([datetime.date(2020, 1, 1), datetime.date(2023, 10, 31)])\n",
    "plt.ylim([-1.2,1.8])\n",
    "plt.ylabel('SST anomalies', fontsize=7.5)\n",
    "plt.title('(a) Benguela Nino 2021: CNN BNi Forecasts from ARMOR3D', fontsize=9)\n",
    "plt.legend(model_list,loc='best', prop={'size':7.5}, ncol=5)\n",
    "plt.tick_params(labelsize=7.5,direction='in',length=3,width=0.4,color='black')\n",
    "plt.tight_layout()\n",
    "plt.savefig('/scratch/BENGUP/ML/DL_BN/Predictions/Web_V1.0/analysis/Figure_ATi_BNi_2021', dpi=1000)\n",
    "plt.show() \n",
    "\n",
    "\n",
    "plt.subplot2grid((2,3),(0,0),rowspan=1,colspan=3)\n",
    "model_list = ['OBS','Forecast']\n",
    "c=np.linspace(start=1, stop=0.2, num=Lead_max)\n",
    "plt.plot(date.sel(time=slice('2023-01-01','2023-06-16')),lab_sst.sel(time=slice('2023-01-01','2023-06-16')),'k')\n",
    "for j in range(0,Lead_max):   \n",
    "    plt.plot(date_forcast[j-5],TS_cnn[j,j-5],'darkorange', alpha=c[j],marker='o')\n",
    "    plt.plot(date_forcast[j-4],TS_cnn[j,j-4],'orangered', alpha=c[j],marker='o')\n",
    "    plt.errorbar(date_forcast[j-5].values,TS_cnn[j,j-5],yerr = RMSE[j,j-5],color='darkorange', alpha=c[j])\n",
    "    plt.errorbar(date_forcast[j-4].values,TS_cnn[j,j-4],yerr = RMSE[j,j-4],color='orangered', alpha=c[j])\n",
    "plt.xlabel('Time', fontsize=7.5)\n",
    "plt.ylabel('SST anomalies', fontsize=7.5)\n",
    "plt.title('Forecasts, 1-4 months from last observation - Region: ABA', fontsize=9)\n",
    "plt.legend(model_list,loc='best', prop={'size':7.5}, ncol=5)\n",
    "plt.tick_params(labelsize=7.5,direction='in',length=3,width=0.4,color='black')"
   ]
  },
  {
   "cell_type": "code",
   "execution_count": null,
   "id": "6aaac786",
   "metadata": {},
   "outputs": [],
   "source": [
    "from netCDF4 import Dataset\n",
    "import matplotlib.pyplot as plt\n",
    "import matplotlib.ticker as ticker\n",
    "import matplotlib.axes as ax\n",
    "from matplotlib.ticker import (MultipleLocator, FormatStrFormatter,AutoMinorLocator)\n",
    "import matplotlib as mpl\n",
    "import matplotlib.patches as patches\n",
    "from matplotlib.colors import LogNorm\n",
    "import datetime\n",
    "import pandas as pd \n",
    "import xarray as xr\n",
    "import numpy as np\n",
    "import skill_metrics as sm\n",
    "from sklearn.metrics import mean_squared_error\n",
    "\n",
    "# Location of the outputs\n",
    "ipth = '/scratch/BENGUP/ML/DL_BN/Predictions/Web_V1.0/output/'\n",
    "#Plot Forecast from 1 till ...\n",
    "Lead_max = 4\n",
    "Lead=np.arange(1,Lead_max+1)\n",
    "\n",
    "# Open observations\n",
    "f = xr.open_dataset('/scratch/BENGUP/ML/DL_BN/Predictions/Web_V1.0/data/dataset-armor-3d-nrt-monthly_2019_2023_inter_det_ML_ABA_ATL3.nc').sel(time=slice('2020-01-01','2023-06-16'))\n",
    "date = f.time\n",
    "lab_sst = (f.sst_1d)\n",
    "# Open forcasts\n",
    "da = xr.DataArray(np.arange(len(date)+Lead_max), dims=[\"x\"])\n",
    "date_forcast = np.datetime64(str(date[0].dt.strftime('%Y-%m-%d').values)+'T00:00:00.000000000') + da.astype(\"timedelta64[M]\")\n",
    "NbY = pd.DatetimeIndex(date_forcast).year[-1]-pd.DatetimeIndex(date_forcast).year[0]\n",
    "TS_cnn = np.zeros((NbY+1,len(date_forcast)))*np.nan\n",
    "RMSE = np.zeros((NbY+1,len(date_forcast)))*np.nan\n",
    "TSS = np.zeros((NbY+1,len(date_forcast)))*np.nan\n",
    "KGE = np.zeros((NbY+1,len(date_forcast)))*np.nan\n",
    "for i in range(0,Lead_max,1):    # forecast lead\n",
    "  for j in range(1,13,1):  # season target\n",
    "    f_ = open(ipth+'bn_'+str(i+1)+'month_'+str(j)+'_TEMPFtest/C30H30/ensmean/result.gdat','r')\n",
    "    cnn = np.fromfile(f_, dtype=np.float32)[:]\n",
    "    len(cnn)\n",
    "    for l in range(len(cnn)):\n",
    "    \tTS_cnn[i,l*12+j-1] = (cnn[l]*np.nanstd(f.sst_1d,0))+np.nanmean(f.sst_1d,0)\t\n",
    "  \n",
    "  # Skills scores: RMSE, Correlation, Taylor SS and KGE\n",
    "  Pred = xr.DataArray(TS_cnn[i,1:len(lab_sst)+1], coords={'time': date}, dims=[\"time\"])\n",
    "  Pred = Pred.groupby(\"time.month\")\n",
    "  OBS = lab_sst.groupby(\"time.month\")\n",
    "  for l in range(12):\n",
    "      cc=np.corrcoef(Pred[l+1],OBS[l+1])[0,1]\n",
    "      TSS[i,l::12] = (4*(1+cc))/(((np.std(Pred[l+1])/np.std(OBS[l+1]))+(np.std(OBS[l+1])/np.std(Pred[l+1])))**2*(1+0.99999))\n",
    "\n",
    "\n",
    "fname = '/scratch/BENGUP/ML/DL_BN/Predictions/Web_V1.0/output/Pred.nc'\n",
    "da = xr.DataArray(TS_cnn, dims=['lead','time'])\n",
    "times64 = np.array(date_forcast)\n",
    "da = da.assign_coords({'lead': [1, 2, 3, 4],'time': times64})\n",
    "ds = xr.Dataset(\n",
    "     {\"cnn\": ((\"lead\",\"time\"), da.data),    \n",
    "     },\n",
    "     coords={\n",
    "         \"lead\": [1, 2, 3, 4],\n",
    "         \"time\": times64,   \n",
    "     },\n",
    " )\n",
    "ds.to_netcdf(path=fname)\n",
    "ds.close()\n",
    "\n",
    "fname = '/scratch/BENGUP/ML/DL_BN/Predictions/Web_V1.0/output/OBS.nc'\n",
    "ds = xr.Dataset(\n",
    "     {\"obs\": ((\"time\"), lab_sst.data),    \n",
    "     },\n",
    "     coords={\n",
    "         \"time\": date,   \n",
    "     },\n",
    " )\n",
    "ds.to_netcdf(path=fname)\n",
    "ds.close()\n",
    "\n",
    "  \n",
    "# Plot results\n",
    "plt.subplot2grid((2,3),(0,0),rowspan=1,colspan=3)\n",
    "model_list = ['OBS','Forecast']\n",
    "c=np.linspace(start=1, stop=0.2, num=Lead_max)\n",
    "plt.plot(date.sel(time=slice('2023-01-01','2023-06-16')),lab_sst.sel(time=slice('2023-01-01','2023-06-16')),'k')\n",
    "for j in range(0,Lead_max):   \n",
    "    plt.plot(date_forcast[j-5],TS_cnn[j,j-5],'darkorange', alpha=c[j],marker='o')\n",
    "    plt.plot(date_forcast[j-4],TS_cnn[j,j-4],'orangered', alpha=c[j],marker='o')\n",
    "    plt.errorbar(date_forcast[j-5].values,TS_cnn[j,j-5],yerr = RMSE[j,j-5],color='darkorange', alpha=c[j])\n",
    "    plt.errorbar(date_forcast[j-4].values,TS_cnn[j,j-4],yerr = RMSE[j,j-4],color='orangered', alpha=c[j])\n",
    "plt.xlabel('Time', fontsize=7.5)\n",
    "plt.ylabel('SST anomalies', fontsize=7.5)\n",
    "plt.title('Forecasts, 1-4 months from last observation - Region: ABA', fontsize=9)\n",
    "plt.legend(model_list,loc='best', prop={'size':7.5}, ncol=5)\n",
    "plt.tick_params(labelsize=7.5,direction='in',length=3,width=0.4,color='black')\n",
    "\n",
    "plt.subplot2grid((2,3),(1,0),rowspan=1,colspan=3)\n",
    "model_list = ['OBS','Forecast']\n",
    "c=np.linspace(start=1, stop=0.2, num=Lead_max)\n",
    "plt.plot(date.sel(time=slice('2020-01-01','2023-06-16')),lab_sst.sel(time=slice('2020-01-01','2023-06-16')),'k')\n",
    "for j in range(0,Lead_max): \n",
    "    plt.plot(date_forcast,TS_cnn[j,:],'orangered', alpha=c[j])\n",
    "plt.xlabel('Time', fontsize=7.5)\n",
    "plt.ylabel('SST anomalies', fontsize=7.5)\n",
    "plt.title('Forecasts, 1-4 months from last observation - Region: ATL3', fontsize=9)\n",
    "plt.legend(model_list,loc='best', prop={'size':7.5}, ncol=5)\n",
    "plt.tick_params(labelsize=7.5,direction='in',length=3,width=0.4,color='black')\n",
    "\n",
    "plt.savefig('/scratch/BENGUP/ML/DL_BN/Predictions/Web_V1.0/analysis/Figure_ABA', dpi=1000)\n",
    "plt.show()\n"
   ]
  }
 ],
 "metadata": {
  "kernelspec": {
   "display_name": "Python 3 (ipykernel)",
   "language": "python",
   "name": "python3"
  },
  "language_info": {
   "codemirror_mode": {
    "name": "ipython",
    "version": 3
   },
   "file_extension": ".py",
   "mimetype": "text/x-python",
   "name": "python",
   "nbconvert_exporter": "python",
   "pygments_lexer": "ipython3",
   "version": "3.8.11"
  }
 },
 "nbformat": 4,
 "nbformat_minor": 5
}
