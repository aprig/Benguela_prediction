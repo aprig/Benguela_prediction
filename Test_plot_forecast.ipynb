{
 "cells": [
  {
   "cell_type": "code",
   "execution_count": null,
   "id": "605d2820",
   "metadata": {},
   "outputs": [],
   "source": [
    "# Author: Marielou Bachelery\n",
    "# Email: marielou.bachelery@cmcc.it\n",
    "\n",
    "#### OBS ####\n",
    "# ./data/dataset-armor-3d-nrt-monthly_2019_2023_inter_det_ML_ABA_ATL3.nc\n",
    "# ind_ATL3 = SST_T_\n",
    "# ind_ABA = sst_1d\n",
    "\n",
    "#### Forecast ATL3 ####\n",
    "# ./output/*ATL3temp\n",
    "\n",
    "#### Forecast ABA ####\n",
    "# ./output/*TEMPBNi_beng\n",
    "\n",
    "from functions import *\n",
    "import warnings\n",
    "warnings.filterwarnings(\"ignore\")\n",
    "from IPython.display import Image\n"
   ]
  },
  {
   "cell_type": "code",
   "execution_count": null,
   "id": "b1824468",
   "metadata": {},
   "outputs": [],
   "source": [
    "[Obs,Forecasts_Long_ATL3,Forecasts_ATL3] = prepros_forecast('SST_T_','ATL3temp')\n",
    "\n",
    "plot_forecasts(Obs,Forecasts_ATL3,'ATL3')\n",
    "plot_TS(Obs,Forecasts_Long_ATL3,'ATL3')"
   ]
  },
  {
   "cell_type": "code",
   "execution_count": null,
   "id": "ab722a9b",
   "metadata": {},
   "outputs": [],
   "source": [
    "[Obs,Forecasts_Long_ABA,Forecasts_ABA] = prepros_forecast('sst_1d','TEMPBNi_beng')\n",
    "\n",
    "plot_forecasts(Obs,Forecasts_ABA,'ABA')\n",
    "plot_TS(Obs,Forecasts_Long_ABA,'ABA')"
   ]
  }
 ],
 "metadata": {
  "kernelspec": {
   "display_name": "Python 3 (ipykernel)",
   "language": "python",
   "name": "python3"
  },
  "language_info": {
   "codemirror_mode": {
    "name": "ipython",
    "version": 3
   },
   "file_extension": ".py",
   "mimetype": "text/x-python",
   "name": "python",
   "nbconvert_exporter": "python",
   "pygments_lexer": "ipython3",
   "version": "3.8.11"
  }
 },
 "nbformat": 4,
 "nbformat_minor": 5
}
